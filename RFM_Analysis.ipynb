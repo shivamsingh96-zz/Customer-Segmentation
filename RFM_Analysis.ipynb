{
 "cells": [
  {
   "cell_type": "markdown",
   "metadata": {
    "id": "obIf8UVfpMUT"
   },
   "source": [
    "# Import the Libraries"
   ]
  },
  {
   "cell_type": "code",
   "execution_count": 2,
   "metadata": {
    "id": "M0-iPOxgoNFi"
   },
   "outputs": [],
   "source": [
    "import numpy as np    # Linear Algebra\n",
    "import pandas as pd   # Data Processing and Manipulation\n",
    "\n",
    "# Visualization\n",
    "import matplotlib.pyplot as plt\n",
    "import seaborn as sns\n",
    "import plotly.express as px\n",
    "\n",
    "# Preprocessing\n",
    "from sklearn.preprocessing import scale, StandardScaler, normalize\n",
    "\n",
    "# For predictive models\n",
    "from sklearn.cluster import KMeans\n",
    "from sklearn.svm import SVC\n",
    "\n",
    "# For Evaluation\n",
    "from sklearn.metrics import confusion_matrix\n",
    "from sklearn.metrics import accuracy_score\n",
    "from sklearn.metrics import classification_report\n",
    "from sklearn.metrics import silhouette_samples, silhouette_score"
   ]
  },
  {
   "cell_type": "markdown",
   "metadata": {
    "id": "lFVrIyq2s_8P"
   },
   "source": [
    "# Read the Dataset"
   ]
  },
  {
   "cell_type": "code",
   "execution_count": 3,
   "metadata": {
    "id": "Nn7Aaq89s-ON"
   },
   "outputs": [],
   "source": [
    "data = pd.read_excel(\"/content/drive/MyDrive/Online Retail II/online_retail_II.xlsx\")"
   ]
  },
  {
   "cell_type": "code",
   "execution_count": 4,
   "metadata": {
    "colab": {
     "base_uri": "https://localhost:8080/",
     "height": 195
    },
    "id": "qoSTX_ILtKQ6",
    "outputId": "165221a7-ad3b-42be-8332-8d0317821042"
   },
   "outputs": [
    {
     "data": {
      "text/html": [
       "<div>\n",
       "<style scoped>\n",
       "    .dataframe tbody tr th:only-of-type {\n",
       "        vertical-align: middle;\n",
       "    }\n",
       "\n",
       "    .dataframe tbody tr th {\n",
       "        vertical-align: top;\n",
       "    }\n",
       "\n",
       "    .dataframe thead th {\n",
       "        text-align: right;\n",
       "    }\n",
       "</style>\n",
       "<table border=\"1\" class=\"dataframe\">\n",
       "  <thead>\n",
       "    <tr style=\"text-align: right;\">\n",
       "      <th></th>\n",
       "      <th>Invoice</th>\n",
       "      <th>StockCode</th>\n",
       "      <th>Description</th>\n",
       "      <th>Quantity</th>\n",
       "      <th>InvoiceDate</th>\n",
       "      <th>Price</th>\n",
       "      <th>Customer ID</th>\n",
       "      <th>Country</th>\n",
       "    </tr>\n",
       "  </thead>\n",
       "  <tbody>\n",
       "    <tr>\n",
       "      <th>0</th>\n",
       "      <td>489434</td>\n",
       "      <td>85048</td>\n",
       "      <td>15CM CHRISTMAS GLASS BALL 20 LIGHTS</td>\n",
       "      <td>12</td>\n",
       "      <td>2009-12-01 07:45:00</td>\n",
       "      <td>6.95</td>\n",
       "      <td>13085.0</td>\n",
       "      <td>United Kingdom</td>\n",
       "    </tr>\n",
       "    <tr>\n",
       "      <th>1</th>\n",
       "      <td>489434</td>\n",
       "      <td>79323P</td>\n",
       "      <td>PINK CHERRY LIGHTS</td>\n",
       "      <td>12</td>\n",
       "      <td>2009-12-01 07:45:00</td>\n",
       "      <td>6.75</td>\n",
       "      <td>13085.0</td>\n",
       "      <td>United Kingdom</td>\n",
       "    </tr>\n",
       "    <tr>\n",
       "      <th>2</th>\n",
       "      <td>489434</td>\n",
       "      <td>79323W</td>\n",
       "      <td>WHITE CHERRY LIGHTS</td>\n",
       "      <td>12</td>\n",
       "      <td>2009-12-01 07:45:00</td>\n",
       "      <td>6.75</td>\n",
       "      <td>13085.0</td>\n",
       "      <td>United Kingdom</td>\n",
       "    </tr>\n",
       "    <tr>\n",
       "      <th>3</th>\n",
       "      <td>489434</td>\n",
       "      <td>22041</td>\n",
       "      <td>RECORD FRAME 7\" SINGLE SIZE</td>\n",
       "      <td>48</td>\n",
       "      <td>2009-12-01 07:45:00</td>\n",
       "      <td>2.10</td>\n",
       "      <td>13085.0</td>\n",
       "      <td>United Kingdom</td>\n",
       "    </tr>\n",
       "    <tr>\n",
       "      <th>4</th>\n",
       "      <td>489434</td>\n",
       "      <td>21232</td>\n",
       "      <td>STRAWBERRY CERAMIC TRINKET BOX</td>\n",
       "      <td>24</td>\n",
       "      <td>2009-12-01 07:45:00</td>\n",
       "      <td>1.25</td>\n",
       "      <td>13085.0</td>\n",
       "      <td>United Kingdom</td>\n",
       "    </tr>\n",
       "  </tbody>\n",
       "</table>\n",
       "</div>"
      ],
      "text/plain": [
       "  Invoice StockCode  ... Customer ID         Country\n",
       "0  489434     85048  ...     13085.0  United Kingdom\n",
       "1  489434    79323P  ...     13085.0  United Kingdom\n",
       "2  489434    79323W  ...     13085.0  United Kingdom\n",
       "3  489434     22041  ...     13085.0  United Kingdom\n",
       "4  489434     21232  ...     13085.0  United Kingdom\n",
       "\n",
       "[5 rows x 8 columns]"
      ]
     },
     "execution_count": 4,
     "metadata": {
      "tags": []
     },
     "output_type": "execute_result"
    }
   ],
   "source": [
    "# Reading the first 5 rows of data\n",
    "\n",
    "data.head()"
   ]
  },
  {
   "cell_type": "code",
   "execution_count": 5,
   "metadata": {
    "colab": {
     "base_uri": "https://localhost:8080/"
    },
    "id": "DeUL9FDatgb6",
    "outputId": "3ff0645d-acfe-4271-cb98-d35851d91975"
   },
   "outputs": [
    {
     "data": {
      "text/plain": [
       "(525461, 8)"
      ]
     },
     "execution_count": 5,
     "metadata": {
      "tags": []
     },
     "output_type": "execute_result"
    }
   ],
   "source": [
    "# Checking the shape the data\n",
    "\n",
    "data.shape"
   ]
  },
  {
   "cell_type": "code",
   "execution_count": 6,
   "metadata": {
    "colab": {
     "base_uri": "https://localhost:8080/"
    },
    "id": "KEyou-PVtxqy",
    "outputId": "9ff50da9-ff33-43bf-8b26-e53cb46e2a4b"
   },
   "outputs": [
    {
     "data": {
      "text/plain": [
       "Invoice                object\n",
       "StockCode              object\n",
       "Description            object\n",
       "Quantity                int64\n",
       "InvoiceDate    datetime64[ns]\n",
       "Price                 float64\n",
       "Customer ID           float64\n",
       "Country                object\n",
       "dtype: object"
      ]
     },
     "execution_count": 6,
     "metadata": {
      "tags": []
     },
     "output_type": "execute_result"
    }
   ],
   "source": [
    "# checking the data-types of the data\n",
    "\n",
    "data.dtypes"
   ]
  },
  {
   "cell_type": "code",
   "execution_count": 7,
   "metadata": {
    "colab": {
     "base_uri": "https://localhost:8080/"
    },
    "id": "odWZLSytukHg",
    "outputId": "a13c0e20-ca2c-43a1-82ed-852d9659b526"
   },
   "outputs": [
    {
     "data": {
      "text/plain": [
       "Invoice             0\n",
       "StockCode           0\n",
       "Description      2928\n",
       "Quantity            0\n",
       "InvoiceDate         0\n",
       "Price               0\n",
       "Customer ID    107927\n",
       "Country             0\n",
       "dtype: int64"
      ]
     },
     "execution_count": 7,
     "metadata": {
      "tags": []
     },
     "output_type": "execute_result"
    }
   ],
   "source": [
    "# checking if there is any NULL values present in the data\n",
    "\n",
    "data.isnull().sum()"
   ]
  },
  {
   "cell_type": "code",
   "execution_count": 8,
   "metadata": {
    "colab": {
     "base_uri": "https://localhost:8080/"
    },
    "id": "FClxj8rYyh3q",
    "outputId": "aa413d40-86f9-4e36-9dd0-23699639700b"
   },
   "outputs": [
    {
     "data": {
      "text/plain": [
       "Invoice         0.00\n",
       "StockCode       0.00\n",
       "Description     0.56\n",
       "Quantity        0.00\n",
       "InvoiceDate     0.00\n",
       "Price           0.00\n",
       "Customer ID    20.54\n",
       "Country         0.00\n",
       "dtype: float64"
      ]
     },
     "execution_count": 8,
     "metadata": {
      "tags": []
     },
     "output_type": "execute_result"
    }
   ],
   "source": [
    "df_null = round(100*(data.isnull().sum())/len(data), 2)\n",
    "df_null"
   ]
  },
  {
   "cell_type": "markdown",
   "metadata": {
    "id": "dKr-hbEjzSiF"
   },
   "source": [
    "It appears that 20.54% of the customer ids are missing and 0.56% Description is missing which is very problematic. So , we are trying to drop those rows where CustomerIDs in NA."
   ]
  },
  {
   "cell_type": "code",
   "execution_count": 9,
   "metadata": {
    "id": "h0cVc6ALzAx5"
   },
   "outputs": [],
   "source": [
    "#remove rows where customerID are NA\n",
    "data.dropna(subset=['Customer ID'],how='all',inplace=True)"
   ]
  },
  {
   "cell_type": "code",
   "execution_count": 10,
   "metadata": {
    "id": "XrNjozK05r_a"
   },
   "outputs": [],
   "source": [
    "#remove rows where Description are NA\n",
    "data.dropna(subset=['Description'],how='all',inplace=True)"
   ]
  },
  {
   "cell_type": "code",
   "execution_count": 11,
   "metadata": {
    "colab": {
     "base_uri": "https://localhost:8080/"
    },
    "id": "nxbe5g4Kz1US",
    "outputId": "68dc5dbd-a892-4d26-8547-504a7053e084"
   },
   "outputs": [
    {
     "data": {
      "text/plain": [
       "(417534, 8)"
      ]
     },
     "execution_count": 11,
     "metadata": {
      "tags": []
     },
     "output_type": "execute_result"
    }
   ],
   "source": [
    "data.shape"
   ]
  },
  {
   "cell_type": "code",
   "execution_count": 12,
   "metadata": {
    "colab": {
     "base_uri": "https://localhost:8080/"
    },
    "id": "9ranQxdnz8q1",
    "outputId": "6b3f655b-1621-4924-b278-8d490aecb064"
   },
   "outputs": [
    {
     "name": "stdout",
     "output_type": "stream",
     "text": [
      "There are 4383 number of different customers\n"
     ]
    }
   ],
   "source": [
    "# checking how many unique customer IDs are there\n",
    "\n",
    "x = data['Customer ID'].nunique()\n",
    "\n",
    "# printing the value\n",
    "print(\"There are {} number of different customers\".format(x)) "
   ]
  },
  {
   "cell_type": "code",
   "execution_count": 13,
   "metadata": {
    "colab": {
     "base_uri": "https://localhost:8080/"
    },
    "id": "vBcPYGm30Yit",
    "outputId": "df8e6847-21f0-4af6-eeab-e93800a90712"
   },
   "outputs": [
    {
     "name": "stdout",
     "output_type": "stream",
     "text": [
      "There are 37 number of different countries who do online retailing from UK\n"
     ]
    }
   ],
   "source": [
    "# checking different number of unique countries present in this dataset\n",
    "\n",
    "x = data['Country'].nunique()\n",
    "\n",
    "# printing the result\n",
    "print(\"There are {} number of different countries who do online retailing from UK\".format(x))"
   ]
  },
  {
   "cell_type": "code",
   "execution_count": 14,
   "metadata": {
    "colab": {
     "base_uri": "https://localhost:8080/",
     "height": 284
    },
    "id": "6iah4im20hmi",
    "outputId": "40eef14f-efc1-43f9-9a19-b26d3352769d"
   },
   "outputs": [
    {
     "data": {
      "text/html": [
       "<div>\n",
       "<style scoped>\n",
       "    .dataframe tbody tr th:only-of-type {\n",
       "        vertical-align: middle;\n",
       "    }\n",
       "\n",
       "    .dataframe tbody tr th {\n",
       "        vertical-align: top;\n",
       "    }\n",
       "\n",
       "    .dataframe thead th {\n",
       "        text-align: right;\n",
       "    }\n",
       "</style>\n",
       "<table border=\"1\" class=\"dataframe\">\n",
       "  <thead>\n",
       "    <tr style=\"text-align: right;\">\n",
       "      <th></th>\n",
       "      <th>Quantity</th>\n",
       "      <th>Price</th>\n",
       "      <th>Customer ID</th>\n",
       "    </tr>\n",
       "  </thead>\n",
       "  <tbody>\n",
       "    <tr>\n",
       "      <th>count</th>\n",
       "      <td>417534.000000</td>\n",
       "      <td>417534.000000</td>\n",
       "      <td>417534.000000</td>\n",
       "    </tr>\n",
       "    <tr>\n",
       "      <th>mean</th>\n",
       "      <td>12.758815</td>\n",
       "      <td>3.887547</td>\n",
       "      <td>15360.645478</td>\n",
       "    </tr>\n",
       "    <tr>\n",
       "      <th>std</th>\n",
       "      <td>101.220424</td>\n",
       "      <td>71.131797</td>\n",
       "      <td>1680.811316</td>\n",
       "    </tr>\n",
       "    <tr>\n",
       "      <th>min</th>\n",
       "      <td>-9360.000000</td>\n",
       "      <td>0.000000</td>\n",
       "      <td>12346.000000</td>\n",
       "    </tr>\n",
       "    <tr>\n",
       "      <th>25%</th>\n",
       "      <td>2.000000</td>\n",
       "      <td>1.250000</td>\n",
       "      <td>13983.000000</td>\n",
       "    </tr>\n",
       "    <tr>\n",
       "      <th>50%</th>\n",
       "      <td>4.000000</td>\n",
       "      <td>1.950000</td>\n",
       "      <td>15311.000000</td>\n",
       "    </tr>\n",
       "    <tr>\n",
       "      <th>75%</th>\n",
       "      <td>12.000000</td>\n",
       "      <td>3.750000</td>\n",
       "      <td>16799.000000</td>\n",
       "    </tr>\n",
       "    <tr>\n",
       "      <th>max</th>\n",
       "      <td>19152.000000</td>\n",
       "      <td>25111.090000</td>\n",
       "      <td>18287.000000</td>\n",
       "    </tr>\n",
       "  </tbody>\n",
       "</table>\n",
       "</div>"
      ],
      "text/plain": [
       "            Quantity          Price    Customer ID\n",
       "count  417534.000000  417534.000000  417534.000000\n",
       "mean       12.758815       3.887547   15360.645478\n",
       "std       101.220424      71.131797    1680.811316\n",
       "min     -9360.000000       0.000000   12346.000000\n",
       "25%         2.000000       1.250000   13983.000000\n",
       "50%         4.000000       1.950000   15311.000000\n",
       "75%        12.000000       3.750000   16799.000000\n",
       "max     19152.000000   25111.090000   18287.000000"
      ]
     },
     "execution_count": 14,
     "metadata": {
      "tags": []
     },
     "output_type": "execute_result"
    }
   ],
   "source": [
    "data.describe()"
   ]
  },
  {
   "cell_type": "markdown",
   "metadata": {
    "id": "zTMpx2cg10OU"
   },
   "source": [
    "From descriptive statistics of quantitative variables (Quantity and UnitPrice), we could see that there are negative values in the Quantity , which are not possible values for quantity and there are many 0's in Price which is not possible as well."
   ]
  },
  {
   "cell_type": "markdown",
   "metadata": {
    "id": "U25GBn-72E1q"
   },
   "source": [
    "Let's have a closer look on the reason of negative values and zeros in these variables. In the description of dataset it is written that there are some canceled transactions presented in dataset. Cancelled transactions is indicated by invoice which starts with letter 'c'. Probably transactions with negative values of quantity are cancelled.\n",
    "\n",
    "Now, Filtering transaction with invoice started with letter 'C':"
   ]
  },
  {
   "cell_type": "code",
   "execution_count": 15,
   "metadata": {
    "colab": {
     "base_uri": "https://localhost:8080/",
     "height": 195
    },
    "id": "vPJoX2541iZY",
    "outputId": "c5f0c5bc-4697-47cd-d00b-0d85fde72918"
   },
   "outputs": [
    {
     "data": {
      "text/html": [
       "<div>\n",
       "<style scoped>\n",
       "    .dataframe tbody tr th:only-of-type {\n",
       "        vertical-align: middle;\n",
       "    }\n",
       "\n",
       "    .dataframe tbody tr th {\n",
       "        vertical-align: top;\n",
       "    }\n",
       "\n",
       "    .dataframe thead th {\n",
       "        text-align: right;\n",
       "    }\n",
       "</style>\n",
       "<table border=\"1\" class=\"dataframe\">\n",
       "  <thead>\n",
       "    <tr style=\"text-align: right;\">\n",
       "      <th></th>\n",
       "      <th>Invoice</th>\n",
       "      <th>StockCode</th>\n",
       "      <th>Description</th>\n",
       "      <th>Quantity</th>\n",
       "      <th>InvoiceDate</th>\n",
       "      <th>Price</th>\n",
       "      <th>Customer ID</th>\n",
       "      <th>Country</th>\n",
       "    </tr>\n",
       "  </thead>\n",
       "  <tbody>\n",
       "    <tr>\n",
       "      <th>178</th>\n",
       "      <td>C489449</td>\n",
       "      <td>22087</td>\n",
       "      <td>PAPER BUNTING WHITE LACE</td>\n",
       "      <td>-12</td>\n",
       "      <td>2009-12-01 10:33:00</td>\n",
       "      <td>2.95</td>\n",
       "      <td>16321.0</td>\n",
       "      <td>Australia</td>\n",
       "    </tr>\n",
       "    <tr>\n",
       "      <th>179</th>\n",
       "      <td>C489449</td>\n",
       "      <td>85206A</td>\n",
       "      <td>CREAM FELT EASTER EGG BASKET</td>\n",
       "      <td>-6</td>\n",
       "      <td>2009-12-01 10:33:00</td>\n",
       "      <td>1.65</td>\n",
       "      <td>16321.0</td>\n",
       "      <td>Australia</td>\n",
       "    </tr>\n",
       "    <tr>\n",
       "      <th>180</th>\n",
       "      <td>C489449</td>\n",
       "      <td>21895</td>\n",
       "      <td>POTTING SHED SOW 'N' GROW SET</td>\n",
       "      <td>-4</td>\n",
       "      <td>2009-12-01 10:33:00</td>\n",
       "      <td>4.25</td>\n",
       "      <td>16321.0</td>\n",
       "      <td>Australia</td>\n",
       "    </tr>\n",
       "    <tr>\n",
       "      <th>181</th>\n",
       "      <td>C489449</td>\n",
       "      <td>21896</td>\n",
       "      <td>POTTING SHED TWINE</td>\n",
       "      <td>-6</td>\n",
       "      <td>2009-12-01 10:33:00</td>\n",
       "      <td>2.10</td>\n",
       "      <td>16321.0</td>\n",
       "      <td>Australia</td>\n",
       "    </tr>\n",
       "    <tr>\n",
       "      <th>182</th>\n",
       "      <td>C489449</td>\n",
       "      <td>22083</td>\n",
       "      <td>PAPER CHAIN KIT RETRO SPOT</td>\n",
       "      <td>-12</td>\n",
       "      <td>2009-12-01 10:33:00</td>\n",
       "      <td>2.95</td>\n",
       "      <td>16321.0</td>\n",
       "      <td>Australia</td>\n",
       "    </tr>\n",
       "  </tbody>\n",
       "</table>\n",
       "</div>"
      ],
      "text/plain": [
       "     Invoice StockCode  ... Customer ID    Country\n",
       "178  C489449     22087  ...     16321.0  Australia\n",
       "179  C489449    85206A  ...     16321.0  Australia\n",
       "180  C489449     21895  ...     16321.0  Australia\n",
       "181  C489449     21896  ...     16321.0  Australia\n",
       "182  C489449     22083  ...     16321.0  Australia\n",
       "\n",
       "[5 rows x 8 columns]"
      ]
     },
     "execution_count": 15,
     "metadata": {
      "tags": []
     },
     "output_type": "execute_result"
    }
   ],
   "source": [
    "cancelled = data[data['Invoice'].astype(str).str.contains('C')]\n",
    "cancelled.head()"
   ]
  },
  {
   "cell_type": "code",
   "execution_count": 16,
   "metadata": {
    "colab": {
     "base_uri": "https://localhost:8080/",
     "height": 47
    },
    "id": "TtiRQxYf2xAt",
    "outputId": "b23170c6-f3dd-47cb-df21-08c1f6bde0ec"
   },
   "outputs": [
    {
     "data": {
      "text/html": [
       "<div>\n",
       "<style scoped>\n",
       "    .dataframe tbody tr th:only-of-type {\n",
       "        vertical-align: middle;\n",
       "    }\n",
       "\n",
       "    .dataframe tbody tr th {\n",
       "        vertical-align: top;\n",
       "    }\n",
       "\n",
       "    .dataframe thead th {\n",
       "        text-align: right;\n",
       "    }\n",
       "</style>\n",
       "<table border=\"1\" class=\"dataframe\">\n",
       "  <thead>\n",
       "    <tr style=\"text-align: right;\">\n",
       "      <th></th>\n",
       "      <th>Invoice</th>\n",
       "      <th>StockCode</th>\n",
       "      <th>Description</th>\n",
       "      <th>Quantity</th>\n",
       "      <th>InvoiceDate</th>\n",
       "      <th>Price</th>\n",
       "      <th>Customer ID</th>\n",
       "      <th>Country</th>\n",
       "    </tr>\n",
       "  </thead>\n",
       "  <tbody>\n",
       "  </tbody>\n",
       "</table>\n",
       "</div>"
      ],
      "text/plain": [
       "Empty DataFrame\n",
       "Columns: [Invoice, StockCode, Description, Quantity, InvoiceDate, Price, Customer ID, Country]\n",
       "Index: []"
      ]
     },
     "execution_count": 16,
     "metadata": {
      "tags": []
     },
     "output_type": "execute_result"
    }
   ],
   "source": [
    "cancelled[cancelled['Quantity']>0]"
   ]
  },
  {
   "cell_type": "markdown",
   "metadata": {
    "id": "SU1yiMkk3yWu"
   },
   "source": [
    "Among cancelled transactions ther are not any transaction with positive quantity."
   ]
  },
  {
   "cell_type": "code",
   "execution_count": 17,
   "metadata": {
    "colab": {
     "base_uri": "https://localhost:8080/",
     "height": 47
    },
    "id": "TCuHTdG64ZqW",
    "outputId": "9cea32cd-3e4e-4196-8e06-36492b52051e"
   },
   "outputs": [
    {
     "data": {
      "text/html": [
       "<div>\n",
       "<style scoped>\n",
       "    .dataframe tbody tr th:only-of-type {\n",
       "        vertical-align: middle;\n",
       "    }\n",
       "\n",
       "    .dataframe tbody tr th {\n",
       "        vertical-align: top;\n",
       "    }\n",
       "\n",
       "    .dataframe thead th {\n",
       "        text-align: right;\n",
       "    }\n",
       "</style>\n",
       "<table border=\"1\" class=\"dataframe\">\n",
       "  <thead>\n",
       "    <tr style=\"text-align: right;\">\n",
       "      <th></th>\n",
       "      <th>Invoice</th>\n",
       "      <th>StockCode</th>\n",
       "      <th>Description</th>\n",
       "      <th>Quantity</th>\n",
       "      <th>InvoiceDate</th>\n",
       "      <th>Price</th>\n",
       "      <th>Customer ID</th>\n",
       "      <th>Country</th>\n",
       "    </tr>\n",
       "  </thead>\n",
       "  <tbody>\n",
       "  </tbody>\n",
       "</table>\n",
       "</div>"
      ],
      "text/plain": [
       "Empty DataFrame\n",
       "Columns: [Invoice, StockCode, Description, Quantity, InvoiceDate, Price, Customer ID, Country]\n",
       "Index: []"
      ]
     },
     "execution_count": 17,
     "metadata": {
      "tags": []
     },
     "output_type": "execute_result"
    }
   ],
   "source": [
    "data[data['Description'] == ' ']"
   ]
  },
  {
   "cell_type": "code",
   "execution_count": 18,
   "metadata": {
    "colab": {
     "base_uri": "https://localhost:8080/"
    },
    "id": "05GzMC-p5BY2",
    "outputId": "a06709c2-50e8-4f93-b0ba-ac68d9b842b3"
   },
   "outputs": [
    {
     "name": "stdout",
     "output_type": "stream",
     "text": [
      "Percentage of cancelled transactions: 2.36 %\n",
      "Precentage of transactions with zero or negative price 0.01 %\n"
     ]
    }
   ],
   "source": [
    "print(\"Percentage of cancelled transactions:\" , round(len(cancelled)/len(data)*100, 2),\"%\")\n",
    "print(\"Precentage of transactions with zero or negative price\" ,round(len(data[data['Price']<=0])/len(data)*100, 2),\"%\")"
   ]
  },
  {
   "cell_type": "code",
   "execution_count": 19,
   "metadata": {
    "colab": {
     "base_uri": "https://localhost:8080/"
    },
    "id": "rR05hdle5hQt",
    "outputId": "81a28754-6a5b-45ec-9582-fc3e2f79d998"
   },
   "outputs": [
    {
     "data": {
      "text/plain": [
       "(31, 8)"
      ]
     },
     "execution_count": 19,
     "metadata": {
      "tags": []
     },
     "output_type": "execute_result"
    }
   ],
   "source": [
    "data[data['Price'] == 0].shape"
   ]
  },
  {
   "cell_type": "code",
   "execution_count": 20,
   "metadata": {
    "id": "ZBPqgGyL5_UI"
   },
   "outputs": [],
   "source": [
    "data = data[(data['Quantity']>0)]"
   ]
  },
  {
   "cell_type": "code",
   "execution_count": 21,
   "metadata": {
    "colab": {
     "base_uri": "https://localhost:8080/",
     "height": 195
    },
    "id": "fVK_kdWd6Vgt",
    "outputId": "01266592-e226-4c2f-bb30-8682074d1373"
   },
   "outputs": [
    {
     "data": {
      "text/html": [
       "<div>\n",
       "<style scoped>\n",
       "    .dataframe tbody tr th:only-of-type {\n",
       "        vertical-align: middle;\n",
       "    }\n",
       "\n",
       "    .dataframe tbody tr th {\n",
       "        vertical-align: top;\n",
       "    }\n",
       "\n",
       "    .dataframe thead th {\n",
       "        text-align: right;\n",
       "    }\n",
       "</style>\n",
       "<table border=\"1\" class=\"dataframe\">\n",
       "  <thead>\n",
       "    <tr style=\"text-align: right;\">\n",
       "      <th></th>\n",
       "      <th>Invoice</th>\n",
       "      <th>StockCode</th>\n",
       "      <th>Description</th>\n",
       "      <th>Quantity</th>\n",
       "      <th>InvoiceDate</th>\n",
       "      <th>Price</th>\n",
       "      <th>Customer ID</th>\n",
       "      <th>Country</th>\n",
       "    </tr>\n",
       "  </thead>\n",
       "  <tbody>\n",
       "    <tr>\n",
       "      <th>0</th>\n",
       "      <td>489434</td>\n",
       "      <td>85048</td>\n",
       "      <td>15CM CHRISTMAS GLASS BALL 20 LIGHTS</td>\n",
       "      <td>12</td>\n",
       "      <td>2009-12-01 07:45:00</td>\n",
       "      <td>6.95</td>\n",
       "      <td>13085.0</td>\n",
       "      <td>United Kingdom</td>\n",
       "    </tr>\n",
       "    <tr>\n",
       "      <th>1</th>\n",
       "      <td>489434</td>\n",
       "      <td>79323P</td>\n",
       "      <td>PINK CHERRY LIGHTS</td>\n",
       "      <td>12</td>\n",
       "      <td>2009-12-01 07:45:00</td>\n",
       "      <td>6.75</td>\n",
       "      <td>13085.0</td>\n",
       "      <td>United Kingdom</td>\n",
       "    </tr>\n",
       "    <tr>\n",
       "      <th>2</th>\n",
       "      <td>489434</td>\n",
       "      <td>79323W</td>\n",
       "      <td>WHITE CHERRY LIGHTS</td>\n",
       "      <td>12</td>\n",
       "      <td>2009-12-01 07:45:00</td>\n",
       "      <td>6.75</td>\n",
       "      <td>13085.0</td>\n",
       "      <td>United Kingdom</td>\n",
       "    </tr>\n",
       "    <tr>\n",
       "      <th>3</th>\n",
       "      <td>489434</td>\n",
       "      <td>22041</td>\n",
       "      <td>RECORD FRAME 7\" SINGLE SIZE</td>\n",
       "      <td>48</td>\n",
       "      <td>2009-12-01 07:45:00</td>\n",
       "      <td>2.10</td>\n",
       "      <td>13085.0</td>\n",
       "      <td>United Kingdom</td>\n",
       "    </tr>\n",
       "    <tr>\n",
       "      <th>4</th>\n",
       "      <td>489434</td>\n",
       "      <td>21232</td>\n",
       "      <td>STRAWBERRY CERAMIC TRINKET BOX</td>\n",
       "      <td>24</td>\n",
       "      <td>2009-12-01 07:45:00</td>\n",
       "      <td>1.25</td>\n",
       "      <td>13085.0</td>\n",
       "      <td>United Kingdom</td>\n",
       "    </tr>\n",
       "  </tbody>\n",
       "</table>\n",
       "</div>"
      ],
      "text/plain": [
       "  Invoice StockCode  ... Customer ID         Country\n",
       "0  489434     85048  ...     13085.0  United Kingdom\n",
       "1  489434    79323P  ...     13085.0  United Kingdom\n",
       "2  489434    79323W  ...     13085.0  United Kingdom\n",
       "3  489434     22041  ...     13085.0  United Kingdom\n",
       "4  489434     21232  ...     13085.0  United Kingdom\n",
       "\n",
       "[5 rows x 8 columns]"
      ]
     },
     "execution_count": 21,
     "metadata": {
      "tags": []
     },
     "output_type": "execute_result"
    }
   ],
   "source": [
    "data.head()"
   ]
  },
  {
   "cell_type": "code",
   "execution_count": 22,
   "metadata": {
    "colab": {
     "base_uri": "https://localhost:8080/"
    },
    "id": "SHiW8zhY6cD3",
    "outputId": "95cfb593-1798-46c2-fbfa-576e331be2b8"
   },
   "outputs": [
    {
     "data": {
      "text/plain": [
       "(407695, 8)"
      ]
     },
     "execution_count": 22,
     "metadata": {
      "tags": []
     },
     "output_type": "execute_result"
    }
   ],
   "source": [
    "data.shape"
   ]
  },
  {
   "cell_type": "code",
   "execution_count": 23,
   "metadata": {
    "colab": {
     "base_uri": "https://localhost:8080/"
    },
    "id": "nOd6EF196eGs",
    "outputId": "8624feed-ac26-4212-8b44-86f5742dfcac"
   },
   "outputs": [
    {
     "name": "stdout",
     "output_type": "stream",
     "text": [
      "<class 'pandas.core.frame.DataFrame'>\n",
      "Int64Index: 407695 entries, 0 to 525460\n",
      "Data columns (total 8 columns):\n",
      " #   Column       Non-Null Count   Dtype         \n",
      "---  ------       --------------   -----         \n",
      " 0   Invoice      407695 non-null  object        \n",
      " 1   StockCode    407695 non-null  object        \n",
      " 2   Description  407695 non-null  object        \n",
      " 3   Quantity     407695 non-null  int64         \n",
      " 4   InvoiceDate  407695 non-null  datetime64[ns]\n",
      " 5   Price        407695 non-null  float64       \n",
      " 6   Customer ID  407695 non-null  float64       \n",
      " 7   Country      407695 non-null  object        \n",
      "dtypes: datetime64[ns](1), float64(2), int64(1), object(4)\n",
      "memory usage: 28.0+ MB\n"
     ]
    }
   ],
   "source": [
    "data.info()"
   ]
  },
  {
   "cell_type": "code",
   "execution_count": 24,
   "metadata": {
    "colab": {
     "base_uri": "https://localhost:8080/"
    },
    "id": "Lij4zCqF6fvn",
    "outputId": "13bc33fa-daf2-4f8f-d655-409073f71e92"
   },
   "outputs": [
    {
     "data": {
      "text/plain": [
       "Invoice        0\n",
       "StockCode      0\n",
       "Description    0\n",
       "Quantity       0\n",
       "InvoiceDate    0\n",
       "Price          0\n",
       "Customer ID    0\n",
       "Country        0\n",
       "dtype: int64"
      ]
     },
     "execution_count": 24,
     "metadata": {
      "tags": []
     },
     "output_type": "execute_result"
    }
   ],
   "source": [
    "data.isnull().sum()"
   ]
  },
  {
   "cell_type": "code",
   "execution_count": 25,
   "metadata": {
    "colab": {
     "base_uri": "https://localhost:8080/"
    },
    "id": "j7lM43EM6lHM",
    "outputId": "bc93bfba-f6c4-40e6-e3ef-d33cc9a84e3e"
   },
   "outputs": [
    {
     "name": "stdout",
     "output_type": "stream",
     "text": [
      "Duplicate entries: 6748\n"
     ]
    }
   ],
   "source": [
    "# Now check and remove duplicate items\n",
    "\n",
    "print('Duplicate entries: {}'.format(data.duplicated().sum()))"
   ]
  },
  {
   "cell_type": "code",
   "execution_count": 26,
   "metadata": {
    "id": "apSR0vw87EWp"
   },
   "outputs": [],
   "source": [
    "data.drop_duplicates(inplace = True)"
   ]
  },
  {
   "cell_type": "code",
   "execution_count": 27,
   "metadata": {
    "colab": {
     "base_uri": "https://localhost:8080/"
    },
    "id": "xzUH_uTy7Zot",
    "outputId": "25b3ed1a-efb4-4b55-db86-c1c7e5f5e040"
   },
   "outputs": [
    {
     "data": {
      "text/plain": [
       "(400947, 8)"
      ]
     },
     "execution_count": 27,
     "metadata": {
      "tags": []
     },
     "output_type": "execute_result"
    }
   ],
   "source": [
    "data.shape"
   ]
  },
  {
   "cell_type": "code",
   "execution_count": 31,
   "metadata": {
    "colab": {
     "base_uri": "https://localhost:8080/"
    },
    "id": "EyMhtPBN7bMD",
    "outputId": "f75376d2-7a52-4c0e-e3bb-56888f696712"
   },
   "outputs": [
    {
     "name": "stdout",
     "output_type": "stream",
     "text": [
      "Number of transactions:  19215\n",
      "Number of products bought:  4017\n",
      "Number of unique Description: 4444\n",
      "Percentage of customers NA:  0.0 %\n"
     ]
    }
   ],
   "source": [
    "#exploring the unique values of each attribute\n",
    "print(\"Number of transactions: \", data['Invoice'].nunique())\n",
    "print(\"Number of products bought: \",data['StockCode'].nunique())\n",
    "print(\"Number of unique Description:\", data['Description'].nunique() )\n",
    "print(\"Percentage of customers NA: \", round(data['Customer ID'].isnull().sum() * 100 / len(data),2),\"%\" )"
   ]
  },
  {
   "cell_type": "code",
   "execution_count": 30,
   "metadata": {
    "colab": {
     "base_uri": "https://localhost:8080/"
    },
    "id": "QUMH7METjEbn",
    "outputId": "e1ad1385-4a67-4b63-9737-b20dcd9bd7cb"
   },
   "outputs": [
    {
     "data": {
      "text/plain": [
       "WHITE HANGING HEART T-LIGHT HOLDER    3107\n",
       "REGENCY CAKESTAND 3 TIER              1696\n",
       "STRAWBERRY CERAMIC TRINKET BOX        1372\n",
       "ASSORTED COLOUR BIRD ORNAMENT         1355\n",
       "HOME BUILDING BLOCK WORD              1192\n",
       "                                      ... \n",
       "PINK BEADS+HAND PHONE CHARM              1\n",
       "BAROQUE BUTTERFLY EARRINGS CRYSTAL       1\n",
       "CAT W SUNGLASSES BLANK CARD              1\n",
       "RED STONE/CRYSTAL EARRINGS               1\n",
       "NUMBER TILE VINTAGE FONT, 3              1\n",
       "Name: Description, Length: 4444, dtype: int64"
      ]
     },
     "execution_count": 30,
     "metadata": {
      "tags": []
     },
     "output_type": "execute_result"
    }
   ],
   "source": [
    "data['Description'].value_counts()"
   ]
  },
  {
   "cell_type": "markdown",
   "metadata": {
    "id": "tieuv2JP1qrU"
   },
   "source": [
    "# NLP - attempt to categorize the product descriptions and find a label"
   ]
  },
  {
   "cell_type": "code",
   "execution_count": 36,
   "metadata": {
    "id": "0DWLYxqzlZIT"
   },
   "outputs": [],
   "source": [
    "import spacy\n",
    "from collections import defaultdict\n",
    "from spacy.lang.en.stop_words import STOP_WORDS\n",
    "nlp = spacy.load('en')\n",
    "from collections import Counter"
   ]
  },
  {
   "cell_type": "code",
   "execution_count": 37,
   "metadata": {
    "id": "o_qmQq3OlYxe"
   },
   "outputs": [],
   "source": [
    "tmp = data.Description"
   ]
  },
  {
   "cell_type": "code",
   "execution_count": 38,
   "metadata": {
    "id": "2Ezv6lXflYff"
   },
   "outputs": [],
   "source": [
    "frank = []\n",
    "for i in tmp[:100]:\n",
    "    frank.append(i)"
   ]
  },
  {
   "cell_type": "code",
   "execution_count": 39,
   "metadata": {
    "id": "yG1YljT3lYL1"
   },
   "outputs": [],
   "source": [
    "word_count = list()\n",
    "entities = list()\n",
    "\n",
    "pos_counts = defaultdict(Counter)\n",
    "nlp.max_length = 20000000\n",
    "doc = nlp(str(frank))\n",
    "\n",
    "# count tokens, excluding stop words\n",
    "for token in doc:\n",
    "    for word in STOP_WORDS:\n",
    "        if str(token) == str.lower(word):\n",
    "            pos_counts[token.pos][token.orth] = 0\n",
    "        else:\n",
    "            pos_counts[token.pos][token.orth] += 1\n",
    "\n",
    "for pos_id, counts in sorted(pos_counts.items()):\n",
    "    pos = doc.vocab.strings[pos_id]\n",
    "    for orth_id, count in counts.most_common():\n",
    "        word_count.append([pos, count, doc.vocab.strings[orth_id],doc.ents])\n",
    "\n",
    "for ent in doc.ents:\n",
    "    entities.append([ent.text, ent.start_char, ent.end_char, ent.label_])"
   ]
  },
  {
   "cell_type": "code",
   "execution_count": 40,
   "metadata": {
    "colab": {
     "base_uri": "https://localhost:8080/",
     "height": 639
    },
    "id": "Hm-AY60plX5I",
    "outputId": "95620fd2-ea09-473d-d15b-b95bf621104f"
   },
   "outputs": [
    {
     "data": {
      "text/html": [
       "<div>\n",
       "<style scoped>\n",
       "    .dataframe tbody tr th:only-of-type {\n",
       "        vertical-align: middle;\n",
       "    }\n",
       "\n",
       "    .dataframe tbody tr th {\n",
       "        vertical-align: top;\n",
       "    }\n",
       "\n",
       "    .dataframe thead th {\n",
       "        text-align: right;\n",
       "    }\n",
       "</style>\n",
       "<table border=\"1\" class=\"dataframe\">\n",
       "  <thead>\n",
       "    <tr style=\"text-align: right;\">\n",
       "      <th></th>\n",
       "      <th>0</th>\n",
       "      <th>1</th>\n",
       "      <th>2</th>\n",
       "      <th>3</th>\n",
       "    </tr>\n",
       "  </thead>\n",
       "  <tbody>\n",
       "    <tr>\n",
       "      <th>0</th>\n",
       "      <td>15CM</td>\n",
       "      <td>2</td>\n",
       "      <td>6</td>\n",
       "      <td>CARDINAL</td>\n",
       "    </tr>\n",
       "    <tr>\n",
       "      <th>1</th>\n",
       "      <td>20</td>\n",
       "      <td>28</td>\n",
       "      <td>30</td>\n",
       "      <td>CARDINAL</td>\n",
       "    </tr>\n",
       "    <tr>\n",
       "      <th>2</th>\n",
       "      <td>PINK CHERRY LIGHTS'</td>\n",
       "      <td>41</td>\n",
       "      <td>60</td>\n",
       "      <td>ORG</td>\n",
       "    </tr>\n",
       "    <tr>\n",
       "      <th>3</th>\n",
       "      <td>WHITE CHERRY LIGHTS'</td>\n",
       "      <td>64</td>\n",
       "      <td>84</td>\n",
       "      <td>ORG</td>\n",
       "    </tr>\n",
       "    <tr>\n",
       "      <th>4</th>\n",
       "      <td>RECORD FRAME 7</td>\n",
       "      <td>87</td>\n",
       "      <td>101</td>\n",
       "      <td>WORK_OF_ART</td>\n",
       "    </tr>\n",
       "    <tr>\n",
       "      <th>5</th>\n",
       "      <td>STRAWBERRY CERAMIC TRINKET BOX'</td>\n",
       "      <td>119</td>\n",
       "      <td>150</td>\n",
       "      <td>WORK_OF_ART</td>\n",
       "    </tr>\n",
       "    <tr>\n",
       "      <th>6</th>\n",
       "      <td>SAVE THE PLANET MUG'</td>\n",
       "      <td>183</td>\n",
       "      <td>203</td>\n",
       "      <td>WORK_OF_ART</td>\n",
       "    </tr>\n",
       "    <tr>\n",
       "      <th>7</th>\n",
       "      <td>'FANCY FONT HOME SWEET HOME DOORMAT'</td>\n",
       "      <td>205</td>\n",
       "      <td>241</td>\n",
       "      <td>WORK_OF_ART</td>\n",
       "    </tr>\n",
       "    <tr>\n",
       "      <th>8</th>\n",
       "      <td>'CAT BOWL '</td>\n",
       "      <td>243</td>\n",
       "      <td>254</td>\n",
       "      <td>WORK_OF_ART</td>\n",
       "    </tr>\n",
       "    <tr>\n",
       "      <th>9</th>\n",
       "      <td>'DOG BOWL</td>\n",
       "      <td>256</td>\n",
       "      <td>265</td>\n",
       "      <td>WORK_OF_ART</td>\n",
       "    </tr>\n",
       "    <tr>\n",
       "      <th>10</th>\n",
       "      <td>'HEART MEASURING SPOONS LARGE'</td>\n",
       "      <td>290</td>\n",
       "      <td>320</td>\n",
       "      <td>WORK_OF_ART</td>\n",
       "    </tr>\n",
       "    <tr>\n",
       "      <th>11</th>\n",
       "      <td>'HOME BUILDING BLOCK WORD'</td>\n",
       "      <td>413</td>\n",
       "      <td>439</td>\n",
       "      <td>WORK_OF_ART</td>\n",
       "    </tr>\n",
       "    <tr>\n",
       "      <th>12</th>\n",
       "      <td>' PEACE WOODEN BLOCK LETTERS'</td>\n",
       "      <td>474</td>\n",
       "      <td>503</td>\n",
       "      <td>WORK_OF_ART</td>\n",
       "    </tr>\n",
       "    <tr>\n",
       "      <th>13</th>\n",
       "      <td>CRAFT WHITE FAIRY '</td>\n",
       "      <td>516</td>\n",
       "      <td>535</td>\n",
       "      <td>ORG</td>\n",
       "    </tr>\n",
       "    <tr>\n",
       "      <th>14</th>\n",
       "      <td>FULL ENGLISH BREAKFAST PLATE'</td>\n",
       "      <td>596</td>\n",
       "      <td>625</td>\n",
       "      <td>WORK_OF_ART</td>\n",
       "    </tr>\n",
       "    <tr>\n",
       "      <th>15</th>\n",
       "      <td>'PIZZA PLATE IN BOX'</td>\n",
       "      <td>627</td>\n",
       "      <td>647</td>\n",
       "      <td>WORK_OF_ART</td>\n",
       "    </tr>\n",
       "    <tr>\n",
       "      <th>16</th>\n",
       "      <td>BLACK DINER WALL CLOCK'</td>\n",
       "      <td>650</td>\n",
       "      <td>673</td>\n",
       "      <td>WORK_OF_ART</td>\n",
       "    </tr>\n",
       "    <tr>\n",
       "      <th>17</th>\n",
       "      <td>3</td>\n",
       "      <td>683</td>\n",
       "      <td>684</td>\n",
       "      <td>CARDINAL</td>\n",
       "    </tr>\n",
       "    <tr>\n",
       "      <th>18</th>\n",
       "      <td>ONE</td>\n",
       "      <td>743</td>\n",
       "      <td>746</td>\n",
       "      <td>CARDINAL</td>\n",
       "    </tr>\n",
       "    <tr>\n",
       "      <th>19</th>\n",
       "      <td>BATH</td>\n",
       "      <td>769</td>\n",
       "      <td>773</td>\n",
       "      <td>ORG</td>\n",
       "    </tr>\n",
       "  </tbody>\n",
       "</table>\n",
       "</div>"
      ],
      "text/plain": [
       "                                       0    1    2            3\n",
       "0                                   15CM    2    6     CARDINAL\n",
       "1                                     20   28   30     CARDINAL\n",
       "2                    PINK CHERRY LIGHTS'   41   60          ORG\n",
       "3                   WHITE CHERRY LIGHTS'   64   84          ORG\n",
       "4                         RECORD FRAME 7   87  101  WORK_OF_ART\n",
       "5        STRAWBERRY CERAMIC TRINKET BOX'  119  150  WORK_OF_ART\n",
       "6                   SAVE THE PLANET MUG'  183  203  WORK_OF_ART\n",
       "7   'FANCY FONT HOME SWEET HOME DOORMAT'  205  241  WORK_OF_ART\n",
       "8                            'CAT BOWL '  243  254  WORK_OF_ART\n",
       "9                              'DOG BOWL  256  265  WORK_OF_ART\n",
       "10        'HEART MEASURING SPOONS LARGE'  290  320  WORK_OF_ART\n",
       "11            'HOME BUILDING BLOCK WORD'  413  439  WORK_OF_ART\n",
       "12         ' PEACE WOODEN BLOCK LETTERS'  474  503  WORK_OF_ART\n",
       "13                   CRAFT WHITE FAIRY '  516  535          ORG\n",
       "14         FULL ENGLISH BREAKFAST PLATE'  596  625  WORK_OF_ART\n",
       "15                  'PIZZA PLATE IN BOX'  627  647  WORK_OF_ART\n",
       "16               BLACK DINER WALL CLOCK'  650  673  WORK_OF_ART\n",
       "17                                     3  683  684     CARDINAL\n",
       "18                                   ONE  743  746     CARDINAL\n",
       "19                                  BATH  769  773          ORG"
      ]
     },
     "execution_count": 40,
     "metadata": {
      "tags": []
     },
     "output_type": "execute_result"
    }
   ],
   "source": [
    "entities = pd.DataFrame(entities)\n",
    "entities[3].unique()\n",
    "entities.head(20)"
   ]
  },
  {
   "cell_type": "code",
   "execution_count": 41,
   "metadata": {
    "id": "Vo2_67vrlXj2"
   },
   "outputs": [],
   "source": [
    "word_count = pd.DataFrame(word_count)\n",
    "word_count = word_count[~word_count[0].isin(['PUNCT','SPACE','ADP','NUM','DET','ADJ'])]\n",
    "word_count.sort_values([1], ascending=False,inplace=True)"
   ]
  },
  {
   "cell_type": "code",
   "execution_count": 42,
   "metadata": {
    "colab": {
     "base_uri": "https://localhost:8080/",
     "height": 471
    },
    "id": "GAZdtLHhlXT9",
    "outputId": "cda11930-873d-46d2-8804-c686f47accc5"
   },
   "outputs": [
    {
     "data": {
      "image/png": "[encoded data removed]",
      "text/plain": [
       "<Figure size 792x432 with 1 Axes>"
      ]
     },
     "metadata": {
      "needs_background": "light",
      "tags": []
     },
     "output_type": "display_data"
    }
   ],
   "source": [
    "\n",
    "# plot top (n) word occurrances\n",
    "f, ax = plt.subplots(figsize=(11, 6))\n",
    "\n",
    "tmp = word_count.head(50)\n",
    "\n",
    "g=sns.barplot(x=tmp[2],y=tmp[1],data=tmp,palette=\"RdBu\", ci=None)\n",
    "g.set(xlabel='word', ylabel='count #',title=\"top 50 word frequency\");\n",
    "for item in g.get_xticklabels():\n",
    "    item.set_rotation(90)"
   ]
  },
  {
   "cell_type": "code",
   "execution_count": 43,
   "metadata": {
    "colab": {
     "base_uri": "https://localhost:8080/",
     "height": 404
    },
    "id": "AOm5diQlo0si",
    "outputId": "f509a661-6f2d-4d53-b4d9-ee7c515665e1"
   },
   "outputs": [
    {
     "name": "stdout",
     "output_type": "stream",
     "text": [
      "<wordcloud.wordcloud.WordCloud object at 0x7f5cc03638d0>\n"
     ]
    },
    {
     "data": {
      "image/png": "[encoded data removed]",
      "text/plain": [
       "<Figure size 864x864 with 1 Axes>"
      ]
     },
     "metadata": {
      "needs_background": "light",
      "tags": []
     },
     "output_type": "display_data"
    }
   ],
   "source": [
    "\n",
    "from wordcloud import WordCloud\n",
    "from wordcloud import STOPWORDS\n",
    "\n",
    "stopwords = set(STOPWORDS)\n",
    "wordcloud = WordCloud(background_color = 'white').generate(str(data['Description']))\n",
    "\n",
    "print(wordcloud)\n",
    "plt.rcParams['figure.figsize'] = (12, 12)\n",
    "plt.axis('off')\n",
    "plt.imshow(wordcloud)\n",
    "plt.title('Most Occuring word in the Description list', fontsize = 20)\n",
    "plt.show()"
   ]
  },
  {
   "cell_type": "markdown",
   "metadata": {
    "id": "8z1QSTThmL60"
   },
   "source": [
    "NLP isn't providing a huge amount of information to categorise items at this time..."
   ]
  },
  {
   "cell_type": "code",
   "execution_count": null,
   "metadata": {
    "id": "mDkTCINulW8P"
   },
   "outputs": [],
   "source": []
  },
  {
   "cell_type": "markdown",
   "metadata": {
    "id": "fWTZNANEHuYw"
   },
   "source": [
    "# Exploratory Data Analysis"
   ]
  },
  {
   "cell_type": "code",
   "execution_count": 46,
   "metadata": {
    "colab": {
     "base_uri": "https://localhost:8080/",
     "height": 560
    },
    "id": "voi3W38ADXGT",
    "outputId": "0ea90235-22df-46c5-aeff-f9c8a74450ec"
   },
   "outputs": [
    {
     "data": {
      "image/png": "[encoded data removed]",
      "text/plain": [
       "<Figure size 1296x504 with 1 Axes>"
      ]
     },
     "metadata": {
      "needs_background": "light",
      "tags": []
     },
     "output_type": "display_data"
    }
   ],
   "source": [
    "# checking the different values for country in the dataset\n",
    "\n",
    "data['Country'].value_counts().head(20).plot.bar(figsize = (18, 7))\n",
    "plt.title('Top 20 Countries having Online Retail Market', fontsize = 20)\n",
    "plt.xlabel('Names of Countries')\n",
    "plt.ylabel('Count')\n",
    "plt.show()"
   ]
  },
  {
   "cell_type": "markdown",
   "metadata": {
    "id": "BOZhN5bdKXml"
   },
   "source": [
    "The most unique customers are from United Kingdom, for this reason it is better to concetrate on UK for customer segmentation.\n",
    "\n"
   ]
  },
  {
   "cell_type": "code",
   "execution_count": 47,
   "metadata": {
    "colab": {
     "base_uri": "https://localhost:8080/",
     "height": 1000
    },
    "id": "nEqQbAGXKZUH",
    "outputId": "6e6f17f0-0ed7-49e3-ae76-55f03f412c3c"
   },
   "outputs": [
    {
     "data": {
      "text/html": [
       "<div>\n",
       "<style scoped>\n",
       "    .dataframe tbody tr th:only-of-type {\n",
       "        vertical-align: middle;\n",
       "    }\n",
       "\n",
       "    .dataframe tbody tr th {\n",
       "        vertical-align: top;\n",
       "    }\n",
       "\n",
       "    .dataframe thead th {\n",
       "        text-align: right;\n",
       "    }\n",
       "</style>\n",
       "<table border=\"1\" class=\"dataframe\">\n",
       "  <thead>\n",
       "    <tr style=\"text-align: right;\">\n",
       "      <th></th>\n",
       "      <th>Country</th>\n",
       "      <th>Customer ID</th>\n",
       "    </tr>\n",
       "  </thead>\n",
       "  <tbody>\n",
       "    <tr>\n",
       "      <th>34</th>\n",
       "      <td>United Kingdom</td>\n",
       "      <td>3971</td>\n",
       "    </tr>\n",
       "    <tr>\n",
       "      <th>12</th>\n",
       "      <td>Germany</td>\n",
       "      <td>67</td>\n",
       "    </tr>\n",
       "    <tr>\n",
       "      <th>11</th>\n",
       "      <td>France</td>\n",
       "      <td>47</td>\n",
       "    </tr>\n",
       "    <tr>\n",
       "      <th>28</th>\n",
       "      <td>Spain</td>\n",
       "      <td>25</td>\n",
       "    </tr>\n",
       "    <tr>\n",
       "      <th>21</th>\n",
       "      <td>Netherlands</td>\n",
       "      <td>22</td>\n",
       "    </tr>\n",
       "    <tr>\n",
       "      <th>25</th>\n",
       "      <td>Portugal</td>\n",
       "      <td>18</td>\n",
       "    </tr>\n",
       "    <tr>\n",
       "      <th>3</th>\n",
       "      <td>Belgium</td>\n",
       "      <td>17</td>\n",
       "    </tr>\n",
       "    <tr>\n",
       "      <th>29</th>\n",
       "      <td>Sweden</td>\n",
       "      <td>16</td>\n",
       "    </tr>\n",
       "    <tr>\n",
       "      <th>0</th>\n",
       "      <td>Australia</td>\n",
       "      <td>15</td>\n",
       "    </tr>\n",
       "    <tr>\n",
       "      <th>30</th>\n",
       "      <td>Switzerland</td>\n",
       "      <td>14</td>\n",
       "    </tr>\n",
       "    <tr>\n",
       "      <th>16</th>\n",
       "      <td>Italy</td>\n",
       "      <td>11</td>\n",
       "    </tr>\n",
       "    <tr>\n",
       "      <th>6</th>\n",
       "      <td>Channel Islands</td>\n",
       "      <td>11</td>\n",
       "    </tr>\n",
       "    <tr>\n",
       "      <th>1</th>\n",
       "      <td>Austria</td>\n",
       "      <td>10</td>\n",
       "    </tr>\n",
       "    <tr>\n",
       "      <th>8</th>\n",
       "      <td>Denmark</td>\n",
       "      <td>9</td>\n",
       "    </tr>\n",
       "    <tr>\n",
       "      <th>10</th>\n",
       "      <td>Finland</td>\n",
       "      <td>7</td>\n",
       "    </tr>\n",
       "    <tr>\n",
       "      <th>7</th>\n",
       "      <td>Cyprus</td>\n",
       "      <td>7</td>\n",
       "    </tr>\n",
       "    <tr>\n",
       "      <th>32</th>\n",
       "      <td>USA</td>\n",
       "      <td>6</td>\n",
       "    </tr>\n",
       "    <tr>\n",
       "      <th>17</th>\n",
       "      <td>Japan</td>\n",
       "      <td>6</td>\n",
       "    </tr>\n",
       "    <tr>\n",
       "      <th>9</th>\n",
       "      <td>EIRE</td>\n",
       "      <td>5</td>\n",
       "    </tr>\n",
       "    <tr>\n",
       "      <th>23</th>\n",
       "      <td>Norway</td>\n",
       "      <td>5</td>\n",
       "    </tr>\n",
       "    <tr>\n",
       "      <th>13</th>\n",
       "      <td>Greece</td>\n",
       "      <td>4</td>\n",
       "    </tr>\n",
       "    <tr>\n",
       "      <th>33</th>\n",
       "      <td>United Arab Emirates</td>\n",
       "      <td>4</td>\n",
       "    </tr>\n",
       "    <tr>\n",
       "      <th>35</th>\n",
       "      <td>Unspecified</td>\n",
       "      <td>4</td>\n",
       "    </tr>\n",
       "    <tr>\n",
       "      <th>24</th>\n",
       "      <td>Poland</td>\n",
       "      <td>2</td>\n",
       "    </tr>\n",
       "    <tr>\n",
       "      <th>18</th>\n",
       "      <td>Korea</td>\n",
       "      <td>2</td>\n",
       "    </tr>\n",
       "    <tr>\n",
       "      <th>15</th>\n",
       "      <td>Israel</td>\n",
       "      <td>2</td>\n",
       "    </tr>\n",
       "    <tr>\n",
       "      <th>2</th>\n",
       "      <td>Bahrain</td>\n",
       "      <td>2</td>\n",
       "    </tr>\n",
       "    <tr>\n",
       "      <th>22</th>\n",
       "      <td>Nigeria</td>\n",
       "      <td>1</td>\n",
       "    </tr>\n",
       "    <tr>\n",
       "      <th>26</th>\n",
       "      <td>RSA</td>\n",
       "      <td>1</td>\n",
       "    </tr>\n",
       "    <tr>\n",
       "      <th>27</th>\n",
       "      <td>Singapore</td>\n",
       "      <td>1</td>\n",
       "    </tr>\n",
       "    <tr>\n",
       "      <th>20</th>\n",
       "      <td>Malta</td>\n",
       "      <td>1</td>\n",
       "    </tr>\n",
       "    <tr>\n",
       "      <th>19</th>\n",
       "      <td>Lithuania</td>\n",
       "      <td>1</td>\n",
       "    </tr>\n",
       "    <tr>\n",
       "      <th>31</th>\n",
       "      <td>Thailand</td>\n",
       "      <td>1</td>\n",
       "    </tr>\n",
       "    <tr>\n",
       "      <th>14</th>\n",
       "      <td>Iceland</td>\n",
       "      <td>1</td>\n",
       "    </tr>\n",
       "    <tr>\n",
       "      <th>5</th>\n",
       "      <td>Canada</td>\n",
       "      <td>1</td>\n",
       "    </tr>\n",
       "    <tr>\n",
       "      <th>4</th>\n",
       "      <td>Brazil</td>\n",
       "      <td>1</td>\n",
       "    </tr>\n",
       "    <tr>\n",
       "      <th>36</th>\n",
       "      <td>West Indies</td>\n",
       "      <td>1</td>\n",
       "    </tr>\n",
       "  </tbody>\n",
       "</table>\n",
       "</div>"
      ],
      "text/plain": [
       "                 Country  Customer ID\n",
       "34        United Kingdom         3971\n",
       "12               Germany           67\n",
       "11                France           47\n",
       "28                 Spain           25\n",
       "21           Netherlands           22\n",
       "25              Portugal           18\n",
       "3                Belgium           17\n",
       "29                Sweden           16\n",
       "0              Australia           15\n",
       "30           Switzerland           14\n",
       "16                 Italy           11\n",
       "6        Channel Islands           11\n",
       "1                Austria           10\n",
       "8                Denmark            9\n",
       "10               Finland            7\n",
       "7                 Cyprus            7\n",
       "32                   USA            6\n",
       "17                 Japan            6\n",
       "9                   EIRE            5\n",
       "23                Norway            5\n",
       "13                Greece            4\n",
       "33  United Arab Emirates            4\n",
       "35           Unspecified            4\n",
       "24                Poland            2\n",
       "18                 Korea            2\n",
       "15                Israel            2\n",
       "2                Bahrain            2\n",
       "22               Nigeria            1\n",
       "26                   RSA            1\n",
       "27             Singapore            1\n",
       "20                 Malta            1\n",
       "19             Lithuania            1\n",
       "31              Thailand            1\n",
       "14               Iceland            1\n",
       "5                 Canada            1\n",
       "4                 Brazil            1\n",
       "36           West Indies            1"
      ]
     },
     "execution_count": 47,
     "metadata": {
      "tags": []
     },
     "output_type": "execute_result"
    }
   ],
   "source": [
    "customer_country=data[['Country','Customer ID']].drop_duplicates()\n",
    "customer_country.groupby(['Country'])['Customer ID'].aggregate('count').reset_index().sort_values('Customer ID', ascending=False)"
   ]
  },
  {
   "cell_type": "code",
   "execution_count": 48,
   "metadata": {
    "id": "S05PWMhEJOtj"
   },
   "outputs": [],
   "source": [
    "#create a new column called date which contains the only the date of invoice\n",
    "data['date'] = data['InvoiceDate'].dt.date"
   ]
  },
  {
   "cell_type": "code",
   "execution_count": 49,
   "metadata": {
    "colab": {
     "base_uri": "https://localhost:8080/",
     "height": 195
    },
    "id": "yFOM4HlGJpQ0",
    "outputId": "f07e0712-72c8-446a-89c9-09b03a8be408"
   },
   "outputs": [
    {
     "data": {
      "text/html": [
       "<div>\n",
       "<style scoped>\n",
       "    .dataframe tbody tr th:only-of-type {\n",
       "        vertical-align: middle;\n",
       "    }\n",
       "\n",
       "    .dataframe tbody tr th {\n",
       "        vertical-align: top;\n",
       "    }\n",
       "\n",
       "    .dataframe thead th {\n",
       "        text-align: right;\n",
       "    }\n",
       "</style>\n",
       "<table border=\"1\" class=\"dataframe\">\n",
       "  <thead>\n",
       "    <tr style=\"text-align: right;\">\n",
       "      <th></th>\n",
       "      <th>Invoice</th>\n",
       "      <th>StockCode</th>\n",
       "      <th>Description</th>\n",
       "      <th>Quantity</th>\n",
       "      <th>InvoiceDate</th>\n",
       "      <th>Price</th>\n",
       "      <th>Customer ID</th>\n",
       "      <th>Country</th>\n",
       "      <th>date</th>\n",
       "    </tr>\n",
       "  </thead>\n",
       "  <tbody>\n",
       "    <tr>\n",
       "      <th>0</th>\n",
       "      <td>489434</td>\n",
       "      <td>85048</td>\n",
       "      <td>15CM CHRISTMAS GLASS BALL 20 LIGHTS</td>\n",
       "      <td>12</td>\n",
       "      <td>2009-12-01 07:45:00</td>\n",
       "      <td>6.95</td>\n",
       "      <td>13085.0</td>\n",
       "      <td>United Kingdom</td>\n",
       "      <td>2009-12-01</td>\n",
       "    </tr>\n",
       "    <tr>\n",
       "      <th>1</th>\n",
       "      <td>489434</td>\n",
       "      <td>79323P</td>\n",
       "      <td>PINK CHERRY LIGHTS</td>\n",
       "      <td>12</td>\n",
       "      <td>2009-12-01 07:45:00</td>\n",
       "      <td>6.75</td>\n",
       "      <td>13085.0</td>\n",
       "      <td>United Kingdom</td>\n",
       "      <td>2009-12-01</td>\n",
       "    </tr>\n",
       "    <tr>\n",
       "      <th>2</th>\n",
       "      <td>489434</td>\n",
       "      <td>79323W</td>\n",
       "      <td>WHITE CHERRY LIGHTS</td>\n",
       "      <td>12</td>\n",
       "      <td>2009-12-01 07:45:00</td>\n",
       "      <td>6.75</td>\n",
       "      <td>13085.0</td>\n",
       "      <td>United Kingdom</td>\n",
       "      <td>2009-12-01</td>\n",
       "    </tr>\n",
       "    <tr>\n",
       "      <th>3</th>\n",
       "      <td>489434</td>\n",
       "      <td>22041</td>\n",
       "      <td>RECORD FRAME 7\" SINGLE SIZE</td>\n",
       "      <td>48</td>\n",
       "      <td>2009-12-01 07:45:00</td>\n",
       "      <td>2.10</td>\n",
       "      <td>13085.0</td>\n",
       "      <td>United Kingdom</td>\n",
       "      <td>2009-12-01</td>\n",
       "    </tr>\n",
       "    <tr>\n",
       "      <th>4</th>\n",
       "      <td>489434</td>\n",
       "      <td>21232</td>\n",
       "      <td>STRAWBERRY CERAMIC TRINKET BOX</td>\n",
       "      <td>24</td>\n",
       "      <td>2009-12-01 07:45:00</td>\n",
       "      <td>1.25</td>\n",
       "      <td>13085.0</td>\n",
       "      <td>United Kingdom</td>\n",
       "      <td>2009-12-01</td>\n",
       "    </tr>\n",
       "  </tbody>\n",
       "</table>\n",
       "</div>"
      ],
      "text/plain": [
       "  Invoice StockCode  ...         Country        date\n",
       "0  489434     85048  ...  United Kingdom  2009-12-01\n",
       "1  489434    79323P  ...  United Kingdom  2009-12-01\n",
       "2  489434    79323W  ...  United Kingdom  2009-12-01\n",
       "3  489434     22041  ...  United Kingdom  2009-12-01\n",
       "4  489434     21232  ...  United Kingdom  2009-12-01\n",
       "\n",
       "[5 rows x 9 columns]"
      ]
     },
     "execution_count": 49,
     "metadata": {
      "tags": []
     },
     "output_type": "execute_result"
    }
   ],
   "source": [
    "data.head()"
   ]
  },
  {
   "cell_type": "code",
   "execution_count": 50,
   "metadata": {
    "colab": {
     "base_uri": "https://localhost:8080/",
     "height": 822
    },
    "id": "CJy6XF3eJrHY",
    "outputId": "6eca611e-9b99-4e8d-e42e-4662caaec13e"
   },
   "outputs": [
    {
     "name": "stderr",
     "output_type": "stream",
     "text": [
      "/usr/local/lib/python3.6/dist-packages/seaborn/distributions.py:2551: FutureWarning:\n",
      "\n",
      "`distplot` is a deprecated function and will be removed in a future version. Please adapt your code to use either `displot` (a figure-level function with similar flexibility) or `histplot` (an axes-level function for histograms).\n",
      "\n"
     ]
    },
    {
     "data": {
      "image/png": "[encoded data removed]",
      "text/plain": [
       "<Figure size 864x864 with 1 Axes>"
      ]
     },
     "metadata": {
      "needs_background": "light",
      "tags": []
     },
     "output_type": "display_data"
    }
   ],
   "source": [
    "# visualizing the unitprice\n",
    "\n",
    "sns.distplot(data['Price'], color = 'lightblue')\n",
    "plt.title('Distribution of price', fontsize = 20)\n",
    "plt.xlabel('Different Price for different items')\n",
    "plt.ylabel('count')\n",
    "plt.show()"
   ]
  },
  {
   "cell_type": "code",
   "execution_count": 51,
   "metadata": {
    "colab": {
     "base_uri": "https://localhost:8080/",
     "height": 560
    },
    "id": "aC30sJ85KB5u",
    "outputId": "05c0dd86-8976-40e4-c876-27c2d905075f"
   },
   "outputs": [
    {
     "data": {
      "image/png": "[encoded data removed]",
      "text/plain": [
       "<Figure size 1296x504 with 1 Axes>"
      ]
     },
     "metadata": {
      "needs_background": "light",
      "tags": []
     },
     "output_type": "display_data"
    }
   ],
   "source": [
    "# checking the different values for country in the dataset\n",
    "\n",
    "data['Country'].value_counts().tail(20).plot.bar(figsize = (18, 7))\n",
    "plt.title('Bottom 20 Countries having Online Retail Market', fontsize = 20)\n",
    "plt.xlabel('Names of Countries')\n",
    "plt.ylabel('Count')\n",
    "plt.show()"
   ]
  },
  {
   "cell_type": "code",
   "execution_count": 52,
   "metadata": {
    "colab": {
     "base_uri": "https://localhost:8080/"
    },
    "id": "bgWpkrJGK2e6",
    "outputId": "a7292987-3925-4e3b-e6de-e88d16341928"
   },
   "outputs": [
    {
     "data": {
      "text/plain": [
       "Country\n",
       "Australia                 20189\n",
       "Austria                    6697\n",
       "Bahrain                     495\n",
       "Belgium                   12069\n",
       "Brazil                      189\n",
       "Canada                      894\n",
       "Channel Islands           11991\n",
       "Cyprus                     4610\n",
       "Denmark                  229690\n",
       "EIRE                     181413\n",
       "Finland                    3671\n",
       "France                   162048\n",
       "Germany                  108633\n",
       "Greece                     6167\n",
       "Iceland                     828\n",
       "Israel                     1132\n",
       "Italy                      7364\n",
       "Japan                      7311\n",
       "Korea                       700\n",
       "Lithuania                  2306\n",
       "Malta                      1549\n",
       "Netherlands              183679\n",
       "Nigeria                     103\n",
       "Norway                     7867\n",
       "Poland                     2144\n",
       "Portugal                  11988\n",
       "RSA                         591\n",
       "Singapore                  1753\n",
       "Spain                     22841\n",
       "Sweden                    52417\n",
       "Switzerland               22255\n",
       "Thailand                   2552\n",
       "USA                        2806\n",
       "United Arab Emirates       4857\n",
       "United Kingdom          4430926\n",
       "Unspecified                3328\n",
       "West Indies                 395\n",
       "Name: Quantity, dtype: int64"
      ]
     },
     "execution_count": 52,
     "metadata": {
      "tags": []
     },
     "output_type": "execute_result"
    }
   ],
   "source": [
    "# checking how many quantity of products have been sold online from each country\n",
    "\n",
    "data['Quantity'].groupby(data['Country']).agg('sum')"
   ]
  },
  {
   "cell_type": "code",
   "execution_count": 53,
   "metadata": {
    "colab": {
     "base_uri": "https://localhost:8080/",
     "height": 560
    },
    "id": "t7-gYtuDLB1P",
    "outputId": "9a7cf645-d53b-4830-cdae-d3ababbb9b00"
   },
   "outputs": [
    {
     "data": {
      "image/png": "[encoded data removed]",
      "text/plain": [
       "<Figure size 1080x504 with 1 Axes>"
      ]
     },
     "metadata": {
      "needs_background": "light",
      "tags": []
     },
     "output_type": "display_data"
    }
   ],
   "source": [
    "# Having a look at the top 20 Countries in terms of Quantities according to the countries\n",
    "\n",
    "data['Quantity'].groupby(data['Country']).agg('sum').sort_values(ascending = False).head(20).plot.bar(figsize = (15, 7))\n",
    "\n",
    "plt.title('Top 20 Countries according to Quantity Sold Online', fontsize = 20)\n",
    "plt.xlabel('Names of the Countries')\n",
    "plt.ylabel('Number of Items Sold')\n",
    "plt.show()"
   ]
  },
  {
   "cell_type": "code",
   "execution_count": 54,
   "metadata": {
    "colab": {
     "base_uri": "https://localhost:8080/",
     "height": 560
    },
    "id": "COACwjHnLJXF",
    "outputId": "0ea6100c-f998-40b2-a77e-c57f2aad207a"
   },
   "outputs": [
    {
     "data": {
      "image/png": "[encoded data removed]",
      "text/plain": [
       "<Figure size 1080x504 with 1 Axes>"
      ]
     },
     "metadata": {
      "needs_background": "light",
      "tags": []
     },
     "output_type": "display_data"
    }
   ],
   "source": [
    "\n",
    "# Having a look at the bottom 20 Countries in terms of Quantities according to the countries\n",
    "\n",
    "data['Quantity'].groupby(data['Country']).agg('sum').sort_values(ascending = True).head(20).plot.bar(figsize = (15, 7))\n",
    "\n",
    "plt.title('Bottom 20 Countries according to Quantity Sold Online', fontsize = 20)\n",
    "plt.xlabel('Names of the Countries')\n",
    "plt.ylabel('Number of Items Sold')\n",
    "plt.show()"
   ]
  },
  {
   "cell_type": "code",
   "execution_count": 55,
   "metadata": {
    "colab": {
     "base_uri": "https://localhost:8080/",
     "height": 777
    },
    "id": "EHaO-FHnLNWv",
    "outputId": "6e7ee51a-c106-4d14-f4e6-70c79dc6b15f"
   },
   "outputs": [
    {
     "data": {
      "image/png": "[encoded data removed]",
      "text/plain": [
       "<Figure size 864x864 with 1 Axes>"
      ]
     },
     "metadata": {
      "needs_background": "light",
      "tags": []
     },
     "output_type": "display_data"
    }
   ],
   "source": [
    "# looking the stockcode for the datset\n",
    "\n",
    "data['StockCode'].value_counts().head(20).plot.bar()\n",
    "plt.title('Most Popular Stock codes', fontsize = 50)\n",
    "plt.show()"
   ]
  },
  {
   "cell_type": "markdown",
   "metadata": {
    "id": "WPRrdYn4NI53"
   },
   "source": [
    "# Time Features"
   ]
  },
  {
   "cell_type": "code",
   "execution_count": 56,
   "metadata": {
    "id": "8topQuo4LnXs"
   },
   "outputs": [],
   "source": [
    "data['InvoiceDate'] = pd.to_datetime(data['InvoiceDate'])"
   ]
  },
  {
   "cell_type": "code",
   "execution_count": 57,
   "metadata": {
    "colab": {
     "base_uri": "https://localhost:8080/",
     "height": 195
    },
    "id": "1f_e5-sNNk_G",
    "outputId": "3e7a5cac-598c-4c0a-d40d-9bc204ced7a3"
   },
   "outputs": [
    {
     "data": {
      "text/html": [
       "<div>\n",
       "<style scoped>\n",
       "    .dataframe tbody tr th:only-of-type {\n",
       "        vertical-align: middle;\n",
       "    }\n",
       "\n",
       "    .dataframe tbody tr th {\n",
       "        vertical-align: top;\n",
       "    }\n",
       "\n",
       "    .dataframe thead th {\n",
       "        text-align: right;\n",
       "    }\n",
       "</style>\n",
       "<table border=\"1\" class=\"dataframe\">\n",
       "  <thead>\n",
       "    <tr style=\"text-align: right;\">\n",
       "      <th></th>\n",
       "      <th>Invoice</th>\n",
       "      <th>StockCode</th>\n",
       "      <th>Description</th>\n",
       "      <th>Quantity</th>\n",
       "      <th>InvoiceDate</th>\n",
       "      <th>Price</th>\n",
       "      <th>Customer ID</th>\n",
       "      <th>Country</th>\n",
       "      <th>date</th>\n",
       "    </tr>\n",
       "  </thead>\n",
       "  <tbody>\n",
       "    <tr>\n",
       "      <th>0</th>\n",
       "      <td>489434</td>\n",
       "      <td>85048</td>\n",
       "      <td>15CM CHRISTMAS GLASS BALL 20 LIGHTS</td>\n",
       "      <td>12</td>\n",
       "      <td>2009-12-01 07:45:00</td>\n",
       "      <td>6.95</td>\n",
       "      <td>13085.0</td>\n",
       "      <td>United Kingdom</td>\n",
       "      <td>2009-12-01</td>\n",
       "    </tr>\n",
       "    <tr>\n",
       "      <th>1</th>\n",
       "      <td>489434</td>\n",
       "      <td>79323P</td>\n",
       "      <td>PINK CHERRY LIGHTS</td>\n",
       "      <td>12</td>\n",
       "      <td>2009-12-01 07:45:00</td>\n",
       "      <td>6.75</td>\n",
       "      <td>13085.0</td>\n",
       "      <td>United Kingdom</td>\n",
       "      <td>2009-12-01</td>\n",
       "    </tr>\n",
       "    <tr>\n",
       "      <th>2</th>\n",
       "      <td>489434</td>\n",
       "      <td>79323W</td>\n",
       "      <td>WHITE CHERRY LIGHTS</td>\n",
       "      <td>12</td>\n",
       "      <td>2009-12-01 07:45:00</td>\n",
       "      <td>6.75</td>\n",
       "      <td>13085.0</td>\n",
       "      <td>United Kingdom</td>\n",
       "      <td>2009-12-01</td>\n",
       "    </tr>\n",
       "    <tr>\n",
       "      <th>3</th>\n",
       "      <td>489434</td>\n",
       "      <td>22041</td>\n",
       "      <td>RECORD FRAME 7\" SINGLE SIZE</td>\n",
       "      <td>48</td>\n",
       "      <td>2009-12-01 07:45:00</td>\n",
       "      <td>2.10</td>\n",
       "      <td>13085.0</td>\n",
       "      <td>United Kingdom</td>\n",
       "      <td>2009-12-01</td>\n",
       "    </tr>\n",
       "    <tr>\n",
       "      <th>4</th>\n",
       "      <td>489434</td>\n",
       "      <td>21232</td>\n",
       "      <td>STRAWBERRY CERAMIC TRINKET BOX</td>\n",
       "      <td>24</td>\n",
       "      <td>2009-12-01 07:45:00</td>\n",
       "      <td>1.25</td>\n",
       "      <td>13085.0</td>\n",
       "      <td>United Kingdom</td>\n",
       "      <td>2009-12-01</td>\n",
       "    </tr>\n",
       "  </tbody>\n",
       "</table>\n",
       "</div>"
      ],
      "text/plain": [
       "  Invoice StockCode  ...         Country        date\n",
       "0  489434     85048  ...  United Kingdom  2009-12-01\n",
       "1  489434    79323P  ...  United Kingdom  2009-12-01\n",
       "2  489434    79323W  ...  United Kingdom  2009-12-01\n",
       "3  489434     22041  ...  United Kingdom  2009-12-01\n",
       "4  489434     21232  ...  United Kingdom  2009-12-01\n",
       "\n",
       "[5 rows x 9 columns]"
      ]
     },
     "execution_count": 57,
     "metadata": {
      "tags": []
     },
     "output_type": "execute_result"
    }
   ],
   "source": [
    "data.head()"
   ]
  },
  {
   "cell_type": "code",
   "execution_count": 58,
   "metadata": {
    "id": "QBTGmnS3NnGI"
   },
   "outputs": [],
   "source": [
    "data['Year'] = data[\"InvoiceDate\"].apply(lambda x: x.year)\n",
    "data['Month'] = data[\"InvoiceDate\"].apply(lambda x: x.month)\n",
    "data['MonthYear'] = data[\"InvoiceDate\"].apply(lambda x: x.strftime(\"%B %Y\"))\n",
    "data['Weekday'] = data[\"InvoiceDate\"].apply(lambda x: x.weekday())\n",
    "data['Day'] = data[\"InvoiceDate\"].apply(lambda x: x.day)\n",
    "data['Hour'] = data[\"InvoiceDate\"].apply(lambda x: x.hour)"
   ]
  },
  {
   "cell_type": "code",
   "execution_count": 59,
   "metadata": {
    "colab": {
     "base_uri": "https://localhost:8080/",
     "height": 330
    },
    "id": "iOp7Sq_AOFs4",
    "outputId": "2c6d683e-95bb-4be7-b23f-8dcd483dd2d0"
   },
   "outputs": [
    {
     "data": {
      "text/html": [
       "<div>\n",
       "<style scoped>\n",
       "    .dataframe tbody tr th:only-of-type {\n",
       "        vertical-align: middle;\n",
       "    }\n",
       "\n",
       "    .dataframe tbody tr th {\n",
       "        vertical-align: top;\n",
       "    }\n",
       "\n",
       "    .dataframe thead th {\n",
       "        text-align: right;\n",
       "    }\n",
       "</style>\n",
       "<table border=\"1\" class=\"dataframe\">\n",
       "  <thead>\n",
       "    <tr style=\"text-align: right;\">\n",
       "      <th></th>\n",
       "      <th>Invoice</th>\n",
       "      <th>StockCode</th>\n",
       "      <th>Description</th>\n",
       "      <th>Quantity</th>\n",
       "      <th>InvoiceDate</th>\n",
       "      <th>Price</th>\n",
       "      <th>Customer ID</th>\n",
       "      <th>Country</th>\n",
       "      <th>date</th>\n",
       "      <th>Year</th>\n",
       "      <th>Month</th>\n",
       "      <th>MonthYear</th>\n",
       "      <th>Weekday</th>\n",
       "      <th>Day</th>\n",
       "      <th>Hour</th>\n",
       "    </tr>\n",
       "  </thead>\n",
       "  <tbody>\n",
       "    <tr>\n",
       "      <th>0</th>\n",
       "      <td>489434</td>\n",
       "      <td>85048</td>\n",
       "      <td>15CM CHRISTMAS GLASS BALL 20 LIGHTS</td>\n",
       "      <td>12</td>\n",
       "      <td>2009-12-01 07:45:00</td>\n",
       "      <td>6.95</td>\n",
       "      <td>13085.0</td>\n",
       "      <td>United Kingdom</td>\n",
       "      <td>2009-12-01</td>\n",
       "      <td>2009</td>\n",
       "      <td>12</td>\n",
       "      <td>December 2009</td>\n",
       "      <td>1</td>\n",
       "      <td>1</td>\n",
       "      <td>7</td>\n",
       "    </tr>\n",
       "    <tr>\n",
       "      <th>1</th>\n",
       "      <td>489434</td>\n",
       "      <td>79323P</td>\n",
       "      <td>PINK CHERRY LIGHTS</td>\n",
       "      <td>12</td>\n",
       "      <td>2009-12-01 07:45:00</td>\n",
       "      <td>6.75</td>\n",
       "      <td>13085.0</td>\n",
       "      <td>United Kingdom</td>\n",
       "      <td>2009-12-01</td>\n",
       "      <td>2009</td>\n",
       "      <td>12</td>\n",
       "      <td>December 2009</td>\n",
       "      <td>1</td>\n",
       "      <td>1</td>\n",
       "      <td>7</td>\n",
       "    </tr>\n",
       "    <tr>\n",
       "      <th>2</th>\n",
       "      <td>489434</td>\n",
       "      <td>79323W</td>\n",
       "      <td>WHITE CHERRY LIGHTS</td>\n",
       "      <td>12</td>\n",
       "      <td>2009-12-01 07:45:00</td>\n",
       "      <td>6.75</td>\n",
       "      <td>13085.0</td>\n",
       "      <td>United Kingdom</td>\n",
       "      <td>2009-12-01</td>\n",
       "      <td>2009</td>\n",
       "      <td>12</td>\n",
       "      <td>December 2009</td>\n",
       "      <td>1</td>\n",
       "      <td>1</td>\n",
       "      <td>7</td>\n",
       "    </tr>\n",
       "    <tr>\n",
       "      <th>3</th>\n",
       "      <td>489434</td>\n",
       "      <td>22041</td>\n",
       "      <td>RECORD FRAME 7\" SINGLE SIZE</td>\n",
       "      <td>48</td>\n",
       "      <td>2009-12-01 07:45:00</td>\n",
       "      <td>2.10</td>\n",
       "      <td>13085.0</td>\n",
       "      <td>United Kingdom</td>\n",
       "      <td>2009-12-01</td>\n",
       "      <td>2009</td>\n",
       "      <td>12</td>\n",
       "      <td>December 2009</td>\n",
       "      <td>1</td>\n",
       "      <td>1</td>\n",
       "      <td>7</td>\n",
       "    </tr>\n",
       "    <tr>\n",
       "      <th>4</th>\n",
       "      <td>489434</td>\n",
       "      <td>21232</td>\n",
       "      <td>STRAWBERRY CERAMIC TRINKET BOX</td>\n",
       "      <td>24</td>\n",
       "      <td>2009-12-01 07:45:00</td>\n",
       "      <td>1.25</td>\n",
       "      <td>13085.0</td>\n",
       "      <td>United Kingdom</td>\n",
       "      <td>2009-12-01</td>\n",
       "      <td>2009</td>\n",
       "      <td>12</td>\n",
       "      <td>December 2009</td>\n",
       "      <td>1</td>\n",
       "      <td>1</td>\n",
       "      <td>7</td>\n",
       "    </tr>\n",
       "  </tbody>\n",
       "</table>\n",
       "</div>"
      ],
      "text/plain": [
       "  Invoice StockCode                          Description  ...  Weekday Day  Hour\n",
       "0  489434     85048  15CM CHRISTMAS GLASS BALL 20 LIGHTS  ...        1   1     7\n",
       "1  489434    79323P                   PINK CHERRY LIGHTS  ...        1   1     7\n",
       "2  489434    79323W                  WHITE CHERRY LIGHTS  ...        1   1     7\n",
       "3  489434     22041         RECORD FRAME 7\" SINGLE SIZE   ...        1   1     7\n",
       "4  489434     21232       STRAWBERRY CERAMIC TRINKET BOX  ...        1   1     7\n",
       "\n",
       "[5 rows x 15 columns]"
      ]
     },
     "execution_count": 59,
     "metadata": {
      "tags": []
     },
     "output_type": "execute_result"
    }
   ],
   "source": [
    "data.head()"
   ]
  },
  {
   "cell_type": "code",
   "execution_count": 88,
   "metadata": {
    "colab": {
     "base_uri": "https://localhost:8080/"
    },
    "id": "y1g1nKxx3Y4X",
    "outputId": "a5d35814-047a-4b94-92bc-83be4b966aba"
   },
   "outputs": [
    {
     "data": {
      "text/plain": [
       "(400947, 16)"
      ]
     },
     "execution_count": 88,
     "metadata": {
      "tags": []
     },
     "output_type": "execute_result"
    }
   ],
   "source": [
    "data.shape"
   ]
  },
  {
   "cell_type": "code",
   "execution_count": 61,
   "metadata": {
    "colab": {
     "base_uri": "https://localhost:8080/",
     "height": 330
    },
    "id": "A-Ojp5h7i3j1",
    "outputId": "b37182b2-be7c-448e-a80e-b5bfc729567e"
   },
   "outputs": [
    {
     "data": {
      "text/html": [
       "<div>\n",
       "<style scoped>\n",
       "    .dataframe tbody tr th:only-of-type {\n",
       "        vertical-align: middle;\n",
       "    }\n",
       "\n",
       "    .dataframe tbody tr th {\n",
       "        vertical-align: top;\n",
       "    }\n",
       "\n",
       "    .dataframe thead th {\n",
       "        text-align: right;\n",
       "    }\n",
       "</style>\n",
       "<table border=\"1\" class=\"dataframe\">\n",
       "  <thead>\n",
       "    <tr style=\"text-align: right;\">\n",
       "      <th></th>\n",
       "      <th>Invoice</th>\n",
       "      <th>StockCode</th>\n",
       "      <th>Description</th>\n",
       "      <th>Quantity</th>\n",
       "      <th>InvoiceDate</th>\n",
       "      <th>Price</th>\n",
       "      <th>Customer ID</th>\n",
       "      <th>Country</th>\n",
       "      <th>date</th>\n",
       "      <th>Year</th>\n",
       "      <th>Month</th>\n",
       "      <th>MonthYear</th>\n",
       "      <th>Weekday</th>\n",
       "      <th>Day</th>\n",
       "      <th>Hour</th>\n",
       "    </tr>\n",
       "  </thead>\n",
       "  <tbody>\n",
       "    <tr>\n",
       "      <th>0</th>\n",
       "      <td>489434</td>\n",
       "      <td>85048</td>\n",
       "      <td>15CM CHRISTMAS GLASS BALL 20 LIGHTS</td>\n",
       "      <td>12</td>\n",
       "      <td>2009-12-01 07:45:00</td>\n",
       "      <td>6.95</td>\n",
       "      <td>13085.0</td>\n",
       "      <td>United Kingdom</td>\n",
       "      <td>2009-12-01</td>\n",
       "      <td>2009</td>\n",
       "      <td>12</td>\n",
       "      <td>December 2009</td>\n",
       "      <td>1</td>\n",
       "      <td>1</td>\n",
       "      <td>7</td>\n",
       "    </tr>\n",
       "    <tr>\n",
       "      <th>1</th>\n",
       "      <td>489434</td>\n",
       "      <td>79323P</td>\n",
       "      <td>PINK CHERRY LIGHTS</td>\n",
       "      <td>12</td>\n",
       "      <td>2009-12-01 07:45:00</td>\n",
       "      <td>6.75</td>\n",
       "      <td>13085.0</td>\n",
       "      <td>United Kingdom</td>\n",
       "      <td>2009-12-01</td>\n",
       "      <td>2009</td>\n",
       "      <td>12</td>\n",
       "      <td>December 2009</td>\n",
       "      <td>1</td>\n",
       "      <td>1</td>\n",
       "      <td>7</td>\n",
       "    </tr>\n",
       "    <tr>\n",
       "      <th>2</th>\n",
       "      <td>489434</td>\n",
       "      <td>79323W</td>\n",
       "      <td>WHITE CHERRY LIGHTS</td>\n",
       "      <td>12</td>\n",
       "      <td>2009-12-01 07:45:00</td>\n",
       "      <td>6.75</td>\n",
       "      <td>13085.0</td>\n",
       "      <td>United Kingdom</td>\n",
       "      <td>2009-12-01</td>\n",
       "      <td>2009</td>\n",
       "      <td>12</td>\n",
       "      <td>December 2009</td>\n",
       "      <td>1</td>\n",
       "      <td>1</td>\n",
       "      <td>7</td>\n",
       "    </tr>\n",
       "    <tr>\n",
       "      <th>3</th>\n",
       "      <td>489434</td>\n",
       "      <td>22041</td>\n",
       "      <td>RECORD FRAME 7\" SINGLE SIZE</td>\n",
       "      <td>48</td>\n",
       "      <td>2009-12-01 07:45:00</td>\n",
       "      <td>2.10</td>\n",
       "      <td>13085.0</td>\n",
       "      <td>United Kingdom</td>\n",
       "      <td>2009-12-01</td>\n",
       "      <td>2009</td>\n",
       "      <td>12</td>\n",
       "      <td>December 2009</td>\n",
       "      <td>1</td>\n",
       "      <td>1</td>\n",
       "      <td>7</td>\n",
       "    </tr>\n",
       "    <tr>\n",
       "      <th>4</th>\n",
       "      <td>489434</td>\n",
       "      <td>21232</td>\n",
       "      <td>STRAWBERRY CERAMIC TRINKET BOX</td>\n",
       "      <td>24</td>\n",
       "      <td>2009-12-01 07:45:00</td>\n",
       "      <td>1.25</td>\n",
       "      <td>13085.0</td>\n",
       "      <td>United Kingdom</td>\n",
       "      <td>2009-12-01</td>\n",
       "      <td>2009</td>\n",
       "      <td>12</td>\n",
       "      <td>December 2009</td>\n",
       "      <td>1</td>\n",
       "      <td>1</td>\n",
       "      <td>7</td>\n",
       "    </tr>\n",
       "  </tbody>\n",
       "</table>\n",
       "</div>"
      ],
      "text/plain": [
       "  Invoice StockCode                          Description  ...  Weekday Day  Hour\n",
       "0  489434     85048  15CM CHRISTMAS GLASS BALL 20 LIGHTS  ...        1   1     7\n",
       "1  489434    79323P                   PINK CHERRY LIGHTS  ...        1   1     7\n",
       "2  489434    79323W                  WHITE CHERRY LIGHTS  ...        1   1     7\n",
       "3  489434     22041         RECORD FRAME 7\" SINGLE SIZE   ...        1   1     7\n",
       "4  489434     21232       STRAWBERRY CERAMIC TRINKET BOX  ...        1   1     7\n",
       "\n",
       "[5 rows x 15 columns]"
      ]
     },
     "execution_count": 61,
     "metadata": {
      "tags": []
     },
     "output_type": "execute_result"
    }
   ],
   "source": [
    "data.head()"
   ]
  },
  {
   "cell_type": "markdown",
   "metadata": {
    "id": "vWnKFp38wXD5"
   },
   "source": [
    "# RFM Analysis"
   ]
  },
  {
   "cell_type": "markdown",
   "metadata": {
    "id": "gaA9EO9Vw8Ph"
   },
   "source": [
    "**WHAT IS RFM ANALYSIS?**\n",
    "\n",
    "RFM (recency, frequency, monetary) analysis is a marketing technique used to determine quantitatively which customers are the best ones by examining how recently a customer has purchased (recency), how often they purchase (frequency), and how much the customer spends (monetary).\n",
    "\n",
    "RFM can also be understood as a method used for analyzing customer value. It is commonly used in database marketing and direct marketing and has received particular attention in retail and professional services industries.\n",
    "\n",
    "RFM stands for the three dimensions:\n",
    "\n",
    "*   Recency – How recently did the customer purchase?\n",
    "*   Frequency – How often do they purchase?\n",
    "*   Monetary Value – How much do they spend?\n",
    "\n",
    "\n",
    "\n",
    "\n",
    "\n"
   ]
  },
  {
   "cell_type": "markdown",
   "metadata": {
    "id": "0H1H5dUUxiuc"
   },
   "source": [
    "To evaluate the Monetary values at customer level we wil requires the total amount for each purchses. "
   ]
  },
  {
   "cell_type": "code",
   "execution_count": 62,
   "metadata": {
    "id": "J_HCPWTFxu7X"
   },
   "outputs": [],
   "source": [
    "#Adding new columns as total amount\n",
    "data['TotalAmount'] = data['Price']*data['Quantity']"
   ]
  },
  {
   "cell_type": "code",
   "execution_count": 90,
   "metadata": {
    "colab": {
     "base_uri": "https://localhost:8080/",
     "height": 492
    },
    "id": "H3uBHJLh3bgO",
    "outputId": "f7149926-0934-46cf-cac5-b9bece6bf868"
   },
   "outputs": [
    {
     "data": {
      "image/png": "[encoded data removed]",
      "text/plain": [
       "<Figure size 1008x576 with 1 Axes>"
      ]
     },
     "metadata": {
      "tags": []
     },
     "output_type": "display_data"
    }
   ],
   "source": [
    "# let's look at Sales vs Invoicedate (Time series Analysis)\n",
    "\n",
    "plt.rcParams['figure.figsize'] = (14, 8)\n",
    "data.plot(x = 'InvoiceDate', y = 'TotalAmount')\n",
    "plt.title(\"Time Series Analysis of Sales\", fontsize = 20)\n",
    "plt.xlabel('Date of Purchase')\n",
    "plt.ylabel('Sales')\n",
    "plt.show()"
   ]
  },
  {
   "cell_type": "markdown",
   "metadata": {
    "id": "aRTPX6IUx3T6"
   },
   "source": [
    "Till Here we have done the data cleaning and preprocessing parts. And data is good to use."
   ]
  },
  {
   "cell_type": "code",
   "execution_count": 95,
   "metadata": {
    "id": "ZunSoatQxjsz"
   },
   "outputs": [],
   "source": [
    "import datetime as dt"
   ]
  },
  {
   "cell_type": "code",
   "execution_count": 96,
   "metadata": {
    "colab": {
     "base_uri": "https://localhost:8080/"
    },
    "id": "v7hi4RjexzQq",
    "outputId": "1f70ea2c-4848-43e2-d041-3746e34497ae"
   },
   "outputs": [
    {
     "data": {
      "text/plain": [
       "Timestamp('2010-12-09 20:01:00')"
      ]
     },
     "execution_count": 96,
     "metadata": {
      "tags": []
     },
     "output_type": "execute_result"
    }
   ],
   "source": [
    "# For recency will check what was the last date of transaction\n",
    "#First will convert the InvoiceDate as date variable\n",
    "data['InvoiceDate']=pd.to_datetime(data['InvoiceDate'])\n",
    "data['InvoiceDate'].max()"
   ]
  },
  {
   "cell_type": "markdown",
   "metadata": {
    "id": "nvuhywa8xJE-"
   },
   "source": [
    "So the last date was 2010-12-09 for transaction. So will take latest date for benchmark as 2010-12-10, for the calculation of the Recency."
   ]
  },
  {
   "cell_type": "code",
   "execution_count": 97,
   "metadata": {
    "colab": {
     "base_uri": "https://localhost:8080/",
     "height": 195
    },
    "id": "J9_kRSkpxBxP",
    "outputId": "dc667fa5-8ff0-4018-e1e1-de8b7a6e6338"
   },
   "outputs": [
    {
     "data": {
      "text/html": [
       "<div>\n",
       "<style scoped>\n",
       "    .dataframe tbody tr th:only-of-type {\n",
       "        vertical-align: middle;\n",
       "    }\n",
       "\n",
       "    .dataframe tbody tr th {\n",
       "        vertical-align: top;\n",
       "    }\n",
       "\n",
       "    .dataframe thead th {\n",
       "        text-align: right;\n",
       "    }\n",
       "</style>\n",
       "<table border=\"1\" class=\"dataframe\">\n",
       "  <thead>\n",
       "    <tr style=\"text-align: right;\">\n",
       "      <th></th>\n",
       "      <th>Customer ID</th>\n",
       "      <th>Recency</th>\n",
       "      <th>Frequency</th>\n",
       "      <th>Monetary</th>\n",
       "    </tr>\n",
       "  </thead>\n",
       "  <tbody>\n",
       "    <tr>\n",
       "      <th>0</th>\n",
       "      <td>12346.0</td>\n",
       "      <td>164</td>\n",
       "      <td>33</td>\n",
       "      <td>372.86</td>\n",
       "    </tr>\n",
       "    <tr>\n",
       "      <th>1</th>\n",
       "      <td>12347.0</td>\n",
       "      <td>2</td>\n",
       "      <td>71</td>\n",
       "      <td>1323.32</td>\n",
       "    </tr>\n",
       "    <tr>\n",
       "      <th>2</th>\n",
       "      <td>12348.0</td>\n",
       "      <td>73</td>\n",
       "      <td>20</td>\n",
       "      <td>222.16</td>\n",
       "    </tr>\n",
       "    <tr>\n",
       "      <th>3</th>\n",
       "      <td>12349.0</td>\n",
       "      <td>42</td>\n",
       "      <td>102</td>\n",
       "      <td>2671.14</td>\n",
       "    </tr>\n",
       "    <tr>\n",
       "      <th>4</th>\n",
       "      <td>12351.0</td>\n",
       "      <td>10</td>\n",
       "      <td>21</td>\n",
       "      <td>300.93</td>\n",
       "    </tr>\n",
       "  </tbody>\n",
       "</table>\n",
       "</div>"
      ],
      "text/plain": [
       "   Customer ID  Recency  Frequency  Monetary\n",
       "0      12346.0      164         33    372.86\n",
       "1      12347.0        2         71   1323.32\n",
       "2      12348.0       73         20    222.16\n",
       "3      12349.0       42        102   2671.14\n",
       "4      12351.0       10         21    300.93"
      ]
     },
     "execution_count": 97,
     "metadata": {
      "tags": []
     },
     "output_type": "execute_result"
    }
   ],
   "source": [
    "#RFM factors calculation:\n",
    "Latest_date = dt.datetime(2010,12,10)\n",
    "RFM_data = data.groupby('Customer ID').agg({'InvoiceDate' : lambda x :(Latest_date - x.max()).days,\n",
    "                                          'Invoice' : 'count','TotalAmount' : 'sum'}).reset_index()\n",
    "\n",
    "#converting the names of the columns\n",
    "RFM_data.rename(columns = {'InvoiceDate' : 'Recency',\n",
    "                          'Invoice' : \"Frequency\",\n",
    "                          'TotalAmount' : \"Monetary\"},inplace = True)\n",
    "RFM_data.head()"
   ]
  },
  {
   "cell_type": "code",
   "execution_count": 98,
   "metadata": {
    "colab": {
     "base_uri": "https://localhost:8080/",
     "height": 284
    },
    "id": "K0HU7DkwxaX2",
    "outputId": "c1227fa2-5313-42f6-bca1-c8ef046a66ce"
   },
   "outputs": [
    {
     "data": {
      "text/html": [
       "<div>\n",
       "<style scoped>\n",
       "    .dataframe tbody tr th:only-of-type {\n",
       "        vertical-align: middle;\n",
       "    }\n",
       "\n",
       "    .dataframe tbody tr th {\n",
       "        vertical-align: top;\n",
       "    }\n",
       "\n",
       "    .dataframe thead th {\n",
       "        text-align: right;\n",
       "    }\n",
       "</style>\n",
       "<table border=\"1\" class=\"dataframe\">\n",
       "  <thead>\n",
       "    <tr style=\"text-align: right;\">\n",
       "      <th></th>\n",
       "      <th>Recency</th>\n",
       "      <th>Frequency</th>\n",
       "      <th>Monetary</th>\n",
       "    </tr>\n",
       "  </thead>\n",
       "  <tbody>\n",
       "    <tr>\n",
       "      <th>count</th>\n",
       "      <td>4314.000000</td>\n",
       "      <td>4314.000000</td>\n",
       "      <td>4314.000000</td>\n",
       "    </tr>\n",
       "    <tr>\n",
       "      <th>mean</th>\n",
       "      <td>90.269819</td>\n",
       "      <td>92.940890</td>\n",
       "      <td>2039.460766</td>\n",
       "    </tr>\n",
       "    <tr>\n",
       "      <th>std</th>\n",
       "      <td>96.944304</td>\n",
       "      <td>198.883579</td>\n",
       "      <td>8909.797773</td>\n",
       "    </tr>\n",
       "    <tr>\n",
       "      <th>min</th>\n",
       "      <td>0.000000</td>\n",
       "      <td>1.000000</td>\n",
       "      <td>0.000000</td>\n",
       "    </tr>\n",
       "    <tr>\n",
       "      <th>25%</th>\n",
       "      <td>17.000000</td>\n",
       "      <td>18.000000</td>\n",
       "      <td>307.105000</td>\n",
       "    </tr>\n",
       "    <tr>\n",
       "      <th>50%</th>\n",
       "      <td>52.000000</td>\n",
       "      <td>43.000000</td>\n",
       "      <td>700.405000</td>\n",
       "    </tr>\n",
       "    <tr>\n",
       "      <th>75%</th>\n",
       "      <td>135.000000</td>\n",
       "      <td>100.000000</td>\n",
       "      <td>1713.297500</td>\n",
       "    </tr>\n",
       "    <tr>\n",
       "      <th>max</th>\n",
       "      <td>373.000000</td>\n",
       "      <td>5568.000000</td>\n",
       "      <td>349164.350000</td>\n",
       "    </tr>\n",
       "  </tbody>\n",
       "</table>\n",
       "</div>"
      ],
      "text/plain": [
       "           Recency    Frequency       Monetary\n",
       "count  4314.000000  4314.000000    4314.000000\n",
       "mean     90.269819    92.940890    2039.460766\n",
       "std      96.944304   198.883579    8909.797773\n",
       "min       0.000000     1.000000       0.000000\n",
       "25%      17.000000    18.000000     307.105000\n",
       "50%      52.000000    43.000000     700.405000\n",
       "75%     135.000000   100.000000    1713.297500\n",
       "max     373.000000  5568.000000  349164.350000"
      ]
     },
     "execution_count": 98,
     "metadata": {
      "tags": []
     },
     "output_type": "execute_result"
    }
   ],
   "source": [
    "# RFM_data Description/ Summary\n",
    "RFM_data.iloc[:,1:4].describe()"
   ]
  },
  {
   "cell_type": "markdown",
   "metadata": {
    "id": "fe4Wi7aYyEU5"
   },
   "source": [
    "From above result, we can observe that average recency of the customers are 90 days (approx), an average customer are purchasing the product 93 times and spending an average 2039.46 price.\n",
    "\n"
   ]
  },
  {
   "cell_type": "markdown",
   "metadata": {
    "id": "UOf-dUYQy3fe"
   },
   "source": [
    "**Segmentation:**"
   ]
  },
  {
   "cell_type": "code",
   "execution_count": 99,
   "metadata": {
    "colab": {
     "base_uri": "https://localhost:8080/"
    },
    "id": "23d5pBBEyumT",
    "outputId": "3155c198-71c8-4fb0-e9ae-70a3cc9a27d8"
   },
   "outputs": [
    {
     "data": {
      "text/plain": [
       "{'Frequency': {0.25: 18.0, 0.5: 43.0, 0.75: 100.0},\n",
       " 'Monetary': {0.25: 307.105, 0.5: 700.4050000000001, 0.75: 1713.2974999999997},\n",
       " 'Recency': {0.25: 17.0, 0.5: 52.0, 0.75: 135.0}}"
      ]
     },
     "execution_count": 99,
     "metadata": {
      "tags": []
     },
     "output_type": "execute_result"
    }
   ],
   "source": [
    "#Here, we will divide the data set into 4 parts based on the quantiles.\n",
    "quantiles = RFM_data.drop('Customer ID',axis = 1).quantile(q = [0.25,0.5,0.75])\n",
    "quantiles.to_dict()"
   ]
  },
  {
   "cell_type": "code",
   "execution_count": 100,
   "metadata": {
    "id": "pBgIOA_rzCOz"
   },
   "outputs": [],
   "source": [
    "#Creating the R,F and M scoring/segement function\n",
    "#[1] Recency scoring (Negative Impact : Higher the value, less valuable)\n",
    "\n",
    "def R_score(var,p,d):\n",
    "    if var <= d[p][0.25]:\n",
    "        return 1\n",
    "    elif var <= d[p][0.50]:\n",
    "        return 2\n",
    "    elif var <= d[p][0.75]:\n",
    "        return 3\n",
    "    else:\n",
    "        return 4\n",
    "#[2] Frequency and Monetary (Positive Impact : Higher the value, better the customer)\n",
    "def FM_score(var,p,d):\n",
    "    if var <= d[p][0.25]:\n",
    "        return 4\n",
    "    elif var <= d[p][0.50]:\n",
    "        return 3\n",
    "    elif var <= d[p][0.75]:\n",
    "        return 2\n",
    "    else:\n",
    "        return 1"
   ]
  },
  {
   "cell_type": "code",
   "execution_count": 101,
   "metadata": {
    "colab": {
     "base_uri": "https://localhost:8080/",
     "height": 195
    },
    "id": "hmj0c1O3ziHW",
    "outputId": "f7cadfe2-cd93-4e8d-badc-bf6f142192fa"
   },
   "outputs": [
    {
     "data": {
      "text/html": [
       "<div>\n",
       "<style scoped>\n",
       "    .dataframe tbody tr th:only-of-type {\n",
       "        vertical-align: middle;\n",
       "    }\n",
       "\n",
       "    .dataframe tbody tr th {\n",
       "        vertical-align: top;\n",
       "    }\n",
       "\n",
       "    .dataframe thead th {\n",
       "        text-align: right;\n",
       "    }\n",
       "</style>\n",
       "<table border=\"1\" class=\"dataframe\">\n",
       "  <thead>\n",
       "    <tr style=\"text-align: right;\">\n",
       "      <th></th>\n",
       "      <th>Customer ID</th>\n",
       "      <th>Recency</th>\n",
       "      <th>Frequency</th>\n",
       "      <th>Monetary</th>\n",
       "      <th>R_score</th>\n",
       "      <th>F_score</th>\n",
       "      <th>M_score</th>\n",
       "    </tr>\n",
       "  </thead>\n",
       "  <tbody>\n",
       "    <tr>\n",
       "      <th>0</th>\n",
       "      <td>12346.0</td>\n",
       "      <td>164</td>\n",
       "      <td>33</td>\n",
       "      <td>372.86</td>\n",
       "      <td>4</td>\n",
       "      <td>3</td>\n",
       "      <td>3</td>\n",
       "    </tr>\n",
       "    <tr>\n",
       "      <th>1</th>\n",
       "      <td>12347.0</td>\n",
       "      <td>2</td>\n",
       "      <td>71</td>\n",
       "      <td>1323.32</td>\n",
       "      <td>1</td>\n",
       "      <td>2</td>\n",
       "      <td>2</td>\n",
       "    </tr>\n",
       "    <tr>\n",
       "      <th>2</th>\n",
       "      <td>12348.0</td>\n",
       "      <td>73</td>\n",
       "      <td>20</td>\n",
       "      <td>222.16</td>\n",
       "      <td>3</td>\n",
       "      <td>3</td>\n",
       "      <td>4</td>\n",
       "    </tr>\n",
       "    <tr>\n",
       "      <th>3</th>\n",
       "      <td>12349.0</td>\n",
       "      <td>42</td>\n",
       "      <td>102</td>\n",
       "      <td>2671.14</td>\n",
       "      <td>2</td>\n",
       "      <td>1</td>\n",
       "      <td>1</td>\n",
       "    </tr>\n",
       "    <tr>\n",
       "      <th>4</th>\n",
       "      <td>12351.0</td>\n",
       "      <td>10</td>\n",
       "      <td>21</td>\n",
       "      <td>300.93</td>\n",
       "      <td>1</td>\n",
       "      <td>3</td>\n",
       "      <td>4</td>\n",
       "    </tr>\n",
       "  </tbody>\n",
       "</table>\n",
       "</div>"
      ],
      "text/plain": [
       "   Customer ID  Recency  Frequency  Monetary  R_score  F_score  M_score\n",
       "0      12346.0      164         33    372.86        4        3        3\n",
       "1      12347.0        2         71   1323.32        1        2        2\n",
       "2      12348.0       73         20    222.16        3        3        4\n",
       "3      12349.0       42        102   2671.14        2        1        1\n",
       "4      12351.0       10         21    300.93        1        3        4"
      ]
     },
     "execution_count": 101,
     "metadata": {
      "tags": []
     },
     "output_type": "execute_result"
    }
   ],
   "source": [
    "#Scoring:\n",
    "RFM_data['R_score'] = RFM_data['Recency'].apply(R_score,args = ('Recency',quantiles,))\n",
    "RFM_data['F_score'] = RFM_data['Frequency'].apply(FM_score,args = ('Frequency',quantiles,))\n",
    "RFM_data['M_score'] = RFM_data['Monetary'].apply(FM_score,args = ('Monetary',quantiles,))\n",
    "RFM_data.head()"
   ]
  },
  {
   "cell_type": "code",
   "execution_count": 102,
   "metadata": {
    "colab": {
     "base_uri": "https://localhost:8080/",
     "height": 195
    },
    "id": "q4wgi5YbzngE",
    "outputId": "b5dd0578-0794-49c3-f0a3-21d424f6b0f4"
   },
   "outputs": [
    {
     "data": {
      "text/html": [
       "<div>\n",
       "<style scoped>\n",
       "    .dataframe tbody tr th:only-of-type {\n",
       "        vertical-align: middle;\n",
       "    }\n",
       "\n",
       "    .dataframe tbody tr th {\n",
       "        vertical-align: top;\n",
       "    }\n",
       "\n",
       "    .dataframe thead th {\n",
       "        text-align: right;\n",
       "    }\n",
       "</style>\n",
       "<table border=\"1\" class=\"dataframe\">\n",
       "  <thead>\n",
       "    <tr style=\"text-align: right;\">\n",
       "      <th></th>\n",
       "      <th>Customer ID</th>\n",
       "      <th>Recency</th>\n",
       "      <th>Frequency</th>\n",
       "      <th>Monetary</th>\n",
       "      <th>R_score</th>\n",
       "      <th>F_score</th>\n",
       "      <th>M_score</th>\n",
       "      <th>RFM_Group</th>\n",
       "      <th>RFM_Score</th>\n",
       "    </tr>\n",
       "  </thead>\n",
       "  <tbody>\n",
       "    <tr>\n",
       "      <th>0</th>\n",
       "      <td>12346.0</td>\n",
       "      <td>164</td>\n",
       "      <td>33</td>\n",
       "      <td>372.86</td>\n",
       "      <td>4</td>\n",
       "      <td>3</td>\n",
       "      <td>3</td>\n",
       "      <td>433</td>\n",
       "      <td>10</td>\n",
       "    </tr>\n",
       "    <tr>\n",
       "      <th>1</th>\n",
       "      <td>12347.0</td>\n",
       "      <td>2</td>\n",
       "      <td>71</td>\n",
       "      <td>1323.32</td>\n",
       "      <td>1</td>\n",
       "      <td>2</td>\n",
       "      <td>2</td>\n",
       "      <td>122</td>\n",
       "      <td>5</td>\n",
       "    </tr>\n",
       "    <tr>\n",
       "      <th>2</th>\n",
       "      <td>12348.0</td>\n",
       "      <td>73</td>\n",
       "      <td>20</td>\n",
       "      <td>222.16</td>\n",
       "      <td>3</td>\n",
       "      <td>3</td>\n",
       "      <td>4</td>\n",
       "      <td>334</td>\n",
       "      <td>10</td>\n",
       "    </tr>\n",
       "    <tr>\n",
       "      <th>3</th>\n",
       "      <td>12349.0</td>\n",
       "      <td>42</td>\n",
       "      <td>102</td>\n",
       "      <td>2671.14</td>\n",
       "      <td>2</td>\n",
       "      <td>1</td>\n",
       "      <td>1</td>\n",
       "      <td>211</td>\n",
       "      <td>4</td>\n",
       "    </tr>\n",
       "    <tr>\n",
       "      <th>4</th>\n",
       "      <td>12351.0</td>\n",
       "      <td>10</td>\n",
       "      <td>21</td>\n",
       "      <td>300.93</td>\n",
       "      <td>1</td>\n",
       "      <td>3</td>\n",
       "      <td>4</td>\n",
       "      <td>134</td>\n",
       "      <td>8</td>\n",
       "    </tr>\n",
       "  </tbody>\n",
       "</table>\n",
       "</div>"
      ],
      "text/plain": [
       "   Customer ID  Recency  Frequency  ...  M_score  RFM_Group  RFM_Score\n",
       "0      12346.0      164         33  ...        3        433         10\n",
       "1      12347.0        2         71  ...        2        122          5\n",
       "2      12348.0       73         20  ...        4        334         10\n",
       "3      12349.0       42        102  ...        1        211          4\n",
       "4      12351.0       10         21  ...        4        134          8\n",
       "\n",
       "[5 rows x 9 columns]"
      ]
     },
     "execution_count": 102,
     "metadata": {
      "tags": []
     },
     "output_type": "execute_result"
    }
   ],
   "source": [
    "#Now we will create : RFMGroup and RFMScore\n",
    "RFM_data['RFM_Group'] = RFM_data['R_score'].astype(str) + RFM_data['F_score'].astype(str) + RFM_data['M_score'].astype(str)\n",
    "\n",
    "#Score\n",
    "RFM_data['RFM_Score'] = RFM_data[['R_score','F_score','M_score']].sum(axis = 1)\n",
    "RFM_data.head()"
   ]
  },
  {
   "cell_type": "code",
   "execution_count": 103,
   "metadata": {
    "colab": {
     "base_uri": "https://localhost:8080/"
    },
    "id": "PhxKC7Wb2KS3",
    "outputId": "59200e90-4fe9-4b00-c30f-a2ce31417cce"
   },
   "outputs": [
    {
     "data": {
      "text/plain": [
       "(4314, 9)"
      ]
     },
     "execution_count": 103,
     "metadata": {
      "tags": []
     },
     "output_type": "execute_result"
    }
   ],
   "source": [
    "RFM_data.shape"
   ]
  },
  {
   "cell_type": "markdown",
   "metadata": {
    "id": "_2H0F1S1zyEi"
   },
   "source": [
    "RFM Scores have been calculated now we will use this score to make segments of the customers and define level of loyality."
   ]
  },
  {
   "cell_type": "code",
   "execution_count": 107,
   "metadata": {
    "colab": {
     "base_uri": "https://localhost:8080/"
    },
    "id": "JQ1dH1XkzugI",
    "outputId": "6d45c7ec-e127-47b4-e28f-91846e0f825f"
   },
   "outputs": [
    {
     "name": "stdout",
     "output_type": "stream",
     "text": [
      "Best Customers:  409\n",
      "Loyal Customers:  1078\n",
      "Big Spenders:  1079\n",
      "Almost Lost:  119\n",
      "Lost Customers:  21\n",
      "Lost Cheap Customers:  386\n"
     ]
    }
   ],
   "source": [
    "#Classification based on these scores\n",
    "\n",
    "print(\"Best Customers: \",len(RFM_data[RFM_data['RFM_Group']=='111']))\n",
    "print('Loyal Customers: ',len(RFM_data[RFM_data['F_score']==1]))\n",
    "print(\"Big Spenders: \",len(RFM_data[RFM_data['M_score']==1]))\n",
    "print('Almost Lost: ', len(RFM_data[RFM_data['RFM_Group']=='311']))\n",
    "print('Lost Customers: ',len(RFM_data[RFM_data['RFM_Group']=='411']))\n",
    "print('Lost Cheap Customers: ',len(RFM_data[RFM_data['RFM_Group']=='444']))"
   ]
  },
  {
   "cell_type": "code",
   "execution_count": 106,
   "metadata": {
    "colab": {
     "base_uri": "https://localhost:8080/",
     "height": 343
    },
    "id": "4BajNV9N12OZ",
    "outputId": "66edb593-c92f-4288-8206-41b0933df43d"
   },
   "outputs": [
    {
     "data": {
      "text/html": [
       "<div>\n",
       "<style scoped>\n",
       "    .dataframe tbody tr th:only-of-type {\n",
       "        vertical-align: middle;\n",
       "    }\n",
       "\n",
       "    .dataframe tbody tr th {\n",
       "        vertical-align: top;\n",
       "    }\n",
       "\n",
       "    .dataframe thead th {\n",
       "        text-align: right;\n",
       "    }\n",
       "</style>\n",
       "<table border=\"1\" class=\"dataframe\">\n",
       "  <thead>\n",
       "    <tr style=\"text-align: right;\">\n",
       "      <th></th>\n",
       "      <th>Customer ID</th>\n",
       "      <th>Recency</th>\n",
       "      <th>Frequency</th>\n",
       "      <th>Monetary</th>\n",
       "      <th>R_score</th>\n",
       "      <th>F_score</th>\n",
       "      <th>M_score</th>\n",
       "      <th>RFM_Group</th>\n",
       "      <th>RFM_Score</th>\n",
       "    </tr>\n",
       "  </thead>\n",
       "  <tbody>\n",
       "    <tr>\n",
       "      <th>0</th>\n",
       "      <td>12346.0</td>\n",
       "      <td>164</td>\n",
       "      <td>33</td>\n",
       "      <td>372.86</td>\n",
       "      <td>4</td>\n",
       "      <td>3</td>\n",
       "      <td>3</td>\n",
       "      <td>433</td>\n",
       "      <td>10</td>\n",
       "    </tr>\n",
       "    <tr>\n",
       "      <th>1</th>\n",
       "      <td>12347.0</td>\n",
       "      <td>2</td>\n",
       "      <td>71</td>\n",
       "      <td>1323.32</td>\n",
       "      <td>1</td>\n",
       "      <td>2</td>\n",
       "      <td>2</td>\n",
       "      <td>122</td>\n",
       "      <td>5</td>\n",
       "    </tr>\n",
       "    <tr>\n",
       "      <th>2</th>\n",
       "      <td>12348.0</td>\n",
       "      <td>73</td>\n",
       "      <td>20</td>\n",
       "      <td>222.16</td>\n",
       "      <td>3</td>\n",
       "      <td>3</td>\n",
       "      <td>4</td>\n",
       "      <td>334</td>\n",
       "      <td>10</td>\n",
       "    </tr>\n",
       "    <tr>\n",
       "      <th>3</th>\n",
       "      <td>12349.0</td>\n",
       "      <td>42</td>\n",
       "      <td>102</td>\n",
       "      <td>2671.14</td>\n",
       "      <td>2</td>\n",
       "      <td>1</td>\n",
       "      <td>1</td>\n",
       "      <td>211</td>\n",
       "      <td>4</td>\n",
       "    </tr>\n",
       "    <tr>\n",
       "      <th>4</th>\n",
       "      <td>12351.0</td>\n",
       "      <td>10</td>\n",
       "      <td>21</td>\n",
       "      <td>300.93</td>\n",
       "      <td>1</td>\n",
       "      <td>3</td>\n",
       "      <td>4</td>\n",
       "      <td>134</td>\n",
       "      <td>8</td>\n",
       "    </tr>\n",
       "    <tr>\n",
       "      <th>5</th>\n",
       "      <td>12352.0</td>\n",
       "      <td>10</td>\n",
       "      <td>18</td>\n",
       "      <td>343.80</td>\n",
       "      <td>1</td>\n",
       "      <td>4</td>\n",
       "      <td>3</td>\n",
       "      <td>143</td>\n",
       "      <td>8</td>\n",
       "    </tr>\n",
       "    <tr>\n",
       "      <th>6</th>\n",
       "      <td>12353.0</td>\n",
       "      <td>43</td>\n",
       "      <td>20</td>\n",
       "      <td>317.76</td>\n",
       "      <td>2</td>\n",
       "      <td>3</td>\n",
       "      <td>3</td>\n",
       "      <td>233</td>\n",
       "      <td>8</td>\n",
       "    </tr>\n",
       "    <tr>\n",
       "      <th>7</th>\n",
       "      <td>12355.0</td>\n",
       "      <td>202</td>\n",
       "      <td>22</td>\n",
       "      <td>488.21</td>\n",
       "      <td>4</td>\n",
       "      <td>3</td>\n",
       "      <td>3</td>\n",
       "      <td>433</td>\n",
       "      <td>10</td>\n",
       "    </tr>\n",
       "    <tr>\n",
       "      <th>8</th>\n",
       "      <td>12356.0</td>\n",
       "      <td>15</td>\n",
       "      <td>83</td>\n",
       "      <td>3560.30</td>\n",
       "      <td>1</td>\n",
       "      <td>2</td>\n",
       "      <td>1</td>\n",
       "      <td>121</td>\n",
       "      <td>4</td>\n",
       "    </tr>\n",
       "    <tr>\n",
       "      <th>9</th>\n",
       "      <td>12357.0</td>\n",
       "      <td>23</td>\n",
       "      <td>165</td>\n",
       "      <td>12079.99</td>\n",
       "      <td>2</td>\n",
       "      <td>1</td>\n",
       "      <td>1</td>\n",
       "      <td>211</td>\n",
       "      <td>4</td>\n",
       "    </tr>\n",
       "  </tbody>\n",
       "</table>\n",
       "</div>"
      ],
      "text/plain": [
       "   Customer ID  Recency  Frequency  ...  M_score  RFM_Group  RFM_Score\n",
       "0      12346.0      164         33  ...        3        433         10\n",
       "1      12347.0        2         71  ...        2        122          5\n",
       "2      12348.0       73         20  ...        4        334         10\n",
       "3      12349.0       42        102  ...        1        211          4\n",
       "4      12351.0       10         21  ...        4        134          8\n",
       "5      12352.0       10         18  ...        3        143          8\n",
       "6      12353.0       43         20  ...        3        233          8\n",
       "7      12355.0      202         22  ...        3        433         10\n",
       "8      12356.0       15         83  ...        1        121          4\n",
       "9      12357.0       23        165  ...        1        211          4\n",
       "\n",
       "[10 rows x 9 columns]"
      ]
     },
     "execution_count": 106,
     "metadata": {
      "tags": []
     },
     "output_type": "execute_result"
    }
   ],
   "source": [
    "RFM_data.head(10)"
   ]
  },
  {
   "cell_type": "markdown",
   "metadata": {
    "id": "J7CRTPp33b7a"
   },
   "source": [
    "# Applying K-means clustering on RFM variables"
   ]
  },
  {
   "cell_type": "markdown",
   "metadata": {
    "id": "aAfTXemB3hs_"
   },
   "source": [
    "**Preprocess Data**"
   ]
  },
  {
   "cell_type": "code",
   "execution_count": 75,
   "metadata": {
    "colab": {
     "base_uri": "https://localhost:8080/",
     "height": 195
    },
    "id": "LroCNzSV3RJ6",
    "outputId": "6aacf20b-e64b-4254-9886-a17e8831bcca"
   },
   "outputs": [
    {
     "data": {
      "text/html": [
       "<div>\n",
       "<style scoped>\n",
       "    .dataframe tbody tr th:only-of-type {\n",
       "        vertical-align: middle;\n",
       "    }\n",
       "\n",
       "    .dataframe tbody tr th {\n",
       "        vertical-align: top;\n",
       "    }\n",
       "\n",
       "    .dataframe thead th {\n",
       "        text-align: right;\n",
       "    }\n",
       "</style>\n",
       "<table border=\"1\" class=\"dataframe\">\n",
       "  <thead>\n",
       "    <tr style=\"text-align: right;\">\n",
       "      <th></th>\n",
       "      <th>Customer ID</th>\n",
       "      <th>Recency</th>\n",
       "      <th>Frequency</th>\n",
       "      <th>Monetary</th>\n",
       "      <th>RFM_Group</th>\n",
       "    </tr>\n",
       "  </thead>\n",
       "  <tbody>\n",
       "    <tr>\n",
       "      <th>0</th>\n",
       "      <td>12346.0</td>\n",
       "      <td>164</td>\n",
       "      <td>33</td>\n",
       "      <td>372.86</td>\n",
       "      <td>433</td>\n",
       "    </tr>\n",
       "    <tr>\n",
       "      <th>1</th>\n",
       "      <td>12347.0</td>\n",
       "      <td>2</td>\n",
       "      <td>71</td>\n",
       "      <td>1323.32</td>\n",
       "      <td>122</td>\n",
       "    </tr>\n",
       "    <tr>\n",
       "      <th>2</th>\n",
       "      <td>12348.0</td>\n",
       "      <td>73</td>\n",
       "      <td>20</td>\n",
       "      <td>222.16</td>\n",
       "      <td>334</td>\n",
       "    </tr>\n",
       "    <tr>\n",
       "      <th>3</th>\n",
       "      <td>12349.0</td>\n",
       "      <td>42</td>\n",
       "      <td>102</td>\n",
       "      <td>2671.14</td>\n",
       "      <td>211</td>\n",
       "    </tr>\n",
       "    <tr>\n",
       "      <th>4</th>\n",
       "      <td>12351.0</td>\n",
       "      <td>10</td>\n",
       "      <td>21</td>\n",
       "      <td>300.93</td>\n",
       "      <td>134</td>\n",
       "    </tr>\n",
       "  </tbody>\n",
       "</table>\n",
       "</div>"
      ],
      "text/plain": [
       "   Customer ID  Recency  Frequency  Monetary RFM_Group\n",
       "0      12346.0      164         33    372.86       433\n",
       "1      12347.0        2         71   1323.32       122\n",
       "2      12348.0       73         20    222.16       334\n",
       "3      12349.0       42        102   2671.14       211\n",
       "4      12351.0       10         21    300.93       134"
      ]
     },
     "execution_count": 75,
     "metadata": {
      "tags": []
     },
     "output_type": "execute_result"
    }
   ],
   "source": [
    "RFM_data = RFM_data.drop(['R_score','F_score','M_score','RFM_Score'],axis=1)\n",
    "RFM_data.head()"
   ]
  },
  {
   "cell_type": "code",
   "execution_count": 76,
   "metadata": {
    "colab": {
     "base_uri": "https://localhost:8080/",
     "height": 166
    },
    "id": "qDNEfRPL3sQS",
    "outputId": "7f27a6e2-7b6e-41e6-f782-8fb94e76fc6f"
   },
   "outputs": [
    {
     "data": {
      "text/html": [
       "<div>\n",
       "<style scoped>\n",
       "    .dataframe tbody tr th:only-of-type {\n",
       "        vertical-align: middle;\n",
       "    }\n",
       "\n",
       "    .dataframe tbody tr th {\n",
       "        vertical-align: top;\n",
       "    }\n",
       "\n",
       "    .dataframe thead th {\n",
       "        text-align: right;\n",
       "    }\n",
       "</style>\n",
       "<table border=\"1\" class=\"dataframe\">\n",
       "  <thead>\n",
       "    <tr style=\"text-align: right;\">\n",
       "      <th></th>\n",
       "      <th>Customer ID</th>\n",
       "      <th>Recency</th>\n",
       "      <th>Frequency</th>\n",
       "      <th>Monetary</th>\n",
       "    </tr>\n",
       "  </thead>\n",
       "  <tbody>\n",
       "    <tr>\n",
       "      <th>Customer ID</th>\n",
       "      <td>1.000000</td>\n",
       "      <td>0.001373</td>\n",
       "      <td>0.003455</td>\n",
       "      <td>-0.010313</td>\n",
       "    </tr>\n",
       "    <tr>\n",
       "      <th>Recency</th>\n",
       "      <td>0.001373</td>\n",
       "      <td>1.000000</td>\n",
       "      <td>-0.228808</td>\n",
       "      <td>-0.120861</td>\n",
       "    </tr>\n",
       "    <tr>\n",
       "      <th>Frequency</th>\n",
       "      <td>0.003455</td>\n",
       "      <td>-0.228808</td>\n",
       "      <td>1.000000</td>\n",
       "      <td>0.490486</td>\n",
       "    </tr>\n",
       "    <tr>\n",
       "      <th>Monetary</th>\n",
       "      <td>-0.010313</td>\n",
       "      <td>-0.120861</td>\n",
       "      <td>0.490486</td>\n",
       "      <td>1.000000</td>\n",
       "    </tr>\n",
       "  </tbody>\n",
       "</table>\n",
       "</div>"
      ],
      "text/plain": [
       "             Customer ID   Recency  Frequency  Monetary\n",
       "Customer ID     1.000000  0.001373   0.003455 -0.010313\n",
       "Recency         0.001373  1.000000  -0.228808 -0.120861\n",
       "Frequency       0.003455 -0.228808   1.000000  0.490486\n",
       "Monetary       -0.010313 -0.120861   0.490486  1.000000"
      ]
     },
     "execution_count": 76,
     "metadata": {
      "tags": []
     },
     "output_type": "execute_result"
    }
   ],
   "source": [
    "RFM_data.corr()"
   ]
  },
  {
   "cell_type": "code",
   "execution_count": 77,
   "metadata": {
    "colab": {
     "base_uri": "https://localhost:8080/",
     "height": 721
    },
    "id": "1CESrWIu3-Yw",
    "outputId": "5803890f-2c03-480c-a7b2-affaadafa271"
   },
   "outputs": [
    {
     "data": {
      "text/plain": [
       "<matplotlib.axes._subplots.AxesSubplot at 0x7f5cb74fa208>"
      ]
     },
     "execution_count": 77,
     "metadata": {
      "tags": []
     },
     "output_type": "execute_result"
    },
    {
     "data": {
      "image/png": "[encoded data removed]",
      "text/plain": [
       "<Figure size 864x864 with 2 Axes>"
      ]
     },
     "metadata": {
      "needs_background": "light",
      "tags": []
     },
     "output_type": "display_data"
    }
   ],
   "source": [
    "sns.heatmap(RFM_data.corr())"
   ]
  },
  {
   "cell_type": "markdown",
   "metadata": {
    "id": "xABT2Vif4UGb"
   },
   "source": [
    "\n",
    "On one hand, we have a negative correlation between:\n",
    "\n",
    "*   Recency and Frequency\n",
    "*   Recency and Monetary\n",
    "\n",
    "On the other hand, the correlation between Monetary and Frequency is positive comparing to negative ones but still not that strong."
   ]
  },
  {
   "cell_type": "markdown",
   "metadata": {
    "id": "YkxHUQkK45_k"
   },
   "source": [
    "**Data Normalization**"
   ]
  },
  {
   "cell_type": "code",
   "execution_count": 78,
   "metadata": {
    "id": "2TVu-PXi4DHi"
   },
   "outputs": [],
   "source": [
    "#log transformation\n",
    "\n",
    "rfm_r_log = np.log(RFM_data['Recency']+0.1) #can't take log(0) and so add a small number\n",
    "rfm_f_log = np.log(RFM_data['Frequency'])\n",
    "rfm_m_log = np.log(RFM_data['Monetary']+0.1)"
   ]
  },
  {
   "cell_type": "code",
   "execution_count": 79,
   "metadata": {
    "id": "Ivqepq375F83"
   },
   "outputs": [],
   "source": [
    "log_data = pd.DataFrame({'Monetary': rfm_m_log,'Recency': rfm_r_log,'Frequency': rfm_f_log})"
   ]
  },
  {
   "cell_type": "code",
   "execution_count": 80,
   "metadata": {
    "colab": {
     "base_uri": "https://localhost:8080/",
     "height": 195
    },
    "id": "0hf_-YG75LhW",
    "outputId": "6b6a6848-b02d-4c75-a6fc-58224c2aa4cc"
   },
   "outputs": [
    {
     "data": {
      "text/html": [
       "<div>\n",
       "<style scoped>\n",
       "    .dataframe tbody tr th:only-of-type {\n",
       "        vertical-align: middle;\n",
       "    }\n",
       "\n",
       "    .dataframe tbody tr th {\n",
       "        vertical-align: top;\n",
       "    }\n",
       "\n",
       "    .dataframe thead th {\n",
       "        text-align: right;\n",
       "    }\n",
       "</style>\n",
       "<table border=\"1\" class=\"dataframe\">\n",
       "  <thead>\n",
       "    <tr style=\"text-align: right;\">\n",
       "      <th></th>\n",
       "      <th>Monetary</th>\n",
       "      <th>Recency</th>\n",
       "      <th>Frequency</th>\n",
       "    </tr>\n",
       "  </thead>\n",
       "  <tbody>\n",
       "    <tr>\n",
       "      <th>0</th>\n",
       "      <td>5.921471</td>\n",
       "      <td>5.100476</td>\n",
       "      <td>3.496508</td>\n",
       "    </tr>\n",
       "    <tr>\n",
       "      <th>1</th>\n",
       "      <td>7.187975</td>\n",
       "      <td>0.741937</td>\n",
       "      <td>4.262680</td>\n",
       "    </tr>\n",
       "    <tr>\n",
       "      <th>2</th>\n",
       "      <td>5.403848</td>\n",
       "      <td>4.291828</td>\n",
       "      <td>2.995732</td>\n",
       "    </tr>\n",
       "    <tr>\n",
       "      <th>3</th>\n",
       "      <td>7.890298</td>\n",
       "      <td>3.740048</td>\n",
       "      <td>4.624973</td>\n",
       "    </tr>\n",
       "    <tr>\n",
       "      <th>4</th>\n",
       "      <td>5.707210</td>\n",
       "      <td>2.312535</td>\n",
       "      <td>3.044522</td>\n",
       "    </tr>\n",
       "  </tbody>\n",
       "</table>\n",
       "</div>"
      ],
      "text/plain": [
       "   Monetary   Recency  Frequency\n",
       "0  5.921471  5.100476   3.496508\n",
       "1  7.187975  0.741937   4.262680\n",
       "2  5.403848  4.291828   2.995732\n",
       "3  7.890298  3.740048   4.624973\n",
       "4  5.707210  2.312535   3.044522"
      ]
     },
     "execution_count": 80,
     "metadata": {
      "tags": []
     },
     "output_type": "execute_result"
    }
   ],
   "source": [
    "log_data.head()"
   ]
  },
  {
   "cell_type": "markdown",
   "metadata": {
    "id": "y134P-nlE81E"
   },
   "source": [
    "\n",
    "# K-means Implementation\n",
    "\n",
    "A common challenge with k-means is that you must tell it how many clusters you expect. Figuring out how many clusters we need is not obvious from data, thus we will try different clusters numbers and check their **silhouette coefficient**. The silhouette coefficient for a data point measures how similar it is to its assigned cluster from -1 (dissimilar) to 1 (similar). The **elbow method** can be used to determine the number of clusters as well.\n",
    "\n",
    "Note: K-means is sensitive to initializations because those initializations are critical to quality of optima found. Thus, we will use smart initialization called **k-means++**."
   ]
  },
  {
   "cell_type": "code",
   "execution_count": 109,
   "metadata": {
    "id": "ICJTyz7H8NJj"
   },
   "outputs": [],
   "source": [
    "#Scaling the data\n",
    "from sklearn.preprocessing import StandardScaler\n",
    "ss = StandardScaler()\n",
    "Scaled_RFM_data = ss.fit_transform(log_data)\n",
    "Scaled_RFM_data = pd.DataFrame(Scaled_RFM_data,columns=log_data.columns,index=log_data.index)"
   ]
  },
  {
   "cell_type": "code",
   "execution_count": 110,
   "metadata": {
    "colab": {
     "base_uri": "https://localhost:8080/",
     "height": 366
    },
    "id": "h5sLBKRV8NAd",
    "outputId": "fdc535b1-aa05-4459-9503-7a97e956d128"
   },
   "outputs": [
    {
     "data": {
      "text/plain": [
       "Text(0.5, 1.0, 'Elbow Techinque to find the optimal cluster size')"
      ]
     },
     "execution_count": 110,
     "metadata": {
      "tags": []
     },
     "output_type": "execute_result"
    },
    {
     "data": {
      "image/png": "[encoded data removed]",
      "text/plain": [
       "<Figure size 1080x360 with 1 Axes>"
      ]
     },
     "metadata": {
      "tags": []
     },
     "output_type": "display_data"
    }
   ],
   "source": [
    "# Will search the optimal number of cluster based on the Elbow Method as below:\n",
    "SS_distance = {}\n",
    "for k in range(1,20):\n",
    "    mod = KMeans(n_clusters= k, max_iter=1000,init = 'k-means++')\n",
    "    mod = mod.fit(Scaled_RFM_data)\n",
    "    SS_distance[k] = mod.inertia_\n",
    "\n",
    "#Plotting the sum of square distance values and numbers of clusters\n",
    "plt.figure(figsize = (15,5))\n",
    "sns.pointplot(x = list(SS_distance.keys()), y = list(SS_distance.values()))\n",
    "plt.xlabel(\"Number of clusters\")\n",
    "plt.ylabel(\"Sum of square Distances\")\n",
    "plt.title(\"Elbow Techinque to find the optimal cluster size\")"
   ]
  },
  {
   "cell_type": "markdown",
   "metadata": {
    "id": "pV4GTG648jFd"
   },
   "source": [
    "We can observe that as the number of cluster increases the sum of square distance are becoming lesser. And will take the count of cluster where this elbow is bending. In our cases, sum of square distance is dramatically decreasing at K = 4, so this is optimal value to choose for no of clusters."
   ]
  },
  {
   "cell_type": "code",
   "execution_count": 111,
   "metadata": {
    "colab": {
     "base_uri": "https://localhost:8080/",
     "height": 195
    },
    "id": "QO0QXup28M1u",
    "outputId": "de859263-1afd-47b2-ef6a-34e8c4fbc58d"
   },
   "outputs": [
    {
     "data": {
      "text/html": [
       "<div>\n",
       "<style scoped>\n",
       "    .dataframe tbody tr th:only-of-type {\n",
       "        vertical-align: middle;\n",
       "    }\n",
       "\n",
       "    .dataframe tbody tr th {\n",
       "        vertical-align: top;\n",
       "    }\n",
       "\n",
       "    .dataframe thead th {\n",
       "        text-align: right;\n",
       "    }\n",
       "</style>\n",
       "<table border=\"1\" class=\"dataframe\">\n",
       "  <thead>\n",
       "    <tr style=\"text-align: right;\">\n",
       "      <th></th>\n",
       "      <th>Customer ID</th>\n",
       "      <th>Recency</th>\n",
       "      <th>Frequency</th>\n",
       "      <th>Monetary</th>\n",
       "      <th>R_score</th>\n",
       "      <th>F_score</th>\n",
       "      <th>M_score</th>\n",
       "      <th>RFM_Group</th>\n",
       "      <th>RFM_Score</th>\n",
       "      <th>Cluster</th>\n",
       "    </tr>\n",
       "  </thead>\n",
       "  <tbody>\n",
       "    <tr>\n",
       "      <th>0</th>\n",
       "      <td>12346.0</td>\n",
       "      <td>164</td>\n",
       "      <td>33</td>\n",
       "      <td>372.86</td>\n",
       "      <td>4</td>\n",
       "      <td>3</td>\n",
       "      <td>3</td>\n",
       "      <td>433</td>\n",
       "      <td>10</td>\n",
       "      <td>Cluster0</td>\n",
       "    </tr>\n",
       "    <tr>\n",
       "      <th>1</th>\n",
       "      <td>12347.0</td>\n",
       "      <td>2</td>\n",
       "      <td>71</td>\n",
       "      <td>1323.32</td>\n",
       "      <td>1</td>\n",
       "      <td>2</td>\n",
       "      <td>2</td>\n",
       "      <td>122</td>\n",
       "      <td>5</td>\n",
       "      <td>Cluster3</td>\n",
       "    </tr>\n",
       "    <tr>\n",
       "      <th>2</th>\n",
       "      <td>12348.0</td>\n",
       "      <td>73</td>\n",
       "      <td>20</td>\n",
       "      <td>222.16</td>\n",
       "      <td>3</td>\n",
       "      <td>3</td>\n",
       "      <td>4</td>\n",
       "      <td>334</td>\n",
       "      <td>10</td>\n",
       "      <td>Cluster1</td>\n",
       "    </tr>\n",
       "    <tr>\n",
       "      <th>3</th>\n",
       "      <td>12349.0</td>\n",
       "      <td>42</td>\n",
       "      <td>102</td>\n",
       "      <td>2671.14</td>\n",
       "      <td>2</td>\n",
       "      <td>1</td>\n",
       "      <td>1</td>\n",
       "      <td>211</td>\n",
       "      <td>4</td>\n",
       "      <td>Cluster2</td>\n",
       "    </tr>\n",
       "    <tr>\n",
       "      <th>4</th>\n",
       "      <td>12351.0</td>\n",
       "      <td>10</td>\n",
       "      <td>21</td>\n",
       "      <td>300.93</td>\n",
       "      <td>1</td>\n",
       "      <td>3</td>\n",
       "      <td>4</td>\n",
       "      <td>134</td>\n",
       "      <td>8</td>\n",
       "      <td>Cluster0</td>\n",
       "    </tr>\n",
       "  </tbody>\n",
       "</table>\n",
       "</div>"
      ],
      "text/plain": [
       "   Customer ID  Recency  Frequency  ...  RFM_Group  RFM_Score   Cluster\n",
       "0      12346.0      164         33  ...        433         10  Cluster0\n",
       "1      12347.0        2         71  ...        122          5  Cluster3\n",
       "2      12348.0       73         20  ...        334         10  Cluster1\n",
       "3      12349.0       42        102  ...        211          4  Cluster2\n",
       "4      12351.0       10         21  ...        134          8  Cluster0\n",
       "\n",
       "[5 rows x 10 columns]"
      ]
     },
     "execution_count": 111,
     "metadata": {
      "tags": []
     },
     "output_type": "execute_result"
    }
   ],
   "source": [
    "# Now we will perform K- means clustering on the data set.\n",
    "KM_clust = KMeans(n_clusters= 4, init = 'k-means++',max_iter = 1000)\n",
    "KM_clust.fit(Scaled_RFM_data)\n",
    "\n",
    "# Mapping on the data\n",
    "RFM_data['Cluster'] = KM_clust.labels_\n",
    "RFM_data['Cluster'] = 'Cluster' + RFM_data['Cluster'].astype(str)\n",
    "RFM_data.head()"
   ]
  },
  {
   "cell_type": "markdown",
   "metadata": {
    "id": "Y7fjt6vC8vHz"
   },
   "source": [
    "Clusters have been created based on the values of recency, frequency and monetary with the help of K-Means Clustering."
   ]
  },
  {
   "cell_type": "markdown",
   "metadata": {
    "id": "7lRW2js480QF"
   },
   "source": [
    "**Visualization for Recency, Frequency and Monetory : Cluster Groups\n",
    "**"
   ]
  },
  {
   "cell_type": "code",
   "execution_count": 112,
   "metadata": {
    "colab": {
     "base_uri": "https://localhost:8080/",
     "height": 1000
    },
    "id": "pucRQ6mb8Mkf",
    "outputId": "e6f6a964-cd01-4089-b9fc-0350a236fb69"
   },
   "outputs": [
    {
     "data": {
      "text/html": [
       "<html>\n",
       "<head><meta charset=\"utf-8\" /></head>\n",
       "<body>\n",
       "    <div>\n",
       "            <script src=\"https://cdnjs.cloudflare.com/ajax/libs/mathjax/2.7.5/MathJax.js?config=TeX-AMS-MML_SVG\"></script><script type=\"text/javascript\">if (window.MathJax) {MathJax.Hub.Config({SVG: {font: \"STIX-Web\"}});}</script>\n",
       "                <script type=\"text/javascript\">window.PlotlyConfig = {MathJaxConfig: 'local'};</script>\n",
       "        <script src=\"https://cdn.plot.ly/plotly-latest.min.js\"></script>    \n",
       "            <div id=\"f9a3ff90-4c9d-4ca8-86f7-8150f73d3dd3\" class=\"plotly-graph-div\" style=\"height:525px; width:100%;\"></div>\n",
       "            <script type=\"text/javascript\">\n",
       "                \n",
       "                    window.PLOTLYENV=window.PLOTLYENV || {};\n",
       "                    \n",
       "                if (document.getElementById(\"f9a3ff90-4c9d-4ca8-86f7-8150f73d3dd3\")) {\n",
       "                    Plotly.newPlot(\n",
       "                        'f9a3ff90-4c9d-4ca8-86f7-8150f73d3dd3',\n",
       "                        [{\"hoverlabel\": {\"namelength\": 0}, \"hovertemplate\": \"Cluster=Cluster0<br>Recency=%{x}<br>Frequency=%{y}\", \"legendgroup\": \"Cluster=Cluster0\", \"marker\": {\"color\": \"#636efa\", \"symbol\": \"circle\"}, \"mode\": \"markers\", \"name\": \"Cluster=Cluster0\", \"showlegend\": true, \"type\": \"scattergl\", \"x\": [164, 10, 10, 43, 202, 97, 263, 259, 259, 24, 197, 57, 1, 80, 37, 17, 309, 20, 27, 44, 48, 20, 50, 22, 57, 83, 297, 6, 16, 317, 97, 1, 367, 55, 45, 34, 70, 62, 240, 91, 44, 164, 66, 38, 195, 43, 219, 276, 65, 111, 133, 262, 43, 13, 119, 83, 210, 20, 83, 20, 16, 92, 27, 211, 34, 25, 154, 98, 39, 23, 155, 170, 69, 72, 13, 161, 149, 29, 20, 241, 36, 188, 190, 31, 56, 163, 69, 52, 268, 246, 77, 18, 156, 9, 260, 121, 79, 90, 92, 4, 107, 10, 91, 23, 92, 31, 164, 170, 244, 48, 98, 45, 8, 169, 6, 56, 105, 135, 28, 100, 18, 3, 200, 169, 13, 136, 34, 93, 29, 156, 204, 72, 39, 77, 22, 7, 18, 93, 109, 8, 316, 32, 20, 16, 16, 22, 31, 98, 48, 63, 211, 30, 59, 7, 77, 206, 25, 28, 359, 193, 291, 71, 8, 157, 319, 35, 48, 14, 48, 136, 364, 233, 55, 52, 24, 80, 10, 29, 127, 360, 51, 66, 32, 9, 64, 197, 163, 105, 123, 9, 4, 66, 219, 85, 36, 91, 24, 64, 165, 185, 44, 94, 46, 146, 314, 17, 52, 364, 3, 133, 72, 50, 48, 7, 186, 107, 20, 37, 7, 219, 7, 260, 23, 135, 49, 25, 177, 217, 253, 16, 179, 293, 49, 78, 137, 366, 84, 149, 210, 58, 55, 307, 22, 65, 72, 46, 86, 84, 67, 36, 37, 29, 65, 8, 24, 77, 44, 18, 15, 34, 74, 235, 235, 238, 78, 50, 281, 11, 58, 58, 23, 90, 27, 15, 69, 90, 46, 181, 38, 66, 107, 44, 66, 49, 6, 49, 79, 63, 49, 52, 238, 218, 35, 72, 116, 28, 255, 274, 98, 107, 182, 84, 112, 149, 206, 136, 20, 11, 23, 58, 66, 302, 9, 37, 259, 45, 81, 43, 98, 209, 78, 41, 90, 87, 51, 18, 36, 121, 50, 22, 76, 63, 84, 52, 373, 60, 55, 102, 62, 269, 46, 25, 17, 43, 106, 18, 309, 14, 46, 314, 133, 165, 84, 84, 70, 151, 35, 130, 27, 16, 293, 22, 37, 175, 267, 87, 28, 203, 43, 179, 331, 23, 14, 123, 71, 275, 67, 34, 129, 134, 35, 29, 39, 128, 25, 15, 31, 43, 56, 231, 185, 52, 50, 81, 245, 43, 92, 27, 272, 246, 70, 45, 31, 50, 181, 8, 162, 233, 39, 137, 228, 361, 57, 31, 225, 126, 42, 227, 88, 122, 69, 63, 93, 23, 23, 134, 71, 65, 66, 70, 29, 162, 162, 304, 53, 256, 57, 39, 34, 51, 16, 34, 135, 98, 64, 24, 100, 63, 162, 18, 139, 105, 182, 280, 150, 73, 46, 24, 58, 98, 59, 37, 72, 72, 17, 37, 66, 29, 46, 44, 10, 52, 34, 27, 22, 111, 70, 21, 141, 46, 74, 50, 14, 18, 99, 21, 154, 81, 49, 163, 67, 97, 200, 115, 15, 11, 111, 121, 25, 105, 185, 113, 126, 17, 25, 212, 97, 142, 24, 238, 149, 319, 38, 48, 27, 6, 39, 289, 74, 116, 24, 30, 136, 63, 41, 368, 79, 34, 283, 125, 8, 94, 23, 308, 24, 140, 99, 55, 65, 240, 2, 45, 78, 46, 23, 31, 74, 45, 35, 58, 44, 16, 32, 23, 186, 80, 39, 49, 44, 202, 76, 72, 38, 70, 85, 100, 133, 7, 8, 58, 39, 94, 16, 67, 126, 106, 58, 99, 105, 197, 30, 42, 98, 288, 148, 42, 56, 51, 65, 42, 13, 67, 199, 57, 59, 181, 66, 64, 44, 98, 16, 15, 45, 24, 29, 277, 85, 78, 85, 28, 86, 59, 36, 43, 106, 59, 45, 9, 22, 17, 31, 147, 72, 69, 129, 38, 146, 100, 90, 21, 35, 14, 30, 67, 15, 31, 67, 226, 324, 214, 37, 36, 3, 72, 18, 230, 24, 114, 42, 165, 51, 105, 55, 23, 46, 15, 231, 289, 144, 108, 52, 70, 87, 78, 60, 123, 29, 179, 56, 8, 88, 261, 25, 28, 14, 25, 78, 50, 21, 29, 11, 176, 146, 50, 14, 77, 119, 21, 252, 49, 50, 64, 62, 65, 62, 367, 184, 150, 23, 214, 22, 25, 35, 27, 60, 154, 8, 70, 50, 59, 253, 42, 77, 79, 14, 112, 225, 29, 181, 60, 120, 35, 196, 7, 70, 136, 41, 60, 109, 256, 7, 38, 231, 170, 37, 16, 39, 25, 256, 4, 22, 93, 129, 15, 315, 42, 58, 53, 62, 42, 58, 48, 128, 118, 76, 53, 62, 253, 51, 252, 78, 30, 43, 72, 36, 66, 231, 200, 28, 245, 31, 56, 78, 254, 52, 36, 23, 104, 230, 76, 93, 338, 65, 370, 207, 23, 11, 247, 65, 77, 116, 63, 29, 88, 30, 8, 28, 14, 203, 10, 15, 11, 98, 3, 109, 78, 53, 7, 21, 64, 127, 129, 62, 14, 309, 97, 218, 150, 165, 65, 7, 214, 38, 18, 83, 171, 65, 17, 155, 28, 77, 92, 67, 211, 336, 113, 18, 204, 9, 23, 8, 17, 45, 302, 60, 182, 22, 109, 16, 69, 98, 67, 29, 43, 129, 74, 55, 51, 13, 253, 198, 244, 147, 31, 4, 65, 70, 112, 56, 38, 181, 147, 15, 165, 14, 113, 15, 29, 196, 123, 205, 14, 93, 289, 7, 200, 245, 113, 48, 111, 197, 244, 134, 46, 312, 60, 8, 83, 7, 45, 17, 35, 58, 27, 127, 35, 202, 55, 10, 88, 203, 113, 60, 69, 22, 102, 39, 31, 11, 69, 80, 27, 73, 210, 36, 175, 35, 65, 14, 39, 155, 15, 25, 18, 8, 147, 39, 172, 10, 6, 241, 56, 203, 59, 253, 11, 34, 227, 62, 80, 63, 8, 178, 50, 245, 31, 44, 56, 92, 277, 18, 72, 48, 86, 49, 7, 156, 55, 14, 84, 107, 56, 14, 234, 53, 29, 232, 58, 137, 52, 191, 88, 190, 56, 46, 25, 14, 16, 71, 56, 84, 265, 69, 301, 91, 239, 44, 53, 31, 66, 65, 102, 34, 13, 371, 127, 53, 88, 80, 43, 94, 28, 128, 88, 203, 120, 21, 28, 171, 20, 63, 67, 252, 31, 13, 44, 196, 4, 51, 41, 35, 29, 4, 48, 86, 9, 125, 71, 13, 36, 241, 3, 59, 31, 8, 7, 52, 14, 91, 28, 137, 59, 16, 186, 55, 38, 317, 9, 14, 84, 85, 23, 60, 233, 20, 240, 71, 3, 186, 10, 31, 46, 49, 16, 22, 43, 31, 30, 46, 92, 29, 179, 58, 65, 14, 70, 8, 53, 35, 52, 162, 25, 137, 260, 304, 20, 17, 24, 21, 139, 91, 51, 52, 97, 157, 63, 37, 29, 25, 57, 179, 315, 13, 357, 6, 52, 16, 157, 105, 63, 49, 108, 126, 106, 36, 73, 29, 45, 72, 27, 7, 15, 17, 56, 253, 70, 356, 22, 13, 129, 20, 17, 94, 8, 17, 128, 45, 21, 13, 58, 73, 58, 72, 8, 109, 114, 115, 58, 122, 28, 11, 15, 261, 32, 329, 64, 41, 49, 185, 59, 67, 66, 127, 42, 144, 118, 20, 65, 10, 11, 29, 11, 217, 18, 71, 17, 30, 43, 64, 22, 30, 171, 48, 24, 4, 85, 24, 226, 28, 10, 66, 218, 43, 212, 11, 48, 16, 81, 147, 303, 16, 52, 239, 21, 225, 106, 219, 196, 55, 143, 105, 28, 69, 66, 212, 48, 175, 79, 66, 9, 255, 265, 56, 70, 81, 219, 59, 16, 277, 20, 176, 49, 370, 58, 140, 111, 41, 266, 58, 55, 301, 8, 79, 35, 25, 25, 39, 37, 36, 57, 120, 41, 44, 50, 57, 84, 77, 90, 175, 29, 22, 76, 37, 46, 163, 46, 15, 50, 253, 35, 14, 36, 78, 18, 171, 30, 39, 17, 113, 71, 58, 50, 42, 7, 71, 44, 18, 189, 67, 314, 212, 105, 67, 55, 88, 13, 28, 23, 77, 74, 309, 41, 165, 197, 212, 253, 52, 51, 87, 25, 182, 69, 29, 104, 62, 14, 38, 191, 20, 35, 35, 32, 189, 73, 13, 63, 270, 21, 267, 46, 77, 207, 58, 16, 20, 134, 123, 97, 64, 76, 70, 23, 17, 58, 30, 301, 18, 63, 14, 56, 98, 17, 31, 78, 37, 27, 105, 27, 360, 211, 22, 177, 77, 52, 8, 81, 216, 17, 44, 50, 239, 32, 11, 79, 66, 72, 81, 80, 231, 45, 27, 14, 9, 65, 16, 168, 29, 357, 58, 24, 41, 155, 137, 283, 23, 74, 63, 87, 39, 52, 87, 162, 126, 182, 112, 79, 80, 133, 65, 161, 366, 17, 226, 196, 21, 165, 290, 62, 22, 158, 51, 287, 284, 27, 93, 226, 112, 79, 83, 45, 10, 22, 91, 116, 17, 36, 25, 31, 144, 59, 134, 80, 20, 104, 371, 30, 37, 9, 91, 13, 263, 35, 365, 9, 74, 25, 259, 283, 28, 28, 16, 55, 42, 45, 43, 366, 163, 41, 18, 14, 363, 15, 29, 62, 126, 21, 189, 11, 20, 311, 35, 30, 258, 53, 39, 69, 70, 55, 45, 6, 51, 46, 21, 39, 58, 8, 21, 28, 31, 20, 46, 164, 79, 97, 16, 195, 157, 109, 263, 43, 30, 247, 43, 79, 122, 23, 113, 25, 198, 196, 185, 43, 304, 13, 60, 29, 73, 32, 245, 162, 86, 252, 18, 10, 13, 107, 60, 28, 30, 25, 213, 268, 177, 8, 109, 213, 11, 81, 263, 84, 16, 15, 252, 57, 11, 84, 22, 39, 232, 72, 23, 9, 14, 59, 22, 64, 8, 20, 104, 7, 109, 128, 112, 3, 156, 232, 20, 55, 28, 23, 3, 146, 29, 111, 53, 11, 37, 105, 58, 59, 56, 30, 231, 256, 160, 24, 15, 112, 106, 181, 56, 99, 28, 8, 37, 16, 27, 149, 21, 302, 17, 80, 6, 102, 216, 86, 27, 11, 30, 183, 303, 28, 13, 9, 56, 233, 9, 256, 358, 49, 78, 190, 115, 23, 97, 7, 20, 119, 45, 21, 32, 16, 34, 30, 14, 174, 72, 9, 29, 135, 73, 79, 22, 41, 35, 55, 331, 8, 363, 184, 106, 7, 226, 6, 7, 28, 30, 122, 14, 15, 24, 252, 17, 14, 15, 84, 10, 11, 16, 27, 8, 45, 144, 135, 13, 10, 20, 16, 128, 72, 28, 269, 176, 43, 21, 21, 8, 60, 126, 32, 18, 8, 56, 228, 79, 62, 31, 185, 9, 77, 231, 46, 224, 53, 2, 38, 172, 139, 233, 27, 44, 108, 36, 39, 55, 23, 4, 21, 367, 219, 105, 195, 157, 266, 65, 238, 15, 73, 106, 357, 16, 134, 165, 231, 29, 25, 23, 7, 50, 80, 49, 65, 49, 183, 99, 28, 133, 226, 1, 244, 183, 213, 32, 29, 66, 111], \"xaxis\": \"x\", \"y\": [33, 21, 18, 20, 22, 19, 18, 35, 37, 13, 82, 41, 8, 46, 49, 43, 65, 51, 59, 22, 68, 25, 20, 40, 62, 55, 47, 10, 20, 71, 32, 11, 21, 20, 10, 29, 22, 46, 23, 18, 25, 34, 49, 22, 27, 42, 28, 33, 48, 22, 60, 72, 43, 13, 39, 43, 49, 47, 26, 39, 91, 38, 54, 34, 36, 42, 63, 74, 16, 22, 35, 20, 42, 44, 21, 43, 8, 31, 23, 45, 32, 112, 21, 40, 46, 32, 49, 41, 53, 60, 64, 15, 47, 15, 67, 23, 62, 21, 27, 16, 68, 43, 16, 15, 26, 64, 72, 42, 18, 24, 26, 16, 28, 22, 27, 25, 34, 50, 55, 66, 16, 26, 56, 32, 25, 45, 21, 19, 13, 24, 76, 63, 14, 51, 35, 67, 37, 21, 37, 39, 37, 31, 48, 36, 25, 56, 18, 27, 17, 41, 54, 25, 67, 51, 69, 32, 32, 44, 27, 25, 28, 20, 17, 31, 23, 49, 70, 40, 77, 49, 56, 30, 38, 14, 14, 49, 22, 48, 58, 31, 16, 30, 21, 12, 65, 39, 36, 31, 42, 7, 18, 15, 55, 35, 27, 21, 12, 78, 40, 25, 17, 24, 27, 29, 62, 47, 20, 24, 8, 43, 25, 10, 15, 35, 23, 45, 61, 23, 36, 23, 4, 84, 21, 25, 27, 16, 47, 46, 34, 19, 17, 59, 46, 78, 86, 57, 104, 45, 32, 8, 33, 61, 24, 16, 72, 40, 22, 148, 29, 12, 25, 19, 39, 19, 39, 38, 19, 48, 15, 62, 22, 44, 49, 53, 10, 28, 48, 57, 48, 57, 35, 57, 23, 23, 44, 64, 55, 87, 33, 66, 34, 42, 20, 23, 39, 17, 34, 71, 31, 71, 34, 69, 60, 51, 16, 22, 34, 43, 31, 101, 49, 40, 23, 67, 111, 24, 25, 48, 113, 59, 25, 38, 57, 23, 73, 62, 34, 38, 28, 49, 64, 48, 78, 38, 41, 31, 20, 62, 15, 24, 30, 17, 17, 17, 44, 42, 49, 32, 10, 47, 160, 54, 55, 44, 61, 42, 89, 62, 91, 43, 56, 39, 22, 31, 43, 143, 17, 57, 86, 35, 21, 53, 24, 34, 50, 59, 69, 35, 63, 45, 32, 22, 25, 37, 19, 44, 48, 58, 61, 38, 40, 64, 106, 50, 79, 26, 54, 43, 24, 38, 23, 46, 36, 72, 23, 80, 22, 52, 42, 63, 39, 29, 89, 71, 31, 31, 19, 45, 62, 52, 28, 33, 48, 19, 63, 35, 41, 40, 125, 10, 12, 30, 55, 18, 29, 22, 78, 40, 61, 32, 13, 74, 22, 65, 89, 40, 52, 16, 31, 40, 18, 26, 73, 40, 21, 21, 50, 66, 57, 37, 51, 20, 67, 25, 68, 42, 34, 52, 38, 74, 49, 44, 23, 20, 33, 45, 65, 51, 21, 5, 52, 27, 67, 19, 24, 24, 21, 13, 46, 13, 52, 22, 46, 61, 45, 33, 44, 31, 34, 47, 32, 32, 24, 32, 34, 37, 33, 19, 18, 50, 9, 86, 41, 56, 65, 23, 24, 19, 49, 84, 41, 41, 38, 79, 36, 70, 145, 13, 43, 40, 114, 59, 22, 15, 13, 24, 28, 57, 46, 43, 44, 14, 25, 44, 39, 51, 65, 15, 64, 44, 15, 52, 50, 34, 14, 22, 9, 20, 52, 16, 18, 29, 16, 51, 25, 12, 5, 18, 36, 17, 31, 38, 32, 33, 19, 38, 69, 35, 26, 19, 93, 39, 10, 23, 80, 51, 16, 48, 19, 31, 23, 57, 41, 35, 34, 23, 27, 40, 28, 22, 13, 22, 32, 31, 26, 50, 56, 13, 41, 49, 37, 41, 19, 25, 51, 26, 44, 38, 139, 82, 56, 42, 53, 48, 22, 41, 74, 21, 117, 23, 64, 69, 12, 39, 27, 22, 35, 74, 32, 42, 36, 36, 69, 77, 47, 26, 48, 41, 44, 98, 52, 39, 41, 70, 56, 28, 41, 29, 27, 33, 70, 76, 87, 50, 69, 97, 196, 15, 106, 33, 12, 47, 22, 39, 30, 72, 59, 43, 120, 31, 34, 53, 79, 29, 23, 9, 38, 14, 19, 48, 35, 40, 67, 38, 29, 62, 21, 50, 31, 36, 127, 83, 81, 68, 42, 56, 55, 45, 124, 24, 13, 96, 25, 55, 67, 82, 42, 42, 55, 62, 25, 83, 66, 45, 25, 59, 41, 53, 36, 63, 88, 28, 26, 26, 34, 71, 9, 95, 18, 47, 20, 16, 28, 25, 24, 37, 81, 38, 18, 69, 28, 56, 41, 35, 82, 20, 70, 74, 12, 49, 22, 52, 101, 43, 42, 63, 16, 50, 30, 33, 23, 39, 72, 80, 36, 57, 29, 40, 50, 21, 20, 23, 4, 16, 32, 19, 40, 27, 30, 23, 47, 13, 76, 49, 39, 15, 98, 42, 21, 27, 41, 51, 46, 50, 20, 121, 85, 27, 72, 77, 26, 45, 48, 23, 81, 45, 114, 33, 28, 31, 31, 32, 31, 31, 27, 19, 41, 50, 27, 50, 31, 20, 18, 34, 52, 25, 21, 20, 34, 31, 32, 80, 17, 46, 29, 102, 24, 27, 19, 33, 27, 59, 23, 52, 26, 38, 22, 33, 29, 40, 35, 42, 27, 21, 30, 31, 3, 24, 47, 22, 28, 14, 21, 62, 44, 74, 39, 11, 74, 63, 49, 57, 16, 32, 39, 22, 33, 129, 29, 44, 27, 16, 39, 52, 6, 38, 54, 45, 26, 41, 29, 100, 44, 21, 58, 20, 30, 40, 35, 50, 21, 69, 16, 9, 20, 5, 32, 15, 16, 69, 40, 36, 68, 56, 38, 36, 57, 57, 112, 60, 30, 56, 19, 25, 38, 53, 64, 25, 20, 69, 51, 26, 25, 37, 72, 35, 58, 14, 16, 31, 12, 47, 62, 32, 114, 39, 98, 38, 22, 31, 71, 44, 96, 45, 27, 42, 29, 31, 24, 39, 19, 32, 26, 44, 16, 50, 36, 28, 39, 53, 67, 39, 35, 25, 27, 12, 37, 53, 87, 110, 25, 14, 38, 17, 85, 23, 12, 41, 17, 19, 16, 2, 69, 25, 15, 28, 37, 85, 18, 17, 18, 43, 57, 18, 15, 83, 56, 115, 43, 40, 23, 26, 32, 26, 51, 28, 45, 25, 36, 29, 26, 22, 59, 69, 80, 11, 51, 96, 50, 37, 27, 10, 34, 79, 53, 51, 40, 76, 13, 113, 130, 39, 47, 55, 11, 21, 29, 19, 21, 32, 26, 35, 18, 18, 104, 58, 71, 26, 42, 55, 27, 80, 15, 13, 7, 45, 67, 50, 94, 86, 51, 76, 110, 29, 70, 137, 28, 126, 22, 19, 34, 32, 32, 60, 34, 19, 36, 52, 24, 25, 52, 25, 41, 8, 38, 20, 40, 10, 47, 39, 30, 54, 30, 37, 88, 73, 59, 38, 140, 55, 17, 28, 37, 26, 36, 20, 48, 35, 38, 22, 63, 44, 42, 40, 17, 23, 26, 19, 18, 10, 42, 51, 21, 13, 37, 54, 23, 20, 23, 28, 54, 16, 88, 25, 21, 16, 85, 44, 46, 21, 63, 48, 53, 65, 78, 20, 32, 22, 22, 30, 34, 45, 74, 20, 25, 75, 3, 28, 48, 78, 34, 46, 54, 35, 44, 71, 15, 31, 48, 28, 45, 59, 60, 96, 52, 29, 61, 44, 48, 58, 83, 21, 101, 38, 54, 90, 57, 45, 92, 37, 56, 98, 61, 40, 38, 127, 22, 73, 125, 40, 21, 61, 76, 117, 34, 31, 32, 51, 48, 24, 43, 49, 39, 24, 35, 48, 23, 55, 43, 23, 41, 43, 28, 18, 53, 20, 59, 61, 36, 40, 41, 29, 38, 56, 49, 34, 8, 30, 58, 33, 23, 18, 20, 29, 51, 39, 22, 23, 46, 76, 27, 25, 31, 20, 28, 29, 19, 18, 62, 28, 33, 23, 44, 47, 19, 109, 62, 91, 54, 65, 11, 83, 82, 84, 25, 32, 66, 51, 59, 39, 83, 55, 37, 39, 25, 35, 90, 169, 92, 53, 151, 75, 110, 19, 73, 36, 12, 16, 52, 45, 24, 31, 34, 32, 36, 25, 17, 58, 43, 43, 35, 17, 50, 28, 11, 31, 32, 48, 40, 65, 52, 82, 40, 101, 50, 127, 35, 17, 41, 23, 33, 122, 85, 69, 83, 49, 41, 32, 24, 71, 70, 38, 82, 45, 28, 28, 40, 25, 13, 74, 28, 38, 30, 35, 111, 26, 18, 85, 36, 41, 21, 69, 48, 49, 33, 30, 95, 27, 28, 41, 44, 57, 31, 63, 77, 58, 113, 26, 50, 41, 25, 25, 29, 63, 18, 40, 31, 32, 19, 51, 23, 37, 47, 47, 23, 34, 37, 71, 74, 112, 55, 53, 39, 46, 29, 52, 25, 21, 24, 27, 31, 78, 44, 60, 12, 32, 31, 93, 25, 133, 22, 60, 38, 53, 25, 62, 85, 38, 33, 53, 60, 17, 44, 35, 41, 36, 108, 55, 43, 74, 46, 24, 125, 48, 48, 52, 53, 6, 115, 15, 44, 46, 33, 39, 58, 44, 54, 9, 6, 7, 24, 35, 136, 33, 86, 71, 95, 20, 36, 35, 36, 77, 73, 42, 6, 33, 67, 88, 104, 28, 109, 35, 58, 34, 31, 10, 16, 40, 48, 23, 45, 23, 34, 10, 15, 27, 58, 17, 56, 39, 15, 52, 54, 65, 32, 108, 30, 19, 49, 34, 31, 44, 40, 24, 53, 40, 27, 21, 62, 31, 50, 12, 43, 56, 77, 33, 37, 17, 82, 44, 83, 144, 39, 31, 29, 4, 159, 28, 29, 146, 29, 62, 54, 24, 60, 44, 49, 93, 42, 54, 10, 63, 95, 145, 22, 103, 42, 40, 38, 47, 33, 30, 31, 74, 72, 68, 31, 34, 46, 46, 37, 19, 26, 11, 51, 14, 46, 26, 19, 22, 33, 66, 26, 19, 23, 19, 39, 33, 20, 71, 26, 64, 23, 32, 43, 9, 15, 28, 30, 22, 32, 69, 43, 51, 78, 22, 46, 55, 80, 79, 29, 38, 31, 52, 45, 81, 27, 91, 89, 33, 55, 13, 101, 41, 100, 27, 33, 66, 31, 58, 50, 47, 24, 84, 103, 17, 42, 17, 62, 18, 73, 15, 4, 56, 53, 31, 64, 96, 45, 40, 17, 23, 10, 20, 35, 29, 72, 13, 29, 149, 109, 35, 45, 61, 57, 31, 24, 85, 29, 28, 52, 60, 27, 67, 58, 75, 53, 23, 41, 50, 63, 47, 32, 17, 63, 104, 8, 83, 52, 87, 18, 55, 13, 75, 27, 43, 43, 44, 13, 40, 6, 42, 54, 25, 25, 27, 86, 30, 69, 38, 30, 35, 27, 36, 29, 21, 42, 62, 28, 17, 50, 54, 42, 75, 68, 26, 50, 26, 46, 33, 38, 26, 19, 48, 62, 27, 54, 21, 138, 27, 40, 31, 58, 18, 23, 20, 49, 37, 55, 62, 26, 19, 37, 40, 50, 29, 36, 66, 7, 21, 60, 19, 56, 20, 28, 67], \"yaxis\": \"y\"}, {\"hoverlabel\": {\"namelength\": 0}, \"hovertemplate\": \"Cluster=Cluster3<br>Recency=%{x}<br>Frequency=%{y}\", \"legendgroup\": \"Cluster=Cluster3\", \"marker\": {\"color\": \"#EF553B\", \"symbol\": \"circle\"}, \"mode\": \"markers\", \"name\": \"Cluster=Cluster3\", \"showlegend\": true, \"type\": \"scattergl\", \"x\": [2, 0, 1, 4, 0, 0, 2, 0, 2, 2, 0, 0, 3, 1, 0, 4, 4, 0, 0, 1, 0, 0, 2, 4, 0, 3, 1, 0, 0, 1, 3, 1, 4, 1, 1, 3, 0, 0, 1, 0, 1, 1, 3, 2, 4, 1, 0, 0, 1, 4, 0, 0, 1, 0, 1, 3, 2, 3, 3, 4, 1, 1, 3, 2, 4, 1, 1, 3, 2, 1, 4, 2, 1, 2, 2, 4, 4, 1, 1, 0, 2, 2, 0, 0, 1, 1, 1, 0, 1, 1, 1, 4, 3, 2, 4, 3, 3, 1, 0, 2, 3, 0, 2, 0, 4, 3, 0, 0, 3, 0, 4, 0, 1, 0, 2, 0, 3, 0, 2, 2, 1, 3, 1, 1, 4, 4, 1, 3, 1, 0, 1, 2, 0, 0, 0, 2, 1, 1, 4, 2, 3, 1, 4, 3, 2, 3, 0, 2, 1, 2, 0, 3, 0, 1, 0, 0, 1, 3, 0, 1, 1, 4, 2, 3, 0, 0, 4, 4, 1, 3, 0, 1, 0, 4, 1, 0, 3, 1, 2, 0, 1, 0, 4, 1, 4, 1, 4, 0, 2, 0, 2, 3, 4, 3, 4, 2, 1, 0, 4, 2, 1, 0, 3, 1, 1, 1, 4, 2, 0, 1, 2, 1, 2, 4, 3, 0, 4, 3, 2, 1, 4, 0, 2, 2, 4, 4, 2, 1, 4, 4, 4, 0, 0, 1, 3, 1, 1, 3, 3, 3, 1, 1, 3, 1, 1, 4, 3, 1, 2, 1, 0, 0, 4, 3, 4, 3, 1, 1, 3, 2, 0, 3, 4, 2, 3, 4, 0, 3, 4, 0, 3, 2, 0, 3, 0, 4, 1, 3, 3, 3, 2, 4, 3, 1, 2, 3, 1, 0, 1, 1, 0, 3, 4, 1, 2, 3, 0, 2, 0, 2, 2, 2, 3, 0, 0, 0, 2, 3, 0, 1, 0, 2, 1, 1, 3, 1, 1, 2, 1, 2, 3, 4, 3, 0, 0, 0, 0, 4, 3, 4, 3, 1, 3, 1, 2, 3, 0, 2, 0, 1, 0, 1, 0, 1, 2, 1, 0, 1, 0, 0, 4, 4, 3, 0, 1, 1], \"xaxis\": \"x\", \"y\": [71, 76, 286, 572, 174, 34, 193, 303, 434, 827, 514, 197, 153, 290, 143, 155, 153, 2532, 60, 145, 30, 75, 262, 277, 366, 46, 814, 16, 95, 120, 57, 599, 657, 233, 443, 1543, 127, 188, 187, 112, 111, 75, 79, 196, 797, 88, 677, 155, 215, 183, 479, 234, 108, 14, 98, 425, 302, 99, 48, 72, 59, 68, 1159, 123, 67, 163, 100, 96, 203, 192, 427, 150, 194, 116, 25, 112, 287, 149, 6, 71, 64, 137, 470, 137, 233, 77, 609, 528, 101, 122, 68, 763, 609, 122, 199, 51, 84, 81, 230, 98, 73, 197, 172, 60, 106, 52, 42, 86, 60, 131, 148, 1725, 3802, 775, 89, 366, 25, 363, 145, 196, 95, 102, 205, 411, 268, 138, 69, 189, 38, 242, 70, 131, 5568, 32, 13, 253, 1303, 228, 439, 216, 68, 73, 142, 1272, 584, 353, 98, 76, 15, 52, 55, 182, 23, 29, 330, 91, 250, 137, 2038, 154, 36, 146, 311, 219, 579, 17, 230, 165, 457, 145, 254, 138, 773, 455, 559, 99, 82, 163, 10, 71, 188, 77, 101, 42, 206, 356, 632, 156, 42, 504, 291, 219, 589, 52, 275, 597, 168, 28, 85, 237, 11, 201, 447, 78, 237, 139, 257, 231, 353, 167, 98, 26, 287, 122, 678, 67, 211, 158, 156, 53, 321, 264, 123, 28, 626, 80, 79, 76, 430, 157, 342, 28, 256, 179, 552, 320, 18, 46, 54, 64, 18, 221, 569, 707, 167, 177, 240, 194, 120, 718, 1546, 336, 463, 65, 89, 127, 30, 87, 123, 263, 102, 310, 103, 105, 32, 97, 172, 464, 324, 90, 724, 273, 96, 333, 77, 166, 124, 249, 51, 77, 149, 697, 196, 9, 363, 101, 102, 5, 357, 198, 1343, 65, 143, 146, 112, 401, 28, 88, 60, 88, 73, 948, 140, 78, 152, 499, 90, 280, 154, 29, 39, 423, 86, 408, 120, 126, 383, 83, 104, 206, 559, 141, 85, 38, 178, 4944, 6, 193, 162, 128, 56, 3, 356, 221, 222, 1057, 133, 281, 515, 181, 67, 81, 475, 62, 222, 82, 61, 149, 61, 627, 227, 284, 89, 305, 47, 50], \"yaxis\": \"y\"}, {\"hoverlabel\": {\"namelength\": 0}, \"hovertemplate\": \"Cluster=Cluster1<br>Recency=%{x}<br>Frequency=%{y}\", \"legendgroup\": \"Cluster=Cluster1\", \"marker\": {\"color\": \"#00cc96\", \"symbol\": \"circle\"}, \"mode\": \"markers\", \"name\": \"Cluster=Cluster1\", \"showlegend\": true, \"type\": \"scattergl\", \"x\": [73, 373, 268, 50, 226, 49, 156, 317, 137, 37, 98, 291, 317, 58, 324, 365, 275, 255, 219, 52, 129, 163, 135, 317, 43, 279, 317, 139, 39, 317, 195, 373, 274, 69, 58, 71, 259, 52, 230, 6, 55, 272, 225, 225, 133, 7, 164, 175, 85, 120, 199, 170, 302, 233, 147, 263, 164, 246, 185, 98, 317, 310, 80, 112, 328, 254, 143, 74, 106, 18, 93, 210, 16, 57, 15, 35, 261, 227, 29, 371, 365, 273, 119, 72, 237, 48, 200, 360, 214, 307, 7, 64, 366, 64, 319, 213, 256, 186, 115, 247, 92, 52, 36, 60, 126, 361, 29, 71, 353, 176, 365, 303, 158, 266, 87, 94, 126, 66, 119, 245, 204, 48, 197, 35, 65, 242, 259, 56, 244, 78, 86, 37, 290, 253, 212, 28, 95, 11, 71, 14, 1, 41, 202, 358, 73, 161, 35, 65, 122, 231, 86, 324, 67, 36, 97, 67, 178, 312, 83, 99, 217, 22, 62, 371, 63, 182, 261, 107, 276, 323, 288, 262, 140, 289, 365, 277, 142, 311, 77, 269, 37, 22, 301, 64, 147, 46, 44, 41, 49, 24, 176, 120, 269, 228, 163, 231, 311, 246, 16, 122, 238, 55, 42, 365, 67, 174, 92, 270, 79, 212, 81, 80, 261, 58, 100, 30, 162, 48, 8, 72, 309, 288, 130, 63, 150, 140, 57, 281, 181, 64, 56, 216, 211, 154, 121, 354, 245, 164, 21, 112, 260, 35, 367, 44, 326, 58, 141, 29, 169, 212, 288, 70, 31, 58, 217, 15, 367, 147, 206, 280, 190, 210, 360, 32, 301, 258, 30, 317, 147, 97, 357, 300, 372, 366, 10, 186, 368, 330, 121, 49, 118, 97, 365, 276, 108, 301, 29, 252, 322, 297, 331, 295, 128, 181, 63, 74, 44, 321, 44, 155, 43, 184, 202, 65, 95, 204, 73, 258, 171, 63, 67, 371, 213, 37, 160, 176, 318, 256, 317, 135, 211, 67, 199, 287, 224, 21, 136, 188, 91, 134, 203, 368, 65, 43, 71, 371, 146, 7, 36, 294, 308, 169, 71, 151, 318, 126, 258, 309, 25, 367, 7, 67, 153, 213, 6, 204, 291, 268, 30, 315, 20, 37, 88, 312, 269, 158, 224, 373, 80, 144, 227, 223, 252, 70, 53, 368, 45, 289, 48, 227, 114, 371, 319, 95, 79, 261, 227, 163, 294, 24, 185, 106, 241, 142, 372, 73, 74, 233, 216, 120, 216, 300, 265, 133, 163, 174, 71, 234, 39, 265, 140, 189, 7, 268, 170, 156, 319, 304, 325, 157, 80, 98, 174, 16, 262, 213, 298, 48, 338, 367, 56, 279, 174, 16, 56, 360, 372, 58, 324, 296, 198, 290, 227, 115, 2, 312, 254, 176, 79, 230, 155, 45, 114, 303, 364, 199, 98, 246, 367, 111, 154, 29, 16, 191, 36, 366, 102, 41, 55, 360, 58, 365, 11, 283, 221, 256, 36, 57, 301, 190, 275, 196, 49, 234, 60, 25, 135, 42, 300, 45, 365, 3, 190, 312, 336, 42, 36, 196, 84, 183, 238, 297, 161, 29, 297, 259, 325, 97, 219, 218, 87, 126, 211, 356, 216, 98, 137, 176, 275, 225, 162, 309, 253, 232, 37, 52, 95, 210, 79, 230, 284, 368, 162, 314, 91, 266, 358, 361, 22, 241, 360, 44, 94, 230, 258, 274, 32, 98, 27, 254, 358, 27, 312, 217, 122, 210, 283, 73, 279, 30, 364, 50, 21, 296, 191, 360, 39, 108, 182, 85, 55, 252, 294, 324, 259, 111, 224, 175, 185, 35, 35, 188, 93, 254, 146, 77, 247, 53, 266, 98, 143, 216, 177, 223, 372, 256, 161, 161, 111, 65, 16, 218, 261, 72, 134, 281, 67, 304, 116, 3, 15, 178, 169, 266, 366, 177, 282, 291, 279, 63, 272, 284, 224, 298, 237, 16, 169, 370, 260, 230, 195, 197, 317, 18, 316, 41, 66, 360, 228, 305, 210, 259, 333, 361, 218, 298, 83, 71, 64, 140, 199, 43, 370, 10, 358, 123, 50, 135, 111, 72, 57, 147, 226, 283, 368, 360, 281, 112, 105, 97, 317, 111, 112, 371, 67, 171, 261, 212, 198, 16, 72, 70, 83, 105, 252, 288, 111, 263, 369, 127, 31, 17, 43, 357, 128, 155, 265, 165, 241, 364, 149, 9, 317, 172, 15, 71, 207, 303, 66, 276, 36, 226, 154, 10, 181, 234, 8, 32, 204, 62, 261, 60, 228, 85, 20, 23, 197, 359, 261, 178, 42, 42, 32, 336, 370, 155, 221, 57, 364, 204, 256, 314, 276, 168, 25, 28, 53, 43, 358, 196, 305, 197, 265, 39, 283, 164, 212, 260, 7, 44, 65, 373, 28, 100, 16, 321, 28, 199, 63, 238, 253, 77, 36, 324, 128, 91, 111, 190, 364, 357, 286, 175, 246, 174, 244, 44, 368, 261, 21, 157, 57, 79, 72, 64, 186, 282, 67, 4, 32, 226, 18, 185, 373, 272, 361, 359, 260, 197, 213, 372, 21, 227, 58, 298, 60, 37, 155, 77, 297, 86, 370, 60, 213, 9, 296, 140, 8, 57, 204, 161, 171, 217, 55, 30, 99, 189, 254, 51, 136, 216, 231, 324, 181, 63, 116, 71, 46, 59, 18, 200, 73, 107, 304, 169, 22, 360, 304, 44, 308, 179, 107, 331, 283, 90, 30, 66, 9, 88, 102, 20, 55, 85, 143, 176, 85, 135, 183, 22, 43, 290, 184, 367, 30, 10, 234, 267, 49, 211, 363, 276, 20, 136, 25, 55, 20, 69, 55, 144, 276, 184, 14, 367, 147, 221, 16, 302, 280, 195, 254, 373, 112, 225, 372, 2, 193, 237, 113, 282, 304, 65, 372, 296, 238, 18, 90, 227, 279, 294, 10, 41, 83, 162, 91, 288, 83, 45, 71, 296, 147, 185, 296, 321, 245, 372, 41, 237, 46, 150, 323, 274, 87, 156, 181, 275, 372, 361, 10, 186, 263, 178, 162, 8, 7, 356, 206, 267, 225, 58, 175, 290, 227, 157, 183, 45, 315, 226, 199, 358, 66, 34, 178, 218, 277, 56, 191, 176, 284, 160, 27, 253, 25, 304, 15, 81, 184, 3, 332, 148, 107, 266, 186, 281, 281, 294, 206, 14, 258, 247, 238, 310, 98, 357, 260, 112, 22, 210, 318, 188, 200, 17, 312, 148, 119, 186, 150, 244, 277, 216, 91, 22, 69, 307, 67, 225, 39, 154, 212, 295], \"xaxis\": \"x\", \"y\": [20, 1, 3, 9, 7, 11, 4, 1, 14, 13, 10, 11, 1, 9, 23, 2, 17, 10, 2, 11, 14, 21, 13, 1, 13, 5, 1, 19, 6, 1, 10, 1, 9, 3, 16, 11, 10, 14, 12, 7, 7, 13, 16, 16, 2, 11, 16, 17, 10, 15, 6, 6, 4, 20, 4, 7, 15, 7, 8, 13, 1, 16, 2, 30, 16, 4, 4, 7, 6, 13, 8, 21, 10, 13, 3, 9, 1, 5, 11, 2, 9, 10, 8, 26, 5, 6, 24, 6, 11, 4, 3, 5, 13, 2, 6, 4, 17, 19, 12, 12, 9, 11, 13, 4, 2, 15, 1, 1, 12, 2, 16, 11, 20, 1, 11, 5, 17, 3, 8, 2, 10, 7, 5, 1, 13, 4, 19, 7, 19, 1, 5, 1, 1, 11, 1, 12, 19, 4, 7, 8, 1, 14, 13, 16, 1, 2, 4, 4, 14, 17, 5, 22, 13, 12, 6, 3, 1, 8, 13, 15, 23, 6, 9, 7, 12, 1, 7, 1, 23, 9, 6, 9, 15, 8, 17, 16, 5, 5, 11, 18, 1, 8, 1, 9, 2, 22, 9, 5, 23, 11, 20, 7, 22, 7, 5, 21, 16, 4, 8, 9, 17, 7, 5, 12, 14, 13, 10, 5, 3, 6, 9, 5, 18, 7, 30, 14, 3, 9, 5, 9, 8, 17, 17, 2, 27, 1, 10, 7, 9, 5, 1, 11, 16, 16, 7, 19, 11, 8, 1, 9, 21, 10, 12, 1, 4, 7, 3, 2, 1, 15, 35, 12, 4, 8, 15, 6, 16, 5, 14, 13, 1, 4, 21, 5, 19, 6, 14, 1, 7, 1, 1, 1, 1, 20, 11, 19, 8, 11, 1, 14, 17, 6, 6, 4, 8, 1, 6, 21, 2, 5, 2, 16, 12, 1, 1, 16, 28, 15, 13, 3, 7, 2, 11, 2, 9, 18, 1, 13, 19, 9, 12, 6, 14, 8, 1, 7, 18, 9, 1, 3, 14, 14, 6, 8, 5, 2, 3, 2, 11, 2, 4, 12, 17, 6, 4, 4, 6, 4, 10, 1, 11, 25, 7, 35, 38, 17, 13, 23, 2, 11, 1, 25, 1, 16, 3, 40, 31, 23, 10, 1, 2, 9, 15, 7, 18, 20, 4, 27, 12, 14, 14, 21, 15, 2, 7, 11, 11, 15, 14, 3, 18, 32, 7, 18, 13, 9, 10, 13, 17, 12, 7, 15, 19, 16, 10, 2, 9, 36, 30, 9, 10, 1, 1, 7, 2, 18, 9, 1, 11, 14, 11, 8, 5, 21, 6, 13, 27, 8, 13, 1, 1, 5, 13, 3, 21, 7, 5, 11, 41, 31, 4, 16, 9, 2, 15, 4, 24, 14, 30, 18, 10, 12, 9, 12, 5, 19, 10, 1, 38, 4, 6, 11, 13, 6, 9, 11, 5, 7, 14, 16, 12, 7, 12, 11, 4, 12, 12, 4, 4, 23, 6, 13, 5, 17, 9, 14, 1, 4, 14, 18, 3, 4, 5, 1, 14, 9, 1, 6, 19, 15, 15, 6, 5, 5, 8, 8, 15, 7, 7, 34, 3, 16, 3, 4, 1, 7, 6, 12, 12, 2, 14, 8, 22, 9, 12, 16, 2, 6, 12, 9, 20, 21, 15, 2, 6, 7, 2, 4, 3, 19, 2, 9, 1, 14, 9, 22, 41, 51, 7, 8, 8, 16, 28, 23, 13, 23, 10, 4, 12, 3, 20, 5, 4, 7, 4, 15, 2, 13, 20, 2, 6, 11, 10, 12, 7, 3, 14, 16, 11, 17, 1, 15, 1, 14, 2, 30, 21, 18, 25, 6, 6, 8, 12, 41, 10, 5, 18, 16, 2, 8, 14, 4, 11, 11, 5, 34, 8, 11, 15, 10, 3, 4, 19, 5, 6, 23, 14, 38, 1, 4, 18, 22, 1, 21, 15, 7, 15, 11, 1, 14, 6, 12, 20, 20, 22, 11, 6, 1, 42, 5, 21, 22, 1, 11, 12, 2, 3, 17, 35, 16, 6, 18, 13, 35, 18, 9, 12, 8, 12, 1, 9, 7, 11, 8, 16, 4, 13, 1, 15, 7, 6, 20, 7, 15, 23, 16, 31, 17, 7, 21, 1, 8, 12, 6, 10, 9, 11, 3, 16, 13, 13, 21, 11, 13, 5, 13, 8, 9, 5, 1, 2, 8, 17, 9, 25, 1, 18, 15, 2, 5, 23, 10, 16, 7, 6, 13, 38, 3, 2, 4, 9, 18, 11, 5, 25, 6, 5, 17, 5, 5, 9, 14, 18, 11, 12, 11, 12, 1, 19, 12, 8, 4, 13, 24, 14, 20, 6, 8, 1, 8, 16, 19, 5, 18, 8, 7, 11, 2, 3, 35, 23, 9, 6, 17, 42, 12, 1, 11, 9, 8, 17, 21, 1, 17, 7, 11, 13, 6, 9, 9, 20, 11, 16, 6, 9, 8, 19, 18, 23, 20, 10, 18, 2, 2, 7, 15, 6, 2, 6, 8, 1, 2, 15, 1, 11, 13, 9, 4, 12, 5, 12, 1, 8, 12, 18, 13, 21, 4, 1, 12, 4, 13, 4, 9, 19, 12, 2, 13, 14, 6, 4, 2, 21, 10, 9, 29, 7, 6, 14, 13, 20, 8, 8, 23, 11, 13, 18, 25, 8, 5, 7, 16, 6, 27, 15, 14, 6, 12, 23, 2, 6, 15, 17, 5, 2, 17, 3, 4, 6, 2, 1, 5, 23, 1, 14, 17, 1, 2, 5, 10, 12, 14, 3, 12, 13, 6, 16, 12, 8, 8, 1, 21, 4, 3, 6, 18, 7, 14, 8, 18, 8, 3, 7, 15, 4, 1, 13, 31, 39, 13, 8, 1, 12, 30, 1, 5, 21, 7, 8, 13, 3, 13, 6, 2, 18, 18, 10, 3, 5, 7, 44, 15, 12, 9, 17, 1, 17, 11, 2, 6, 3, 17, 17, 13, 25, 18, 15, 10, 24, 23, 15, 7, 1, 42, 6, 18, 25, 9, 26, 19, 22, 3, 24, 13, 8, 26, 14, 29, 19, 8, 2, 4, 1, 10, 4, 14, 5, 25, 20, 3, 2, 11, 21, 17, 13, 33, 6, 13, 1, 15, 12, 4, 18, 14, 27, 9, 26, 12, 11, 11, 3, 9, 8, 10, 10, 1, 3, 22, 20, 4, 29, 10, 10, 17, 25, 13, 10, 14, 1, 7, 10, 11, 18, 8, 5, 9, 20, 19, 17, 10, 12, 9, 1, 30, 14, 1, 7, 16, 13, 10, 14, 17, 6, 1, 15, 13, 10, 12], \"yaxis\": \"y\"}, {\"hoverlabel\": {\"namelength\": 0}, \"hovertemplate\": \"Cluster=Cluster2<br>Recency=%{x}<br>Frequency=%{y}\", \"legendgroup\": \"Cluster=Cluster2\", \"marker\": {\"color\": \"#ab63fa\", \"symbol\": \"circle\"}, \"mode\": \"markers\", \"name\": \"Cluster=Cluster2\", \"showlegend\": true, \"type\": \"scattergl\", \"x\": [42, 15, 23, 10, 60, 14, 48, 44, 56, 16, 100, 14, 99, 6, 34, 20, 55, 37, 10, 45, 29, 8, 31, 30, 98, 30, 80, 161, 157, 9, 13, 31, 34, 34, 211, 13, 118, 13, 35, 70, 94, 63, 9, 23, 50, 321, 85, 13, 6, 16, 20, 57, 8, 9, 56, 13, 16, 6, 11, 9, 23, 48, 51, 144, 20, 91, 17, 27, 13, 20, 65, 44, 17, 60, 8, 13, 43, 10, 115, 164, 18, 23, 20, 18, 6, 22, 77, 24, 20, 94, 34, 94, 21, 6, 9, 77, 16, 70, 32, 62, 24, 8, 17, 16, 62, 196, 71, 60, 14, 13, 32, 10, 29, 36, 14, 186, 35, 46, 13, 15, 174, 15, 10, 98, 14, 17, 21, 176, 6, 15, 71, 13, 20, 21, 29, 63, 59, 39, 21, 6, 67, 73, 48, 14, 9, 20, 42, 27, 34, 233, 127, 8, 71, 55, 48, 8, 6, 59, 49, 8, 23, 48, 72, 14, 11, 53, 10, 21, 72, 20, 24, 52, 34, 20, 44, 15, 32, 29, 170, 22, 29, 21, 35, 16, 18, 52, 56, 28, 32, 28, 48, 32, 14, 49, 27, 20, 7, 114, 27, 20, 63, 171, 176, 52, 129, 13, 140, 50, 31, 14, 25, 14, 7, 213, 6, 7, 41, 143, 17, 41, 83, 65, 8, 9, 16, 14, 42, 29, 104, 9, 11, 7, 114, 10, 6, 53, 14, 31, 11, 63, 15, 13, 50, 32, 36, 69, 63, 17, 8, 17, 10, 22, 22, 9, 34, 15, 48, 29, 9, 77, 17, 35, 9, 15, 9, 18, 51, 20, 15, 21, 18, 106, 73, 9, 8, 8, 64, 41, 7, 28, 55, 22, 143, 11, 60, 15, 52, 204, 168, 35, 7, 79, 9, 41, 28, 15, 14, 32, 14, 28, 16, 22, 22, 10, 38, 11, 39, 17, 9, 13, 9, 267, 14, 66, 51, 27, 231, 7, 11, 15, 14, 58, 28, 28, 9, 14, 14, 9, 8, 28, 31, 9, 99, 41, 32, 21, 53, 8, 7, 22, 16, 9, 73, 65, 8, 41, 9, 10, 23, 43, 83, 70, 86, 10, 15, 10, 17, 35, 18, 22, 16, 6, 14, 245, 10, 53, 16, 7, 62, 27, 57, 29, 20, 6, 46, 84, 25, 69, 49, 66, 45, 15, 30, 14, 46, 39, 48, 15, 45, 73, 10, 14, 8, 48, 13, 17, 10, 60, 55, 56, 60, 25, 7, 7, 7, 6, 29, 59, 11, 14, 9, 38, 14, 78, 9, 49, 7, 24, 11, 286, 17, 63, 7, 24, 51, 17, 42, 14, 41, 65, 25, 8, 36, 9, 39, 13, 11, 10, 71, 22, 44, 63, 31, 46, 32, 30, 14, 15, 11, 119, 46, 16, 14, 25, 69, 52, 7, 18, 17, 59, 32, 14, 9, 102, 15, 9, 30, 72, 43, 44, 9, 51, 17, 29, 148, 23, 268, 29, 16, 6, 63, 211, 49, 8, 15, 77, 14, 14, 6, 8, 27, 23, 44, 16, 17, 31, 25, 102, 22, 9, 30, 14, 23, 7, 77, 9, 65, 8, 52, 59, 25, 109, 77, 15, 30, 15, 23, 11, 25, 18, 44, 6, 30, 9, 23, 10, 39, 105, 13, 25, 197, 24, 31, 53, 14, 14, 22, 44, 15, 17, 108, 122, 136, 30, 29, 21, 14, 60, 56, 14, 11, 11, 58, 45, 48, 35, 7, 55, 7, 57, 56, 114, 20, 45, 14, 91, 58, 30, 24, 42, 15, 27, 20, 9, 25, 28, 24, 107, 63, 9, 37, 46, 65, 49, 31, 7, 16, 239, 35, 85, 15, 13, 28, 8, 55, 135, 18, 72, 30, 9, 56, 38, 44, 53, 127, 85, 6, 9, 16, 31, 9, 30, 22, 326, 20, 14, 35, 9, 109, 25, 38, 24, 15, 15, 100, 21, 20, 8, 24, 113, 17, 16, 14, 14, 35, 23, 29, 11, 147, 7, 11, 13, 29, 18, 149, 25, 21, 15, 7, 18, 11, 17, 7, 25, 18, 72, 25, 62, 28, 11, 85, 144, 13, 7, 31, 22, 7, 46, 86, 52, 30, 14, 16, 80, 22, 7, 70, 7, 10, 95, 7, 128, 14, 21, 111, 6, 14, 52, 66, 164, 65, 9, 20, 21, 70, 55, 66, 7, 7, 10, 11, 11, 11, 91, 8, 48, 22, 39, 18, 13, 35, 258, 9, 10, 7, 14, 91, 45, 67, 125, 36, 129, 28, 16, 109, 10, 18, 17, 11, 36, 6, 52, 16, 7, 91, 59, 14, 51, 10, 48, 154, 14, 197, 63, 15, 10, 8, 69, 24, 53, 73, 69, 32, 287, 57, 53, 14, 15, 42, 10, 11, 58, 23, 35, 7, 55, 17, 30, 56, 71, 113, 7, 29, 10, 104, 17, 52, 31, 22, 29, 8, 9, 37, 16, 14, 55, 10, 16, 7, 55, 13, 22, 21, 92, 20, 53, 99, 65, 27, 24, 15, 88, 59, 18, 62, 186, 55, 74, 72, 23, 9, 46, 14, 44, 37, 31, 35, 28, 30, 14, 15, 25, 25, 6, 8, 10, 225, 18, 31, 6, 67, 48, 9, 18, 30, 7, 32, 14, 50, 50, 112, 8, 7, 32, 31, 21, 10, 32, 35, 14, 30, 67, 21, 10, 11, 9, 34, 88, 38, 14, 18, 24, 116, 7, 73, 55, 39, 46, 55, 28, 14, 24, 58, 35, 14, 11, 6, 27, 38, 28, 140, 127, 91, 18, 23, 226, 7, 102, 53, 18, 7, 92, 58, 48, 11, 32, 39, 18, 15, 28, 13, 22, 8, 63, 57, 11, 52, 64, 72, 6, 6, 137, 15, 6, 56, 7, 57, 10, 6, 8, 24, 18, 16, 85, 28, 18, 14, 25, 39, 11, 80, 11, 22, 11, 13, 182, 10, 9, 10, 10, 42, 8, 16, 64, 30, 29, 44, 31, 11, 72, 18, 32, 209, 183, 16, 109, 6, 51, 24, 24, 53, 147, 70, 11, 115, 9, 16, 14, 57, 81, 38, 23, 9, 52, 198, 24, 7, 6, 20, 18, 24, 25, 11, 16, 29, 30, 27, 28, 10, 29, 11, 10, 11, 10, 8, 72, 63, 11, 21, 67, 10, 16, 9, 216, 44, 56, 7, 28, 16, 87, 20, 16, 132, 22, 14, 7, 60, 35, 15, 16, 87, 29, 25, 25, 32, 7, 7, 7, 102, 80, 31, 20, 44, 53, 107, 37, 175, 56, 14, 18, 44, 81, 14, 29, 133, 52, 70, 97, 52, 10, 7, 58, 31, 17, 16, 18, 17, 31, 39, 17, 7, 30, 9, 63, 9, 10, 62, 22, 18, 32, 13, 30, 24, 7, 6, 9, 10, 6, 55, 44, 52, 7, 57, 42, 20, 20, 10, 8, 9, 8, 8, 35, 14, 28, 32, 80, 6, 13, 7, 8, 137, 16, 35, 27, 11, 23, 50, 177, 20, 14, 20, 9, 22, 199, 28, 81, 23, 18, 9, 14, 81, 77, 20, 111, 11, 8, 17, 7, 9, 22, 37, 35, 72, 22, 13, 13, 41, 14, 80, 81, 9, 27, 17, 17], \"xaxis\": \"x\", \"y\": [102, 83, 165, 58, 117, 88, 93, 104, 50, 75, 173, 65, 174, 98, 61, 54, 155, 66, 212, 178, 133, 170, 76, 364, 157, 25, 137, 112, 76, 677, 286, 281, 264, 88, 204, 63, 128, 217, 43, 85, 112, 190, 143, 96, 92, 110, 231, 293, 25, 152, 58, 81, 219, 83, 145, 81, 71, 68, 76, 115, 173, 165, 156, 97, 45, 152, 205, 78, 232, 27, 80, 87, 87, 121, 176, 375, 62, 211, 126, 94, 265, 437, 78, 76, 106, 55, 119, 135, 51, 117, 139, 216, 207, 128, 124, 113, 58, 67, 101, 615, 237, 295, 116, 96, 70, 152, 75, 131, 43, 100, 516, 93, 85, 120, 62, 236, 48, 262, 95, 136, 95, 183, 125, 97, 39, 500, 131, 252, 61, 216, 112, 132, 163, 32, 150, 102, 33, 678, 411, 335, 115, 173, 145, 55, 126, 59, 407, 136, 184, 184, 383, 226, 130, 230, 190, 62, 1330, 56, 80, 891, 583, 120, 107, 194, 69, 105, 188, 707, 95, 289, 451, 135, 93, 104, 164, 159, 422, 62, 99, 88, 69, 112, 566, 146, 114, 229, 93, 235, 232, 238, 120, 209, 123, 276, 72, 64, 124, 109, 87, 220, 57, 209, 109, 81, 305, 132, 92, 200, 78, 184, 112, 254, 57, 85, 362, 256, 163, 99, 186, 83, 200, 192, 357, 76, 589, 103, 35, 110, 125, 115, 135, 182, 172, 174, 112, 226, 96, 117, 331, 98, 197, 262, 146, 215, 114, 197, 201, 333, 153, 85, 319, 281, 184, 154, 344, 206, 28, 75, 260, 100, 74, 106, 76, 163, 63, 129, 171, 84, 86, 106, 293, 452, 45, 106, 957, 56, 107, 79, 423, 188, 104, 101, 27, 452, 364, 51, 35, 163, 97, 394, 373, 67, 388, 180, 145, 123, 54, 119, 59, 128, 534, 126, 166, 279, 174, 123, 132, 68, 63, 99, 161, 63, 90, 86, 48, 213, 80, 60, 45, 272, 227, 106, 408, 339, 131, 140, 144, 258, 73, 70, 287, 68, 100, 79, 69, 552, 620, 33, 132, 583, 164, 229, 40, 159, 96, 93, 159, 271, 55, 205, 113, 244, 166, 88, 73, 154, 180, 106, 246, 84, 240, 2646, 661, 107, 145, 182, 164, 61, 104, 373, 181, 99, 144, 227, 128, 154, 116, 86, 202, 98, 272, 134, 190, 62, 157, 219, 50, 257, 93, 67, 1227, 71, 130, 72, 93, 94, 294, 96, 137, 234, 86, 153, 228, 202, 458, 210, 192, 84, 196, 655, 330, 380, 64, 97, 103, 120, 283, 407, 110, 76, 456, 70, 144, 214, 145, 68, 120, 107, 80, 92, 235, 92, 176, 121, 790, 163, 122, 75, 250, 75, 125, 244, 260, 250, 207, 497, 193, 141, 393, 106, 175, 98, 126, 182, 107, 245, 153, 162, 82, 202, 460, 48, 108, 122, 149, 213, 110, 109, 120, 98, 1774, 431, 341, 182, 148, 54, 221, 91, 63, 1030, 84, 187, 219, 184, 91, 268, 161, 296, 199, 132, 130, 172, 142, 240, 81, 65, 336, 145, 73, 99, 167, 129, 84, 68, 101, 162, 147, 367, 174, 166, 88, 187, 153, 80, 101, 67, 174, 247, 54, 402, 72, 185, 129, 61, 160, 78, 96, 151, 98, 163, 71, 133, 169, 191, 358, 284, 115, 79, 195, 302, 329, 340, 294, 56, 285, 362, 452, 193, 73, 147, 81, 352, 102, 81, 95, 105, 224, 77, 67, 145, 77, 113, 123, 116, 132, 232, 57, 100, 251, 265, 86, 221, 96, 38, 201, 78, 230, 133, 109, 146, 59, 106, 152, 119, 141, 321, 73, 111, 127, 223, 75, 383, 88, 143, 340, 104, 116, 214, 176, 97, 134, 104, 94, 184, 59, 30, 68, 330, 77, 77, 60, 142, 89, 25, 263, 114, 143, 79, 253, 143, 169, 205, 82, 79, 170, 51, 185, 74, 323, 246, 106, 112, 151, 238, 218, 202, 167, 366, 226, 298, 637, 174, 114, 65, 144, 109, 543, 131, 183, 113, 225, 87, 462, 68, 51, 81, 478, 241, 89, 107, 77, 176, 25, 279, 192, 81, 69, 171, 130, 237, 80, 113, 839, 111, 384, 90, 100, 323, 126, 130, 195, 103, 230, 148, 1181, 94, 142, 199, 113, 92, 89, 161, 230, 77, 84, 152, 137, 155, 116, 74, 105, 218, 118, 248, 415, 86, 222, 179, 97, 42, 354, 258, 85, 296, 179, 400, 139, 282, 80, 72, 191, 125, 921, 100, 90, 283, 276, 220, 210, 145, 80, 98, 243, 141, 210, 85, 59, 65, 186, 110, 97, 121, 68, 508, 208, 133, 95, 116, 152, 204, 97, 87, 140, 41, 62, 71, 265, 93, 96, 141, 206, 81, 172, 114, 121, 137, 133, 315, 72, 103, 165, 307, 113, 98, 93, 441, 106, 100, 177, 187, 80, 123, 166, 129, 100, 68, 69, 380, 63, 174, 74, 209, 79, 169, 242, 416, 124, 238, 124, 62, 146, 185, 120, 167, 104, 361, 68, 216, 81, 257, 65, 179, 101, 223, 237, 302, 304, 428, 238, 177, 544, 115, 287, 125, 297, 179, 220, 190, 304, 114, 102, 201, 125, 199, 129, 112, 145, 125, 237, 81, 98, 107, 69, 2168, 208, 115, 275, 142, 70, 115, 168, 54, 71, 212, 367, 81, 126, 121, 100, 101, 102, 85, 80, 82, 73, 74, 157, 332, 68, 233, 441, 484, 131, 421, 223, 115, 228, 161, 193, 178, 143, 103, 181, 539, 96, 72, 140, 154, 100, 107, 205, 154, 68, 94, 155, 112, 330, 367, 224, 398, 100, 135, 77, 103, 218, 71, 75, 233, 118, 247, 295, 187, 126, 131, 72, 118, 326, 457, 96, 121, 238, 80, 589, 324, 225, 75, 152, 348, 672, 123, 171, 133, 192, 106, 28, 237, 97, 143, 241, 41, 127, 152, 71, 122, 144, 89, 63, 132, 801, 268, 157, 254, 158, 81, 197, 29, 100, 167, 232, 331, 162, 180, 266, 92, 128, 422, 90, 79, 275, 88, 171, 113, 120, 205, 148, 671, 70, 644, 170, 89, 82, 148, 162, 100, 109, 48, 72, 125, 276, 172, 177, 584, 63, 126, 471, 230, 85, 498, 329, 131, 119, 397, 216, 263, 94, 91, 170, 328, 88, 156, 226, 148, 1115, 308, 45, 110, 142, 179, 215, 209, 92, 92, 88, 119, 279, 107, 58, 410, 89, 176, 48, 1049, 196, 73, 358, 152, 154, 545, 205, 290, 161, 377, 61, 170, 100, 152, 115, 76, 96, 289, 83, 143, 116, 250, 218, 79, 76, 356, 79, 96, 122, 133, 102, 70, 134, 84, 124, 84, 279, 244, 113, 160, 500, 396, 51, 324, 143, 53, 169, 141, 114, 2499, 232, 105, 339, 88, 640, 133, 95, 135, 208, 408, 218, 48, 286, 17, 87, 98, 410, 128, 190, 196, 83, 194, 151, 227, 67, 148, 261, 112, 232, 158, 73, 16, 134, 57, 173, 513, 181, 86, 56, 195, 50, 154, 193, 44, 181, 260, 88, 286, 253, 137, 76, 304, 286, 54, 260, 283, 92, 158, 277, 80, 217, 85], \"yaxis\": \"y\"}],\n",
       "                        {\"legend\": {\"tracegroupgap\": 0}, \"margin\": {\"t\": 60}, \"template\": {\"data\": {\"bar\": [{\"error_x\": {\"color\": \"#2a3f5f\"}, \"error_y\": {\"color\": \"#2a3f5f\"}, \"marker\": {\"line\": {\"color\": \"#E5ECF6\", \"width\": 0.5}}, \"type\": \"bar\"}], \"barpolar\": [{\"marker\": {\"line\": {\"color\": \"#E5ECF6\", \"width\": 0.5}}, \"type\": \"barpolar\"}], \"carpet\": [{\"aaxis\": {\"endlinecolor\": \"#2a3f5f\", \"gridcolor\": \"white\", \"linecolor\": \"white\", \"minorgridcolor\": \"white\", \"startlinecolor\": \"#2a3f5f\"}, \"baxis\": {\"endlinecolor\": \"#2a3f5f\", \"gridcolor\": \"white\", \"linecolor\": \"white\", \"minorgridcolor\": \"white\", \"startlinecolor\": \"#2a3f5f\"}, \"type\": \"carpet\"}], \"choropleth\": [{\"colorbar\": {\"outlinewidth\": 0, \"ticks\": \"\"}, \"type\": \"choropleth\"}], \"contour\": [{\"colorbar\": {\"outlinewidth\": 0, \"ticks\": \"\"}, \"colorscale\": [[0.0, \"#0d0887\"], [0.1111111111111111, \"#46039f\"], [0.2222222222222222, \"#7201a8\"], [0.3333333333333333, \"#9c179e\"], [0.4444444444444444, \"#bd3786\"], [0.5555555555555556, \"#d8576b\"], [0.6666666666666666, \"#ed7953\"], [0.7777777777777778, \"#fb9f3a\"], [0.8888888888888888, \"#fdca26\"], [1.0, \"#f0f921\"]], \"type\": \"contour\"}], \"contourcarpet\": [{\"colorbar\": {\"outlinewidth\": 0, \"ticks\": \"\"}, \"type\": \"contourcarpet\"}], \"heatmap\": [{\"colorbar\": {\"outlinewidth\": 0, \"ticks\": \"\"}, \"colorscale\": [[0.0, \"#0d0887\"], [0.1111111111111111, \"#46039f\"], [0.2222222222222222, \"#7201a8\"], [0.3333333333333333, \"#9c179e\"], [0.4444444444444444, \"#bd3786\"], [0.5555555555555556, \"#d8576b\"], [0.6666666666666666, \"#ed7953\"], [0.7777777777777778, \"#fb9f3a\"], [0.8888888888888888, \"#fdca26\"], [1.0, \"#f0f921\"]], \"type\": \"heatmap\"}], \"heatmapgl\": [{\"colorbar\": {\"outlinewidth\": 0, \"ticks\": \"\"}, \"colorscale\": [[0.0, \"#0d0887\"], [0.1111111111111111, \"#46039f\"], [0.2222222222222222, \"#7201a8\"], [0.3333333333333333, \"#9c179e\"], [0.4444444444444444, \"#bd3786\"], [0.5555555555555556, \"#d8576b\"], [0.6666666666666666, \"#ed7953\"], [0.7777777777777778, \"#fb9f3a\"], [0.8888888888888888, \"#fdca26\"], [1.0, \"#f0f921\"]], \"type\": \"heatmapgl\"}], \"histogram\": [{\"marker\": {\"colorbar\": {\"outlinewidth\": 0, \"ticks\": \"\"}}, \"type\": \"histogram\"}], \"histogram2d\": [{\"colorbar\": {\"outlinewidth\": 0, \"ticks\": \"\"}, \"colorscale\": [[0.0, \"#0d0887\"], [0.1111111111111111, \"#46039f\"], [0.2222222222222222, \"#7201a8\"], [0.3333333333333333, \"#9c179e\"], [0.4444444444444444, \"#bd3786\"], [0.5555555555555556, \"#d8576b\"], [0.6666666666666666, \"#ed7953\"], [0.7777777777777778, \"#fb9f3a\"], [0.8888888888888888, \"#fdca26\"], [1.0, \"#f0f921\"]], \"type\": \"histogram2d\"}], \"histogram2dcontour\": [{\"colorbar\": {\"outlinewidth\": 0, \"ticks\": \"\"}, \"colorscale\": [[0.0, \"#0d0887\"], [0.1111111111111111, \"#46039f\"], [0.2222222222222222, \"#7201a8\"], [0.3333333333333333, \"#9c179e\"], [0.4444444444444444, \"#bd3786\"], [0.5555555555555556, \"#d8576b\"], [0.6666666666666666, \"#ed7953\"], [0.7777777777777778, \"#fb9f3a\"], [0.8888888888888888, \"#fdca26\"], [1.0, \"#f0f921\"]], \"type\": \"histogram2dcontour\"}], \"mesh3d\": [{\"colorbar\": {\"outlinewidth\": 0, \"ticks\": \"\"}, \"type\": \"mesh3d\"}], \"parcoords\": [{\"line\": {\"colorbar\": {\"outlinewidth\": 0, \"ticks\": \"\"}}, \"type\": \"parcoords\"}], \"pie\": [{\"automargin\": true, \"type\": \"pie\"}], \"scatter\": [{\"marker\": {\"colorbar\": {\"outlinewidth\": 0, \"ticks\": \"\"}}, \"type\": \"scatter\"}], \"scatter3d\": [{\"line\": {\"colorbar\": {\"outlinewidth\": 0, \"ticks\": \"\"}}, \"marker\": {\"colorbar\": {\"outlinewidth\": 0, \"ticks\": \"\"}}, \"type\": \"scatter3d\"}], \"scattercarpet\": [{\"marker\": {\"colorbar\": {\"outlinewidth\": 0, \"ticks\": \"\"}}, \"type\": \"scattercarpet\"}], \"scattergeo\": [{\"marker\": {\"colorbar\": {\"outlinewidth\": 0, \"ticks\": \"\"}}, \"type\": \"scattergeo\"}], \"scattergl\": [{\"marker\": {\"colorbar\": {\"outlinewidth\": 0, \"ticks\": \"\"}}, \"type\": \"scattergl\"}], \"scattermapbox\": [{\"marker\": {\"colorbar\": {\"outlinewidth\": 0, \"ticks\": \"\"}}, \"type\": \"scattermapbox\"}], \"scatterpolar\": [{\"marker\": {\"colorbar\": {\"outlinewidth\": 0, \"ticks\": \"\"}}, \"type\": \"scatterpolar\"}], \"scatterpolargl\": [{\"marker\": {\"colorbar\": {\"outlinewidth\": 0, \"ticks\": \"\"}}, \"type\": \"scatterpolargl\"}], \"scatterternary\": [{\"marker\": {\"colorbar\": {\"outlinewidth\": 0, \"ticks\": \"\"}}, \"type\": \"scatterternary\"}], \"surface\": [{\"colorbar\": {\"outlinewidth\": 0, \"ticks\": \"\"}, \"colorscale\": [[0.0, \"#0d0887\"], [0.1111111111111111, \"#46039f\"], [0.2222222222222222, \"#7201a8\"], [0.3333333333333333, \"#9c179e\"], [0.4444444444444444, \"#bd3786\"], [0.5555555555555556, \"#d8576b\"], [0.6666666666666666, \"#ed7953\"], [0.7777777777777778, \"#fb9f3a\"], [0.8888888888888888, \"#fdca26\"], [1.0, \"#f0f921\"]], \"type\": \"surface\"}], \"table\": [{\"cells\": {\"fill\": {\"color\": \"#EBF0F8\"}, \"line\": {\"color\": \"white\"}}, \"header\": {\"fill\": {\"color\": \"#C8D4E3\"}, \"line\": {\"color\": \"white\"}}, \"type\": \"table\"}]}, \"layout\": {\"annotationdefaults\": {\"arrowcolor\": \"#2a3f5f\", \"arrowhead\": 0, \"arrowwidth\": 1}, \"coloraxis\": {\"colorbar\": {\"outlinewidth\": 0, \"ticks\": \"\"}}, \"colorscale\": {\"diverging\": [[0, \"#8e0152\"], [0.1, \"#c51b7d\"], [0.2, \"#de77ae\"], [0.3, \"#f1b6da\"], [0.4, \"#fde0ef\"], [0.5, \"#f7f7f7\"], [0.6, \"#e6f5d0\"], [0.7, \"#b8e186\"], [0.8, \"#7fbc41\"], [0.9, \"#4d9221\"], [1, \"#276419\"]], \"sequential\": [[0.0, \"#0d0887\"], [0.1111111111111111, \"#46039f\"], [0.2222222222222222, \"#7201a8\"], [0.3333333333333333, \"#9c179e\"], [0.4444444444444444, \"#bd3786\"], [0.5555555555555556, \"#d8576b\"], [0.6666666666666666, \"#ed7953\"], [0.7777777777777778, \"#fb9f3a\"], [0.8888888888888888, \"#fdca26\"], [1.0, \"#f0f921\"]], \"sequentialminus\": [[0.0, \"#0d0887\"], [0.1111111111111111, \"#46039f\"], [0.2222222222222222, \"#7201a8\"], [0.3333333333333333, \"#9c179e\"], [0.4444444444444444, \"#bd3786\"], [0.5555555555555556, \"#d8576b\"], [0.6666666666666666, \"#ed7953\"], [0.7777777777777778, \"#fb9f3a\"], [0.8888888888888888, \"#fdca26\"], [1.0, \"#f0f921\"]]}, \"colorway\": [\"#636efa\", \"#EF553B\", \"#00cc96\", \"#ab63fa\", \"#FFA15A\", \"#19d3f3\", \"#FF6692\", \"#B6E880\", \"#FF97FF\", \"#FECB52\"], \"font\": {\"color\": \"#2a3f5f\"}, \"geo\": {\"bgcolor\": \"white\", \"lakecolor\": \"white\", \"landcolor\": \"#E5ECF6\", \"showlakes\": true, \"showland\": true, \"subunitcolor\": \"white\"}, \"hoverlabel\": {\"align\": \"left\"}, \"hovermode\": \"closest\", \"mapbox\": {\"style\": \"light\"}, \"paper_bgcolor\": \"white\", \"plot_bgcolor\": \"#E5ECF6\", \"polar\": {\"angularaxis\": {\"gridcolor\": \"white\", \"linecolor\": \"white\", \"ticks\": \"\"}, \"bgcolor\": \"#E5ECF6\", \"radialaxis\": {\"gridcolor\": \"white\", \"linecolor\": \"white\", \"ticks\": \"\"}}, \"scene\": {\"xaxis\": {\"backgroundcolor\": \"#E5ECF6\", \"gridcolor\": \"white\", \"gridwidth\": 2, \"linecolor\": \"white\", \"showbackground\": true, \"ticks\": \"\", \"zerolinecolor\": \"white\"}, \"yaxis\": {\"backgroundcolor\": \"#E5ECF6\", \"gridcolor\": \"white\", \"gridwidth\": 2, \"linecolor\": \"white\", \"showbackground\": true, \"ticks\": \"\", \"zerolinecolor\": \"white\"}, \"zaxis\": {\"backgroundcolor\": \"#E5ECF6\", \"gridcolor\": \"white\", \"gridwidth\": 2, \"linecolor\": \"white\", \"showbackground\": true, \"ticks\": \"\", \"zerolinecolor\": \"white\"}}, \"shapedefaults\": {\"line\": {\"color\": \"#2a3f5f\"}}, \"ternary\": {\"aaxis\": {\"gridcolor\": \"white\", \"linecolor\": \"white\", \"ticks\": \"\"}, \"baxis\": {\"gridcolor\": \"white\", \"linecolor\": \"white\", \"ticks\": \"\"}, \"bgcolor\": \"#E5ECF6\", \"caxis\": {\"gridcolor\": \"white\", \"linecolor\": \"white\", \"ticks\": \"\"}}, \"title\": {\"x\": 0.05}, \"xaxis\": {\"automargin\": true, \"gridcolor\": \"white\", \"linecolor\": \"white\", \"ticks\": \"\", \"title\": {\"standoff\": 15}, \"zerolinecolor\": \"white\", \"zerolinewidth\": 2}, \"yaxis\": {\"automargin\": true, \"gridcolor\": \"white\", \"linecolor\": \"white\", \"ticks\": \"\", \"title\": {\"standoff\": 15}, \"zerolinecolor\": \"white\", \"zerolinewidth\": 2}}}, \"xaxis\": {\"anchor\": \"y\", \"domain\": [0.0, 1.0], \"title\": {\"text\": \"Recency\"}}, \"yaxis\": {\"anchor\": \"x\", \"domain\": [0.0, 1.0], \"title\": {\"text\": \"Frequency\"}}},\n",
       "                        {\"responsive\": true}\n",
       "                    ).then(function(){\n",
       "                            \n",
       "var gd = document.getElementById('f9a3ff90-4c9d-4ca8-86f7-8150f73d3dd3');\n",
       "var x = new MutationObserver(function (mutations, observer) {{\n",
       "        var display = window.getComputedStyle(gd).display;\n",
       "        if (!display || display === 'none') {{\n",
       "            console.log([gd, 'removed!']);\n",
       "            Plotly.purge(gd);\n",
       "            observer.disconnect();\n",
       "        }}\n",
       "}});\n",
       "\n",
       "// Listen for the removal of the full notebook cells\n",
       "var notebookContainer = gd.closest('#notebook-container');\n",
       "if (notebookContainer) {{\n",
       "    x.observe(notebookContainer, {childList: true});\n",
       "}}\n",
       "\n",
       "// Listen for the clearing of the current output cell\n",
       "var outputEl = gd.closest('.output');\n",
       "if (outputEl) {{\n",
       "    x.observe(outputEl, {childList: true});\n",
       "}}\n",
       "\n",
       "                        })\n",
       "                };\n",
       "                \n",
       "            </script>\n",
       "        </div>\n",
       "</body>\n",
       "</html>"
      ]
     },
     "metadata": {
      "tags": []
     },
     "output_type": "display_data"
    },
    {
     "data": {
      "text/html": [
       "<html>\n",
       "<head><meta charset=\"utf-8\" /></head>\n",
       "<body>\n",
       "    <div>\n",
       "            <script src=\"https://cdnjs.cloudflare.com/ajax/libs/mathjax/2.7.5/MathJax.js?config=TeX-AMS-MML_SVG\"></script><script type=\"text/javascript\">if (window.MathJax) {MathJax.Hub.Config({SVG: {font: \"STIX-Web\"}});}</script>\n",
       "                <script type=\"text/javascript\">window.PlotlyConfig = {MathJaxConfig: 'local'};</script>\n",
       "        <script src=\"https://cdn.plot.ly/plotly-latest.min.js\"></script>    \n",
       "            <div id=\"029ce055-9eb3-419b-a76b-b84b382b4c83\" class=\"plotly-graph-div\" style=\"height:525px; width:100%;\"></div>\n",
       "            <script type=\"text/javascript\">\n",
       "                \n",
       "                    window.PLOTLYENV=window.PLOTLYENV || {};\n",
       "                    \n",
       "                if (document.getElementById(\"029ce055-9eb3-419b-a76b-b84b382b4c83\")) {\n",
       "                    Plotly.newPlot(\n",
       "                        '029ce055-9eb3-419b-a76b-b84b382b4c83',\n",
       "                        [{\"hoverlabel\": {\"namelength\": 0}, \"hovertemplate\": \"Cluster=Cluster0<br>Monetary=%{x}<br>Frequency=%{y}\", \"legendgroup\": \"Cluster=Cluster0\", \"marker\": {\"color\": \"#636efa\", \"symbol\": \"circle\"}, \"mode\": \"markers\", \"name\": \"Cluster=Cluster0\", \"showlegend\": true, \"type\": \"scattergl\", \"x\": [372.8600000000001, 300.93, 343.79999999999995, 317.75999999999993, 488.2099999999999, 321.35, 917.6999999999999, 774.6200000000001, 763.0500000000002, 503.15, 1407.7000000000003, 767.9799999999999, 258.90000000000003, 1120.45, 1433.33, 816.8500000000003, 931.4300000000006, 853.6500000000001, 1031.3, 346.9, 1352.6200000000001, 503.01, 291.56, 763.08, 1579.0700000000002, 964.2100000000002, 762.4800000000002, 303.50000000000006, 297.29, 1142.8800000000003, 859.2000000000002, 173.55, 485.31000000000006, 301.58, 768.6, 490.32, 632.68, 830.09, 454.3599999999999, 326.65, 426.26000000000005, 708.0999999999999, 1037.2800000000002, 452.0000000000001, 393.71999999999997, 955.2, 539.2499999999999, 580.08, 1336.5599999999997, 385.70000000000005, 973.7299999999998, 1367.8899999999996, 732.9399999999998, 276.5, 481.8799999999999, 980.2500000000002, 1575.6799999999998, 916.4700000000001, 468.49999999999994, 1185.1799999999998, 556.8700000000002, 622.8199999999999, 826.8900000000004, 637.2, 743.88, 886.0999999999999, 2145.06, 1511.0099999999998, 415.78999999999996, 417.79999999999995, 804.8799999999999, 490.0, 826.2699999999999, 793.95, 263.74999999999994, 1950.98, 1188.16, 1248.42, 764.2400000000001, 2622.481000000001, 619.5000000000001, 957.2500000000002, 395.1, 847.1099999999999, 973.6800000000003, 825.0200000000002, 851.9100000000001, 638.1100000000001, 722.9799999999998, 1339.0499999999993, 1698.8300000000006, 233.84, 829.2500000000001, 529.25, 1201.52, 925.4100000000002, 268.27, 347.8, 782.95, 320.08, 1404.58, 949.8199999999999, 1895.0, 300.08, 519.4499999999999, 953.4499999999999, 1230.3300000000004, 788.4499999999999, 728.4999999999999, 398.52000000000004, 444.90000000000003, 266.93, 863.5100000000001, 426.46999999999997, 471.85, 1533.8899999999996, 584.2499999999999, 1071.82, 1092.81, 325.36999999999995, 330.34999999999997, 422.44999999999993, 1266.63, 534.99, 519.0500000000001, 1687.8000000000009, 524.94, 540.5200000000001, 4742.0, 518.63, 528.56, 1315.1999999999998, 799.0000000000002, 322.64, 765.3599999999999, 612.8400000000004, 147.26999999999998, 575.0999999999999, 668.23, 640.0000000000001, 337.66999999999996, 1653.3000000000002, 948.4199999999998, 640.1299999999998, 385.4600000000001, 329.29999999999984, 263.37999999999994, 296.21000000000004, 366.4, 833.5300000000001, 1018.4200000000003, 508.9099999999999, 924.5199999999998, 811.1000000000004, 1534.7799999999997, 323.8600000000002, 597.5999999999999, 1535.7000000000003, 377.4900000000002, 496.4999999999999, 437.16, 324.45, 304.03999999999996, 498.9599999999999, 413.8199999999999, 467.3399999999999, 1322.0700000000002, 211.99, 1161.1999999999998, 474.63999999999993, 517.7000000000002, 490.08, 753.51, 546.0, 261.05999999999995, 844.87, 355.5, 884.02, 920.0799999999999, 497.65000000000015, 293.18, 485.98, 382.66, 330.12, 1310.9900000000005, 618.9600000000002, 759.1300000000003, 555.8699999999999, 757.7200000000001, 679.8, 279.90999999999997, 442.32, 1010.7299999999999, 799.13, 503.63999999999993, 319.94000000000005, 751.5600000000001, 1106.7000000000003, 709.59, 561.25, 393.05, 522.9, 418.08, 1378.74, 2017.2000000000007, 439.32999999999987, 236.11000000000004, 1976.0000000000005, 505.79999999999995, 594.21, 465.70000000000005, 610.62, 526.96, 748.46, 347.49, 506.74999999999994, 885.33, 681.65, 504.85, 405.1, 805.0, 1207.3400000000004, 307.12000000000006, 359.38, 458.7300000000001, 333.8200000000001, 541.1400000000001, 831.45, 572.3100000000001, 359.69, 570.66, 164.69000000000003, 136.73000000000002, 1271.0600000000002, 1233.0600000000004, 966.66, 758.6499999999997, 2617.9000000000005, 516.8000000000001, 805.9200000000002, 571.3400000000001, 346.49999999999994, 642.9999999999999, 305.9, 1265.1300000000003, 112.53000000000004, 429.0, 635.2599999999998, 558.72, 897.52, 252.68000000000004, 399.3, 1920.7099999999998, 504.94999999999993, 373.15999999999985, 722.56, 360.85, 238.85999999999996, 264.9, 893.12, 350.84999999999997, 655.47, 734.9100000000001, 781.5900000000001, 927.61, 415.5699999999999, 815.7899999999998, 900.7700000000002, 705.1099999999999, 1076.2000000000003, 913.6199999999999, 917.5700000000002, 249.57999999999996, 409.16999999999996, 679.4, 1655.17, 1015.7399999999999, 1575.26, 603.75, 1553.6500000000005, 1450.5000000000002, 731.3600000000001, 510.2, 498.1, 754.8700000000003, 422.80000000000007, 1013.5799999999999, 1164.59, 835.46, 186.93999999999994, 508.55000000000007, 1131.45, 872.5100000000001, 1647.7399999999996, 641.36, 1198.8999999999999, 487.34999999999997, 429.44000000000005, 1103.64, 784.17, 1028.6599999999999, 572.7699999999999, 423.92999999999995, 276.7600000000001, 439.1000000000001, 658.3200000000002, 1132.6200000000003, 637.4400000000002, 702.9000000000001, 1295.2500000000007, 424.2599999999999, 419.87, 619.0799999999999, 424.71000000000004, 1160.4099999999996, 1002.3500000000001, 931.1199999999999, 705.4499999999999, 592.24, 2235.1200000000013, 419.75, 823.0000000000003, 1364.59, 550.42, 627.82, 476.92, 299.53, 1544.79, 488.5, 462.18, 619.4900000000002, 663.7, 374.6999999999999, 295.84999999999997, 1182.0000000000005, 717.85, 938.0200000000004, 632.3900000000001, 785.25, 1439.6099999999997, 514.1399999999999, 364.92999999999984, 465.1499999999999, 167.07999999999996, 223.27999999999997, 342.54999999999995, 499.59999999999974, 614.2700000000003, 404.45000000000005, 664.001, 243.30000000000004, 684.54, 961.1, 741.0900000000001, 976.8100000000001, 784.4800000000005, 396.71, 601.92, 466.67, 596.2800000000001, 717.6199999999999, 522.67, 400.3, 232.05000000000007, 818.29, 1039.8500000000004, 747.2799999999999, 283.85, 734.57, 224.93999999999997, 658.95, 462.0800000000001, 449.80999999999995, 607.43, 312.93, 1016.4700000000003, 159.92000000000002, 326.24999999999983, 1393.5600000000004, 699.2000000000002, 306.6399999999999, 172.60000000000002, 551.2400000000002, 281.25999999999993, 529.75, 337.0400000000001, 212.77999999999994, 1626.08, 2020.3999999999996, 451.73, 455.57, 348.34, 326.06, 1263.7000000000003, 537.5800000000002, 740.76, 318.28999999999996, 994.23, 213.00999999999993, 740.6700000000001, 724.7300000000001, 487.03, 434.7799999999999, 1232.0200000000002, 477.3200000000001, 1320.1000000000001, 404.45, 1353.3100000000004, 1076.8499999999997, 881.5199999999998, 2165.76, 875.97, 785.3699999999999, 301.54, 1049.66, 945.7900000000001, 372.06000000000006, 650.9900000000001, 877.2200000000003, 1542.09, 447.43999999999994, 542.49, 913.4599999999998, 239.45999999999998, 836.2999999999998, 289.7, 1179.4499999999998, 1121.24, 1061.8400000000006, 572.7299999999999, 524.65, 1398.6100000000004, 678.1999999999999, 1502.0000000000002, 652.7500000000001, 255.59000000000003, 557.6899999999998, 316.56, 620.37, 651.4000000000003, 319.75000000000006, 442.72999999999996, 1310.34, 753.5300000000001, 273.26, 346.72999999999996, 933.77, 1482.6000000000004, 919.5700000000002, 649.3200000000002, 1508.7000000000003, 332.44000000000005, 1145.3300000000004, 395.5, 1415.4500000000003, 849.5600000000001, 530.47, 869.64, 282.84999999999997, 1275.8100000000006, 975.8700000000002, 730.7000000000003, 692.9499999999999, 359.27, 563.0799999999999, 721.2800000000003, 992.4100000000001, 854.1499999999999, 446.76000000000005, 3125.0, 221.10999999999999, 458.2499999999999, 470.72999999999985, 538.4000000000001, 438.90000000000003, 996.6100000000002, 384.26000000000005, 846.55, 834.38, 519.81, 568.68, 331.13999999999993, 682.5400000000001, 609.8400000000001, 759.9799999999999, 895.7600000000001, 376.46, 566.6999999999999, 1410.6799999999996, 1234.4799999999998, 509.03999999999996, 404.3000000000001, 445.1499999999999, 457.8199999999999, 611.5499999999998, 1443.03, 606.2099999999999, 352.15000000000003, 318.04, 713.11, 10396.5, 689.75, 302.59999999999997, 338.75999999999993, 241.29999999999998, 795.32, 469.18999999999994, 917.43, 891.0200000000001, 1250.8700000000001, 225.81000000000006, 321.59999999999997, 792.6100000000001, 1070.0799999999997, 231.11000000000004, 373.29999999999984, 637.9999999999997, 9530.080000000002, 311.7699999999999, 422.8599999999999, 527.3199999999998, 977.5600000000002, 622.67, 458.45, 362.41999999999996, 436.17999999999995, 466.32999999999987, 1467.48, 168.22, 670.98, 671.34, 3857.85, 2106.8, 679.4500000000002, 553.8000000000001, 251.15, 711.7, 370.45, 621.5100000000002, 369.01999999999987, 339.10999999999996, 308.3500000000001, 678.7700000000001, 278.3399999999999, 293.74, 356.80000000000007, 1603.6000000000001, 390.05, 868.3299999999997, 906.3000000000002, 446.09999999999997, 847.76, 339.34, 856.8500000000001, 415.30999999999995, 1119.6599999999999, 1192.2, 310.74, 543.8900000000001, 882.6000000000001, 770.3399999999998, 745.5, 1046.84, 979.8000000000002, 309.90999999999997, 1441.5500000000004, 1573.1300000000003, 1253.78, 471.14, 357.1499999999999, 616.79, 730.3699999999999, 350.99, 601.03, 1491.7300000000005, 824.28, 322.93, 843.1699999999996, 354.84999999999997, 482.84999999999997, 1189.3799999999999, 982.9400000000002, 628.4400000000002, 704.3999999999999, 1374.41, 375.3399999999999, 456.4, 1352.0400000000004, 742.9000000000001, 277.94, 1058.0800000000002, 492.1, 716.69, 1370.3400000000004, 494.8499999999999, 868.96, 687.3100000000002, 474.1, 701.61, 757.1300000000001, 1077.2000000000003, 689.0999999999999, 285.90000000000003, 400.0599999999999, 634.6800000000002, 469.1299999999998, 1175.78, 860.0800000000004, 871.2600000000001, 917.0600000000001, 423.26000000000016, 854.5500000000001, 707.7899999999998, 1157.7700000000002, 1503.2399999999998, 656.1599999999996, 643.4700000000009, 902.3499999999999, 524.6499999999999, 202.85000000000005, 1251.65, 1656.2599999999998, 651.4099999999999, 661.3899999999999, 900.1799999999998, 516.28, 1220.9, 280.7, 221.64999999999992, 189.93, 548.5, 645.1899999999999, 399.9, 617.7199999999996, 228.06999999999996, 659.1600000000001, 262.24, 400.95000000000005, 266.05, 711.2300000000001, 1020.4700000000001, 749.0599999999997, 225.8899999999999, 1111.5500000000002, 940.6899999999999, 773.8800000000002, 258.65, 376.34, 1516.6500000000003, 982.5899999999999, 1038.0299999999997, 934.23, 624.3599999999999, 587.6899999999999, 691.8599999999999, 343.70999999999975, 815.6900000000005, 655.5, 640.5400000000002, 760.0999999999999, 2660.0, 919.7000000000003, 369.94000000000005, 395.68999999999994, 160.00000000000003, 420.2199999999998, 504.4399999999998, 271.05, 705.0999999999997, 254.99999999999997, 423.85, 222.21999999999994, 457.89, 471.84, 1567.79, 884.64, 604.3300000000002, 877.6999999999998, 295.13, 951.7600000000002, 788.88, 896.8, 1212.21, 588.2200000000001, 462.75, 1326.0400000000006, 338.65, 1018.7100000000004, 986.0800000000002, 1416.9599999999998, 498.94999999999976, 601.97, 635.0599999999997, 490.59999999999974, 913.9500000000003, 190.46999999999997, 1127.45, 347.59, 419.22000000000014, 403.39, 376.20000000000005, 228.5199999999999, 773.6800000000001, 422.6299999999999, 992.4599999999999, 1534.2199999999998, 688.95, 593.4699999999998, 880.96, 258.96, 367.53999999999996, 746.05, 958.0700000000002, 235.77, 109.07, 309.1000000000001, 341.9, 597.1599999999999, 195.14999999999998, 1056.4199999999998, 374.05, 2389.62, 507.4499999999999, 497.24999999999994, 579.8499999999997, 1331.1500000000005, 593.5, 909.8800000000001, 382.80999999999995, 594.6199999999999, 406.55999999999995, 307.55999999999995, 476.87999999999994, 396.91, 633.9900000000001, 550.57, 536.1499999999999, 504.13999999999993, 686.7600000000001, 446.5899999999999, 170.50000000000006, 495.7599999999999, 184.34, 767.47, 1676.5699999999997, 485.85999999999996, 769.92, 915.2800000000001, 437.4, 1039.55, 901.07, 1511.7000000000005, 726.8899999999999, 816.6, 1397.08, 425.8499999999999, 832.8, 691.5999999999999, 552.3499999999999, 571.76, 837.0600000000001, 702.9600000000002, 605.0500000000001, 1404.6800000000007, 1021.4, 1773.97, 1123.75, 629.4000000000001, 843.7400000000004, 620.9600000000002, 308.19999999999993, 612.8100000000001, 1770.0, 1065.1199999999997, 531.4899999999999, 746.5600000000001, 758.97, 515.0, 458.25999999999993, 1518.8100000000002, 353.65, 906.23, 1190.8200000000006, 429.6599999999999, 237.78, 1058.14, 563.1000000000001, 304.17, 314.66999999999996, 210.49999999999997, 442.2900000000001, 338.31000000000006, 199.10999999999996, 277.4, 416.6, 429.77999999999986, 450.84999999999985, 198.46999999999997, 617.8299999999999, 579.8899999999999, 1461.63, 397.76, 2333.3199999999997, 98.70000000000003, 549.1199999999999, 1766.4600000000007, 621.5399999999996, 737.0500000000002, 473.49000000000007, 817.46, 566.8899999999999, 2428.0799999999995, 546.2500000000001, 965.2, 565.9000000000001, 318.65, 660.2700000000002, 1160.41, 554.67, 795.9800000000001, 620.8499999999998, 498.15000000000003, 509.75000000000006, 639.56, 934.1900000000002, 449.48999999999995, 312.68, 824.48, 823.4, 502.5199999999999, 889.44, 1388.4699999999998, 304.17999999999995, 1033.81, 518.1400000000001, 1089.4400000000005, 383.96999999999997, 718.0400000000001, 431.10999999999996, 119.92000000000003, 487.75, 569.2200000000001, 345.71, 988.0400000000003, 948.9299999999998, 639.93, 283.19, 991.79, 1298.99, 834.4399999999999, 588.05, 313.69999999999993, 797.9, 377.71, 549.0499999999998, 606.4100000000003, 6001.49, 683.92, 845.01, 389.49, 426.2400000000001, 662.1999999999999, 549.2799999999999, 1269.0900000000001, 690.3000000000001, 1293.7199999999998, 610.6000000000001, 620.06, 1362.63, 1136.89, 787.9900000000001, 1182.38, 239.86999999999998, 454.66, 732.9100000000002, 961.9, 816.5599999999998, 491.1699999999996, 496.16, 284.4, 348.59000000000003, 369.34, 653.31, 207.03999999999994, 3484.53, 650.1600000000001, 797.9600000000002, 1634.64, 492.4799999999999, 711.18, 434.5999999999999, 1388.8099999999995, 767.9099999999999, 373.02, 277.9299999999999, 343.69999999999993, 547.5999999999999, 613.08, 678.11, 1352.9600000000003, 1211.75, 1174.5500000000002, 1293.7200000000003, 625.2, 468.6499999999998, 2233.8, 659.4799999999999, 586.0999999999999, 257.06, 465.1599999999998, 1234.88, 588.5000000000001, 449.42, 742.9999999999999, 668.97, 954.7499999999999, 1269.0499999999997, 1254.2100000000003, 399.74999999999994, 226.85999999999999, 502.44999999999993, 962.9700000000001, 335.7, 583.56, 1993.3400000000004, 1061.6900000000003, 1285.3300000000006, 210.84999999999997, 246.49999999999997, 399.9499999999998, 349.87, 152.41, 210.57999999999998, 344.60999999999996, 430.7799999999998, 311.3699999999999, 541.4699999999998, 3358.4, 247.38, 135.32999999999998, 1079.1, 652.7, 1109.3999999999996, 536.88, 597.2300000000001, 95.96000000000001, 547.34, 1139.1, 307.34, 488.3199999999999, 1199.3100000000002, 738.57, 1604.21, 692.3, 433.7199999999999, 828.5500000000002, 389.18, 391.71999999999997, 566.8999999999999, 596.6700000000001, 311.1, 719.8199999999999, 574.2300000000001, 639.7599999999998, 443.1599999999999, 526.9700000000003, 553.8799999999999, 612.76, 906.1500000000002, 867.5999999999998, 632.94, 648.4000000000002, 1563.5400000000004, 318.23999999999995, 190.57, 434.5, 721.0599999999998, 1170.1100000000004, 1441.040000000001, 898.8700000000005, 420.25, 453.92999999999995, 658.02, 456.70000000000005, 740.0000000000003, 321.9100000000001, 544.6, 605.7, 923.8499999999999, 327.67999999999995, 465.45000000000005, 13916.34, 1223.1100000000001, 370.6299999999999, 516.0, 1006.5400000000002, 138.84, 1017.54, 715.5000000000001, 307.95000000000005, 1399.3600000000001, 848.3299999999998, 933.8400000000001, 1433.96, 777.0, 1535.3700000000001, 537.2, 530.1800000000002, 1513.84, 913.6199999999998, 758.6700000000002, 689.11, 954.5899999999999, 890.9399999999997, 943.9700000000004, 385.03, 1518.35, 548.8000000000001, 714.5100000000002, 107.01000000000002, 433.3, 438.4599999999999, 286.25999999999993, 506.0199999999998, 412.99999999999983, 1449.1399999999996, 330.7699999999999, 329.0299999999999, 871.78, 1027.15, 260.85, 535.65, 151.43999999999997, 549.29, 335.98999999999995, 962.5000000000003, 758.62, 810.0800000000002, 205.98999999999995, 364.4499999999999, 407.0699999999998, 214.08, 401.64000000000016, 452.22999999999985, 369.50000000000006, 127.08000000000003, 2190.66, 282.7900000000001, 330.2299999999999, 1839.1400000000003, 2304.1799999999994, 553.8499999999999, 304.95, 617.6, 492.3599999999999, 357.7699999999999, 542.8899999999999, 410.94999999999993, 451.28999999999996, 289.48, 426.5300000000001, 404.5499999999999, 460.95000000000005, 703.2199999999998, 1702.98, 324.50999999999993, 1572.8600000000001, 216.70000000000005, 582.1099999999998, 368.3099999999997, 854.6099999999997, 761.4099999999997, 694.5400000000003, 583.39, 231.41999999999987, 453.45, 289.23, 487.02999999999986, 232.96000000000006, 1113.74, 473.61999999999995, 654.32, 456.3999999999999, 1103.3500000000001, 1082.6000000000001, 340.84, 818.7899999999998, 1327.9800000000002, 541.9499999999999, 457.7000000000001, 750.5600000000001, 252.49999999999994, 736.93, 2300.4, 283.79, 385.4, 1033.8, 1739.92, 263.49, 770.0799999999999, 447.05000000000007, 1264.3500000000004, 841.3000000000003, 582.6400000000001, 460.6399999999998, 549.33, 422.18999999999994, 1297.4499999999998, 595.3800000000003, 987.48, 664.2000000000002, 422.7, 910.3499999999998, 475.74, 832.4200000000001, 335.54, 796.9000000000002, 628.3199999999999, 884.5900000000001, 435.8300000000001, 1386.1200000000001, 744.3400000000001, 1237.1999999999998, 798.8499999999999, 414.70000000000005, 3354.0, 739.1, 315.97999999999996, 629.3600000000001, 942.75, 521.64, 534.5300000000001, 1884.1600000000008, 543.5699999999999, 603.37, 975.5000000000002, 498.5, 321.24, 417.0499999999999, 713.0000000000002, 885.7099999999999, 1078.0, 821.3500000000005, 401.94, 295.09000000000003, 876.9399999999999, 340.9399999999998, 312.6199999999999, 755.1500000000002, 348.15999999999997, 823.5299999999999, 896.0600000000002, 717.5700000000004, 351.7499999999999, 1591.2400000000007, 1818.7900000000004, 551.4599999999999, 1361.96, 1139.2800000000002, 205.79999999999995, 864.4800000000005, 951.5099999999999, 1313.6700000000003, 487.5, 381.6599999999999, 1194.9200000000003, 2560.0, 460.0800000000001, 850.8600000000002, 373.46999999999997, 2037.6999999999998, 417.21, 263.73000000000013, 285.54, 741.3199999999999, 613.3300000000002, 224.51000000000008, 328.77, 416.35, 204.09999999999997, 892.1500000000001, 946.83, 1220.83, 549.8100000000001, 1111.1500000000003, 309.48999999999995, 247.84999999999988, 353.09999999999997, 774.45, 765.59, 788.0999999999997, 467.5000000000001, 538.8100000000001, 222.20000000000002, 205.64999999999992, 374.0099999999999, 681.9700000000001, 231.93000000000004, 457.1999999999999, 259.83000000000004, 424.9599999999999, 496.49, 397.62, 504.9899999999999, 526.2699999999999, 638.4899999999999, 817.0899999999999, 1161.8899999999999, 1003.0700000000005, 319.14, 301.25, 637.93, 282.67999999999984, 352.64999999999986, 471.18999999999994, 178.13000000000008, 1193.8100000000004, 746.1799999999998, 746.2399999999999, 2869.1600000000003, 712.62, 966.0300000000003, 789.5999999999997, 350.34999999999997, 209.39999999999995, 801.6600000000001, 385.56, 780.46, 731.2500000000001, 443.04999999999995, 258.54999999999995, 240.95, 475.0499999999999, 433.35999999999996, 306.18999999999994, 426.8499999999999, 1004.8800000000001, 1053.7400000000002, 635.9000000000002, 378.2899999999999, 395.06999999999994, 205.75000000000003, 424.0299999999999, 1315.0000000000002, 1629.79, 223.86, 599.3499999999999, 1331.0299999999997, 850.34, 540.87, 380.0, 297.95, 998.8300000000002, 605.9000000000001, 741.11, 434.29999999999995, 357.66, 673.5999999999999, 885.7900000000001, 1320.9500000000003, 406.4, 472.99999999999994, 490.47, 389.11999999999995, 435.59999999999997, 678.7999999999998, 327.84, 382.14000000000004, 932.7600000000001, 151.05, 555.7, 608.86, 769.7799999999997, 880.6200000000001, 637.75, 701.62, 994.5999999999999, 1110.8299999999997, 664.1600000000001, 533.41, 1217.45, 621.5600000000004, 654.9600000000002, 705.14, 463.42999999999995, 226.91, 1072.9700000000003, 420.7499999999998, 755.51, 249.65, 905.9599999999999, 220.96999999999997, 174.16, 623.0, 391.95, 533.7800000000001, 513.08, 841.1600000000008, 452.7799999999998, 582.6099999999999, 630.7499999999993, 1002.29, 812.7400000000002, 532.5, 406.0200000000001, 1051.7100000000003, 392.13000000000005, 316.1, 881.59, 1302.5100000000004, 485.5, 530.4999999999999, 570.76, 614.34, 628.0899999999999, 421.45, 323.09000000000003, 1184.6000000000001, 1610.6200000000003, 772.8300000000002, 662.33, 409.24999999999994, 384.5599999999999, 450.1600000000001, 533.11, 209.88999999999996, 136.01000000000005, 641.1299999999998, 234.18999999999994, 465.8399999999999, 434.20000000000005, 947.9800000000004, 236.56000000000006, 900.6299999999998, 424.71000000000004, 851.3300000000002, 255.24999999999994, 921.4999999999999, 1460.3600000000001, 355.45, 255.03, 611.0800000000008, 262.31999999999994, 530.86, 286.39000000000004, 196.25000000000003, 433.84999999999997, 548.7300000000001, 433.75, 628.22, 778.4899999999999, 560.39, 749.0000000000001, 926.1200000000002, 496.00000000000006, 424.5499999999999, 1007.7400000000001, 394.37, 256.55, 1041.2099999999996, 1950.95, 666.6500000000001, 406.3, 1077.82, 828.2099999999999, 1012.2200000000001, 622.36, 853.49, 360.60999999999996, 552.4, 1367.6, 935.6200000000005, 1182.22, 800.1800000000001, 1152.8699999999997, 433.07, 1593.8300000000002, 1421.3000000000002, 530.9000000000001, 630.7700000000001, 1954.99, 583.71, 488.23999999999995, 1264.05, 1188.3300000000002, 1146.3300000000002, 465.59999999999985, 232.85000000000002, 294.74, 133.17999999999998, 401.66999999999985, 669.91, 1105.53, 1248.09, 591.0699999999999, 582.1700000000001, 885.3199999999999, 424.29999999999984, 474.03000000000003, 481.57999999999987, 410.42, 336.6, 197.57000000000002, 389.78000000000003, 432.17999999999995, 631.87, 1155.03, 1220.91, 696.2499999999999, 880.9700000000001, 1485.3600000000004, 640.7600000000001, 591.8700000000001, 713.0300000000001, 560.7100000000002, 856.0100000000001, 406.68, 400.2, 638.8100000000002, 596.19, 432.9599999999998, 795.4700000000001, 229.45999999999995, 569.8800000000002, 610.7399999999999, 549.8799999999999, 562.9799999999998, 327.75, 356.71, 853.3200000000008, 615.2700000000001, 292.62000000000006, 595.6999999999999, 251.72000000000003, 567.5600000000001, 642.14, 1250.8600000000006, 501.9799999999999, 369.97999999999996, 1013.1300000000001, 679.44, 806.95, 1754.2400000000002, 181.89000000000004, 529.1499999999999, 198.29, 490.21999999999997, 417.29999999999995, 221.5899999999999, 268.28, 205.13999999999996, 970.2500000000001, 491.8099999999999, 601.4499999999999, 204.29999999999995, 465.40000000000003, 502.4899999999999, 797.8499999999999, 623.0800000000004, 188.46, 407.9399999999999, 237.80999999999997, 338.13, 455.83999999999986, 336.61999999999995, 393.64, 131.14999999999998, 2135.46, 1151.04, 4511.76, 237.64, 124.45000000000006, 644.5199999999999, 512.77, 312.34999999999997, 475.42, 838.2699999999998, 328.13, 497.03999999999996, 1227.54, 299.73999999999995, 674.1600000000001, 612.3810000000002, 1401.0800000000002, 1502.0, 273.31, 768.2499999999999, 500.1999999999999, 632.27, 383.59, 711.8100000000002, 920.4599999999998, 236.97000000000003, 520.58, 250.44000000000003, 645.0, 836.8800000000001, 1415.81, 381.1499999999999, 1476.3000000000002, 516.87, 552.8999999999999, 646.44, 560.1400000000001, 1471.5200000000002, 485.59999999999997, 1059.4100000000003, 420.53999999999996, 832.5400000000001, 266.80000000000007, 331.3500000000001, 369.6799999999999, 1034.3200000000002, 1030.41, 213.07999999999993, 659.3999999999997, 617.1800000000001, 321.65, 224.80999999999992, 607.0, 489.85999999999996, 1144.3000000000002, 1272.8, 370.40999999999997, 775.6399999999999, 658.18, 747.85, 309.16, 1141.8399999999997, 718.51, 1289.6399999999999, 645.5999999999999, 313.35, 182.61999999999998, 329.41999999999996, 554.85, 394.13999999999993, 739.1999999999998, 1240.2500000000002, 970.1199999999999, 1445.4699999999998, 1176.8400000000001, 1011.6999999999998, 727.8499999999999, 627.9599999999998, 2270.0, 565.43, 259.17, 1040.85, 537.8999999999996, 392.38, 374.44999999999976, 205.23999999999998, 496.2599999999999, 903.8700000000003, 304.37999999999994, 325.29999999999995, 1271.6800000000003, 176.71, 1504.6999999999998, 409.98, 297.0699999999998, 1393.6600000000008, 633.0200000000002, 333.81000000000006, 296.06999999999994, 392.19999999999993, 1795.22, 1130.2099999999998, 725.1500000000002, 641.4000000000001, 470.16, 732.55, 1265.58, 506.6700000000001, 1112.2000000000003, 439.69999999999993, 418.8700000000001, 710.4000000000001, 835.33, 561.59, 563.1, 1319.6399999999999, 300.66, 1585.5000000000002, 731.2, 819.01, 432.67999999999995, 304.20000000000005, 317.08000000000004, 489.6499999999999, 1412.85, 980.6999999999999, 441.9999999999999, 296.09999999999997, 456.8999999999999, 620.8500000000001, 533.5600000000001, 293.49999999999994, 1257.18, 376.9199999999999, 1092.06, 438.6500000000001, 468.88000000000005, 741.69, 426.90000000000003, 326.74000000000007, 600.34, 793.9300000000001, 351.66, 157.85999999999999, 382.05999999999995, 441.91999999999996, 631.3399999999999, 741.0199999999998, 299.60999999999996, 187.2999999999999, 575.3699999999999, 330.55999999999995, 346.56, 679.02, 271.44000000000005, 736.2799999999999, 368.3499999999998, 178.06999999999996, 770.0300000000002, 184.65999999999997, 383.7799999999998, 437.8699999999999, 262.64000000000004, 373.15999999999985, 591.96, 400.46999999999997, 180.60999999999999, 449.2500000000001, 701.9599999999999, 133.34000000000003, 388.84000000000015, 338.46000000000004, 689.6700000000001, 175.90000000000003, 596.0899999999999, 457.96000000000004, 543.47, 757.2400000000008, 208.96999999999997, 321.71999999999997, 805.3000000000001, 424.17999999999984, 227.14999999999998, 913.05, 235.87, 3424.02, 999.48, 291.5599999999999, 324.07999999999987, 703.2699999999999, 545.0500000000001, 381.09000000000003, 396.3900000000001, 536.2799999999999, 638.2, 2239.1, 344.90000000000003, 540.35, 144.29000000000005, 360.34999999999997, 627.5400000000001, 465.4199999999999, 564.55, 643.1599999999999, 261.76000000000005, 865.49, 223.42, 321.7899999999999, 201.27, 171.71, 288.41999999999996, 207.33, 896.7700000000001, 252.88000000000002, 225.98999999999998, 419.38, 482.33, 639.2399999999999, 509.0100000000001, 244.36999999999998, 353.51, 524.8299999999999, 215.22000000000003, 410.7899999999999, 476.8999999999999, 216.41000000000003, 2074.0699999999997, 451.2999999999999, 335.52000000000004, 546.34, 326.08999999999986, 222.64, 500.9200000000001, 337.6599999999999, 2282.28, 603.9000000000001, 1185.4600000000005, 912.1500000000001, 1122.4, 1019.44, 389.4, 590.78, 463.5299999999999, 704.7500000000001, 955.8000000000004, 321.90000000000003, 360.85, 2346.1899999999996, 1723.0400000000002, 527.9399999999998, 451.56, 399.60999999999984, 165.87999999999997, 577.8100000000002, 193.47999999999993, 405.8499999999999, 420.66999999999996, 180.7, 209.05, 399.28999999999996, 220.12999999999997, 444.99999999999994, 567.7099999999999, 847.0300000000003, 536.4099999999999, 882.4699999999999, 941.88, 1226.0899999999997, 533.41, 186.88000000000002, 365.8199999999999, 371.51, 728.84, 1206.0000000000002, 875.45, 754.3799999999999, 724.8900000000003, 1279.5499999999997, 461.1600000000001, 963.5900000000001, 3188.2000000000003, 770.5599999999994, 447.53, 332.09999999999997, 544.4699999999999, 1780.3399999999997, 479.92, 1616.48, 383.32999999999987, 913.11, 588.7499999999999, 913.9000000000001, 1372.7199999999998, 515.7800000000001, 568.64, 839.7300000000001, 1015.4200000000004, 2059.67, 428.05999999999995, 603.25, 1464.7300000000002, 168.6, 680.85, 1307.4000000000003, 741.85, 1069.67, 307.54999999999995, 461.68000000000006, 1296.4300000000007], \"xaxis\": \"x\", \"y\": [33, 21, 18, 20, 22, 19, 18, 35, 37, 13, 82, 41, 8, 46, 49, 43, 65, 51, 59, 22, 68, 25, 20, 40, 62, 55, 47, 10, 20, 71, 32, 11, 21, 20, 10, 29, 22, 46, 23, 18, 25, 34, 49, 22, 27, 42, 28, 33, 48, 22, 60, 72, 43, 13, 39, 43, 49, 47, 26, 39, 91, 38, 54, 34, 36, 42, 63, 74, 16, 22, 35, 20, 42, 44, 21, 43, 8, 31, 23, 45, 32, 112, 21, 40, 46, 32, 49, 41, 53, 60, 64, 15, 47, 15, 67, 23, 62, 21, 27, 16, 68, 43, 16, 15, 26, 64, 72, 42, 18, 24, 26, 16, 28, 22, 27, 25, 34, 50, 55, 66, 16, 26, 56, 32, 25, 45, 21, 19, 13, 24, 76, 63, 14, 51, 35, 67, 37, 21, 37, 39, 37, 31, 48, 36, 25, 56, 18, 27, 17, 41, 54, 25, 67, 51, 69, 32, 32, 44, 27, 25, 28, 20, 17, 31, 23, 49, 70, 40, 77, 49, 56, 30, 38, 14, 14, 49, 22, 48, 58, 31, 16, 30, 21, 12, 65, 39, 36, 31, 42, 7, 18, 15, 55, 35, 27, 21, 12, 78, 40, 25, 17, 24, 27, 29, 62, 47, 20, 24, 8, 43, 25, 10, 15, 35, 23, 45, 61, 23, 36, 23, 4, 84, 21, 25, 27, 16, 47, 46, 34, 19, 17, 59, 46, 78, 86, 57, 104, 45, 32, 8, 33, 61, 24, 16, 72, 40, 22, 148, 29, 12, 25, 19, 39, 19, 39, 38, 19, 48, 15, 62, 22, 44, 49, 53, 10, 28, 48, 57, 48, 57, 35, 57, 23, 23, 44, 64, 55, 87, 33, 66, 34, 42, 20, 23, 39, 17, 34, 71, 31, 71, 34, 69, 60, 51, 16, 22, 34, 43, 31, 101, 49, 40, 23, 67, 111, 24, 25, 48, 113, 59, 25, 38, 57, 23, 73, 62, 34, 38, 28, 49, 64, 48, 78, 38, 41, 31, 20, 62, 15, 24, 30, 17, 17, 17, 44, 42, 49, 32, 10, 47, 160, 54, 55, 44, 61, 42, 89, 62, 91, 43, 56, 39, 22, 31, 43, 143, 17, 57, 86, 35, 21, 53, 24, 34, 50, 59, 69, 35, 63, 45, 32, 22, 25, 37, 19, 44, 48, 58, 61, 38, 40, 64, 106, 50, 79, 26, 54, 43, 24, 38, 23, 46, 36, 72, 23, 80, 22, 52, 42, 63, 39, 29, 89, 71, 31, 31, 19, 45, 62, 52, 28, 33, 48, 19, 63, 35, 41, 40, 125, 10, 12, 30, 55, 18, 29, 22, 78, 40, 61, 32, 13, 74, 22, 65, 89, 40, 52, 16, 31, 40, 18, 26, 73, 40, 21, 21, 50, 66, 57, 37, 51, 20, 67, 25, 68, 42, 34, 52, 38, 74, 49, 44, 23, 20, 33, 45, 65, 51, 21, 5, 52, 27, 67, 19, 24, 24, 21, 13, 46, 13, 52, 22, 46, 61, 45, 33, 44, 31, 34, 47, 32, 32, 24, 32, 34, 37, 33, 19, 18, 50, 9, 86, 41, 56, 65, 23, 24, 19, 49, 84, 41, 41, 38, 79, 36, 70, 145, 13, 43, 40, 114, 59, 22, 15, 13, 24, 28, 57, 46, 43, 44, 14, 25, 44, 39, 51, 65, 15, 64, 44, 15, 52, 50, 34, 14, 22, 9, 20, 52, 16, 18, 29, 16, 51, 25, 12, 5, 18, 36, 17, 31, 38, 32, 33, 19, 38, 69, 35, 26, 19, 93, 39, 10, 23, 80, 51, 16, 48, 19, 31, 23, 57, 41, 35, 34, 23, 27, 40, 28, 22, 13, 22, 32, 31, 26, 50, 56, 13, 41, 49, 37, 41, 19, 25, 51, 26, 44, 38, 139, 82, 56, 42, 53, 48, 22, 41, 74, 21, 117, 23, 64, 69, 12, 39, 27, 22, 35, 74, 32, 42, 36, 36, 69, 77, 47, 26, 48, 41, 44, 98, 52, 39, 41, 70, 56, 28, 41, 29, 27, 33, 70, 76, 87, 50, 69, 97, 196, 15, 106, 33, 12, 47, 22, 39, 30, 72, 59, 43, 120, 31, 34, 53, 79, 29, 23, 9, 38, 14, 19, 48, 35, 40, 67, 38, 29, 62, 21, 50, 31, 36, 127, 83, 81, 68, 42, 56, 55, 45, 124, 24, 13, 96, 25, 55, 67, 82, 42, 42, 55, 62, 25, 83, 66, 45, 25, 59, 41, 53, 36, 63, 88, 28, 26, 26, 34, 71, 9, 95, 18, 47, 20, 16, 28, 25, 24, 37, 81, 38, 18, 69, 28, 56, 41, 35, 82, 20, 70, 74, 12, 49, 22, 52, 101, 43, 42, 63, 16, 50, 30, 33, 23, 39, 72, 80, 36, 57, 29, 40, 50, 21, 20, 23, 4, 16, 32, 19, 40, 27, 30, 23, 47, 13, 76, 49, 39, 15, 98, 42, 21, 27, 41, 51, 46, 50, 20, 121, 85, 27, 72, 77, 26, 45, 48, 23, 81, 45, 114, 33, 28, 31, 31, 32, 31, 31, 27, 19, 41, 50, 27, 50, 31, 20, 18, 34, 52, 25, 21, 20, 34, 31, 32, 80, 17, 46, 29, 102, 24, 27, 19, 33, 27, 59, 23, 52, 26, 38, 22, 33, 29, 40, 35, 42, 27, 21, 30, 31, 3, 24, 47, 22, 28, 14, 21, 62, 44, 74, 39, 11, 74, 63, 49, 57, 16, 32, 39, 22, 33, 129, 29, 44, 27, 16, 39, 52, 6, 38, 54, 45, 26, 41, 29, 100, 44, 21, 58, 20, 30, 40, 35, 50, 21, 69, 16, 9, 20, 5, 32, 15, 16, 69, 40, 36, 68, 56, 38, 36, 57, 57, 112, 60, 30, 56, 19, 25, 38, 53, 64, 25, 20, 69, 51, 26, 25, 37, 72, 35, 58, 14, 16, 31, 12, 47, 62, 32, 114, 39, 98, 38, 22, 31, 71, 44, 96, 45, 27, 42, 29, 31, 24, 39, 19, 32, 26, 44, 16, 50, 36, 28, 39, 53, 67, 39, 35, 25, 27, 12, 37, 53, 87, 110, 25, 14, 38, 17, 85, 23, 12, 41, 17, 19, 16, 2, 69, 25, 15, 28, 37, 85, 18, 17, 18, 43, 57, 18, 15, 83, 56, 115, 43, 40, 23, 26, 32, 26, 51, 28, 45, 25, 36, 29, 26, 22, 59, 69, 80, 11, 51, 96, 50, 37, 27, 10, 34, 79, 53, 51, 40, 76, 13, 113, 130, 39, 47, 55, 11, 21, 29, 19, 21, 32, 26, 35, 18, 18, 104, 58, 71, 26, 42, 55, 27, 80, 15, 13, 7, 45, 67, 50, 94, 86, 51, 76, 110, 29, 70, 137, 28, 126, 22, 19, 34, 32, 32, 60, 34, 19, 36, 52, 24, 25, 52, 25, 41, 8, 38, 20, 40, 10, 47, 39, 30, 54, 30, 37, 88, 73, 59, 38, 140, 55, 17, 28, 37, 26, 36, 20, 48, 35, 38, 22, 63, 44, 42, 40, 17, 23, 26, 19, 18, 10, 42, 51, 21, 13, 37, 54, 23, 20, 23, 28, 54, 16, 88, 25, 21, 16, 85, 44, 46, 21, 63, 48, 53, 65, 78, 20, 32, 22, 22, 30, 34, 45, 74, 20, 25, 75, 3, 28, 48, 78, 34, 46, 54, 35, 44, 71, 15, 31, 48, 28, 45, 59, 60, 96, 52, 29, 61, 44, 48, 58, 83, 21, 101, 38, 54, 90, 57, 45, 92, 37, 56, 98, 61, 40, 38, 127, 22, 73, 125, 40, 21, 61, 76, 117, 34, 31, 32, 51, 48, 24, 43, 49, 39, 24, 35, 48, 23, 55, 43, 23, 41, 43, 28, 18, 53, 20, 59, 61, 36, 40, 41, 29, 38, 56, 49, 34, 8, 30, 58, 33, 23, 18, 20, 29, 51, 39, 22, 23, 46, 76, 27, 25, 31, 20, 28, 29, 19, 18, 62, 28, 33, 23, 44, 47, 19, 109, 62, 91, 54, 65, 11, 83, 82, 84, 25, 32, 66, 51, 59, 39, 83, 55, 37, 39, 25, 35, 90, 169, 92, 53, 151, 75, 110, 19, 73, 36, 12, 16, 52, 45, 24, 31, 34, 32, 36, 25, 17, 58, 43, 43, 35, 17, 50, 28, 11, 31, 32, 48, 40, 65, 52, 82, 40, 101, 50, 127, 35, 17, 41, 23, 33, 122, 85, 69, 83, 49, 41, 32, 24, 71, 70, 38, 82, 45, 28, 28, 40, 25, 13, 74, 28, 38, 30, 35, 111, 26, 18, 85, 36, 41, 21, 69, 48, 49, 33, 30, 95, 27, 28, 41, 44, 57, 31, 63, 77, 58, 113, 26, 50, 41, 25, 25, 29, 63, 18, 40, 31, 32, 19, 51, 23, 37, 47, 47, 23, 34, 37, 71, 74, 112, 55, 53, 39, 46, 29, 52, 25, 21, 24, 27, 31, 78, 44, 60, 12, 32, 31, 93, 25, 133, 22, 60, 38, 53, 25, 62, 85, 38, 33, 53, 60, 17, 44, 35, 41, 36, 108, 55, 43, 74, 46, 24, 125, 48, 48, 52, 53, 6, 115, 15, 44, 46, 33, 39, 58, 44, 54, 9, 6, 7, 24, 35, 136, 33, 86, 71, 95, 20, 36, 35, 36, 77, 73, 42, 6, 33, 67, 88, 104, 28, 109, 35, 58, 34, 31, 10, 16, 40, 48, 23, 45, 23, 34, 10, 15, 27, 58, 17, 56, 39, 15, 52, 54, 65, 32, 108, 30, 19, 49, 34, 31, 44, 40, 24, 53, 40, 27, 21, 62, 31, 50, 12, 43, 56, 77, 33, 37, 17, 82, 44, 83, 144, 39, 31, 29, 4, 159, 28, 29, 146, 29, 62, 54, 24, 60, 44, 49, 93, 42, 54, 10, 63, 95, 145, 22, 103, 42, 40, 38, 47, 33, 30, 31, 74, 72, 68, 31, 34, 46, 46, 37, 19, 26, 11, 51, 14, 46, 26, 19, 22, 33, 66, 26, 19, 23, 19, 39, 33, 20, 71, 26, 64, 23, 32, 43, 9, 15, 28, 30, 22, 32, 69, 43, 51, 78, 22, 46, 55, 80, 79, 29, 38, 31, 52, 45, 81, 27, 91, 89, 33, 55, 13, 101, 41, 100, 27, 33, 66, 31, 58, 50, 47, 24, 84, 103, 17, 42, 17, 62, 18, 73, 15, 4, 56, 53, 31, 64, 96, 45, 40, 17, 23, 10, 20, 35, 29, 72, 13, 29, 149, 109, 35, 45, 61, 57, 31, 24, 85, 29, 28, 52, 60, 27, 67, 58, 75, 53, 23, 41, 50, 63, 47, 32, 17, 63, 104, 8, 83, 52, 87, 18, 55, 13, 75, 27, 43, 43, 44, 13, 40, 6, 42, 54, 25, 25, 27, 86, 30, 69, 38, 30, 35, 27, 36, 29, 21, 42, 62, 28, 17, 50, 54, 42, 75, 68, 26, 50, 26, 46, 33, 38, 26, 19, 48, 62, 27, 54, 21, 138, 27, 40, 31, 58, 18, 23, 20, 49, 37, 55, 62, 26, 19, 37, 40, 50, 29, 36, 66, 7, 21, 60, 19, 56, 20, 28, 67], \"yaxis\": \"y\"}, {\"hoverlabel\": {\"namelength\": 0}, \"hovertemplate\": \"Cluster=Cluster3<br>Monetary=%{x}<br>Frequency=%{y}\", \"legendgroup\": \"Cluster=Cluster3\", \"marker\": {\"color\": \"#EF553B\", \"symbol\": \"circle\"}, \"mode\": \"markers\", \"name\": \"Cluster=Cluster3\", \"showlegend\": true, \"type\": \"scattergl\", \"x\": [1323.3199999999997, 3735.51, 7205.38999999999, 11308.480000000027, 6765.07, 626.77, 4308.580000000001, 11086.140000000001, 14201.530000000008, 17080.740000000027, 11745.69000000001, 4220.209999999999, 2601.190000000001, 21107.939999999995, 2797.5299999999993, 2478.9399999999996, 5061.030000000002, 22457.900000000132, 5218.709999999999, 3078.6500000000005, 552.08, 1481.0300000000007, 4480.310000000002, 3472.6099999999974, 3062.519999999997, 4217.230000000001, 19333.95000000004, 258.75, 1744.96, 4782.879999999997, 402.35999999999996, 6477.669999999998, 5185.509999999992, 2326.349999999999, 16904.510000000006, 57885.45000000009, 5189.320000000002, 5272.829999999997, 6357.079999999995, 1658.9000000000003, 1898.6100000000013, 790.7099999999998, 778.4200000000002, 2212.110000000003, 6621.5999999999885, 6615.770000000001, 3457.8300000000013, 1036.2100000000005, 5236.769999999999, 3545.47, 11236.949999999997, 6251.709999999993, 4323.970000000001, 308.28000000000003, 1847.5900000000001, 7670.539999999997, 6619.570000000001, 3329.3899999999976, 972.2800000000003, 1180.6799999999998, 1136.64, 1254.7200000000003, 15310.35000000003, 497.7399999999999, 1071.9999999999998, 5013.96, 1304.8800000000008, 1475.770000000001, 3999.2299999999977, 6226.429999999998, 18320.169999999995, 3003.9099999999985, 30501.26, 3127.9900000000002, 422.2, 4795.090000000002, 1245.9100000000033, 2244.290000000001, 2080.0, 4144.4400000000005, 1171.89, 2347.3299999999995, 4266.879999999995, 2511.0799999999995, 4479.819999999998, 1128.0900000000001, 5839.459999999985, 23632.720000000016, 1874.6799999999994, 6784.010000000001, 3378.6599999999994, 4369.469999999987, 5607.429999999997, 4953.609999999997, 2182.46, 1160.3099999999997, 1626.61, 1411.9100000000003, 4842.279999999993, 4120.32, 2221.37, 10533.869999999992, 2443.77, 840.0500000000004, 1404.0400000000004, 1696.6400000000003, 873.3400000000001, 4281.049999999999, 966.2700000000001, 982.8600000000009, 1256.6000000000004, 19257.080000000213, 18482.100000000184, 12418.01000000002, 1674.41, 3427.4399999999973, 1085.9099999999999, 2752.510000000002, 6579.260000000002, 8385.22, 2785.1000000000004, 1736.5700000000004, 4082.759999999998, 2865.0500000000025, 3415.3799999999997, 888.9100000000004, 1230.1500000000003, 2698.1699999999983, 6460.32, 1614.4500000000003, 860.1099999999998, 2664.6900000000005, 152121.2199999996, 666.1299999999999, 1387.45, 3127.97, 7681.709999999969, 826.91, 5287.639999999997, 2414.179999999998, 521.7799999999999, 8821.550000000005, 579.6699999999998, 19960.300000000047, 83284.38000000002, 8018.769999999987, 2871.7400000000002, 1460.9199999999998, 2018.6999999999998, 816.9300000000002, 937.0700000000003, 4811.159999999992, 383.0700000000001, 2062.2, 2146.95, 1574.510000000001, 4659.469999999998, 2533.0899999999997, 55942.73999999985, 4892.680000000004, 1162.0000000000002, 1770.230000000001, 2336.0000000000014, 664.6600000000007, 8703.209999999994, 1788.8000000000002, 1134.8500000000008, 5281.53, 12633.180000000015, 3548.3400000000015, 12992.329999999996, 1116.72, 7267.829999999996, 5105.319999999997, 4076.969999999998, 1723.4500000000007, 1932.6400000000006, 2782.02, 1354.35, 1212.1299999999999, 3173.8999999999987, 4331.409999999998, 969.1899999999998, 654.09, 1913.5500000000004, 4330.460999999996, 14482.030000000017, 1557.3799999999997, 40519.92, 17703.630000000037, 2508.769999999998, 1498.8000000000002, 5224.809999999999, 979.6199999999997, 1279.6000000000006, 4129.259999999991, 1874.8299999999997, 646.27, 1990.8, 2119.2600000000016, 680.6199999999999, 2458.8999999999996, 5735.089999999996, 617.0699999999997, 2485.9999999999995, 980.9100000000003, 1985.630000000001, 1718.6600000000008, 1992.1300000000022, 1637.140000000001, 1743.6, 316.9200000000001, 4292.349999999997, 2485.8899999999994, 7210.589999999986, 1992.98, 6848.869999999999, 17403.210000000006, 1325.7999999999995, 1429.0300000000002, 1680.1999999999994, 2284.3400000000015, 2408.9599999999996, 560.55, 6874.969999999999, 3323.749999999999, 1766.7800000000007, 473.6899999999999, 2441.609999999998, 673.2400000000002, 28904.67000000002, 327.68, 1427.5699999999993, 11535.29000000001, 7069.269999999998, 5535.019999999997, 329.48, 749.8100000000004, 1110.2, 690.83, 663.3100000000001, 4091.159999999999, 3823.7800000000025, 7619.209999999976, 3127.8499999999985, 3006.079999999998, 2174.1299999999997, 4258.2699999999995, 1361.2300000000007, 22554.220000000012, 7732.369999999964, 2062.4099999999985, 5781.440000000001, 1200.1500000000008, 5716.1399999999985, 4292.5899999999965, 495.7199999999999, 249.88999999999984, 496.26, 1360.3100000000009, 722.050000000001, 2515.760000000003, 629.4000000000002, 2535.2100000000005, 790.74, 1748.1500000000008, 5416.35, 2703.0299999999997, 2506.540000000003, 645.8099999999998, 4601.689999999995, 3961.44, 363.65999999999997, 2726.7700000000004, 521.6600000000001, 1729.4299999999998, 2401.0700000000006, 2226.9599999999973, 433.9899999999999, 1081.8600000000004, 1269.8900000000008, 11920.429999999991, 1239.1099999999997, 1504.26, 3000.5000000000005, 1695.1500000000008, 1311.6400000000003, 119.0, 9935.930000000002, 1006.53, 14174.249999999998, 19726.759999999995, 2461.6799999999985, 2704.6299999999997, 2273.9500000000003, 14562.910000000025, 469.41, 52422.30000000001, 975.5600000000002, 1679.7999999999995, 2422.2, 84541.1699999999, 3265.449999999999, 2970.139999999999, 725.2099999999997, 5266.770000000004, 519.9499999999997, 2075.7399999999993, 3141.3999999999987, 1013.5400000000001, 830.63, 17885.32, 1378.16, 20329.68000000003, 1982.4500000000005, 2685.2000000000003, 10245.48999999999, 1572.9700000000005, 2006.3200000000002, 4134.909999999996, 3773.109999999997, 661.0400000000002, 405.48, 75.76000000000002, 3786.6999999999994, 29562.02000000036, 1803.2, 7614.239999999997, 717.3900000000002, 2585.1999999999994, 599.78, 1213.7999999999997, 2325.9199999999987, 1292.390000000001, 1968.7500000000011, 20137.240000000103, 947.2600000000003, 1618.9300000000028, 4558.009999999997, 2527.17, 1159.99, 338.4099999999999, 4536.289999999993, 287.9099999999999, 4381.78, 4369.5599999999995, 975.6299999999999, 1699.2499999999995, 7111.180000000003, 349164.3500000001, 1828.2400000000005, 1068.0500000000006, 1493.12, 7539.839999999994, 3526.8100000000004, 1979.6000000000006], \"xaxis\": \"x\", \"y\": [71, 76, 286, 572, 174, 34, 193, 303, 434, 827, 514, 197, 153, 290, 143, 155, 153, 2532, 60, 145, 30, 75, 262, 277, 366, 46, 814, 16, 95, 120, 57, 599, 657, 233, 443, 1543, 127, 188, 187, 112, 111, 75, 79, 196, 797, 88, 677, 155, 215, 183, 479, 234, 108, 14, 98, 425, 302, 99, 48, 72, 59, 68, 1159, 123, 67, 163, 100, 96, 203, 192, 427, 150, 194, 116, 25, 112, 287, 149, 6, 71, 64, 137, 470, 137, 233, 77, 609, 528, 101, 122, 68, 763, 609, 122, 199, 51, 84, 81, 230, 98, 73, 197, 172, 60, 106, 52, 42, 86, 60, 131, 148, 1725, 3802, 775, 89, 366, 25, 363, 145, 196, 95, 102, 205, 411, 268, 138, 69, 189, 38, 242, 70, 131, 5568, 32, 13, 253, 1303, 228, 439, 216, 68, 73, 142, 1272, 584, 353, 98, 76, 15, 52, 55, 182, 23, 29, 330, 91, 250, 137, 2038, 154, 36, 146, 311, 219, 579, 17, 230, 165, 457, 145, 254, 138, 773, 455, 559, 99, 82, 163, 10, 71, 188, 77, 101, 42, 206, 356, 632, 156, 42, 504, 291, 219, 589, 52, 275, 597, 168, 28, 85, 237, 11, 201, 447, 78, 237, 139, 257, 231, 353, 167, 98, 26, 287, 122, 678, 67, 211, 158, 156, 53, 321, 264, 123, 28, 626, 80, 79, 76, 430, 157, 342, 28, 256, 179, 552, 320, 18, 46, 54, 64, 18, 221, 569, 707, 167, 177, 240, 194, 120, 718, 1546, 336, 463, 65, 89, 127, 30, 87, 123, 263, 102, 310, 103, 105, 32, 97, 172, 464, 324, 90, 724, 273, 96, 333, 77, 166, 124, 249, 51, 77, 149, 697, 196, 9, 363, 101, 102, 5, 357, 198, 1343, 65, 143, 146, 112, 401, 28, 88, 60, 88, 73, 948, 140, 78, 152, 499, 90, 280, 154, 29, 39, 423, 86, 408, 120, 126, 383, 83, 104, 206, 559, 141, 85, 38, 178, 4944, 6, 193, 162, 128, 56, 3, 356, 221, 222, 1057, 133, 281, 515, 181, 67, 81, 475, 62, 222, 82, 61, 149, 61, 627, 227, 284, 89, 305, 47, 50], \"yaxis\": \"y\"}, {\"hoverlabel\": {\"namelength\": 0}, \"hovertemplate\": \"Cluster=Cluster1<br>Monetary=%{x}<br>Frequency=%{y}\", \"legendgroup\": \"Cluster=Cluster1\", \"marker\": {\"color\": \"#00cc96\", \"symbol\": \"circle\"}, \"mode\": \"markers\", \"name\": \"Cluster=Cluster1\", \"showlegend\": true, \"type\": \"scattergl\", \"x\": [222.16000000000003, 130.0, 500.24, 143.94, 234.75000000000003, 205.25, 591.6600000000001, 63.24, 320.38, 241.34999999999997, 390.0, 202.56, 56.73, 132.79999999999998, 211.95000000000002, 285.29999999999995, 357.4, 45.339999999999996, 1126.0, 297.00000000000006, 386.7999999999999, 316.47999999999996, 175.78, 129.23, 249.24, 70.0, 77.52, 299.02000000000004, 104.2, 21.0, 140.14000000000001, 141.0, 249.79999999999995, 97.05000000000001, 261.35, 162.00000000000003, 239.4, 250.6, 211.15000000000003, 89.14, 134.6, 110.95, 339.75000000000006, 277.93, 3710.5, 155.35, 406.07000000000005, 254.54999999999998, 168.69000000000003, 282.3, 124.25, 98.7, 55.5, 337.39999999999986, 181.5, 381.0, 219.35000000000002, 128.08, 92.30000000000001, 236.06, 15.58, 208.00000000000003, 330.0, 148.95000000000005, 54.22, 68.25, 152.45, 363.38, 1013.76, 222.4, 509.5, 157.35, 297.75, 340.33000000000004, 1026.0, 223.98, 10953.5, 35.28, 197.31, 181.65, 252.48000000000002, 162.45, 150.95000000000002, 132.24, 122.45, 385.55, 264.15000000000003, 93.35000000000001, 175.25, 234.0, 50.550000000000004, 65.3, 323.39, 30.0, 307.1, 155.8, 127.65, 209.48000000000002, 188.39999999999998, 129.22, 135.4, 199.07999999999998, 222.65, 91.67999999999999, 122.39999999999999, 313.64, 419.70000000000005, 72.0, 321.88000000000005, 20.6, 234.37999999999997, 134.9, 148.62, 263.5, 233.25, 90.65, 275.45000000000005, 24.4, 449.9699999999999, 17.65, 372.20000000000005, 429.68, 127.20000000000002, 69.6, 229.75, 86.10000000000001, 105.33999999999999, 412.08, 373.0100000000001, 2803.2, 285.6, 81.6, 132.5, 76.23, 88.5, 204.25, 253.09, 51.410000000000004, 149.75, 336.6, 590.0, 181.05, 279.7, 307.95, 208.63, 95.45, 61.72, 53.65, 258.34, 284.86000000000007, 124.75, 310.26, 281.76, 262.40000000000003, 299.40000000000003, 62.4, 305.28000000000003, 91.14, 213.00000000000003, 275.4, 310.83000000000004, 154.5, 568.9200000000001, 228.3, 217.02999999999997, 46.5, 241.89999999999998, 139.8, 219.86999999999998, 148.22, 82.4, 151.45, 271.46999999999997, 154.25, 327.37999999999994, 176.07999999999998, 135.0, 282.76, 220.45999999999998, 402.98, 89.5, 87.6, 152.39999999999998, 200.82000000000002, 990.0, 174.57999999999998, 147.66, 107.75, 162.53, 241.68, 127.28000000000002, 136.35000000000002, 298.9000000000001, 167.35000000000002, 112.34000000000002, 301.26, 310.14000000000004, 405.0, 132.65, 152.2, 325.24000000000007, 43.25, 195.0, 233.53, 240.67999999999998, 243.9, 258.6, 375.5, 349.5, 266.59999999999997, 161.00000000000003, 135.18, 300.37999999999994, 329.04, 161.35, 217.39999999999992, 75.3, 176.69, 169.79999999999998, 164.45, 195.55, 352.82099999999997, 190.34999999999997, 623.98, 161.12999999999997, 3.75, 188.39999999999998, 96.0, 126.03000000000002, 61.28, 102.0, 156.85, 324.19, 260.7, 139.95, 310.7199999999999, 187.35000000000002, 314.7, 662.4000000000001, 634.6800000000001, 388.55, 165.45000000000002, 312.65000000000003, 42.0, 136.8, 124.94999999999999, 42.22, 70.80000000000001, 320.0, 246.54000000000002, 200.43000000000004, 193.25, 85.6, 123.66, 264.13, 142.7, 209.41, 79.48, 229.75000000000003, 367.15, 109.44, 115.08000000000001, 431.9799999999999, 312.05, 390.8500000000001, 219.4, 115.66000000000001, 243.63, 150.5, 39.95, 2.95, 0.0, 214.79999999999998, 447.05000000000007, 183.37, 286.71, 305.5, 332.7, 30.599999999999998, 309.09000000000003, 233.39999999999992, 148.70999999999998, 135.0, 135.16, 123.5, 79.9, 132.9, 379.20000000000005, 157.8, 287.38000000000005, 120.0, 366.4200000000001, 363.4, 1000.63, 40.56, 295.73, 101.86000000000001, 256.6, 205.82999999999996, 191.86, 245.15, 1147.02, 206.19, 109.80000000000001, 158.02000000000004, 245.47999999999993, 445.05, 200.63, 339.88, 310.75, 249.88, 82.60000000000001, 214.71000000000004, 227.47, 136.0, 108.0, 215.46, 131.24999999999997, 48.96, 58.5, 135.60000000000002, 266.4, 93.8, 285.6, 404.69999999999993, 195.0, 90.42, 182.64000000000001, 120.44, 256.95, 110.99999999999999, 204.24000000000004, 250.85000000000002, 225.3, 660.0, 120.0, 175.5, 127.2, 261.9, 51.0, 221.69000000000003, 110.94999999999997, 332.4200000000001, 151.16999999999996, 203.14000000000001, 199.45000000000002, 285.84000000000003, 349.25, 75.6, 143.7, 35.400000000000006, 105.56, 14.850000000000001, 135.39000000000001, 39.75, 162.07000000000002, 205.35999999999999, 143.86, 24.350000000000005, 76.32000000000001, 121.7, 190.47, 215.22, 106.67999999999998, 279.79999999999995, 270.0, 62.5, 246.86, 111.63000000000001, 173.66000000000003, 184.90999999999997, 146.56000000000003, 244.31, 139.2, 411.0, 81.3, 226.42000000000002, 116.5, 190.57999999999996, 50.48, 310.15, 112.03000000000002, 126.45000000000002, 306.36, 192.01999999999998, 117.04999999999998, 140.55, 241.45, 307.3, 159.93999999999997, 90.96000000000001, 110.64999999999999, 303.63, 300.31, 180.45, 1502.98, 110.03999999999999, 178.85000000000005, 154.21, 157.70000000000002, 385.2, 0.0, 322.69, 94.8, 297.0, 299.85999999999996, 211.79999999999995, 150.0, 310.56, 318.06, 180.75, 351.9, 77.52000000000001, 334.45000000000005, 116.18, 256.70000000000005, 185.06000000000003, 120.6, 202.35000000000002, 13.919999999999998, 68.44, 104.10000000000001, 359.34999999999997, 359.4, 223.91, 182.09999999999997, 107.62, 179.39999999999998, 167.27000000000004, 163.76999999999998, 1325.0, 203.2, 240.20999999999998, 30.300000000000004, 192.45, 31.929999999999996, 150.68, 270.8, 183.2000000000001, 342.40000000000003, 36.129999999999995, 230.39999999999998, 129.48, 359.99999999999994, 111.25, 281.05, 365.1, 7.49, 109.47000000000001, 179.52, 113.64999999999999, 168.73000000000002, 187.51999999999998, 93.35, 347.53999999999996, 218.53000000000003, 83.0, 209.4, 191.74, 266.63000000000005, 304.97, 80.28000000000002, 208.3, 166.63, 204.62, 312.9, 167.15999999999997, 81.15, 510.72, 310.42999999999995, 100.4, 178.97999999999996, 106.47999999999999, 379.7, 160.5, 250.25999999999993, 59.400000000000006, 302.04, 280.51, 266.24999999999994, 60.0, 71.95, 368.75, 228.96, 220.44, 148.33, 24.75, 94.91999999999999, 247.50000000000003, 233.35, 307.99999999999994, 225.15, 93.6, 129.75, 140.22000000000003, 107.24000000000002, 240.5, 105.50000000000001, 382.2, 111.15, 284.4, 181.35, 270.15000000000003, 275.79999999999995, 59.400000000000006, 139.32000000000002, 60.959999999999994, 246.5, 289.87, 508.20000000000005, 216.94999999999996, 170.88000000000002, 310.73999999999995, 131.25, 223.39, 214.44000000000003, 153.24, 149.57000000000002, 193.29, 171.0, 337.71, 294.16999999999996, 126.89000000000001, 38.25, 208.79999999999998, 202.83, 429.7, 63.419999999999995, 274.8, 150.35000000000002, 368.4, 147.39999999999998, 102.0, 231.32000000000002, 340.6, 146.14, 158.64999999999998, 116.26000000000002, 171.80999999999997, 151.4, 162.25, 259.09000000000003, 114.40000000000002, 158.08999999999997, 162.39999999999998, 202.67999999999998, 153.51999999999998, 70.74000000000001, 227.87, 30.1, 137.15, 608.4000000000001, 579.6, 217.9, 357.6, 238.8, 40.0, 317.10999999999996, 295.05, 100.35, 105.78000000000003, 169.0, 226.04000000000002, 283.73, 152.15, 45.300000000000004, 218.35, 330.79, 173.95000000000002, 55.98000000000001, 90.0, 266.93, 37.5, 246.75, 46.2, 140.39, 194.59999999999997, 293.78999999999996, 140.49, 92.6, 107.55000000000001, 125.3, 208.62, 156.86999999999998, 577.8900000000001, 143.05, 321.45000000000005, 280.88000000000005, 45.6, 124.08, 221.83000000000004, 613.6800000000001, 144.15, 340.5, 80.4, 137.99, 109.72999999999999, 96.55000000000001, 340.48, 273.47999999999996, 244.44000000000003, 94.53, 171.47000000000003, 33.099999999999994, 313.91999999999996, 108.51999999999998, 244.60000000000002, 128.20000000000002, 305.28000000000003, 56.25, 145.01000000000002, 114.69000000000003, 6.300000000000001, 248.64999999999995, 102.82000000000001, 134.44, 106.54000000000002, 293.53000000000003, 594.0, 239.89999999999998, 405.0, 271.28999999999996, 190.74999999999994, 269.21, 329.21999999999997, 186.3, 150.55, 20.4, 169.21, 82.2, 217.73, 235.78, 107.14, 162.8, 188.44, 62.7, 89.65, 109.31000000000003, 115.73000000000002, 106.75000000000001, 1437.43, 180.56, 327.6, 145.05999999999997, 301.9, 237.42000000000002, 212.25000000000003, 310.3, 141.7, 79.9, 115.30999999999999, 105.80000000000001, 351.3, 308.59999999999997, 323.25, 93.3, 248.65000000000003, 40.8, 333.18, 136.65, 63.66, 128.31, 186.65999999999997, 318.34000000000003, 188.69, 238.04999999999998, 176.89999999999995, 328.95, 129.85000000000002, 136.31, 117.72, 126.05, 193.64999999999998, 107.33, 171.14999999999998, 176.33999999999997, 230.90000000000003, 146.16, 310.83, 209.48999999999998, 212.16999999999996, 141.53, 157.20000000000005, 104.0, 632.28, 186.05000000000004, 137.8, 123.13, 130.32, 35.7, 75.0, 309.5, 200.25999999999996, 310.70000000000005, 216.30000000000007, 162.24, 332.16999999999996, 251.70999999999995, 24.05, 71.78999999999999, 178.47999999999996, 154.72, 453.38, 134.36, 303.70000000000005, 205.41000000000003, 142.71, 48.349999999999994, 2007.84, 23.35, 137.7, 292.21, 376.70000000000005, 350.52, 104.26, 30.150000000000002, 95.29, 175.0, 87.79999999999998, 1020.9000000000001, 156.6, 295.04999999999995, 341.59, 153.12, 172.8, 235.25, 432.45, 60.48, 291.5, 225.39999999999998, 130.05, 106.80000000000001, 179.39999999999998, 323.4, 160.39, 306.5799999999999, 136.2, 611.9, 165.0, 109.19999999999999, 98.72999999999999, 171.13, 151.5, 320.25, 157.63, 127.44999999999999, 178.83, 638.6999999999999, 98.30000000000001, 191.89999999999992, 368.27, 323.8, 1248.48, 147.35000000000002, 170.3, 259.68000000000006, 417.59999999999997, 173.06, 207.5, 163.65, 228.0, 352.85, 51.839999999999996, 182.59, 113.35000000000001, 181.39, 225.59999999999997, 91.8, 218.45999999999998, 139.85, 253.87999999999997, 352.8, 130.95, 76.74000000000001, 321.78000000000003, 134.0, 285.40999999999997, 103.95000000000002, 204.26000000000002, 252.59, 310.46999999999997, 125.65, 33.0, 482.76, 101.36, 251.03999999999996, 207.85, 71.4, 127.0, 365.5, 165.0, 107.0, 230.17000000000002, 81.36, 242.05999999999997, 400.8, 189.0, 54.150000000000006, 302.65000000000003, 180.06, 176.9, 13.52, 128.60000000000002, 194.7, 228.34000000000003, 454.54, 273.34999999999997, 203.05, 306.0, 221.53, 128.45, 235.88, 100.2, 174.95, 227.97000000000003, 314.74, 31.85, 212.10000000000005, 231.67999999999998, 143.1, 231.9, 327.0, 320.95, 178.67999999999998, 159.68, 119.50000000000003, 225.45000000000005, 321.29999999999995, 198.40999999999997, 263.76, 75.28, 135.04000000000002, 160.65, 111.15, 186.15, 63.6, 96.6, 144.9, 100.86000000000001, 131.15, 130.6, 200.17999999999998, 38.92, 68.02999999999999, 258.92999999999995, 189.78, 120.95, 141.12, 114.10000000000002, 25.2, 118.85999999999999, 271.75000000000006, 467.7900000000001, 111.50000000000001, 1025.1, 157.32999999999998, 29.1, 152.35, 104.7, 59.900000000000006, 81.12, 36.25, 156.6, 979.1999999999999, 231.34, 260.45, 10.95, 110.69999999999999, 171.15, 126.35, 149.3, 168.64999999999998, 97.5, 114.84999999999998, 118.95000000000003, 283.44000000000005, 164.18, 206.6, 317.76, 325.74, 137.16, 293.35, 102.6, 57.8, 1047.0, 389.25999999999993, 177.69, 209.57, 160.54999999999998, 336.50000000000006, 100.91, 54.699999999999996, 287.25, 206.08000000000004, 65.34, 34.8, 288.33, 119.86000000000004, 170.09999999999994, 120.04999999999998, 142.77, 34.0, 167.62, 131.83, 100.0, 171.7, 348.74999999999994, 135.95, 167.4, 148.3, 52.05, 160.75, 87.30000000000001, 489.59999999999997, 385.18999999999994, 254.0, 296.36000000000007, 842.4, 198.59999999999997, 126.0, 163.46999999999997, 412.9200000000001, 301.6500000000001, 313.05, 260.38, 163.2, 299.8299999999999, 307.21000000000004, 102.0, 101.1, 229.2, 358.15000000000003, 129.75, 71.15, 156.37000000000003, 141.85, 141.6, 197.7, 93.49000000000002, 112.85999999999997, 171.24999999999997, 147.3, 414.72, 124.78, 334.62, 430.69000000000005, 114.92000000000003, 129.69, 167.1, 365.99999999999994, 147.12000000000003, 149.7, 216.4, 291.76, 110.05000000000001, 261.7, 64.49, 225.77999999999997, 43.87000000000001, 170.4, 289.5, 574.2, 244.08, 294.0, 128.7, 114.69, 1128.72, 74.99000000000001, 159.17000000000002, 392.6, 140.75, 61.3, 161.94000000000005, 239.11999999999995, 138.18, 206.95000000000002, 124.25, 115.3, 165.0, 175.85, 190.48000000000002, 192.05, 433.77, 97.4, 141.48000000000002, 116.10000000000001, 189.63000000000002, 271.05, 176.5, 190.95, 186.60000000000002, 314.1, 151.49, 428.45, 105.8, 76.32000000000001, 9.7, 92.2, 102.65, 222.95999999999998, 145.99000000000004, 112.85, 426.69, 246.22, 213.9, 184.41000000000005, 175.5, 589.52, 58.5, 176.09999999999997, 291.13, 329.58, 313.48999999999995, 321.6, 101.16, 230.1, 344.75, 314.65999999999997, 360.08, 147.45, 298.3, 323.29, 295.0, 179.6, 270.9200000000001, 162.72, 317.88, 267.9, 199.85, 110.7, 251.09999999999997, 269.36999999999995, 161.4, 153.0, 240.3, 231.33999999999997, 120.32000000000001, 427.0], \"xaxis\": \"x\", \"y\": [20, 1, 3, 9, 7, 11, 4, 1, 14, 13, 10, 11, 1, 9, 23, 2, 17, 10, 2, 11, 14, 21, 13, 1, 13, 5, 1, 19, 6, 1, 10, 1, 9, 3, 16, 11, 10, 14, 12, 7, 7, 13, 16, 16, 2, 11, 16, 17, 10, 15, 6, 6, 4, 20, 4, 7, 15, 7, 8, 13, 1, 16, 2, 30, 16, 4, 4, 7, 6, 13, 8, 21, 10, 13, 3, 9, 1, 5, 11, 2, 9, 10, 8, 26, 5, 6, 24, 6, 11, 4, 3, 5, 13, 2, 6, 4, 17, 19, 12, 12, 9, 11, 13, 4, 2, 15, 1, 1, 12, 2, 16, 11, 20, 1, 11, 5, 17, 3, 8, 2, 10, 7, 5, 1, 13, 4, 19, 7, 19, 1, 5, 1, 1, 11, 1, 12, 19, 4, 7, 8, 1, 14, 13, 16, 1, 2, 4, 4, 14, 17, 5, 22, 13, 12, 6, 3, 1, 8, 13, 15, 23, 6, 9, 7, 12, 1, 7, 1, 23, 9, 6, 9, 15, 8, 17, 16, 5, 5, 11, 18, 1, 8, 1, 9, 2, 22, 9, 5, 23, 11, 20, 7, 22, 7, 5, 21, 16, 4, 8, 9, 17, 7, 5, 12, 14, 13, 10, 5, 3, 6, 9, 5, 18, 7, 30, 14, 3, 9, 5, 9, 8, 17, 17, 2, 27, 1, 10, 7, 9, 5, 1, 11, 16, 16, 7, 19, 11, 8, 1, 9, 21, 10, 12, 1, 4, 7, 3, 2, 1, 15, 35, 12, 4, 8, 15, 6, 16, 5, 14, 13, 1, 4, 21, 5, 19, 6, 14, 1, 7, 1, 1, 1, 1, 20, 11, 19, 8, 11, 1, 14, 17, 6, 6, 4, 8, 1, 6, 21, 2, 5, 2, 16, 12, 1, 1, 16, 28, 15, 13, 3, 7, 2, 11, 2, 9, 18, 1, 13, 19, 9, 12, 6, 14, 8, 1, 7, 18, 9, 1, 3, 14, 14, 6, 8, 5, 2, 3, 2, 11, 2, 4, 12, 17, 6, 4, 4, 6, 4, 10, 1, 11, 25, 7, 35, 38, 17, 13, 23, 2, 11, 1, 25, 1, 16, 3, 40, 31, 23, 10, 1, 2, 9, 15, 7, 18, 20, 4, 27, 12, 14, 14, 21, 15, 2, 7, 11, 11, 15, 14, 3, 18, 32, 7, 18, 13, 9, 10, 13, 17, 12, 7, 15, 19, 16, 10, 2, 9, 36, 30, 9, 10, 1, 1, 7, 2, 18, 9, 1, 11, 14, 11, 8, 5, 21, 6, 13, 27, 8, 13, 1, 1, 5, 13, 3, 21, 7, 5, 11, 41, 31, 4, 16, 9, 2, 15, 4, 24, 14, 30, 18, 10, 12, 9, 12, 5, 19, 10, 1, 38, 4, 6, 11, 13, 6, 9, 11, 5, 7, 14, 16, 12, 7, 12, 11, 4, 12, 12, 4, 4, 23, 6, 13, 5, 17, 9, 14, 1, 4, 14, 18, 3, 4, 5, 1, 14, 9, 1, 6, 19, 15, 15, 6, 5, 5, 8, 8, 15, 7, 7, 34, 3, 16, 3, 4, 1, 7, 6, 12, 12, 2, 14, 8, 22, 9, 12, 16, 2, 6, 12, 9, 20, 21, 15, 2, 6, 7, 2, 4, 3, 19, 2, 9, 1, 14, 9, 22, 41, 51, 7, 8, 8, 16, 28, 23, 13, 23, 10, 4, 12, 3, 20, 5, 4, 7, 4, 15, 2, 13, 20, 2, 6, 11, 10, 12, 7, 3, 14, 16, 11, 17, 1, 15, 1, 14, 2, 30, 21, 18, 25, 6, 6, 8, 12, 41, 10, 5, 18, 16, 2, 8, 14, 4, 11, 11, 5, 34, 8, 11, 15, 10, 3, 4, 19, 5, 6, 23, 14, 38, 1, 4, 18, 22, 1, 21, 15, 7, 15, 11, 1, 14, 6, 12, 20, 20, 22, 11, 6, 1, 42, 5, 21, 22, 1, 11, 12, 2, 3, 17, 35, 16, 6, 18, 13, 35, 18, 9, 12, 8, 12, 1, 9, 7, 11, 8, 16, 4, 13, 1, 15, 7, 6, 20, 7, 15, 23, 16, 31, 17, 7, 21, 1, 8, 12, 6, 10, 9, 11, 3, 16, 13, 13, 21, 11, 13, 5, 13, 8, 9, 5, 1, 2, 8, 17, 9, 25, 1, 18, 15, 2, 5, 23, 10, 16, 7, 6, 13, 38, 3, 2, 4, 9, 18, 11, 5, 25, 6, 5, 17, 5, 5, 9, 14, 18, 11, 12, 11, 12, 1, 19, 12, 8, 4, 13, 24, 14, 20, 6, 8, 1, 8, 16, 19, 5, 18, 8, 7, 11, 2, 3, 35, 23, 9, 6, 17, 42, 12, 1, 11, 9, 8, 17, 21, 1, 17, 7, 11, 13, 6, 9, 9, 20, 11, 16, 6, 9, 8, 19, 18, 23, 20, 10, 18, 2, 2, 7, 15, 6, 2, 6, 8, 1, 2, 15, 1, 11, 13, 9, 4, 12, 5, 12, 1, 8, 12, 18, 13, 21, 4, 1, 12, 4, 13, 4, 9, 19, 12, 2, 13, 14, 6, 4, 2, 21, 10, 9, 29, 7, 6, 14, 13, 20, 8, 8, 23, 11, 13, 18, 25, 8, 5, 7, 16, 6, 27, 15, 14, 6, 12, 23, 2, 6, 15, 17, 5, 2, 17, 3, 4, 6, 2, 1, 5, 23, 1, 14, 17, 1, 2, 5, 10, 12, 14, 3, 12, 13, 6, 16, 12, 8, 8, 1, 21, 4, 3, 6, 18, 7, 14, 8, 18, 8, 3, 7, 15, 4, 1, 13, 31, 39, 13, 8, 1, 12, 30, 1, 5, 21, 7, 8, 13, 3, 13, 6, 2, 18, 18, 10, 3, 5, 7, 44, 15, 12, 9, 17, 1, 17, 11, 2, 6, 3, 17, 17, 13, 25, 18, 15, 10, 24, 23, 15, 7, 1, 42, 6, 18, 25, 9, 26, 19, 22, 3, 24, 13, 8, 26, 14, 29, 19, 8, 2, 4, 1, 10, 4, 14, 5, 25, 20, 3, 2, 11, 21, 17, 13, 33, 6, 13, 1, 15, 12, 4, 18, 14, 27, 9, 26, 12, 11, 11, 3, 9, 8, 10, 10, 1, 3, 22, 20, 4, 29, 10, 10, 17, 25, 13, 10, 14, 1, 7, 10, 11, 18, 8, 5, 9, 20, 19, 17, 10, 12, 9, 1, 30, 14, 1, 7, 16, 13, 10, 14, 17, 6, 1, 15, 13, 10, 12], \"yaxis\": \"y\"}, {\"hoverlabel\": {\"namelength\": 0}, \"hovertemplate\": \"Cluster=Cluster2<br>Monetary=%{x}<br>Frequency=%{y}\", \"legendgroup\": \"Cluster=Cluster2\", \"marker\": {\"color\": \"#ab63fa\", \"symbol\": \"circle\"}, \"mode\": \"markers\", \"name\": \"Cluster=Cluster2\", \"showlegend\": true, \"type\": \"scattergl\", \"x\": [2671.1400000000012, 3560.2999999999984, 12079.98999999999, 2719.0100000000016, 2563.3599999999988, 1590.83, 1791.15, 2179.4199999999996, 2246.2900000000004, 1798.1999999999996, 6951.489999999998, 1938.3999999999999, 2285.179999999999, 2048.6400000000003, 2975.06, 1452.22, 12346.619999999997, 1370.0499999999997, 19543.83999999999, 3148.3099999999995, 4428.239999999998, 4370.520000000001, 6096.040000000003, 7731.9900000000025, 3634.3599999999997, 13151.44, 3413.09, 2941.200000000001, 3070.539999999998, 20129.54000000001, 5048.660000000002, 7267.489999999997, 7056.63, 2183.2200000000007, 23691.399999999983, 2612.2, 1826.7800000000002, 4405.710000000006, 5205.399999999999, 1697.39, 4195.449999999998, 3084.0200000000004, 2562.5800000000013, 6640.389999999999, 2096.9800000000005, 1807.9799999999996, 5646.399999999998, 8854.249999999996, 6725.1799999999985, 990.5000000000006, 1847.940000000001, 1469.0400000000004, 7166.060000000001, 1865.7300000000007, 4048.9799999999996, 1751.8900000000006, 1264.14, 2444.880000000001, 1232.9499999999996, 2309.0099999999984, 3472.9900000000002, 3449.7900000000013, 3442.7399999999993, 2481.060000000001, 1558.2199999999998, 2841.069999999999, 3514.1799999999994, 1241.23, 2280.9100000000017, 4960.179999999999, 1440.5800000000006, 1764.1200000000006, 1671.14, 2356.6600000000003, 3138.2400000000002, 7575.879999999998, 1511.6999999999998, 16652.720000000005, 2138.9100000000003, 1648.7000000000005, 4893.810000000001, 9384.850000000004, 1356.9499999999998, 1286.11, 2266.7600000000007, 1405.5000000000002, 6879.800000000001, 2040.9199999999998, 1713.6899999999996, 4037.77, 2806.4800000000005, 7111.649999999999, 3489.299999999997, 2740.91, 2287.3199999999993, 1988.8400000000006, 1434.9500000000005, 2878.959999999999, 1747.1800000000007, 5996.829999999983, 3949.3700000000017, 2694.7499999999995, 4881.099999999999, 2032.1800000000007, 1950.4000000000005, 1654.7200000000005, 2581.6000000000004, 984.6200000000003, 2271.35, 1755.240000000001, 3819.9199999999973, 1676.9500000000007, 1863.7700000000002, 1406.3700000000003, 2721.48, 1651.7199999999998, 3765.2000000000007, 1523.9700000000007, 2242.19, 50291.38, 1698.5600000000004, 1029.1000000000006, 2083.1600000000017, 1593.3400000000004, 13683.000000000002, 11359.480000000016, 2149.6500000000015, 4689.43, 2646.0200000000004, 1048.1300000000003, 2100.0900000000006, 2417.779999999999, 2502.819999999999, 8870.880000000001, 2354.2699999999995, 2729.840000000002, 6627.639999999999, 14256.680000000013, 5994.9399999999905, 7814.829999999991, 1914.8000000000006, 3240.139999999999, 2485.4600000000005, 1229.9500000000003, 2270.86, 10327.199999999999, 3292.839999999998, 1805.7800000000009, 3033.8799999999987, 1488.5900000000004, 4287.580000000003, 5557.6200000000035, 2229.719999999999, 2771.1800000000017, 2108.370000000001, 1055.0500000000006, 30867.770000000153, 3722.12, 1662.45, 47111.18000000004, 7320.879999999989, 3721.4499999999994, 1468.8000000000002, 3199.9199999999996, 1217.6000000000001, 2240.4699999999993, 3666.9499999999985, 3983.6499999999996, 3138.04, 5267.329999999997, 4814.559999999987, 2146.380000000001, 1624.8400000000008, 1586.540000000001, 3946.14, 7587.199999999996, 8333.72, 3078.4, 1646.6400000000003, 1572.9900000000002, 1580.3000000000004, 1778.7900000000006, 8308.189999999997, 1523.3499999999997, 2330.9400000000005, 3264.229999999994, 9796.230000000001, 1390.23, 1119.3600000000024, 1239.2700000000025, 2300.78, 1300.9799999999998, 1494.8700000000015, 2909.6799999999957, 1192.9399999999998, 2278.770000000001, 1751.750000000001, 1890.0, 7207.889999999999, 4212.410999999999, 3391.519999999999, 2699.4799999999996, 1958.6000000000006, 11364.079999999996, 3196.1099999999983, 2303.3300000000004, 2297.6600000000008, 4274.94, 1552.8800000000003, 4585.059999999999, 2528.9000000000005, 4101.679999999997, 913.9000000000001, 2244.7000000000003, 23616.422000000006, 6055.4699999999975, 2225.0399999999995, 1766.22, 4526.059999999996, 2047.14, 1273.1600000000005, 3881.889999999999, 5655.199999999996, 2076.32, 4191.799999999997, 2312.7, 2715.0000000000005, 2422.96, 2215.7800000000007, 2026.2800000000009, 2564.979999999999, 3350.7399999999993, 1642.3899999999992, 2766.729999999999, 3285.050000000001, 2298.9300000000007, 1850.8200000000004, 1822.2800000000009, 3959.4899999999934, 3208.849999999999, 1629.3500000000024, 4792.959999999997, 2448.2, 1661.5400000000013, 3038.849999999999, 831.7600000000004, 1079.2900000000004, 2448.3200000000015, 4834.4, 1801.6800000000007, 4354.119999999996, 3481.4100000000008, 1021.3800000000011, 2143.530000000001, 5854.839999999997, 1805.3199999999997, 5578.5, 1526.88, 3486.4099999999994, 1928.1299999999997, 1637.3300000000002, 1764.0200000000002, 1451.66, 3600.669999999999, 1347.5400000000002, 3386.3300000000017, 3321.6799999999994, 1352.35, 1858.0400000000006, 1711.6600000000003, 6638.650000000002, 7700.549999999983, 11880.839999999998, 2011.8200000000002, 131443.1900000002, 1323.4699999999996, 2559.449999999999, 1540.2000000000003, 7348.299999999996, 1741.4000000000008, 3260.0000000000005, 1839.0300000000016, 6695.689999999998, 6879.2300000000005, 2022.6700000000012, 1954.92, 3502.4799999999996, 1400.1999999999994, 3094.3700000000003, 1977.3900000000012, 38683.01999999998, 2114.710000000001, 21659.690000000002, 3448.379999999999, 993.4399999999999, 2445.789999999999, 1615.8199999999997, 1931.3500000000001, 1955.0000000000005, 1001.0099999999999, 4913.219999999996, 2941.14, 3027.5800000000017, 28019.579999999987, 3885.540000000001, 1037.43, 1405.9200000000005, 1574.3300000000006, 1043.5700000000002, 859.21, 2809.1400000000003, 34095.26, 1654.08, 1774.6800000000005, 2651.45, 4019.849999999998, 6116.920000000001, 6009.34, 1314.6599999999999, 9572.450000000004, 4709.229999999996, 1909.310000000001, 2795.1599999999958, 2510.0600000000018, 2960.7299999999996, 3309.3499999999995, 2508.32, 5600.449999999998, 2487.01, 1675.81, 7062.2, 1084.6800000000003, 4057.900000000001, 1366.7299999999996, 1509.4999999999998, 8963.489999999994, 2431.2799999999997, 9653.28, 2946.4199999999996, 7444.679999999992, 2135.0000000000005, 15120.800000000007, 22710.199999999997, 1925.9000000000015, 640.34, 13544.989999999998, 3152.5399999999995, 2646.74, 3985.14, 4722.5999999999985, 2174.07, 7304.7999999999965, 2919.44, 5252.1900000000005, 1190.3700000000006, 1377.86, 11123.349999999997, 1570.8100000000002, 5259.299999999998, 1376.05, 5115.079999999995, 196549.74000000037, 3230.4499999999985, 8421.470000000001, 570.1800000000001, 4456.579999999998, 1660.2300000000012, 1570.7300000000012, 1550.630000000001, 7321.069999999999, 874.2200000000004, 1947.500000000002, 2919.8399999999992, 3955.679999999996, 2161.19, 3084.689999999998, 831.9800000000001, 2031.0700000000002, 3017.75, 1882.320000000001, 5400.461000000001, 2854.7299999999996, 19381.36000000002, 1183.39, 13009.61, 3851.0100000000007, 2201.91, 4020.849999999997, 4354.32, 2196.71, 39667.19000000003, 1341.5600000000002, 2075.3100000000004, 1428.28, 1478.7000000000003, 1583.2799999999997, 4912.3799999999965, 1766.2700000000002, 2285.04, 1079.6600000000005, 1294.1700000000003, 578.1400000000001, 3488.159999999998, 1731.1600000000012, 4630.699999999998, 1591.7400000000023, 2108.2100000000005, 2744.419999999999, 1531.6300000000012, 6124.519999999985, 6007.879999999995, 7246.269999999995, 2143.8400000000006, 6781.799999999999, 2898.800000000001, 3777.2000000000003, 1555.4000000000012, 2614.78, 977.3000000000005, 3537.820999999999, 4573.8499999999985, 2887.4100000000008, 2374.5000000000014, 1606.9800000000005, 2093.4600000000005, 1276.6599999999996, 1648.18, 2283.9100000000003, 1273.4700000000005, 1921.91, 2704.6199999999994, 2129.42, 1943.5100000000014, 1293.3500000000006, 6019.649999999991, 1848.8600000000015, 554.8699999999998, 979.8500000000001, 3389.8400000000042, 1647.1699999999996, 1066.0300000000009, 3810.639999999999, 3226.7600000000016, 2912.93, 1790.3600000000006, 3118.3899999999976, 2756.980000000002, 10988.139999999996, 2610.9100000000026, 1888.4900000000002, 959.3300000000002, 1991.4899999999998, 3876.259999999998, 1631.3800000000008, 2605.6200000000003, 2722.339999999999, 925.3000000000006, 673.3299999999996, 986.2199999999996, 2993.3699999999994, 3048.380000000001, 1318.3899999999999, 921.56, 7553.629999999997, 1130.28, 3598.2499999999973, 2619.6499999999996, 2124.4600000000005, 1994.4700000000012, 1541.9799999999996, 248396.50000000055, 4466.649999999999, 2248.6000000000013, 1371.7700000000007, 1666.4099999999994, 1946.2800000000004, 1957.5400000000004, 5808.549999999999, 1289.44, 28615.270000000015, 1462.81, 4536.64, 852.5300000000009, 2056.3000000000015, 1123.59, 1961.0200000000025, 3965.2899999999995, 1300.310000000002, 927.89, 586.2399999999999, 2814.580000000001, 6174.470000000001, 2712.8499999999985, 4962.269999999995, 1914.8000000000002, 1380.9100000000003, 5097.129999999999, 2761.22, 1170.0000000000005, 1781.5600000000002, 2849.519999999998, 2895.1999999999985, 7699.699999999999, 995.2899999999998, 1810.8200000000002, 3867.240000000001, 3512.62, 7832.909999999986, 1445.2100000000014, 3295.7399999999984, 1563.03, 5874.650000000001, 2478.7309999999998, 1254.9400000000003, 2241.780000000001, 1230.4200000000005, 2056.689999999999, 2600.410000000001, 2956.9500000000007, 13980.830000000013, 1774.1599999999996, 2195.140000000001, 1331.3799999999999, 1355.24, 2845.6999999999957, 1503.7700000000002, 4345.66, 2873.7700000000004, 1612.5600000000002, 4273.789999999997, 2322.4300000000003, 3884.4199999999996, 9529.859999999995, 685.6499999999995, 9365.469999999987, 1651.2300000000018, 881.2400000000005, 3327.2900000000004, 1704.1100000000001, 946.720000000001, 1027.0300000000007, 1610.820000000001, 2354.9699999999993, 2129.45, 2449.7499999999986, 3957.0399999999977, 8389.419999999996, 2533.3700000000003, 2349.5, 2543.55, 1285.0400000000006, 2153.480000000003, 1597.7600000000004, 1254.4100000000008, 2118.1200000000013, 1744.6099999999994, 9729.090000000002, 1771.0400000000004, 1163.3900000000008, 2853.4900000000007, 2456.8600000000006, 5496.39, 3412.779999999998, 2121.1799999999994, 5579.869999999997, 3686.6099999999965, 2085.61, 3475.720000000001, 1203.5300000000007, 1468.8200000000022, 1494.6000000000001, 5284.970000000002, 2376.102, 1853.7000000000003, 2572.38, 1687.4900000000011, 5711.939999999999, 2965.9099999999985, 2193.5600000000004, 2753.4099999999994, 2095.0, 1893.9299999999996, 2577.54, 9839.550000000003, 2815.169999999999, 7377.460000000001, 1253.1800000000005, 1839.5200000000011, 6145.369999999995, 1309.010000000001, 1290.03, 6211.419999999989, 2553.0600000000004, 9178.26, 6650.169999999993, 2310.3800000000006, 2005.3400000000008, 3961.4199999999983, 1439.7200000000005, 1909.1300000000008, 1246.95, 2242.8099999999995, 1786.57, 3203.7400000000002, 6251.259999999999, 4009.6600000000003, 1002.93, 7777.839999999988, 1385.38, 1216.66, 1376.0899999999995, 3103.2599999999993, 1203.7700000000007, 6798.72, 2854.9799999999973, 1522.2700000000002, 1941.1199999999994, 1525.5800000000004, 1900.6400000000003, 1256.63, 1656.9299999999992, 1225.9299999999994, 837.53, 2209.9799999999996, 5373.499999999998, 3537.6000000000004, 592.5600000000002, 3186.01, 2168.270000000002, 2422.019999999999, 7395.189999999991, 1058.2499999999995, 2368.3399999999992, 2268.4399999999987, 4098.039999999999, 16847.18, 3126.36, 2174.120000000003, 855.7100000000008, 4615.719999999998, 5146.449999999991, 1635.42, 1243.7500000000005, 1133.7999999999997, 1459.0199999999986, 2207.7400000000016, 3241.919999999997, 1431.7800000000004, 774.8400000000004, 923.0300000000004, 1375.39, 1496.6000000000001, 8183.559999999981, 2310.83, 1405.83, 3147.3599999999988, 10974.22999999999, 4143.049999999998, 2136.020000000001, 1702.1399999999999, 2240.900000000001, 4335.959999999997, 2265.2, 11411.919999999998, 3458.349999999997, 1068.2, 1399.3700000000006, 1764.8600000000015, 3478.0899999999997, 4501.629999999995, 1473.2399999999996, 2400.0499999999993, 5165.899999999984, 3022.79, 4212.650000000001, 1387.9500000000003, 1767.1200000000003, 8560.55, 1553.1700000000005, 1380.4400000000005, 1557.9600000000007, 2579.0399999999995, 3628.869999999994, 2225.939999999999, 14687.06, 32451.6, 3640.9599999999996, 3582.619999999998, 1610.709999999999, 1995.6499999999999, 1369.8600000000001, 2463.0200000000004, 4660.749999999996, 1607.0599999999995, 3400.3299999999995, 2766.399999999999, 2029.34, 3882.1700000000005, 1957.9800000000023, 1108.8199999999997, 1539.24, 771.8700000000001, 2609.159999999998, 1222.2799999999993, 2033.6400000000033, 1346.2899999999995, 6878.880000000003, 1137.7999999999997, 1572.47, 3813.080000000001, 1432.29, 1700.2400000000016, 2945.380000000001, 5376.2, 4242.0999999999985, 2568.32, 1769.3300000000015, 1266.7700000000011, 2180.640000000001, 4144.820000000001, 5954.289999999999, 1205.64, 5193.919999999987, 2878.4600000000005, 2146.390000000001, 1786.780000000001, 1359.2500000000002, 4860.350000000003, 1302.4600000000003, 1563.300000000001, 20009.839999999997, 1333.7, 13542.920000000004, 41184.30000000001, 1965.72, 1797.9199999999992, 1067.85, 2094.23, 777.3400000000004, 2122.890000000001, 1591.730000000001, 1709.8300000000006, 3269.11, 3595.7699999999977, 1359.5200000000004, 2617.33, 2435.67, 1938.4599999999998, 4762.0700000000015, 2476.2500000000014, 2049.2300000000005, 1393.4200000000003, 892.92, 4376.25, 1658.370000000001, 1523.4900000000007, 8356.829999999998, 1920.83, 1396.0500000000006, 6450.880000000003, 8403.219999999992, 1527.2500000000007, 3005.9499999999975, 2023.9099999999999, 2342.5699999999997, 3309.259999999999, 3096.1399999999994, 4983.949999999998, 2052.6900000000005, 1915.3599999999994, 5995.690000000001, 5019.169999999998, 2508.4700000000003, 10497.300000000007, 2016.7100000000014, 4539.229999999997, 2136.7199999999993, 1062.4800000000002, 2052.8100000000004, 2776.190000000002, 1355.29, 1087.0499999999997, 1762.9900000000016, 1857.2600000000002, 1074.47, 1722.0900000000001, 1186.4000000000003, 3824.789999999999, 1056.6299999999994, 3588.34, 967.4400000000003, 6739.0099999999975, 1488.17, 1993.1800000000003, 4195.5, 2779.5100000000025, 1957.7000000000014, 1367.320000000001, 2567.6399999999994, 1491.4000000000005, 2806.0, 4590.529999999999, 3003.259999999998, 1682.030000000001, 1664.9200000000005, 2753.520000000001, 3517.6900000000005, 961.9300000000003, 1878.920000000001, 2595.510000000004, 1137.4199999999998, 3176.129999999997, 723.6599999999997, 934.5800000000006, 1256.6700000000012, 2252.9300000000026, 1052.2600000000011, 2036.3500000000033, 2755.9200000000005, 2750.83, 3629.7599999999966, 1906.4800000000005, 2971.209999999999, 2535.690000000001, 4630.159999999998, 2208.1500000000005, 1402.9100000000012, 2171.1299999999987, 1664.0800000000008, 1825.5600000000002, 1923.540000000001, 3729.589999999998, 2212.8900000000003, 1191.2300000000018, 2182.4099999999994, 1777.5000000000002, 842.1600000000002, 1554.9200000000014, 1140.1100000000004, 2497.86, 1531.5500000000002, 2343.2, 4819.319999999997, 8746.899999999985, 10864.189999999997, 2004.6199999999997, 4698.789999999997, 2206.9700000000003, 3334.819999999999, 3695.9099999999994, 2827.0499999999993, 2220.089999999999, 1361.2800000000007, 3694.229999999999, 1397.5900000000006, 1339.8899999999996, 2359.16, 1286.6200000000003, 1655.6399999999999, 2057.77, 1712.1200000000001, 1579.9700000000003, 1892.5200000000004, 1596.7100000000003, 3802.0399999999986, 1397.69, 10776.419999999995, 2633.7400000000025, 8207.370000000004, 3934.249999999998, 80489.2099999999, 1921.1900000000012, 4518.4299999999985, 29480.060999999972, 6026.139999999996, 605.7900000000002, 1052.1400000000012, 1121.4499999999994, 3783.8899999999976, 3969.9999999999986, 2956.5600000000004, 2334.97, 1999.02, 11366.64000000001, 2121.43, 4157.88, 65500.07000000001, 1389.2500000000005, 2481.2000000000003, 1220.4799999999998, 1152.6300000000006, 1706.9900000000011, 3698.0499999999984, 1069.5600000000004, 784.73, 1017.53, 1334.5400000000006, 2251.8500000000004, 856.1999999999999, 1802.0200000000034, 1912.6500000000005, 1884.71, 1357.5600000000004, 2136.2400000000007, 9374.859999999997, 1130.2000000000003, 1408.9600000000005, 7493.769999999996, 2139.0000000000005, 2101.610000000001, 1202.77, 1306.9600000000014, 678.55, 1923.5699999999997, 1904.9300000000005, 536.0399999999996, 2137.720000000001, 6088.049999999992, 1169.61, 1199.0800000000006, 2536.0700000000015, 1152.1099999999994, 4283.680000000003, 3377.780000000001, 4202.659999999998, 1222.0400000000004, 3996.799999999999, 1483.8300000000002, 5891.009999999987, 5459.039999999996, 3015.5500000000015, 904.5999999999998, 3862.19, 2651.2299999999996, 2393.5, 2984.3199999999993, 858.47, 11013.819999999994, 4287.499999999997, 1462.95, 2177.3899999999994, 3084.579999999999, 1364.6800000000003, 1402.5100000000002, 660.4799999999999, 2728.180000000001, 2644.01, 2253.2200000000003, 6285.269999999995, 3737.3799999999997, 2675.8, 5255.239999999999, 2305.590000000001, 1923.9899999999998, 1026.98, 9730.090000000002, 798.0300000000001, 1099.81, 4036.7699999999995, 8915.989999999996, 727.580000000001, 3120.909999999998, 5102.859999999999, 1357.95, 4832.9, 6691.129999999988, 1635.640000000001, 867.1099999999999, 1452.8000000000027, 2118.700000000001, 1281.8300000000006, 2004.0100000000011, 3940.130000000001, 1269.7600000000004, 5750.080000000002, 3940.0799999999936, 1354.82, 3982.66, 2736.640000000001, 871.1400000000001, 1140.5799999999992, 1050.8000000000009, 1110.7800000000004, 974.9500000000004, 1896.5700000000002, 3999.8900000000003, 2181.71, 2376.5099999999998, 3318.349999999998, 1008.0500000000003, 922.5900000000003, 5395.790000000002, 1066.2999999999997, 1066.9400000000003, 2509.8399999999992, 1285.6900000000003, 1740.9000000000021, 7510.239999999993, 3417.1299999999987, 1077.2399999999998, 879.4200000000012, 3010.129999999998, 25381.649999999994, 2525.440000000001, 15874.299999999997, 7021.659999999999, 3159.459999999999, 10405.030000000008, 1615.3900000000003, 3040.51, 1363.2300000000005, 2371.739999999999, 14523.669999999982, 2348.940000000002, 4247.11, 1605.840000000001, 2542.7899999999995, 3180.279999999999, 6493.139999999998, 4191.919999999999, 2542.830000000001, 963.4900000000004, 944.8199999999999, 767.5400000000004, 2239.4800000000014, 2154.8800000000006, 1024.5500000000002, 7712.709999999994, 4067.119999999999, 948.0300000000003, 1699.35, 11433.769999999997, 4168.46, 1439.7199999999993, 2300.0100000000007, 782.12, 1511.940000000001, 4376.4099999999935, 3346.4100000000026, 3071.3600000000006, 1838.7199999999996, 3958.5000000000023, 2547.2800000000007, 3132.959999999999, 1758.5200000000004, 3372.919999999998, 1895.1900000000007, 2735.6299999999997, 2600.4599999999996, 2578.9100000000017, 2751.639999999999, 2557.3500000000004, 2234.86, 5393.879999999998, 4145.329999999997, 1319.6700000000003, 1198.0900000000001, 10300.97999999999, 1362.7500000000002, 2475.3199999999993, 2166.4200000000005, 2304.5099999999998, 4939.239999999995, 1743.37, 2786.569999999999, 728.7499999999998, 1555.83, 1210.8300000000004, 3095.9499999999985, 2060.0999999999985, 815.11, 1191.4400000000007, 3207.7599999999984, 3761.3800000000015, 5925.480000000001, 1757.98, 1609.3700000000003, 2907.6499999999996, 2162.9300000000003, 3867.5000000000023, 2657.909999999999, 51208.86999999966, 1552.3500000000008, 1596.2900000000002, 2990.4099999999976, 923.9900000000007, 15785.870000000026, 4621.320000000001, 1091.4400000000005, 1580.3800000000006, 1142.4700000000012, 3020.640000000002, 1574.1300000000015, 2534.74, 2993.879999999999, 26286.75, 60117.600000000006, 788.4599999999999, 1697.850000000003, 590.4400000000002, 2126.090000000001, 1035.1, 1223.3100000000002, 999.51, 766.8700000000006, 1595.1400000000021, 17642.89, 1896.8400000000006, 894.5300000000008, 1177.7200000000005, 1142.3700000000003, 548.2199999999997, 1417.0099999999993, 10877.18, 1188.460000000001, 3667.83, 3473.799999999997, 2455.6799999999994, 3171.54, 10705.8, 3374.2199999999993, 808.8100000000001, 1965.52, 1019.1600000000007, 731.3800000000008, 2169.25, 2748.190000000001, 2538.759999999999, 1897.6900000000005, 9905.560000000001, 4512.929999999997, 821.4899999999997, 1933.1500000000005, 7516.309999999996, 6650.830000000001, 1480.8600000000006, 4782.400000000002, 3757.9199999999973, 21964.14, 2262.519999999999, 7318.90999999999, 1320.6600000000003, 619.3699999999995, 2345.709999999999], \"xaxis\": \"x\", \"y\": [102, 83, 165, 58, 117, 88, 93, 104, 50, 75, 173, 65, 174, 98, 61, 54, 155, 66, 212, 178, 133, 170, 76, 364, 157, 25, 137, 112, 76, 677, 286, 281, 264, 88, 204, 63, 128, 217, 43, 85, 112, 190, 143, 96, 92, 110, 231, 293, 25, 152, 58, 81, 219, 83, 145, 81, 71, 68, 76, 115, 173, 165, 156, 97, 45, 152, 205, 78, 232, 27, 80, 87, 87, 121, 176, 375, 62, 211, 126, 94, 265, 437, 78, 76, 106, 55, 119, 135, 51, 117, 139, 216, 207, 128, 124, 113, 58, 67, 101, 615, 237, 295, 116, 96, 70, 152, 75, 131, 43, 100, 516, 93, 85, 120, 62, 236, 48, 262, 95, 136, 95, 183, 125, 97, 39, 500, 131, 252, 61, 216, 112, 132, 163, 32, 150, 102, 33, 678, 411, 335, 115, 173, 145, 55, 126, 59, 407, 136, 184, 184, 383, 226, 130, 230, 190, 62, 1330, 56, 80, 891, 583, 120, 107, 194, 69, 105, 188, 707, 95, 289, 451, 135, 93, 104, 164, 159, 422, 62, 99, 88, 69, 112, 566, 146, 114, 229, 93, 235, 232, 238, 120, 209, 123, 276, 72, 64, 124, 109, 87, 220, 57, 209, 109, 81, 305, 132, 92, 200, 78, 184, 112, 254, 57, 85, 362, 256, 163, 99, 186, 83, 200, 192, 357, 76, 589, 103, 35, 110, 125, 115, 135, 182, 172, 174, 112, 226, 96, 117, 331, 98, 197, 262, 146, 215, 114, 197, 201, 333, 153, 85, 319, 281, 184, 154, 344, 206, 28, 75, 260, 100, 74, 106, 76, 163, 63, 129, 171, 84, 86, 106, 293, 452, 45, 106, 957, 56, 107, 79, 423, 188, 104, 101, 27, 452, 364, 51, 35, 163, 97, 394, 373, 67, 388, 180, 145, 123, 54, 119, 59, 128, 534, 126, 166, 279, 174, 123, 132, 68, 63, 99, 161, 63, 90, 86, 48, 213, 80, 60, 45, 272, 227, 106, 408, 339, 131, 140, 144, 258, 73, 70, 287, 68, 100, 79, 69, 552, 620, 33, 132, 583, 164, 229, 40, 159, 96, 93, 159, 271, 55, 205, 113, 244, 166, 88, 73, 154, 180, 106, 246, 84, 240, 2646, 661, 107, 145, 182, 164, 61, 104, 373, 181, 99, 144, 227, 128, 154, 116, 86, 202, 98, 272, 134, 190, 62, 157, 219, 50, 257, 93, 67, 1227, 71, 130, 72, 93, 94, 294, 96, 137, 234, 86, 153, 228, 202, 458, 210, 192, 84, 196, 655, 330, 380, 64, 97, 103, 120, 283, 407, 110, 76, 456, 70, 144, 214, 145, 68, 120, 107, 80, 92, 235, 92, 176, 121, 790, 163, 122, 75, 250, 75, 125, 244, 260, 250, 207, 497, 193, 141, 393, 106, 175, 98, 126, 182, 107, 245, 153, 162, 82, 202, 460, 48, 108, 122, 149, 213, 110, 109, 120, 98, 1774, 431, 341, 182, 148, 54, 221, 91, 63, 1030, 84, 187, 219, 184, 91, 268, 161, 296, 199, 132, 130, 172, 142, 240, 81, 65, 336, 145, 73, 99, 167, 129, 84, 68, 101, 162, 147, 367, 174, 166, 88, 187, 153, 80, 101, 67, 174, 247, 54, 402, 72, 185, 129, 61, 160, 78, 96, 151, 98, 163, 71, 133, 169, 191, 358, 284, 115, 79, 195, 302, 329, 340, 294, 56, 285, 362, 452, 193, 73, 147, 81, 352, 102, 81, 95, 105, 224, 77, 67, 145, 77, 113, 123, 116, 132, 232, 57, 100, 251, 265, 86, 221, 96, 38, 201, 78, 230, 133, 109, 146, 59, 106, 152, 119, 141, 321, 73, 111, 127, 223, 75, 383, 88, 143, 340, 104, 116, 214, 176, 97, 134, 104, 94, 184, 59, 30, 68, 330, 77, 77, 60, 142, 89, 25, 263, 114, 143, 79, 253, 143, 169, 205, 82, 79, 170, 51, 185, 74, 323, 246, 106, 112, 151, 238, 218, 202, 167, 366, 226, 298, 637, 174, 114, 65, 144, 109, 543, 131, 183, 113, 225, 87, 462, 68, 51, 81, 478, 241, 89, 107, 77, 176, 25, 279, 192, 81, 69, 171, 130, 237, 80, 113, 839, 111, 384, 90, 100, 323, 126, 130, 195, 103, 230, 148, 1181, 94, 142, 199, 113, 92, 89, 161, 230, 77, 84, 152, 137, 155, 116, 74, 105, 218, 118, 248, 415, 86, 222, 179, 97, 42, 354, 258, 85, 296, 179, 400, 139, 282, 80, 72, 191, 125, 921, 100, 90, 283, 276, 220, 210, 145, 80, 98, 243, 141, 210, 85, 59, 65, 186, 110, 97, 121, 68, 508, 208, 133, 95, 116, 152, 204, 97, 87, 140, 41, 62, 71, 265, 93, 96, 141, 206, 81, 172, 114, 121, 137, 133, 315, 72, 103, 165, 307, 113, 98, 93, 441, 106, 100, 177, 187, 80, 123, 166, 129, 100, 68, 69, 380, 63, 174, 74, 209, 79, 169, 242, 416, 124, 238, 124, 62, 146, 185, 120, 167, 104, 361, 68, 216, 81, 257, 65, 179, 101, 223, 237, 302, 304, 428, 238, 177, 544, 115, 287, 125, 297, 179, 220, 190, 304, 114, 102, 201, 125, 199, 129, 112, 145, 125, 237, 81, 98, 107, 69, 2168, 208, 115, 275, 142, 70, 115, 168, 54, 71, 212, 367, 81, 126, 121, 100, 101, 102, 85, 80, 82, 73, 74, 157, 332, 68, 233, 441, 484, 131, 421, 223, 115, 228, 161, 193, 178, 143, 103, 181, 539, 96, 72, 140, 154, 100, 107, 205, 154, 68, 94, 155, 112, 330, 367, 224, 398, 100, 135, 77, 103, 218, 71, 75, 233, 118, 247, 295, 187, 126, 131, 72, 118, 326, 457, 96, 121, 238, 80, 589, 324, 225, 75, 152, 348, 672, 123, 171, 133, 192, 106, 28, 237, 97, 143, 241, 41, 127, 152, 71, 122, 144, 89, 63, 132, 801, 268, 157, 254, 158, 81, 197, 29, 100, 167, 232, 331, 162, 180, 266, 92, 128, 422, 90, 79, 275, 88, 171, 113, 120, 205, 148, 671, 70, 644, 170, 89, 82, 148, 162, 100, 109, 48, 72, 125, 276, 172, 177, 584, 63, 126, 471, 230, 85, 498, 329, 131, 119, 397, 216, 263, 94, 91, 170, 328, 88, 156, 226, 148, 1115, 308, 45, 110, 142, 179, 215, 209, 92, 92, 88, 119, 279, 107, 58, 410, 89, 176, 48, 1049, 196, 73, 358, 152, 154, 545, 205, 290, 161, 377, 61, 170, 100, 152, 115, 76, 96, 289, 83, 143, 116, 250, 218, 79, 76, 356, 79, 96, 122, 133, 102, 70, 134, 84, 124, 84, 279, 244, 113, 160, 500, 396, 51, 324, 143, 53, 169, 141, 114, 2499, 232, 105, 339, 88, 640, 133, 95, 135, 208, 408, 218, 48, 286, 17, 87, 98, 410, 128, 190, 196, 83, 194, 151, 227, 67, 148, 261, 112, 232, 158, 73, 16, 134, 57, 173, 513, 181, 86, 56, 195, 50, 154, 193, 44, 181, 260, 88, 286, 253, 137, 76, 304, 286, 54, 260, 283, 92, 158, 277, 80, 217, 85], \"yaxis\": \"y\"}],\n",
       "                        {\"legend\": {\"tracegroupgap\": 0}, \"margin\": {\"t\": 60}, \"template\": {\"data\": {\"bar\": [{\"error_x\": {\"color\": \"#2a3f5f\"}, \"error_y\": {\"color\": \"#2a3f5f\"}, \"marker\": {\"line\": {\"color\": \"#E5ECF6\", \"width\": 0.5}}, \"type\": \"bar\"}], \"barpolar\": [{\"marker\": {\"line\": {\"color\": \"#E5ECF6\", \"width\": 0.5}}, \"type\": \"barpolar\"}], \"carpet\": [{\"aaxis\": {\"endlinecolor\": \"#2a3f5f\", \"gridcolor\": \"white\", \"linecolor\": \"white\", \"minorgridcolor\": \"white\", \"startlinecolor\": \"#2a3f5f\"}, \"baxis\": {\"endlinecolor\": \"#2a3f5f\", \"gridcolor\": \"white\", \"linecolor\": \"white\", \"minorgridcolor\": \"white\", \"startlinecolor\": \"#2a3f5f\"}, \"type\": \"carpet\"}], \"choropleth\": [{\"colorbar\": {\"outlinewidth\": 0, \"ticks\": \"\"}, \"type\": \"choropleth\"}], \"contour\": [{\"colorbar\": {\"outlinewidth\": 0, \"ticks\": \"\"}, \"colorscale\": [[0.0, \"#0d0887\"], [0.1111111111111111, \"#46039f\"], [0.2222222222222222, \"#7201a8\"], [0.3333333333333333, \"#9c179e\"], [0.4444444444444444, \"#bd3786\"], [0.5555555555555556, \"#d8576b\"], [0.6666666666666666, \"#ed7953\"], [0.7777777777777778, \"#fb9f3a\"], [0.8888888888888888, \"#fdca26\"], [1.0, \"#f0f921\"]], \"type\": \"contour\"}], \"contourcarpet\": [{\"colorbar\": {\"outlinewidth\": 0, \"ticks\": \"\"}, \"type\": \"contourcarpet\"}], \"heatmap\": [{\"colorbar\": {\"outlinewidth\": 0, \"ticks\": \"\"}, \"colorscale\": [[0.0, \"#0d0887\"], [0.1111111111111111, \"#46039f\"], [0.2222222222222222, \"#7201a8\"], [0.3333333333333333, \"#9c179e\"], [0.4444444444444444, \"#bd3786\"], [0.5555555555555556, \"#d8576b\"], [0.6666666666666666, \"#ed7953\"], [0.7777777777777778, \"#fb9f3a\"], [0.8888888888888888, \"#fdca26\"], [1.0, \"#f0f921\"]], \"type\": \"heatmap\"}], \"heatmapgl\": [{\"colorbar\": {\"outlinewidth\": 0, \"ticks\": \"\"}, \"colorscale\": [[0.0, \"#0d0887\"], [0.1111111111111111, \"#46039f\"], [0.2222222222222222, \"#7201a8\"], [0.3333333333333333, \"#9c179e\"], [0.4444444444444444, \"#bd3786\"], [0.5555555555555556, \"#d8576b\"], [0.6666666666666666, \"#ed7953\"], [0.7777777777777778, \"#fb9f3a\"], [0.8888888888888888, \"#fdca26\"], [1.0, \"#f0f921\"]], \"type\": \"heatmapgl\"}], \"histogram\": [{\"marker\": {\"colorbar\": {\"outlinewidth\": 0, \"ticks\": \"\"}}, \"type\": \"histogram\"}], \"histogram2d\": [{\"colorbar\": {\"outlinewidth\": 0, \"ticks\": \"\"}, \"colorscale\": [[0.0, \"#0d0887\"], [0.1111111111111111, \"#46039f\"], [0.2222222222222222, \"#7201a8\"], [0.3333333333333333, \"#9c179e\"], [0.4444444444444444, \"#bd3786\"], [0.5555555555555556, \"#d8576b\"], [0.6666666666666666, \"#ed7953\"], [0.7777777777777778, \"#fb9f3a\"], [0.8888888888888888, \"#fdca26\"], [1.0, \"#f0f921\"]], \"type\": \"histogram2d\"}], \"histogram2dcontour\": [{\"colorbar\": {\"outlinewidth\": 0, \"ticks\": \"\"}, \"colorscale\": [[0.0, \"#0d0887\"], [0.1111111111111111, \"#46039f\"], [0.2222222222222222, \"#7201a8\"], [0.3333333333333333, \"#9c179e\"], [0.4444444444444444, \"#bd3786\"], [0.5555555555555556, \"#d8576b\"], [0.6666666666666666, \"#ed7953\"], [0.7777777777777778, \"#fb9f3a\"], [0.8888888888888888, \"#fdca26\"], [1.0, \"#f0f921\"]], \"type\": \"histogram2dcontour\"}], \"mesh3d\": [{\"colorbar\": {\"outlinewidth\": 0, \"ticks\": \"\"}, \"type\": \"mesh3d\"}], \"parcoords\": [{\"line\": {\"colorbar\": {\"outlinewidth\": 0, \"ticks\": \"\"}}, \"type\": \"parcoords\"}], \"pie\": [{\"automargin\": true, \"type\": \"pie\"}], \"scatter\": [{\"marker\": {\"colorbar\": {\"outlinewidth\": 0, \"ticks\": \"\"}}, \"type\": \"scatter\"}], \"scatter3d\": [{\"line\": {\"colorbar\": {\"outlinewidth\": 0, \"ticks\": \"\"}}, \"marker\": {\"colorbar\": {\"outlinewidth\": 0, \"ticks\": \"\"}}, \"type\": \"scatter3d\"}], \"scattercarpet\": [{\"marker\": {\"colorbar\": {\"outlinewidth\": 0, \"ticks\": \"\"}}, \"type\": \"scattercarpet\"}], \"scattergeo\": [{\"marker\": {\"colorbar\": {\"outlinewidth\": 0, \"ticks\": \"\"}}, \"type\": \"scattergeo\"}], \"scattergl\": [{\"marker\": {\"colorbar\": {\"outlinewidth\": 0, \"ticks\": \"\"}}, \"type\": \"scattergl\"}], \"scattermapbox\": [{\"marker\": {\"colorbar\": {\"outlinewidth\": 0, \"ticks\": \"\"}}, \"type\": \"scattermapbox\"}], \"scatterpolar\": [{\"marker\": {\"colorbar\": {\"outlinewidth\": 0, \"ticks\": \"\"}}, \"type\": \"scatterpolar\"}], \"scatterpolargl\": [{\"marker\": {\"colorbar\": {\"outlinewidth\": 0, \"ticks\": \"\"}}, \"type\": \"scatterpolargl\"}], \"scatterternary\": [{\"marker\": {\"colorbar\": {\"outlinewidth\": 0, \"ticks\": \"\"}}, \"type\": \"scatterternary\"}], \"surface\": [{\"colorbar\": {\"outlinewidth\": 0, \"ticks\": \"\"}, \"colorscale\": [[0.0, \"#0d0887\"], [0.1111111111111111, \"#46039f\"], [0.2222222222222222, \"#7201a8\"], [0.3333333333333333, \"#9c179e\"], [0.4444444444444444, \"#bd3786\"], [0.5555555555555556, \"#d8576b\"], [0.6666666666666666, \"#ed7953\"], [0.7777777777777778, \"#fb9f3a\"], [0.8888888888888888, \"#fdca26\"], [1.0, \"#f0f921\"]], \"type\": \"surface\"}], \"table\": [{\"cells\": {\"fill\": {\"color\": \"#EBF0F8\"}, \"line\": {\"color\": \"white\"}}, \"header\": {\"fill\": {\"color\": \"#C8D4E3\"}, \"line\": {\"color\": \"white\"}}, \"type\": \"table\"}]}, \"layout\": {\"annotationdefaults\": {\"arrowcolor\": \"#2a3f5f\", \"arrowhead\": 0, \"arrowwidth\": 1}, \"coloraxis\": {\"colorbar\": {\"outlinewidth\": 0, \"ticks\": \"\"}}, \"colorscale\": {\"diverging\": [[0, \"#8e0152\"], [0.1, \"#c51b7d\"], [0.2, \"#de77ae\"], [0.3, \"#f1b6da\"], [0.4, \"#fde0ef\"], [0.5, \"#f7f7f7\"], [0.6, \"#e6f5d0\"], [0.7, \"#b8e186\"], [0.8, \"#7fbc41\"], [0.9, \"#4d9221\"], [1, \"#276419\"]], \"sequential\": [[0.0, \"#0d0887\"], [0.1111111111111111, \"#46039f\"], [0.2222222222222222, \"#7201a8\"], [0.3333333333333333, \"#9c179e\"], [0.4444444444444444, \"#bd3786\"], [0.5555555555555556, \"#d8576b\"], [0.6666666666666666, \"#ed7953\"], [0.7777777777777778, \"#fb9f3a\"], [0.8888888888888888, \"#fdca26\"], [1.0, \"#f0f921\"]], \"sequentialminus\": [[0.0, \"#0d0887\"], [0.1111111111111111, \"#46039f\"], [0.2222222222222222, \"#7201a8\"], [0.3333333333333333, \"#9c179e\"], [0.4444444444444444, \"#bd3786\"], [0.5555555555555556, \"#d8576b\"], [0.6666666666666666, \"#ed7953\"], [0.7777777777777778, \"#fb9f3a\"], [0.8888888888888888, \"#fdca26\"], [1.0, \"#f0f921\"]]}, \"colorway\": [\"#636efa\", \"#EF553B\", \"#00cc96\", \"#ab63fa\", \"#FFA15A\", \"#19d3f3\", \"#FF6692\", \"#B6E880\", \"#FF97FF\", \"#FECB52\"], \"font\": {\"color\": \"#2a3f5f\"}, \"geo\": {\"bgcolor\": \"white\", \"lakecolor\": \"white\", \"landcolor\": \"#E5ECF6\", \"showlakes\": true, \"showland\": true, \"subunitcolor\": \"white\"}, \"hoverlabel\": {\"align\": \"left\"}, \"hovermode\": \"closest\", \"mapbox\": {\"style\": \"light\"}, \"paper_bgcolor\": \"white\", \"plot_bgcolor\": \"#E5ECF6\", \"polar\": {\"angularaxis\": {\"gridcolor\": \"white\", \"linecolor\": \"white\", \"ticks\": \"\"}, \"bgcolor\": \"#E5ECF6\", \"radialaxis\": {\"gridcolor\": \"white\", \"linecolor\": \"white\", \"ticks\": \"\"}}, \"scene\": {\"xaxis\": {\"backgroundcolor\": \"#E5ECF6\", \"gridcolor\": \"white\", \"gridwidth\": 2, \"linecolor\": \"white\", \"showbackground\": true, \"ticks\": \"\", \"zerolinecolor\": \"white\"}, \"yaxis\": {\"backgroundcolor\": \"#E5ECF6\", \"gridcolor\": \"white\", \"gridwidth\": 2, \"linecolor\": \"white\", \"showbackground\": true, \"ticks\": \"\", \"zerolinecolor\": \"white\"}, \"zaxis\": {\"backgroundcolor\": \"#E5ECF6\", \"gridcolor\": \"white\", \"gridwidth\": 2, \"linecolor\": \"white\", \"showbackground\": true, \"ticks\": \"\", \"zerolinecolor\": \"white\"}}, \"shapedefaults\": {\"line\": {\"color\": \"#2a3f5f\"}}, \"ternary\": {\"aaxis\": {\"gridcolor\": \"white\", \"linecolor\": \"white\", \"ticks\": \"\"}, \"baxis\": {\"gridcolor\": \"white\", \"linecolor\": \"white\", \"ticks\": \"\"}, \"bgcolor\": \"#E5ECF6\", \"caxis\": {\"gridcolor\": \"white\", \"linecolor\": \"white\", \"ticks\": \"\"}}, \"title\": {\"x\": 0.05}, \"xaxis\": {\"automargin\": true, \"gridcolor\": \"white\", \"linecolor\": \"white\", \"ticks\": \"\", \"title\": {\"standoff\": 15}, \"zerolinecolor\": \"white\", \"zerolinewidth\": 2}, \"yaxis\": {\"automargin\": true, \"gridcolor\": \"white\", \"linecolor\": \"white\", \"ticks\": \"\", \"title\": {\"standoff\": 15}, \"zerolinecolor\": \"white\", \"zerolinewidth\": 2}}}, \"xaxis\": {\"anchor\": \"y\", \"domain\": [0.0, 1.0], \"title\": {\"text\": \"Monetary\"}}, \"yaxis\": {\"anchor\": \"x\", \"domain\": [0.0, 1.0], \"title\": {\"text\": \"Frequency\"}}},\n",
       "                        {\"responsive\": true}\n",
       "                    ).then(function(){\n",
       "                            \n",
       "var gd = document.getElementById('029ce055-9eb3-419b-a76b-b84b382b4c83');\n",
       "var x = new MutationObserver(function (mutations, observer) {{\n",
       "        var display = window.getComputedStyle(gd).display;\n",
       "        if (!display || display === 'none') {{\n",
       "            console.log([gd, 'removed!']);\n",
       "            Plotly.purge(gd);\n",
       "            observer.disconnect();\n",
       "        }}\n",
       "}});\n",
       "\n",
       "// Listen for the removal of the full notebook cells\n",
       "var notebookContainer = gd.closest('#notebook-container');\n",
       "if (notebookContainer) {{\n",
       "    x.observe(notebookContainer, {childList: true});\n",
       "}}\n",
       "\n",
       "// Listen for the clearing of the current output cell\n",
       "var outputEl = gd.closest('.output');\n",
       "if (outputEl) {{\n",
       "    x.observe(outputEl, {childList: true});\n",
       "}}\n",
       "\n",
       "                        })\n",
       "                };\n",
       "                \n",
       "            </script>\n",
       "        </div>\n",
       "</body>\n",
       "</html>"
      ]
     },
     "metadata": {
      "tags": []
     },
     "output_type": "display_data"
    },
    {
     "data": {
      "text/html": [
       "<html>\n",
       "<head><meta charset=\"utf-8\" /></head>\n",
       "<body>\n",
       "    <div>\n",
       "            <script src=\"https://cdnjs.cloudflare.com/ajax/libs/mathjax/2.7.5/MathJax.js?config=TeX-AMS-MML_SVG\"></script><script type=\"text/javascript\">if (window.MathJax) {MathJax.Hub.Config({SVG: {font: \"STIX-Web\"}});}</script>\n",
       "                <script type=\"text/javascript\">window.PlotlyConfig = {MathJaxConfig: 'local'};</script>\n",
       "        <script src=\"https://cdn.plot.ly/plotly-latest.min.js\"></script>    \n",
       "            <div id=\"13a9b212-6a38-488d-8c30-81faad180614\" class=\"plotly-graph-div\" style=\"height:525px; width:100%;\"></div>\n",
       "            <script type=\"text/javascript\">\n",
       "                \n",
       "                    window.PLOTLYENV=window.PLOTLYENV || {};\n",
       "                    \n",
       "                if (document.getElementById(\"13a9b212-6a38-488d-8c30-81faad180614\")) {\n",
       "                    Plotly.newPlot(\n",
       "                        '13a9b212-6a38-488d-8c30-81faad180614',\n",
       "                        [{\"hoverlabel\": {\"namelength\": 0}, \"hovertemplate\": \"Cluster=Cluster0<br>Monetary=%{x}<br>Recency=%{y}\", \"legendgroup\": \"Cluster=Cluster0\", \"marker\": {\"color\": \"#636efa\", \"symbol\": \"circle\"}, \"mode\": \"markers\", \"name\": \"Cluster=Cluster0\", \"showlegend\": true, \"type\": \"scattergl\", \"x\": [372.8600000000001, 300.93, 343.79999999999995, 317.75999999999993, 488.2099999999999, 321.35, 917.6999999999999, 774.6200000000001, 763.0500000000002, 503.15, 1407.7000000000003, 767.9799999999999, 258.90000000000003, 1120.45, 1433.33, 816.8500000000003, 931.4300000000006, 853.6500000000001, 1031.3, 346.9, 1352.6200000000001, 503.01, 291.56, 763.08, 1579.0700000000002, 964.2100000000002, 762.4800000000002, 303.50000000000006, 297.29, 1142.8800000000003, 859.2000000000002, 173.55, 485.31000000000006, 301.58, 768.6, 490.32, 632.68, 830.09, 454.3599999999999, 326.65, 426.26000000000005, 708.0999999999999, 1037.2800000000002, 452.0000000000001, 393.71999999999997, 955.2, 539.2499999999999, 580.08, 1336.5599999999997, 385.70000000000005, 973.7299999999998, 1367.8899999999996, 732.9399999999998, 276.5, 481.8799999999999, 980.2500000000002, 1575.6799999999998, 916.4700000000001, 468.49999999999994, 1185.1799999999998, 556.8700000000002, 622.8199999999999, 826.8900000000004, 637.2, 743.88, 886.0999999999999, 2145.06, 1511.0099999999998, 415.78999999999996, 417.79999999999995, 804.8799999999999, 490.0, 826.2699999999999, 793.95, 263.74999999999994, 1950.98, 1188.16, 1248.42, 764.2400000000001, 2622.481000000001, 619.5000000000001, 957.2500000000002, 395.1, 847.1099999999999, 973.6800000000003, 825.0200000000002, 851.9100000000001, 638.1100000000001, 722.9799999999998, 1339.0499999999993, 1698.8300000000006, 233.84, 829.2500000000001, 529.25, 1201.52, 925.4100000000002, 268.27, 347.8, 782.95, 320.08, 1404.58, 949.8199999999999, 1895.0, 300.08, 519.4499999999999, 953.4499999999999, 1230.3300000000004, 788.4499999999999, 728.4999999999999, 398.52000000000004, 444.90000000000003, 266.93, 863.5100000000001, 426.46999999999997, 471.85, 1533.8899999999996, 584.2499999999999, 1071.82, 1092.81, 325.36999999999995, 330.34999999999997, 422.44999999999993, 1266.63, 534.99, 519.0500000000001, 1687.8000000000009, 524.94, 540.5200000000001, 4742.0, 518.63, 528.56, 1315.1999999999998, 799.0000000000002, 322.64, 765.3599999999999, 612.8400000000004, 147.26999999999998, 575.0999999999999, 668.23, 640.0000000000001, 337.66999999999996, 1653.3000000000002, 948.4199999999998, 640.1299999999998, 385.4600000000001, 329.29999999999984, 263.37999999999994, 296.21000000000004, 366.4, 833.5300000000001, 1018.4200000000003, 508.9099999999999, 924.5199999999998, 811.1000000000004, 1534.7799999999997, 323.8600000000002, 597.5999999999999, 1535.7000000000003, 377.4900000000002, 496.4999999999999, 437.16, 324.45, 304.03999999999996, 498.9599999999999, 413.8199999999999, 467.3399999999999, 1322.0700000000002, 211.99, 1161.1999999999998, 474.63999999999993, 517.7000000000002, 490.08, 753.51, 546.0, 261.05999999999995, 844.87, 355.5, 884.02, 920.0799999999999, 497.65000000000015, 293.18, 485.98, 382.66, 330.12, 1310.9900000000005, 618.9600000000002, 759.1300000000003, 555.8699999999999, 757.7200000000001, 679.8, 279.90999999999997, 442.32, 1010.7299999999999, 799.13, 503.63999999999993, 319.94000000000005, 751.5600000000001, 1106.7000000000003, 709.59, 561.25, 393.05, 522.9, 418.08, 1378.74, 2017.2000000000007, 439.32999999999987, 236.11000000000004, 1976.0000000000005, 505.79999999999995, 594.21, 465.70000000000005, 610.62, 526.96, 748.46, 347.49, 506.74999999999994, 885.33, 681.65, 504.85, 405.1, 805.0, 1207.3400000000004, 307.12000000000006, 359.38, 458.7300000000001, 333.8200000000001, 541.1400000000001, 831.45, 572.3100000000001, 359.69, 570.66, 164.69000000000003, 136.73000000000002, 1271.0600000000002, 1233.0600000000004, 966.66, 758.6499999999997, 2617.9000000000005, 516.8000000000001, 805.9200000000002, 571.3400000000001, 346.49999999999994, 642.9999999999999, 305.9, 1265.1300000000003, 112.53000000000004, 429.0, 635.2599999999998, 558.72, 897.52, 252.68000000000004, 399.3, 1920.7099999999998, 504.94999999999993, 373.15999999999985, 722.56, 360.85, 238.85999999999996, 264.9, 893.12, 350.84999999999997, 655.47, 734.9100000000001, 781.5900000000001, 927.61, 415.5699999999999, 815.7899999999998, 900.7700000000002, 705.1099999999999, 1076.2000000000003, 913.6199999999999, 917.5700000000002, 249.57999999999996, 409.16999999999996, 679.4, 1655.17, 1015.7399999999999, 1575.26, 603.75, 1553.6500000000005, 1450.5000000000002, 731.3600000000001, 510.2, 498.1, 754.8700000000003, 422.80000000000007, 1013.5799999999999, 1164.59, 835.46, 186.93999999999994, 508.55000000000007, 1131.45, 872.5100000000001, 1647.7399999999996, 641.36, 1198.8999999999999, 487.34999999999997, 429.44000000000005, 1103.64, 784.17, 1028.6599999999999, 572.7699999999999, 423.92999999999995, 276.7600000000001, 439.1000000000001, 658.3200000000002, 1132.6200000000003, 637.4400000000002, 702.9000000000001, 1295.2500000000007, 424.2599999999999, 419.87, 619.0799999999999, 424.71000000000004, 1160.4099999999996, 1002.3500000000001, 931.1199999999999, 705.4499999999999, 592.24, 2235.1200000000013, 419.75, 823.0000000000003, 1364.59, 550.42, 627.82, 476.92, 299.53, 1544.79, 488.5, 462.18, 619.4900000000002, 663.7, 374.6999999999999, 295.84999999999997, 1182.0000000000005, 717.85, 938.0200000000004, 632.3900000000001, 785.25, 1439.6099999999997, 514.1399999999999, 364.92999999999984, 465.1499999999999, 167.07999999999996, 223.27999999999997, 342.54999999999995, 499.59999999999974, 614.2700000000003, 404.45000000000005, 664.001, 243.30000000000004, 684.54, 961.1, 741.0900000000001, 976.8100000000001, 784.4800000000005, 396.71, 601.92, 466.67, 596.2800000000001, 717.6199999999999, 522.67, 400.3, 232.05000000000007, 818.29, 1039.8500000000004, 747.2799999999999, 283.85, 734.57, 224.93999999999997, 658.95, 462.0800000000001, 449.80999999999995, 607.43, 312.93, 1016.4700000000003, 159.92000000000002, 326.24999999999983, 1393.5600000000004, 699.2000000000002, 306.6399999999999, 172.60000000000002, 551.2400000000002, 281.25999999999993, 529.75, 337.0400000000001, 212.77999999999994, 1626.08, 2020.3999999999996, 451.73, 455.57, 348.34, 326.06, 1263.7000000000003, 537.5800000000002, 740.76, 318.28999999999996, 994.23, 213.00999999999993, 740.6700000000001, 724.7300000000001, 487.03, 434.7799999999999, 1232.0200000000002, 477.3200000000001, 1320.1000000000001, 404.45, 1353.3100000000004, 1076.8499999999997, 881.5199999999998, 2165.76, 875.97, 785.3699999999999, 301.54, 1049.66, 945.7900000000001, 372.06000000000006, 650.9900000000001, 877.2200000000003, 1542.09, 447.43999999999994, 542.49, 913.4599999999998, 239.45999999999998, 836.2999999999998, 289.7, 1179.4499999999998, 1121.24, 1061.8400000000006, 572.7299999999999, 524.65, 1398.6100000000004, 678.1999999999999, 1502.0000000000002, 652.7500000000001, 255.59000000000003, 557.6899999999998, 316.56, 620.37, 651.4000000000003, 319.75000000000006, 442.72999999999996, 1310.34, 753.5300000000001, 273.26, 346.72999999999996, 933.77, 1482.6000000000004, 919.5700000000002, 649.3200000000002, 1508.7000000000003, 332.44000000000005, 1145.3300000000004, 395.5, 1415.4500000000003, 849.5600000000001, 530.47, 869.64, 282.84999999999997, 1275.8100000000006, 975.8700000000002, 730.7000000000003, 692.9499999999999, 359.27, 563.0799999999999, 721.2800000000003, 992.4100000000001, 854.1499999999999, 446.76000000000005, 3125.0, 221.10999999999999, 458.2499999999999, 470.72999999999985, 538.4000000000001, 438.90000000000003, 996.6100000000002, 384.26000000000005, 846.55, 834.38, 519.81, 568.68, 331.13999999999993, 682.5400000000001, 609.8400000000001, 759.9799999999999, 895.7600000000001, 376.46, 566.6999999999999, 1410.6799999999996, 1234.4799999999998, 509.03999999999996, 404.3000000000001, 445.1499999999999, 457.8199999999999, 611.5499999999998, 1443.03, 606.2099999999999, 352.15000000000003, 318.04, 713.11, 10396.5, 689.75, 302.59999999999997, 338.75999999999993, 241.29999999999998, 795.32, 469.18999999999994, 917.43, 891.0200000000001, 1250.8700000000001, 225.81000000000006, 321.59999999999997, 792.6100000000001, 1070.0799999999997, 231.11000000000004, 373.29999999999984, 637.9999999999997, 9530.080000000002, 311.7699999999999, 422.8599999999999, 527.3199999999998, 977.5600000000002, 622.67, 458.45, 362.41999999999996, 436.17999999999995, 466.32999999999987, 1467.48, 168.22, 670.98, 671.34, 3857.85, 2106.8, 679.4500000000002, 553.8000000000001, 251.15, 711.7, 370.45, 621.5100000000002, 369.01999999999987, 339.10999999999996, 308.3500000000001, 678.7700000000001, 278.3399999999999, 293.74, 356.80000000000007, 1603.6000000000001, 390.05, 868.3299999999997, 906.3000000000002, 446.09999999999997, 847.76, 339.34, 856.8500000000001, 415.30999999999995, 1119.6599999999999, 1192.2, 310.74, 543.8900000000001, 882.6000000000001, 770.3399999999998, 745.5, 1046.84, 979.8000000000002, 309.90999999999997, 1441.5500000000004, 1573.1300000000003, 1253.78, 471.14, 357.1499999999999, 616.79, 730.3699999999999, 350.99, 601.03, 1491.7300000000005, 824.28, 322.93, 843.1699999999996, 354.84999999999997, 482.84999999999997, 1189.3799999999999, 982.9400000000002, 628.4400000000002, 704.3999999999999, 1374.41, 375.3399999999999, 456.4, 1352.0400000000004, 742.9000000000001, 277.94, 1058.0800000000002, 492.1, 716.69, 1370.3400000000004, 494.8499999999999, 868.96, 687.3100000000002, 474.1, 701.61, 757.1300000000001, 1077.2000000000003, 689.0999999999999, 285.90000000000003, 400.0599999999999, 634.6800000000002, 469.1299999999998, 1175.78, 860.0800000000004, 871.2600000000001, 917.0600000000001, 423.26000000000016, 854.5500000000001, 707.7899999999998, 1157.7700000000002, 1503.2399999999998, 656.1599999999996, 643.4700000000009, 902.3499999999999, 524.6499999999999, 202.85000000000005, 1251.65, 1656.2599999999998, 651.4099999999999, 661.3899999999999, 900.1799999999998, 516.28, 1220.9, 280.7, 221.64999999999992, 189.93, 548.5, 645.1899999999999, 399.9, 617.7199999999996, 228.06999999999996, 659.1600000000001, 262.24, 400.95000000000005, 266.05, 711.2300000000001, 1020.4700000000001, 749.0599999999997, 225.8899999999999, 1111.5500000000002, 940.6899999999999, 773.8800000000002, 258.65, 376.34, 1516.6500000000003, 982.5899999999999, 1038.0299999999997, 934.23, 624.3599999999999, 587.6899999999999, 691.8599999999999, 343.70999999999975, 815.6900000000005, 655.5, 640.5400000000002, 760.0999999999999, 2660.0, 919.7000000000003, 369.94000000000005, 395.68999999999994, 160.00000000000003, 420.2199999999998, 504.4399999999998, 271.05, 705.0999999999997, 254.99999999999997, 423.85, 222.21999999999994, 457.89, 471.84, 1567.79, 884.64, 604.3300000000002, 877.6999999999998, 295.13, 951.7600000000002, 788.88, 896.8, 1212.21, 588.2200000000001, 462.75, 1326.0400000000006, 338.65, 1018.7100000000004, 986.0800000000002, 1416.9599999999998, 498.94999999999976, 601.97, 635.0599999999997, 490.59999999999974, 913.9500000000003, 190.46999999999997, 1127.45, 347.59, 419.22000000000014, 403.39, 376.20000000000005, 228.5199999999999, 773.6800000000001, 422.6299999999999, 992.4599999999999, 1534.2199999999998, 688.95, 593.4699999999998, 880.96, 258.96, 367.53999999999996, 746.05, 958.0700000000002, 235.77, 109.07, 309.1000000000001, 341.9, 597.1599999999999, 195.14999999999998, 1056.4199999999998, 374.05, 2389.62, 507.4499999999999, 497.24999999999994, 579.8499999999997, 1331.1500000000005, 593.5, 909.8800000000001, 382.80999999999995, 594.6199999999999, 406.55999999999995, 307.55999999999995, 476.87999999999994, 396.91, 633.9900000000001, 550.57, 536.1499999999999, 504.13999999999993, 686.7600000000001, 446.5899999999999, 170.50000000000006, 495.7599999999999, 184.34, 767.47, 1676.5699999999997, 485.85999999999996, 769.92, 915.2800000000001, 437.4, 1039.55, 901.07, 1511.7000000000005, 726.8899999999999, 816.6, 1397.08, 425.8499999999999, 832.8, 691.5999999999999, 552.3499999999999, 571.76, 837.0600000000001, 702.9600000000002, 605.0500000000001, 1404.6800000000007, 1021.4, 1773.97, 1123.75, 629.4000000000001, 843.7400000000004, 620.9600000000002, 308.19999999999993, 612.8100000000001, 1770.0, 1065.1199999999997, 531.4899999999999, 746.5600000000001, 758.97, 515.0, 458.25999999999993, 1518.8100000000002, 353.65, 906.23, 1190.8200000000006, 429.6599999999999, 237.78, 1058.14, 563.1000000000001, 304.17, 314.66999999999996, 210.49999999999997, 442.2900000000001, 338.31000000000006, 199.10999999999996, 277.4, 416.6, 429.77999999999986, 450.84999999999985, 198.46999999999997, 617.8299999999999, 579.8899999999999, 1461.63, 397.76, 2333.3199999999997, 98.70000000000003, 549.1199999999999, 1766.4600000000007, 621.5399999999996, 737.0500000000002, 473.49000000000007, 817.46, 566.8899999999999, 2428.0799999999995, 546.2500000000001, 965.2, 565.9000000000001, 318.65, 660.2700000000002, 1160.41, 554.67, 795.9800000000001, 620.8499999999998, 498.15000000000003, 509.75000000000006, 639.56, 934.1900000000002, 449.48999999999995, 312.68, 824.48, 823.4, 502.5199999999999, 889.44, 1388.4699999999998, 304.17999999999995, 1033.81, 518.1400000000001, 1089.4400000000005, 383.96999999999997, 718.0400000000001, 431.10999999999996, 119.92000000000003, 487.75, 569.2200000000001, 345.71, 988.0400000000003, 948.9299999999998, 639.93, 283.19, 991.79, 1298.99, 834.4399999999999, 588.05, 313.69999999999993, 797.9, 377.71, 549.0499999999998, 606.4100000000003, 6001.49, 683.92, 845.01, 389.49, 426.2400000000001, 662.1999999999999, 549.2799999999999, 1269.0900000000001, 690.3000000000001, 1293.7199999999998, 610.6000000000001, 620.06, 1362.63, 1136.89, 787.9900000000001, 1182.38, 239.86999999999998, 454.66, 732.9100000000002, 961.9, 816.5599999999998, 491.1699999999996, 496.16, 284.4, 348.59000000000003, 369.34, 653.31, 207.03999999999994, 3484.53, 650.1600000000001, 797.9600000000002, 1634.64, 492.4799999999999, 711.18, 434.5999999999999, 1388.8099999999995, 767.9099999999999, 373.02, 277.9299999999999, 343.69999999999993, 547.5999999999999, 613.08, 678.11, 1352.9600000000003, 1211.75, 1174.5500000000002, 1293.7200000000003, 625.2, 468.6499999999998, 2233.8, 659.4799999999999, 586.0999999999999, 257.06, 465.1599999999998, 1234.88, 588.5000000000001, 449.42, 742.9999999999999, 668.97, 954.7499999999999, 1269.0499999999997, 1254.2100000000003, 399.74999999999994, 226.85999999999999, 502.44999999999993, 962.9700000000001, 335.7, 583.56, 1993.3400000000004, 1061.6900000000003, 1285.3300000000006, 210.84999999999997, 246.49999999999997, 399.9499999999998, 349.87, 152.41, 210.57999999999998, 344.60999999999996, 430.7799999999998, 311.3699999999999, 541.4699999999998, 3358.4, 247.38, 135.32999999999998, 1079.1, 652.7, 1109.3999999999996, 536.88, 597.2300000000001, 95.96000000000001, 547.34, 1139.1, 307.34, 488.3199999999999, 1199.3100000000002, 738.57, 1604.21, 692.3, 433.7199999999999, 828.5500000000002, 389.18, 391.71999999999997, 566.8999999999999, 596.6700000000001, 311.1, 719.8199999999999, 574.2300000000001, 639.7599999999998, 443.1599999999999, 526.9700000000003, 553.8799999999999, 612.76, 906.1500000000002, 867.5999999999998, 632.94, 648.4000000000002, 1563.5400000000004, 318.23999999999995, 190.57, 434.5, 721.0599999999998, 1170.1100000000004, 1441.040000000001, 898.8700000000005, 420.25, 453.92999999999995, 658.02, 456.70000000000005, 740.0000000000003, 321.9100000000001, 544.6, 605.7, 923.8499999999999, 327.67999999999995, 465.45000000000005, 13916.34, 1223.1100000000001, 370.6299999999999, 516.0, 1006.5400000000002, 138.84, 1017.54, 715.5000000000001, 307.95000000000005, 1399.3600000000001, 848.3299999999998, 933.8400000000001, 1433.96, 777.0, 1535.3700000000001, 537.2, 530.1800000000002, 1513.84, 913.6199999999998, 758.6700000000002, 689.11, 954.5899999999999, 890.9399999999997, 943.9700000000004, 385.03, 1518.35, 548.8000000000001, 714.5100000000002, 107.01000000000002, 433.3, 438.4599999999999, 286.25999999999993, 506.0199999999998, 412.99999999999983, 1449.1399999999996, 330.7699999999999, 329.0299999999999, 871.78, 1027.15, 260.85, 535.65, 151.43999999999997, 549.29, 335.98999999999995, 962.5000000000003, 758.62, 810.0800000000002, 205.98999999999995, 364.4499999999999, 407.0699999999998, 214.08, 401.64000000000016, 452.22999999999985, 369.50000000000006, 127.08000000000003, 2190.66, 282.7900000000001, 330.2299999999999, 1839.1400000000003, 2304.1799999999994, 553.8499999999999, 304.95, 617.6, 492.3599999999999, 357.7699999999999, 542.8899999999999, 410.94999999999993, 451.28999999999996, 289.48, 426.5300000000001, 404.5499999999999, 460.95000000000005, 703.2199999999998, 1702.98, 324.50999999999993, 1572.8600000000001, 216.70000000000005, 582.1099999999998, 368.3099999999997, 854.6099999999997, 761.4099999999997, 694.5400000000003, 583.39, 231.41999999999987, 453.45, 289.23, 487.02999999999986, 232.96000000000006, 1113.74, 473.61999999999995, 654.32, 456.3999999999999, 1103.3500000000001, 1082.6000000000001, 340.84, 818.7899999999998, 1327.9800000000002, 541.9499999999999, 457.7000000000001, 750.5600000000001, 252.49999999999994, 736.93, 2300.4, 283.79, 385.4, 1033.8, 1739.92, 263.49, 770.0799999999999, 447.05000000000007, 1264.3500000000004, 841.3000000000003, 582.6400000000001, 460.6399999999998, 549.33, 422.18999999999994, 1297.4499999999998, 595.3800000000003, 987.48, 664.2000000000002, 422.7, 910.3499999999998, 475.74, 832.4200000000001, 335.54, 796.9000000000002, 628.3199999999999, 884.5900000000001, 435.8300000000001, 1386.1200000000001, 744.3400000000001, 1237.1999999999998, 798.8499999999999, 414.70000000000005, 3354.0, 739.1, 315.97999999999996, 629.3600000000001, 942.75, 521.64, 534.5300000000001, 1884.1600000000008, 543.5699999999999, 603.37, 975.5000000000002, 498.5, 321.24, 417.0499999999999, 713.0000000000002, 885.7099999999999, 1078.0, 821.3500000000005, 401.94, 295.09000000000003, 876.9399999999999, 340.9399999999998, 312.6199999999999, 755.1500000000002, 348.15999999999997, 823.5299999999999, 896.0600000000002, 717.5700000000004, 351.7499999999999, 1591.2400000000007, 1818.7900000000004, 551.4599999999999, 1361.96, 1139.2800000000002, 205.79999999999995, 864.4800000000005, 951.5099999999999, 1313.6700000000003, 487.5, 381.6599999999999, 1194.9200000000003, 2560.0, 460.0800000000001, 850.8600000000002, 373.46999999999997, 2037.6999999999998, 417.21, 263.73000000000013, 285.54, 741.3199999999999, 613.3300000000002, 224.51000000000008, 328.77, 416.35, 204.09999999999997, 892.1500000000001, 946.83, 1220.83, 549.8100000000001, 1111.1500000000003, 309.48999999999995, 247.84999999999988, 353.09999999999997, 774.45, 765.59, 788.0999999999997, 467.5000000000001, 538.8100000000001, 222.20000000000002, 205.64999999999992, 374.0099999999999, 681.9700000000001, 231.93000000000004, 457.1999999999999, 259.83000000000004, 424.9599999999999, 496.49, 397.62, 504.9899999999999, 526.2699999999999, 638.4899999999999, 817.0899999999999, 1161.8899999999999, 1003.0700000000005, 319.14, 301.25, 637.93, 282.67999999999984, 352.64999999999986, 471.18999999999994, 178.13000000000008, 1193.8100000000004, 746.1799999999998, 746.2399999999999, 2869.1600000000003, 712.62, 966.0300000000003, 789.5999999999997, 350.34999999999997, 209.39999999999995, 801.6600000000001, 385.56, 780.46, 731.2500000000001, 443.04999999999995, 258.54999999999995, 240.95, 475.0499999999999, 433.35999999999996, 306.18999999999994, 426.8499999999999, 1004.8800000000001, 1053.7400000000002, 635.9000000000002, 378.2899999999999, 395.06999999999994, 205.75000000000003, 424.0299999999999, 1315.0000000000002, 1629.79, 223.86, 599.3499999999999, 1331.0299999999997, 850.34, 540.87, 380.0, 297.95, 998.8300000000002, 605.9000000000001, 741.11, 434.29999999999995, 357.66, 673.5999999999999, 885.7900000000001, 1320.9500000000003, 406.4, 472.99999999999994, 490.47, 389.11999999999995, 435.59999999999997, 678.7999999999998, 327.84, 382.14000000000004, 932.7600000000001, 151.05, 555.7, 608.86, 769.7799999999997, 880.6200000000001, 637.75, 701.62, 994.5999999999999, 1110.8299999999997, 664.1600000000001, 533.41, 1217.45, 621.5600000000004, 654.9600000000002, 705.14, 463.42999999999995, 226.91, 1072.9700000000003, 420.7499999999998, 755.51, 249.65, 905.9599999999999, 220.96999999999997, 174.16, 623.0, 391.95, 533.7800000000001, 513.08, 841.1600000000008, 452.7799999999998, 582.6099999999999, 630.7499999999993, 1002.29, 812.7400000000002, 532.5, 406.0200000000001, 1051.7100000000003, 392.13000000000005, 316.1, 881.59, 1302.5100000000004, 485.5, 530.4999999999999, 570.76, 614.34, 628.0899999999999, 421.45, 323.09000000000003, 1184.6000000000001, 1610.6200000000003, 772.8300000000002, 662.33, 409.24999999999994, 384.5599999999999, 450.1600000000001, 533.11, 209.88999999999996, 136.01000000000005, 641.1299999999998, 234.18999999999994, 465.8399999999999, 434.20000000000005, 947.9800000000004, 236.56000000000006, 900.6299999999998, 424.71000000000004, 851.3300000000002, 255.24999999999994, 921.4999999999999, 1460.3600000000001, 355.45, 255.03, 611.0800000000008, 262.31999999999994, 530.86, 286.39000000000004, 196.25000000000003, 433.84999999999997, 548.7300000000001, 433.75, 628.22, 778.4899999999999, 560.39, 749.0000000000001, 926.1200000000002, 496.00000000000006, 424.5499999999999, 1007.7400000000001, 394.37, 256.55, 1041.2099999999996, 1950.95, 666.6500000000001, 406.3, 1077.82, 828.2099999999999, 1012.2200000000001, 622.36, 853.49, 360.60999999999996, 552.4, 1367.6, 935.6200000000005, 1182.22, 800.1800000000001, 1152.8699999999997, 433.07, 1593.8300000000002, 1421.3000000000002, 530.9000000000001, 630.7700000000001, 1954.99, 583.71, 488.23999999999995, 1264.05, 1188.3300000000002, 1146.3300000000002, 465.59999999999985, 232.85000000000002, 294.74, 133.17999999999998, 401.66999999999985, 669.91, 1105.53, 1248.09, 591.0699999999999, 582.1700000000001, 885.3199999999999, 424.29999999999984, 474.03000000000003, 481.57999999999987, 410.42, 336.6, 197.57000000000002, 389.78000000000003, 432.17999999999995, 631.87, 1155.03, 1220.91, 696.2499999999999, 880.9700000000001, 1485.3600000000004, 640.7600000000001, 591.8700000000001, 713.0300000000001, 560.7100000000002, 856.0100000000001, 406.68, 400.2, 638.8100000000002, 596.19, 432.9599999999998, 795.4700000000001, 229.45999999999995, 569.8800000000002, 610.7399999999999, 549.8799999999999, 562.9799999999998, 327.75, 356.71, 853.3200000000008, 615.2700000000001, 292.62000000000006, 595.6999999999999, 251.72000000000003, 567.5600000000001, 642.14, 1250.8600000000006, 501.9799999999999, 369.97999999999996, 1013.1300000000001, 679.44, 806.95, 1754.2400000000002, 181.89000000000004, 529.1499999999999, 198.29, 490.21999999999997, 417.29999999999995, 221.5899999999999, 268.28, 205.13999999999996, 970.2500000000001, 491.8099999999999, 601.4499999999999, 204.29999999999995, 465.40000000000003, 502.4899999999999, 797.8499999999999, 623.0800000000004, 188.46, 407.9399999999999, 237.80999999999997, 338.13, 455.83999999999986, 336.61999999999995, 393.64, 131.14999999999998, 2135.46, 1151.04, 4511.76, 237.64, 124.45000000000006, 644.5199999999999, 512.77, 312.34999999999997, 475.42, 838.2699999999998, 328.13, 497.03999999999996, 1227.54, 299.73999999999995, 674.1600000000001, 612.3810000000002, 1401.0800000000002, 1502.0, 273.31, 768.2499999999999, 500.1999999999999, 632.27, 383.59, 711.8100000000002, 920.4599999999998, 236.97000000000003, 520.58, 250.44000000000003, 645.0, 836.8800000000001, 1415.81, 381.1499999999999, 1476.3000000000002, 516.87, 552.8999999999999, 646.44, 560.1400000000001, 1471.5200000000002, 485.59999999999997, 1059.4100000000003, 420.53999999999996, 832.5400000000001, 266.80000000000007, 331.3500000000001, 369.6799999999999, 1034.3200000000002, 1030.41, 213.07999999999993, 659.3999999999997, 617.1800000000001, 321.65, 224.80999999999992, 607.0, 489.85999999999996, 1144.3000000000002, 1272.8, 370.40999999999997, 775.6399999999999, 658.18, 747.85, 309.16, 1141.8399999999997, 718.51, 1289.6399999999999, 645.5999999999999, 313.35, 182.61999999999998, 329.41999999999996, 554.85, 394.13999999999993, 739.1999999999998, 1240.2500000000002, 970.1199999999999, 1445.4699999999998, 1176.8400000000001, 1011.6999999999998, 727.8499999999999, 627.9599999999998, 2270.0, 565.43, 259.17, 1040.85, 537.8999999999996, 392.38, 374.44999999999976, 205.23999999999998, 496.2599999999999, 903.8700000000003, 304.37999999999994, 325.29999999999995, 1271.6800000000003, 176.71, 1504.6999999999998, 409.98, 297.0699999999998, 1393.6600000000008, 633.0200000000002, 333.81000000000006, 296.06999999999994, 392.19999999999993, 1795.22, 1130.2099999999998, 725.1500000000002, 641.4000000000001, 470.16, 732.55, 1265.58, 506.6700000000001, 1112.2000000000003, 439.69999999999993, 418.8700000000001, 710.4000000000001, 835.33, 561.59, 563.1, 1319.6399999999999, 300.66, 1585.5000000000002, 731.2, 819.01, 432.67999999999995, 304.20000000000005, 317.08000000000004, 489.6499999999999, 1412.85, 980.6999999999999, 441.9999999999999, 296.09999999999997, 456.8999999999999, 620.8500000000001, 533.5600000000001, 293.49999999999994, 1257.18, 376.9199999999999, 1092.06, 438.6500000000001, 468.88000000000005, 741.69, 426.90000000000003, 326.74000000000007, 600.34, 793.9300000000001, 351.66, 157.85999999999999, 382.05999999999995, 441.91999999999996, 631.3399999999999, 741.0199999999998, 299.60999999999996, 187.2999999999999, 575.3699999999999, 330.55999999999995, 346.56, 679.02, 271.44000000000005, 736.2799999999999, 368.3499999999998, 178.06999999999996, 770.0300000000002, 184.65999999999997, 383.7799999999998, 437.8699999999999, 262.64000000000004, 373.15999999999985, 591.96, 400.46999999999997, 180.60999999999999, 449.2500000000001, 701.9599999999999, 133.34000000000003, 388.84000000000015, 338.46000000000004, 689.6700000000001, 175.90000000000003, 596.0899999999999, 457.96000000000004, 543.47, 757.2400000000008, 208.96999999999997, 321.71999999999997, 805.3000000000001, 424.17999999999984, 227.14999999999998, 913.05, 235.87, 3424.02, 999.48, 291.5599999999999, 324.07999999999987, 703.2699999999999, 545.0500000000001, 381.09000000000003, 396.3900000000001, 536.2799999999999, 638.2, 2239.1, 344.90000000000003, 540.35, 144.29000000000005, 360.34999999999997, 627.5400000000001, 465.4199999999999, 564.55, 643.1599999999999, 261.76000000000005, 865.49, 223.42, 321.7899999999999, 201.27, 171.71, 288.41999999999996, 207.33, 896.7700000000001, 252.88000000000002, 225.98999999999998, 419.38, 482.33, 639.2399999999999, 509.0100000000001, 244.36999999999998, 353.51, 524.8299999999999, 215.22000000000003, 410.7899999999999, 476.8999999999999, 216.41000000000003, 2074.0699999999997, 451.2999999999999, 335.52000000000004, 546.34, 326.08999999999986, 222.64, 500.9200000000001, 337.6599999999999, 2282.28, 603.9000000000001, 1185.4600000000005, 912.1500000000001, 1122.4, 1019.44, 389.4, 590.78, 463.5299999999999, 704.7500000000001, 955.8000000000004, 321.90000000000003, 360.85, 2346.1899999999996, 1723.0400000000002, 527.9399999999998, 451.56, 399.60999999999984, 165.87999999999997, 577.8100000000002, 193.47999999999993, 405.8499999999999, 420.66999999999996, 180.7, 209.05, 399.28999999999996, 220.12999999999997, 444.99999999999994, 567.7099999999999, 847.0300000000003, 536.4099999999999, 882.4699999999999, 941.88, 1226.0899999999997, 533.41, 186.88000000000002, 365.8199999999999, 371.51, 728.84, 1206.0000000000002, 875.45, 754.3799999999999, 724.8900000000003, 1279.5499999999997, 461.1600000000001, 963.5900000000001, 3188.2000000000003, 770.5599999999994, 447.53, 332.09999999999997, 544.4699999999999, 1780.3399999999997, 479.92, 1616.48, 383.32999999999987, 913.11, 588.7499999999999, 913.9000000000001, 1372.7199999999998, 515.7800000000001, 568.64, 839.7300000000001, 1015.4200000000004, 2059.67, 428.05999999999995, 603.25, 1464.7300000000002, 168.6, 680.85, 1307.4000000000003, 741.85, 1069.67, 307.54999999999995, 461.68000000000006, 1296.4300000000007], \"xaxis\": \"x\", \"y\": [164, 10, 10, 43, 202, 97, 263, 259, 259, 24, 197, 57, 1, 80, 37, 17, 309, 20, 27, 44, 48, 20, 50, 22, 57, 83, 297, 6, 16, 317, 97, 1, 367, 55, 45, 34, 70, 62, 240, 91, 44, 164, 66, 38, 195, 43, 219, 276, 65, 111, 133, 262, 43, 13, 119, 83, 210, 20, 83, 20, 16, 92, 27, 211, 34, 25, 154, 98, 39, 23, 155, 170, 69, 72, 13, 161, 149, 29, 20, 241, 36, 188, 190, 31, 56, 163, 69, 52, 268, 246, 77, 18, 156, 9, 260, 121, 79, 90, 92, 4, 107, 10, 91, 23, 92, 31, 164, 170, 244, 48, 98, 45, 8, 169, 6, 56, 105, 135, 28, 100, 18, 3, 200, 169, 13, 136, 34, 93, 29, 156, 204, 72, 39, 77, 22, 7, 18, 93, 109, 8, 316, 32, 20, 16, 16, 22, 31, 98, 48, 63, 211, 30, 59, 7, 77, 206, 25, 28, 359, 193, 291, 71, 8, 157, 319, 35, 48, 14, 48, 136, 364, 233, 55, 52, 24, 80, 10, 29, 127, 360, 51, 66, 32, 9, 64, 197, 163, 105, 123, 9, 4, 66, 219, 85, 36, 91, 24, 64, 165, 185, 44, 94, 46, 146, 314, 17, 52, 364, 3, 133, 72, 50, 48, 7, 186, 107, 20, 37, 7, 219, 7, 260, 23, 135, 49, 25, 177, 217, 253, 16, 179, 293, 49, 78, 137, 366, 84, 149, 210, 58, 55, 307, 22, 65, 72, 46, 86, 84, 67, 36, 37, 29, 65, 8, 24, 77, 44, 18, 15, 34, 74, 235, 235, 238, 78, 50, 281, 11, 58, 58, 23, 90, 27, 15, 69, 90, 46, 181, 38, 66, 107, 44, 66, 49, 6, 49, 79, 63, 49, 52, 238, 218, 35, 72, 116, 28, 255, 274, 98, 107, 182, 84, 112, 149, 206, 136, 20, 11, 23, 58, 66, 302, 9, 37, 259, 45, 81, 43, 98, 209, 78, 41, 90, 87, 51, 18, 36, 121, 50, 22, 76, 63, 84, 52, 373, 60, 55, 102, 62, 269, 46, 25, 17, 43, 106, 18, 309, 14, 46, 314, 133, 165, 84, 84, 70, 151, 35, 130, 27, 16, 293, 22, 37, 175, 267, 87, 28, 203, 43, 179, 331, 23, 14, 123, 71, 275, 67, 34, 129, 134, 35, 29, 39, 128, 25, 15, 31, 43, 56, 231, 185, 52, 50, 81, 245, 43, 92, 27, 272, 246, 70, 45, 31, 50, 181, 8, 162, 233, 39, 137, 228, 361, 57, 31, 225, 126, 42, 227, 88, 122, 69, 63, 93, 23, 23, 134, 71, 65, 66, 70, 29, 162, 162, 304, 53, 256, 57, 39, 34, 51, 16, 34, 135, 98, 64, 24, 100, 63, 162, 18, 139, 105, 182, 280, 150, 73, 46, 24, 58, 98, 59, 37, 72, 72, 17, 37, 66, 29, 46, 44, 10, 52, 34, 27, 22, 111, 70, 21, 141, 46, 74, 50, 14, 18, 99, 21, 154, 81, 49, 163, 67, 97, 200, 115, 15, 11, 111, 121, 25, 105, 185, 113, 126, 17, 25, 212, 97, 142, 24, 238, 149, 319, 38, 48, 27, 6, 39, 289, 74, 116, 24, 30, 136, 63, 41, 368, 79, 34, 283, 125, 8, 94, 23, 308, 24, 140, 99, 55, 65, 240, 2, 45, 78, 46, 23, 31, 74, 45, 35, 58, 44, 16, 32, 23, 186, 80, 39, 49, 44, 202, 76, 72, 38, 70, 85, 100, 133, 7, 8, 58, 39, 94, 16, 67, 126, 106, 58, 99, 105, 197, 30, 42, 98, 288, 148, 42, 56, 51, 65, 42, 13, 67, 199, 57, 59, 181, 66, 64, 44, 98, 16, 15, 45, 24, 29, 277, 85, 78, 85, 28, 86, 59, 36, 43, 106, 59, 45, 9, 22, 17, 31, 147, 72, 69, 129, 38, 146, 100, 90, 21, 35, 14, 30, 67, 15, 31, 67, 226, 324, 214, 37, 36, 3, 72, 18, 230, 24, 114, 42, 165, 51, 105, 55, 23, 46, 15, 231, 289, 144, 108, 52, 70, 87, 78, 60, 123, 29, 179, 56, 8, 88, 261, 25, 28, 14, 25, 78, 50, 21, 29, 11, 176, 146, 50, 14, 77, 119, 21, 252, 49, 50, 64, 62, 65, 62, 367, 184, 150, 23, 214, 22, 25, 35, 27, 60, 154, 8, 70, 50, 59, 253, 42, 77, 79, 14, 112, 225, 29, 181, 60, 120, 35, 196, 7, 70, 136, 41, 60, 109, 256, 7, 38, 231, 170, 37, 16, 39, 25, 256, 4, 22, 93, 129, 15, 315, 42, 58, 53, 62, 42, 58, 48, 128, 118, 76, 53, 62, 253, 51, 252, 78, 30, 43, 72, 36, 66, 231, 200, 28, 245, 31, 56, 78, 254, 52, 36, 23, 104, 230, 76, 93, 338, 65, 370, 207, 23, 11, 247, 65, 77, 116, 63, 29, 88, 30, 8, 28, 14, 203, 10, 15, 11, 98, 3, 109, 78, 53, 7, 21, 64, 127, 129, 62, 14, 309, 97, 218, 150, 165, 65, 7, 214, 38, 18, 83, 171, 65, 17, 155, 28, 77, 92, 67, 211, 336, 113, 18, 204, 9, 23, 8, 17, 45, 302, 60, 182, 22, 109, 16, 69, 98, 67, 29, 43, 129, 74, 55, 51, 13, 253, 198, 244, 147, 31, 4, 65, 70, 112, 56, 38, 181, 147, 15, 165, 14, 113, 15, 29, 196, 123, 205, 14, 93, 289, 7, 200, 245, 113, 48, 111, 197, 244, 134, 46, 312, 60, 8, 83, 7, 45, 17, 35, 58, 27, 127, 35, 202, 55, 10, 88, 203, 113, 60, 69, 22, 102, 39, 31, 11, 69, 80, 27, 73, 210, 36, 175, 35, 65, 14, 39, 155, 15, 25, 18, 8, 147, 39, 172, 10, 6, 241, 56, 203, 59, 253, 11, 34, 227, 62, 80, 63, 8, 178, 50, 245, 31, 44, 56, 92, 277, 18, 72, 48, 86, 49, 7, 156, 55, 14, 84, 107, 56, 14, 234, 53, 29, 232, 58, 137, 52, 191, 88, 190, 56, 46, 25, 14, 16, 71, 56, 84, 265, 69, 301, 91, 239, 44, 53, 31, 66, 65, 102, 34, 13, 371, 127, 53, 88, 80, 43, 94, 28, 128, 88, 203, 120, 21, 28, 171, 20, 63, 67, 252, 31, 13, 44, 196, 4, 51, 41, 35, 29, 4, 48, 86, 9, 125, 71, 13, 36, 241, 3, 59, 31, 8, 7, 52, 14, 91, 28, 137, 59, 16, 186, 55, 38, 317, 9, 14, 84, 85, 23, 60, 233, 20, 240, 71, 3, 186, 10, 31, 46, 49, 16, 22, 43, 31, 30, 46, 92, 29, 179, 58, 65, 14, 70, 8, 53, 35, 52, 162, 25, 137, 260, 304, 20, 17, 24, 21, 139, 91, 51, 52, 97, 157, 63, 37, 29, 25, 57, 179, 315, 13, 357, 6, 52, 16, 157, 105, 63, 49, 108, 126, 106, 36, 73, 29, 45, 72, 27, 7, 15, 17, 56, 253, 70, 356, 22, 13, 129, 20, 17, 94, 8, 17, 128, 45, 21, 13, 58, 73, 58, 72, 8, 109, 114, 115, 58, 122, 28, 11, 15, 261, 32, 329, 64, 41, 49, 185, 59, 67, 66, 127, 42, 144, 118, 20, 65, 10, 11, 29, 11, 217, 18, 71, 17, 30, 43, 64, 22, 30, 171, 48, 24, 4, 85, 24, 226, 28, 10, 66, 218, 43, 212, 11, 48, 16, 81, 147, 303, 16, 52, 239, 21, 225, 106, 219, 196, 55, 143, 105, 28, 69, 66, 212, 48, 175, 79, 66, 9, 255, 265, 56, 70, 81, 219, 59, 16, 277, 20, 176, 49, 370, 58, 140, 111, 41, 266, 58, 55, 301, 8, 79, 35, 25, 25, 39, 37, 36, 57, 120, 41, 44, 50, 57, 84, 77, 90, 175, 29, 22, 76, 37, 46, 163, 46, 15, 50, 253, 35, 14, 36, 78, 18, 171, 30, 39, 17, 113, 71, 58, 50, 42, 7, 71, 44, 18, 189, 67, 314, 212, 105, 67, 55, 88, 13, 28, 23, 77, 74, 309, 41, 165, 197, 212, 253, 52, 51, 87, 25, 182, 69, 29, 104, 62, 14, 38, 191, 20, 35, 35, 32, 189, 73, 13, 63, 270, 21, 267, 46, 77, 207, 58, 16, 20, 134, 123, 97, 64, 76, 70, 23, 17, 58, 30, 301, 18, 63, 14, 56, 98, 17, 31, 78, 37, 27, 105, 27, 360, 211, 22, 177, 77, 52, 8, 81, 216, 17, 44, 50, 239, 32, 11, 79, 66, 72, 81, 80, 231, 45, 27, 14, 9, 65, 16, 168, 29, 357, 58, 24, 41, 155, 137, 283, 23, 74, 63, 87, 39, 52, 87, 162, 126, 182, 112, 79, 80, 133, 65, 161, 366, 17, 226, 196, 21, 165, 290, 62, 22, 158, 51, 287, 284, 27, 93, 226, 112, 79, 83, 45, 10, 22, 91, 116, 17, 36, 25, 31, 144, 59, 134, 80, 20, 104, 371, 30, 37, 9, 91, 13, 263, 35, 365, 9, 74, 25, 259, 283, 28, 28, 16, 55, 42, 45, 43, 366, 163, 41, 18, 14, 363, 15, 29, 62, 126, 21, 189, 11, 20, 311, 35, 30, 258, 53, 39, 69, 70, 55, 45, 6, 51, 46, 21, 39, 58, 8, 21, 28, 31, 20, 46, 164, 79, 97, 16, 195, 157, 109, 263, 43, 30, 247, 43, 79, 122, 23, 113, 25, 198, 196, 185, 43, 304, 13, 60, 29, 73, 32, 245, 162, 86, 252, 18, 10, 13, 107, 60, 28, 30, 25, 213, 268, 177, 8, 109, 213, 11, 81, 263, 84, 16, 15, 252, 57, 11, 84, 22, 39, 232, 72, 23, 9, 14, 59, 22, 64, 8, 20, 104, 7, 109, 128, 112, 3, 156, 232, 20, 55, 28, 23, 3, 146, 29, 111, 53, 11, 37, 105, 58, 59, 56, 30, 231, 256, 160, 24, 15, 112, 106, 181, 56, 99, 28, 8, 37, 16, 27, 149, 21, 302, 17, 80, 6, 102, 216, 86, 27, 11, 30, 183, 303, 28, 13, 9, 56, 233, 9, 256, 358, 49, 78, 190, 115, 23, 97, 7, 20, 119, 45, 21, 32, 16, 34, 30, 14, 174, 72, 9, 29, 135, 73, 79, 22, 41, 35, 55, 331, 8, 363, 184, 106, 7, 226, 6, 7, 28, 30, 122, 14, 15, 24, 252, 17, 14, 15, 84, 10, 11, 16, 27, 8, 45, 144, 135, 13, 10, 20, 16, 128, 72, 28, 269, 176, 43, 21, 21, 8, 60, 126, 32, 18, 8, 56, 228, 79, 62, 31, 185, 9, 77, 231, 46, 224, 53, 2, 38, 172, 139, 233, 27, 44, 108, 36, 39, 55, 23, 4, 21, 367, 219, 105, 195, 157, 266, 65, 238, 15, 73, 106, 357, 16, 134, 165, 231, 29, 25, 23, 7, 50, 80, 49, 65, 49, 183, 99, 28, 133, 226, 1, 244, 183, 213, 32, 29, 66, 111], \"yaxis\": \"y\"}, {\"hoverlabel\": {\"namelength\": 0}, \"hovertemplate\": \"Cluster=Cluster3<br>Monetary=%{x}<br>Recency=%{y}\", \"legendgroup\": \"Cluster=Cluster3\", \"marker\": {\"color\": \"#EF553B\", \"symbol\": \"circle\"}, \"mode\": \"markers\", \"name\": \"Cluster=Cluster3\", \"showlegend\": true, \"type\": \"scattergl\", \"x\": [1323.3199999999997, 3735.51, 7205.38999999999, 11308.480000000027, 6765.07, 626.77, 4308.580000000001, 11086.140000000001, 14201.530000000008, 17080.740000000027, 11745.69000000001, 4220.209999999999, 2601.190000000001, 21107.939999999995, 2797.5299999999993, 2478.9399999999996, 5061.030000000002, 22457.900000000132, 5218.709999999999, 3078.6500000000005, 552.08, 1481.0300000000007, 4480.310000000002, 3472.6099999999974, 3062.519999999997, 4217.230000000001, 19333.95000000004, 258.75, 1744.96, 4782.879999999997, 402.35999999999996, 6477.669999999998, 5185.509999999992, 2326.349999999999, 16904.510000000006, 57885.45000000009, 5189.320000000002, 5272.829999999997, 6357.079999999995, 1658.9000000000003, 1898.6100000000013, 790.7099999999998, 778.4200000000002, 2212.110000000003, 6621.5999999999885, 6615.770000000001, 3457.8300000000013, 1036.2100000000005, 5236.769999999999, 3545.47, 11236.949999999997, 6251.709999999993, 4323.970000000001, 308.28000000000003, 1847.5900000000001, 7670.539999999997, 6619.570000000001, 3329.3899999999976, 972.2800000000003, 1180.6799999999998, 1136.64, 1254.7200000000003, 15310.35000000003, 497.7399999999999, 1071.9999999999998, 5013.96, 1304.8800000000008, 1475.770000000001, 3999.2299999999977, 6226.429999999998, 18320.169999999995, 3003.9099999999985, 30501.26, 3127.9900000000002, 422.2, 4795.090000000002, 1245.9100000000033, 2244.290000000001, 2080.0, 4144.4400000000005, 1171.89, 2347.3299999999995, 4266.879999999995, 2511.0799999999995, 4479.819999999998, 1128.0900000000001, 5839.459999999985, 23632.720000000016, 1874.6799999999994, 6784.010000000001, 3378.6599999999994, 4369.469999999987, 5607.429999999997, 4953.609999999997, 2182.46, 1160.3099999999997, 1626.61, 1411.9100000000003, 4842.279999999993, 4120.32, 2221.37, 10533.869999999992, 2443.77, 840.0500000000004, 1404.0400000000004, 1696.6400000000003, 873.3400000000001, 4281.049999999999, 966.2700000000001, 982.8600000000009, 1256.6000000000004, 19257.080000000213, 18482.100000000184, 12418.01000000002, 1674.41, 3427.4399999999973, 1085.9099999999999, 2752.510000000002, 6579.260000000002, 8385.22, 2785.1000000000004, 1736.5700000000004, 4082.759999999998, 2865.0500000000025, 3415.3799999999997, 888.9100000000004, 1230.1500000000003, 2698.1699999999983, 6460.32, 1614.4500000000003, 860.1099999999998, 2664.6900000000005, 152121.2199999996, 666.1299999999999, 1387.45, 3127.97, 7681.709999999969, 826.91, 5287.639999999997, 2414.179999999998, 521.7799999999999, 8821.550000000005, 579.6699999999998, 19960.300000000047, 83284.38000000002, 8018.769999999987, 2871.7400000000002, 1460.9199999999998, 2018.6999999999998, 816.9300000000002, 937.0700000000003, 4811.159999999992, 383.0700000000001, 2062.2, 2146.95, 1574.510000000001, 4659.469999999998, 2533.0899999999997, 55942.73999999985, 4892.680000000004, 1162.0000000000002, 1770.230000000001, 2336.0000000000014, 664.6600000000007, 8703.209999999994, 1788.8000000000002, 1134.8500000000008, 5281.53, 12633.180000000015, 3548.3400000000015, 12992.329999999996, 1116.72, 7267.829999999996, 5105.319999999997, 4076.969999999998, 1723.4500000000007, 1932.6400000000006, 2782.02, 1354.35, 1212.1299999999999, 3173.8999999999987, 4331.409999999998, 969.1899999999998, 654.09, 1913.5500000000004, 4330.460999999996, 14482.030000000017, 1557.3799999999997, 40519.92, 17703.630000000037, 2508.769999999998, 1498.8000000000002, 5224.809999999999, 979.6199999999997, 1279.6000000000006, 4129.259999999991, 1874.8299999999997, 646.27, 1990.8, 2119.2600000000016, 680.6199999999999, 2458.8999999999996, 5735.089999999996, 617.0699999999997, 2485.9999999999995, 980.9100000000003, 1985.630000000001, 1718.6600000000008, 1992.1300000000022, 1637.140000000001, 1743.6, 316.9200000000001, 4292.349999999997, 2485.8899999999994, 7210.589999999986, 1992.98, 6848.869999999999, 17403.210000000006, 1325.7999999999995, 1429.0300000000002, 1680.1999999999994, 2284.3400000000015, 2408.9599999999996, 560.55, 6874.969999999999, 3323.749999999999, 1766.7800000000007, 473.6899999999999, 2441.609999999998, 673.2400000000002, 28904.67000000002, 327.68, 1427.5699999999993, 11535.29000000001, 7069.269999999998, 5535.019999999997, 329.48, 749.8100000000004, 1110.2, 690.83, 663.3100000000001, 4091.159999999999, 3823.7800000000025, 7619.209999999976, 3127.8499999999985, 3006.079999999998, 2174.1299999999997, 4258.2699999999995, 1361.2300000000007, 22554.220000000012, 7732.369999999964, 2062.4099999999985, 5781.440000000001, 1200.1500000000008, 5716.1399999999985, 4292.5899999999965, 495.7199999999999, 249.88999999999984, 496.26, 1360.3100000000009, 722.050000000001, 2515.760000000003, 629.4000000000002, 2535.2100000000005, 790.74, 1748.1500000000008, 5416.35, 2703.0299999999997, 2506.540000000003, 645.8099999999998, 4601.689999999995, 3961.44, 363.65999999999997, 2726.7700000000004, 521.6600000000001, 1729.4299999999998, 2401.0700000000006, 2226.9599999999973, 433.9899999999999, 1081.8600000000004, 1269.8900000000008, 11920.429999999991, 1239.1099999999997, 1504.26, 3000.5000000000005, 1695.1500000000008, 1311.6400000000003, 119.0, 9935.930000000002, 1006.53, 14174.249999999998, 19726.759999999995, 2461.6799999999985, 2704.6299999999997, 2273.9500000000003, 14562.910000000025, 469.41, 52422.30000000001, 975.5600000000002, 1679.7999999999995, 2422.2, 84541.1699999999, 3265.449999999999, 2970.139999999999, 725.2099999999997, 5266.770000000004, 519.9499999999997, 2075.7399999999993, 3141.3999999999987, 1013.5400000000001, 830.63, 17885.32, 1378.16, 20329.68000000003, 1982.4500000000005, 2685.2000000000003, 10245.48999999999, 1572.9700000000005, 2006.3200000000002, 4134.909999999996, 3773.109999999997, 661.0400000000002, 405.48, 75.76000000000002, 3786.6999999999994, 29562.02000000036, 1803.2, 7614.239999999997, 717.3900000000002, 2585.1999999999994, 599.78, 1213.7999999999997, 2325.9199999999987, 1292.390000000001, 1968.7500000000011, 20137.240000000103, 947.2600000000003, 1618.9300000000028, 4558.009999999997, 2527.17, 1159.99, 338.4099999999999, 4536.289999999993, 287.9099999999999, 4381.78, 4369.5599999999995, 975.6299999999999, 1699.2499999999995, 7111.180000000003, 349164.3500000001, 1828.2400000000005, 1068.0500000000006, 1493.12, 7539.839999999994, 3526.8100000000004, 1979.6000000000006], \"xaxis\": \"x\", \"y\": [2, 0, 1, 4, 0, 0, 2, 0, 2, 2, 0, 0, 3, 1, 0, 4, 4, 0, 0, 1, 0, 0, 2, 4, 0, 3, 1, 0, 0, 1, 3, 1, 4, 1, 1, 3, 0, 0, 1, 0, 1, 1, 3, 2, 4, 1, 0, 0, 1, 4, 0, 0, 1, 0, 1, 3, 2, 3, 3, 4, 1, 1, 3, 2, 4, 1, 1, 3, 2, 1, 4, 2, 1, 2, 2, 4, 4, 1, 1, 0, 2, 2, 0, 0, 1, 1, 1, 0, 1, 1, 1, 4, 3, 2, 4, 3, 3, 1, 0, 2, 3, 0, 2, 0, 4, 3, 0, 0, 3, 0, 4, 0, 1, 0, 2, 0, 3, 0, 2, 2, 1, 3, 1, 1, 4, 4, 1, 3, 1, 0, 1, 2, 0, 0, 0, 2, 1, 1, 4, 2, 3, 1, 4, 3, 2, 3, 0, 2, 1, 2, 0, 3, 0, 1, 0, 0, 1, 3, 0, 1, 1, 4, 2, 3, 0, 0, 4, 4, 1, 3, 0, 1, 0, 4, 1, 0, 3, 1, 2, 0, 1, 0, 4, 1, 4, 1, 4, 0, 2, 0, 2, 3, 4, 3, 4, 2, 1, 0, 4, 2, 1, 0, 3, 1, 1, 1, 4, 2, 0, 1, 2, 1, 2, 4, 3, 0, 4, 3, 2, 1, 4, 0, 2, 2, 4, 4, 2, 1, 4, 4, 4, 0, 0, 1, 3, 1, 1, 3, 3, 3, 1, 1, 3, 1, 1, 4, 3, 1, 2, 1, 0, 0, 4, 3, 4, 3, 1, 1, 3, 2, 0, 3, 4, 2, 3, 4, 0, 3, 4, 0, 3, 2, 0, 3, 0, 4, 1, 3, 3, 3, 2, 4, 3, 1, 2, 3, 1, 0, 1, 1, 0, 3, 4, 1, 2, 3, 0, 2, 0, 2, 2, 2, 3, 0, 0, 0, 2, 3, 0, 1, 0, 2, 1, 1, 3, 1, 1, 2, 1, 2, 3, 4, 3, 0, 0, 0, 0, 4, 3, 4, 3, 1, 3, 1, 2, 3, 0, 2, 0, 1, 0, 1, 0, 1, 2, 1, 0, 1, 0, 0, 4, 4, 3, 0, 1, 1], \"yaxis\": \"y\"}, {\"hoverlabel\": {\"namelength\": 0}, \"hovertemplate\": \"Cluster=Cluster1<br>Monetary=%{x}<br>Recency=%{y}\", \"legendgroup\": \"Cluster=Cluster1\", \"marker\": {\"color\": \"#00cc96\", \"symbol\": \"circle\"}, \"mode\": \"markers\", \"name\": \"Cluster=Cluster1\", \"showlegend\": true, \"type\": \"scattergl\", \"x\": [222.16000000000003, 130.0, 500.24, 143.94, 234.75000000000003, 205.25, 591.6600000000001, 63.24, 320.38, 241.34999999999997, 390.0, 202.56, 56.73, 132.79999999999998, 211.95000000000002, 285.29999999999995, 357.4, 45.339999999999996, 1126.0, 297.00000000000006, 386.7999999999999, 316.47999999999996, 175.78, 129.23, 249.24, 70.0, 77.52, 299.02000000000004, 104.2, 21.0, 140.14000000000001, 141.0, 249.79999999999995, 97.05000000000001, 261.35, 162.00000000000003, 239.4, 250.6, 211.15000000000003, 89.14, 134.6, 110.95, 339.75000000000006, 277.93, 3710.5, 155.35, 406.07000000000005, 254.54999999999998, 168.69000000000003, 282.3, 124.25, 98.7, 55.5, 337.39999999999986, 181.5, 381.0, 219.35000000000002, 128.08, 92.30000000000001, 236.06, 15.58, 208.00000000000003, 330.0, 148.95000000000005, 54.22, 68.25, 152.45, 363.38, 1013.76, 222.4, 509.5, 157.35, 297.75, 340.33000000000004, 1026.0, 223.98, 10953.5, 35.28, 197.31, 181.65, 252.48000000000002, 162.45, 150.95000000000002, 132.24, 122.45, 385.55, 264.15000000000003, 93.35000000000001, 175.25, 234.0, 50.550000000000004, 65.3, 323.39, 30.0, 307.1, 155.8, 127.65, 209.48000000000002, 188.39999999999998, 129.22, 135.4, 199.07999999999998, 222.65, 91.67999999999999, 122.39999999999999, 313.64, 419.70000000000005, 72.0, 321.88000000000005, 20.6, 234.37999999999997, 134.9, 148.62, 263.5, 233.25, 90.65, 275.45000000000005, 24.4, 449.9699999999999, 17.65, 372.20000000000005, 429.68, 127.20000000000002, 69.6, 229.75, 86.10000000000001, 105.33999999999999, 412.08, 373.0100000000001, 2803.2, 285.6, 81.6, 132.5, 76.23, 88.5, 204.25, 253.09, 51.410000000000004, 149.75, 336.6, 590.0, 181.05, 279.7, 307.95, 208.63, 95.45, 61.72, 53.65, 258.34, 284.86000000000007, 124.75, 310.26, 281.76, 262.40000000000003, 299.40000000000003, 62.4, 305.28000000000003, 91.14, 213.00000000000003, 275.4, 310.83000000000004, 154.5, 568.9200000000001, 228.3, 217.02999999999997, 46.5, 241.89999999999998, 139.8, 219.86999999999998, 148.22, 82.4, 151.45, 271.46999999999997, 154.25, 327.37999999999994, 176.07999999999998, 135.0, 282.76, 220.45999999999998, 402.98, 89.5, 87.6, 152.39999999999998, 200.82000000000002, 990.0, 174.57999999999998, 147.66, 107.75, 162.53, 241.68, 127.28000000000002, 136.35000000000002, 298.9000000000001, 167.35000000000002, 112.34000000000002, 301.26, 310.14000000000004, 405.0, 132.65, 152.2, 325.24000000000007, 43.25, 195.0, 233.53, 240.67999999999998, 243.9, 258.6, 375.5, 349.5, 266.59999999999997, 161.00000000000003, 135.18, 300.37999999999994, 329.04, 161.35, 217.39999999999992, 75.3, 176.69, 169.79999999999998, 164.45, 195.55, 352.82099999999997, 190.34999999999997, 623.98, 161.12999999999997, 3.75, 188.39999999999998, 96.0, 126.03000000000002, 61.28, 102.0, 156.85, 324.19, 260.7, 139.95, 310.7199999999999, 187.35000000000002, 314.7, 662.4000000000001, 634.6800000000001, 388.55, 165.45000000000002, 312.65000000000003, 42.0, 136.8, 124.94999999999999, 42.22, 70.80000000000001, 320.0, 246.54000000000002, 200.43000000000004, 193.25, 85.6, 123.66, 264.13, 142.7, 209.41, 79.48, 229.75000000000003, 367.15, 109.44, 115.08000000000001, 431.9799999999999, 312.05, 390.8500000000001, 219.4, 115.66000000000001, 243.63, 150.5, 39.95, 2.95, 0.0, 214.79999999999998, 447.05000000000007, 183.37, 286.71, 305.5, 332.7, 30.599999999999998, 309.09000000000003, 233.39999999999992, 148.70999999999998, 135.0, 135.16, 123.5, 79.9, 132.9, 379.20000000000005, 157.8, 287.38000000000005, 120.0, 366.4200000000001, 363.4, 1000.63, 40.56, 295.73, 101.86000000000001, 256.6, 205.82999999999996, 191.86, 245.15, 1147.02, 206.19, 109.80000000000001, 158.02000000000004, 245.47999999999993, 445.05, 200.63, 339.88, 310.75, 249.88, 82.60000000000001, 214.71000000000004, 227.47, 136.0, 108.0, 215.46, 131.24999999999997, 48.96, 58.5, 135.60000000000002, 266.4, 93.8, 285.6, 404.69999999999993, 195.0, 90.42, 182.64000000000001, 120.44, 256.95, 110.99999999999999, 204.24000000000004, 250.85000000000002, 225.3, 660.0, 120.0, 175.5, 127.2, 261.9, 51.0, 221.69000000000003, 110.94999999999997, 332.4200000000001, 151.16999999999996, 203.14000000000001, 199.45000000000002, 285.84000000000003, 349.25, 75.6, 143.7, 35.400000000000006, 105.56, 14.850000000000001, 135.39000000000001, 39.75, 162.07000000000002, 205.35999999999999, 143.86, 24.350000000000005, 76.32000000000001, 121.7, 190.47, 215.22, 106.67999999999998, 279.79999999999995, 270.0, 62.5, 246.86, 111.63000000000001, 173.66000000000003, 184.90999999999997, 146.56000000000003, 244.31, 139.2, 411.0, 81.3, 226.42000000000002, 116.5, 190.57999999999996, 50.48, 310.15, 112.03000000000002, 126.45000000000002, 306.36, 192.01999999999998, 117.04999999999998, 140.55, 241.45, 307.3, 159.93999999999997, 90.96000000000001, 110.64999999999999, 303.63, 300.31, 180.45, 1502.98, 110.03999999999999, 178.85000000000005, 154.21, 157.70000000000002, 385.2, 0.0, 322.69, 94.8, 297.0, 299.85999999999996, 211.79999999999995, 150.0, 310.56, 318.06, 180.75, 351.9, 77.52000000000001, 334.45000000000005, 116.18, 256.70000000000005, 185.06000000000003, 120.6, 202.35000000000002, 13.919999999999998, 68.44, 104.10000000000001, 359.34999999999997, 359.4, 223.91, 182.09999999999997, 107.62, 179.39999999999998, 167.27000000000004, 163.76999999999998, 1325.0, 203.2, 240.20999999999998, 30.300000000000004, 192.45, 31.929999999999996, 150.68, 270.8, 183.2000000000001, 342.40000000000003, 36.129999999999995, 230.39999999999998, 129.48, 359.99999999999994, 111.25, 281.05, 365.1, 7.49, 109.47000000000001, 179.52, 113.64999999999999, 168.73000000000002, 187.51999999999998, 93.35, 347.53999999999996, 218.53000000000003, 83.0, 209.4, 191.74, 266.63000000000005, 304.97, 80.28000000000002, 208.3, 166.63, 204.62, 312.9, 167.15999999999997, 81.15, 510.72, 310.42999999999995, 100.4, 178.97999999999996, 106.47999999999999, 379.7, 160.5, 250.25999999999993, 59.400000000000006, 302.04, 280.51, 266.24999999999994, 60.0, 71.95, 368.75, 228.96, 220.44, 148.33, 24.75, 94.91999999999999, 247.50000000000003, 233.35, 307.99999999999994, 225.15, 93.6, 129.75, 140.22000000000003, 107.24000000000002, 240.5, 105.50000000000001, 382.2, 111.15, 284.4, 181.35, 270.15000000000003, 275.79999999999995, 59.400000000000006, 139.32000000000002, 60.959999999999994, 246.5, 289.87, 508.20000000000005, 216.94999999999996, 170.88000000000002, 310.73999999999995, 131.25, 223.39, 214.44000000000003, 153.24, 149.57000000000002, 193.29, 171.0, 337.71, 294.16999999999996, 126.89000000000001, 38.25, 208.79999999999998, 202.83, 429.7, 63.419999999999995, 274.8, 150.35000000000002, 368.4, 147.39999999999998, 102.0, 231.32000000000002, 340.6, 146.14, 158.64999999999998, 116.26000000000002, 171.80999999999997, 151.4, 162.25, 259.09000000000003, 114.40000000000002, 158.08999999999997, 162.39999999999998, 202.67999999999998, 153.51999999999998, 70.74000000000001, 227.87, 30.1, 137.15, 608.4000000000001, 579.6, 217.9, 357.6, 238.8, 40.0, 317.10999999999996, 295.05, 100.35, 105.78000000000003, 169.0, 226.04000000000002, 283.73, 152.15, 45.300000000000004, 218.35, 330.79, 173.95000000000002, 55.98000000000001, 90.0, 266.93, 37.5, 246.75, 46.2, 140.39, 194.59999999999997, 293.78999999999996, 140.49, 92.6, 107.55000000000001, 125.3, 208.62, 156.86999999999998, 577.8900000000001, 143.05, 321.45000000000005, 280.88000000000005, 45.6, 124.08, 221.83000000000004, 613.6800000000001, 144.15, 340.5, 80.4, 137.99, 109.72999999999999, 96.55000000000001, 340.48, 273.47999999999996, 244.44000000000003, 94.53, 171.47000000000003, 33.099999999999994, 313.91999999999996, 108.51999999999998, 244.60000000000002, 128.20000000000002, 305.28000000000003, 56.25, 145.01000000000002, 114.69000000000003, 6.300000000000001, 248.64999999999995, 102.82000000000001, 134.44, 106.54000000000002, 293.53000000000003, 594.0, 239.89999999999998, 405.0, 271.28999999999996, 190.74999999999994, 269.21, 329.21999999999997, 186.3, 150.55, 20.4, 169.21, 82.2, 217.73, 235.78, 107.14, 162.8, 188.44, 62.7, 89.65, 109.31000000000003, 115.73000000000002, 106.75000000000001, 1437.43, 180.56, 327.6, 145.05999999999997, 301.9, 237.42000000000002, 212.25000000000003, 310.3, 141.7, 79.9, 115.30999999999999, 105.80000000000001, 351.3, 308.59999999999997, 323.25, 93.3, 248.65000000000003, 40.8, 333.18, 136.65, 63.66, 128.31, 186.65999999999997, 318.34000000000003, 188.69, 238.04999999999998, 176.89999999999995, 328.95, 129.85000000000002, 136.31, 117.72, 126.05, 193.64999999999998, 107.33, 171.14999999999998, 176.33999999999997, 230.90000000000003, 146.16, 310.83, 209.48999999999998, 212.16999999999996, 141.53, 157.20000000000005, 104.0, 632.28, 186.05000000000004, 137.8, 123.13, 130.32, 35.7, 75.0, 309.5, 200.25999999999996, 310.70000000000005, 216.30000000000007, 162.24, 332.16999999999996, 251.70999999999995, 24.05, 71.78999999999999, 178.47999999999996, 154.72, 453.38, 134.36, 303.70000000000005, 205.41000000000003, 142.71, 48.349999999999994, 2007.84, 23.35, 137.7, 292.21, 376.70000000000005, 350.52, 104.26, 30.150000000000002, 95.29, 175.0, 87.79999999999998, 1020.9000000000001, 156.6, 295.04999999999995, 341.59, 153.12, 172.8, 235.25, 432.45, 60.48, 291.5, 225.39999999999998, 130.05, 106.80000000000001, 179.39999999999998, 323.4, 160.39, 306.5799999999999, 136.2, 611.9, 165.0, 109.19999999999999, 98.72999999999999, 171.13, 151.5, 320.25, 157.63, 127.44999999999999, 178.83, 638.6999999999999, 98.30000000000001, 191.89999999999992, 368.27, 323.8, 1248.48, 147.35000000000002, 170.3, 259.68000000000006, 417.59999999999997, 173.06, 207.5, 163.65, 228.0, 352.85, 51.839999999999996, 182.59, 113.35000000000001, 181.39, 225.59999999999997, 91.8, 218.45999999999998, 139.85, 253.87999999999997, 352.8, 130.95, 76.74000000000001, 321.78000000000003, 134.0, 285.40999999999997, 103.95000000000002, 204.26000000000002, 252.59, 310.46999999999997, 125.65, 33.0, 482.76, 101.36, 251.03999999999996, 207.85, 71.4, 127.0, 365.5, 165.0, 107.0, 230.17000000000002, 81.36, 242.05999999999997, 400.8, 189.0, 54.150000000000006, 302.65000000000003, 180.06, 176.9, 13.52, 128.60000000000002, 194.7, 228.34000000000003, 454.54, 273.34999999999997, 203.05, 306.0, 221.53, 128.45, 235.88, 100.2, 174.95, 227.97000000000003, 314.74, 31.85, 212.10000000000005, 231.67999999999998, 143.1, 231.9, 327.0, 320.95, 178.67999999999998, 159.68, 119.50000000000003, 225.45000000000005, 321.29999999999995, 198.40999999999997, 263.76, 75.28, 135.04000000000002, 160.65, 111.15, 186.15, 63.6, 96.6, 144.9, 100.86000000000001, 131.15, 130.6, 200.17999999999998, 38.92, 68.02999999999999, 258.92999999999995, 189.78, 120.95, 141.12, 114.10000000000002, 25.2, 118.85999999999999, 271.75000000000006, 467.7900000000001, 111.50000000000001, 1025.1, 157.32999999999998, 29.1, 152.35, 104.7, 59.900000000000006, 81.12, 36.25, 156.6, 979.1999999999999, 231.34, 260.45, 10.95, 110.69999999999999, 171.15, 126.35, 149.3, 168.64999999999998, 97.5, 114.84999999999998, 118.95000000000003, 283.44000000000005, 164.18, 206.6, 317.76, 325.74, 137.16, 293.35, 102.6, 57.8, 1047.0, 389.25999999999993, 177.69, 209.57, 160.54999999999998, 336.50000000000006, 100.91, 54.699999999999996, 287.25, 206.08000000000004, 65.34, 34.8, 288.33, 119.86000000000004, 170.09999999999994, 120.04999999999998, 142.77, 34.0, 167.62, 131.83, 100.0, 171.7, 348.74999999999994, 135.95, 167.4, 148.3, 52.05, 160.75, 87.30000000000001, 489.59999999999997, 385.18999999999994, 254.0, 296.36000000000007, 842.4, 198.59999999999997, 126.0, 163.46999999999997, 412.9200000000001, 301.6500000000001, 313.05, 260.38, 163.2, 299.8299999999999, 307.21000000000004, 102.0, 101.1, 229.2, 358.15000000000003, 129.75, 71.15, 156.37000000000003, 141.85, 141.6, 197.7, 93.49000000000002, 112.85999999999997, 171.24999999999997, 147.3, 414.72, 124.78, 334.62, 430.69000000000005, 114.92000000000003, 129.69, 167.1, 365.99999999999994, 147.12000000000003, 149.7, 216.4, 291.76, 110.05000000000001, 261.7, 64.49, 225.77999999999997, 43.87000000000001, 170.4, 289.5, 574.2, 244.08, 294.0, 128.7, 114.69, 1128.72, 74.99000000000001, 159.17000000000002, 392.6, 140.75, 61.3, 161.94000000000005, 239.11999999999995, 138.18, 206.95000000000002, 124.25, 115.3, 165.0, 175.85, 190.48000000000002, 192.05, 433.77, 97.4, 141.48000000000002, 116.10000000000001, 189.63000000000002, 271.05, 176.5, 190.95, 186.60000000000002, 314.1, 151.49, 428.45, 105.8, 76.32000000000001, 9.7, 92.2, 102.65, 222.95999999999998, 145.99000000000004, 112.85, 426.69, 246.22, 213.9, 184.41000000000005, 175.5, 589.52, 58.5, 176.09999999999997, 291.13, 329.58, 313.48999999999995, 321.6, 101.16, 230.1, 344.75, 314.65999999999997, 360.08, 147.45, 298.3, 323.29, 295.0, 179.6, 270.9200000000001, 162.72, 317.88, 267.9, 199.85, 110.7, 251.09999999999997, 269.36999999999995, 161.4, 153.0, 240.3, 231.33999999999997, 120.32000000000001, 427.0], \"xaxis\": \"x\", \"y\": [73, 373, 268, 50, 226, 49, 156, 317, 137, 37, 98, 291, 317, 58, 324, 365, 275, 255, 219, 52, 129, 163, 135, 317, 43, 279, 317, 139, 39, 317, 195, 373, 274, 69, 58, 71, 259, 52, 230, 6, 55, 272, 225, 225, 133, 7, 164, 175, 85, 120, 199, 170, 302, 233, 147, 263, 164, 246, 185, 98, 317, 310, 80, 112, 328, 254, 143, 74, 106, 18, 93, 210, 16, 57, 15, 35, 261, 227, 29, 371, 365, 273, 119, 72, 237, 48, 200, 360, 214, 307, 7, 64, 366, 64, 319, 213, 256, 186, 115, 247, 92, 52, 36, 60, 126, 361, 29, 71, 353, 176, 365, 303, 158, 266, 87, 94, 126, 66, 119, 245, 204, 48, 197, 35, 65, 242, 259, 56, 244, 78, 86, 37, 290, 253, 212, 28, 95, 11, 71, 14, 1, 41, 202, 358, 73, 161, 35, 65, 122, 231, 86, 324, 67, 36, 97, 67, 178, 312, 83, 99, 217, 22, 62, 371, 63, 182, 261, 107, 276, 323, 288, 262, 140, 289, 365, 277, 142, 311, 77, 269, 37, 22, 301, 64, 147, 46, 44, 41, 49, 24, 176, 120, 269, 228, 163, 231, 311, 246, 16, 122, 238, 55, 42, 365, 67, 174, 92, 270, 79, 212, 81, 80, 261, 58, 100, 30, 162, 48, 8, 72, 309, 288, 130, 63, 150, 140, 57, 281, 181, 64, 56, 216, 211, 154, 121, 354, 245, 164, 21, 112, 260, 35, 367, 44, 326, 58, 141, 29, 169, 212, 288, 70, 31, 58, 217, 15, 367, 147, 206, 280, 190, 210, 360, 32, 301, 258, 30, 317, 147, 97, 357, 300, 372, 366, 10, 186, 368, 330, 121, 49, 118, 97, 365, 276, 108, 301, 29, 252, 322, 297, 331, 295, 128, 181, 63, 74, 44, 321, 44, 155, 43, 184, 202, 65, 95, 204, 73, 258, 171, 63, 67, 371, 213, 37, 160, 176, 318, 256, 317, 135, 211, 67, 199, 287, 224, 21, 136, 188, 91, 134, 203, 368, 65, 43, 71, 371, 146, 7, 36, 294, 308, 169, 71, 151, 318, 126, 258, 309, 25, 367, 7, 67, 153, 213, 6, 204, 291, 268, 30, 315, 20, 37, 88, 312, 269, 158, 224, 373, 80, 144, 227, 223, 252, 70, 53, 368, 45, 289, 48, 227, 114, 371, 319, 95, 79, 261, 227, 163, 294, 24, 185, 106, 241, 142, 372, 73, 74, 233, 216, 120, 216, 300, 265, 133, 163, 174, 71, 234, 39, 265, 140, 189, 7, 268, 170, 156, 319, 304, 325, 157, 80, 98, 174, 16, 262, 213, 298, 48, 338, 367, 56, 279, 174, 16, 56, 360, 372, 58, 324, 296, 198, 290, 227, 115, 2, 312, 254, 176, 79, 230, 155, 45, 114, 303, 364, 199, 98, 246, 367, 111, 154, 29, 16, 191, 36, 366, 102, 41, 55, 360, 58, 365, 11, 283, 221, 256, 36, 57, 301, 190, 275, 196, 49, 234, 60, 25, 135, 42, 300, 45, 365, 3, 190, 312, 336, 42, 36, 196, 84, 183, 238, 297, 161, 29, 297, 259, 325, 97, 219, 218, 87, 126, 211, 356, 216, 98, 137, 176, 275, 225, 162, 309, 253, 232, 37, 52, 95, 210, 79, 230, 284, 368, 162, 314, 91, 266, 358, 361, 22, 241, 360, 44, 94, 230, 258, 274, 32, 98, 27, 254, 358, 27, 312, 217, 122, 210, 283, 73, 279, 30, 364, 50, 21, 296, 191, 360, 39, 108, 182, 85, 55, 252, 294, 324, 259, 111, 224, 175, 185, 35, 35, 188, 93, 254, 146, 77, 247, 53, 266, 98, 143, 216, 177, 223, 372, 256, 161, 161, 111, 65, 16, 218, 261, 72, 134, 281, 67, 304, 116, 3, 15, 178, 169, 266, 366, 177, 282, 291, 279, 63, 272, 284, 224, 298, 237, 16, 169, 370, 260, 230, 195, 197, 317, 18, 316, 41, 66, 360, 228, 305, 210, 259, 333, 361, 218, 298, 83, 71, 64, 140, 199, 43, 370, 10, 358, 123, 50, 135, 111, 72, 57, 147, 226, 283, 368, 360, 281, 112, 105, 97, 317, 111, 112, 371, 67, 171, 261, 212, 198, 16, 72, 70, 83, 105, 252, 288, 111, 263, 369, 127, 31, 17, 43, 357, 128, 155, 265, 165, 241, 364, 149, 9, 317, 172, 15, 71, 207, 303, 66, 276, 36, 226, 154, 10, 181, 234, 8, 32, 204, 62, 261, 60, 228, 85, 20, 23, 197, 359, 261, 178, 42, 42, 32, 336, 370, 155, 221, 57, 364, 204, 256, 314, 276, 168, 25, 28, 53, 43, 358, 196, 305, 197, 265, 39, 283, 164, 212, 260, 7, 44, 65, 373, 28, 100, 16, 321, 28, 199, 63, 238, 253, 77, 36, 324, 128, 91, 111, 190, 364, 357, 286, 175, 246, 174, 244, 44, 368, 261, 21, 157, 57, 79, 72, 64, 186, 282, 67, 4, 32, 226, 18, 185, 373, 272, 361, 359, 260, 197, 213, 372, 21, 227, 58, 298, 60, 37, 155, 77, 297, 86, 370, 60, 213, 9, 296, 140, 8, 57, 204, 161, 171, 217, 55, 30, 99, 189, 254, 51, 136, 216, 231, 324, 181, 63, 116, 71, 46, 59, 18, 200, 73, 107, 304, 169, 22, 360, 304, 44, 308, 179, 107, 331, 283, 90, 30, 66, 9, 88, 102, 20, 55, 85, 143, 176, 85, 135, 183, 22, 43, 290, 184, 367, 30, 10, 234, 267, 49, 211, 363, 276, 20, 136, 25, 55, 20, 69, 55, 144, 276, 184, 14, 367, 147, 221, 16, 302, 280, 195, 254, 373, 112, 225, 372, 2, 193, 237, 113, 282, 304, 65, 372, 296, 238, 18, 90, 227, 279, 294, 10, 41, 83, 162, 91, 288, 83, 45, 71, 296, 147, 185, 296, 321, 245, 372, 41, 237, 46, 150, 323, 274, 87, 156, 181, 275, 372, 361, 10, 186, 263, 178, 162, 8, 7, 356, 206, 267, 225, 58, 175, 290, 227, 157, 183, 45, 315, 226, 199, 358, 66, 34, 178, 218, 277, 56, 191, 176, 284, 160, 27, 253, 25, 304, 15, 81, 184, 3, 332, 148, 107, 266, 186, 281, 281, 294, 206, 14, 258, 247, 238, 310, 98, 357, 260, 112, 22, 210, 318, 188, 200, 17, 312, 148, 119, 186, 150, 244, 277, 216, 91, 22, 69, 307, 67, 225, 39, 154, 212, 295], \"yaxis\": \"y\"}, {\"hoverlabel\": {\"namelength\": 0}, \"hovertemplate\": \"Cluster=Cluster2<br>Monetary=%{x}<br>Recency=%{y}\", \"legendgroup\": \"Cluster=Cluster2\", \"marker\": {\"color\": \"#ab63fa\", \"symbol\": \"circle\"}, \"mode\": \"markers\", \"name\": \"Cluster=Cluster2\", \"showlegend\": true, \"type\": \"scattergl\", \"x\": [2671.1400000000012, 3560.2999999999984, 12079.98999999999, 2719.0100000000016, 2563.3599999999988, 1590.83, 1791.15, 2179.4199999999996, 2246.2900000000004, 1798.1999999999996, 6951.489999999998, 1938.3999999999999, 2285.179999999999, 2048.6400000000003, 2975.06, 1452.22, 12346.619999999997, 1370.0499999999997, 19543.83999999999, 3148.3099999999995, 4428.239999999998, 4370.520000000001, 6096.040000000003, 7731.9900000000025, 3634.3599999999997, 13151.44, 3413.09, 2941.200000000001, 3070.539999999998, 20129.54000000001, 5048.660000000002, 7267.489999999997, 7056.63, 2183.2200000000007, 23691.399999999983, 2612.2, 1826.7800000000002, 4405.710000000006, 5205.399999999999, 1697.39, 4195.449999999998, 3084.0200000000004, 2562.5800000000013, 6640.389999999999, 2096.9800000000005, 1807.9799999999996, 5646.399999999998, 8854.249999999996, 6725.1799999999985, 990.5000000000006, 1847.940000000001, 1469.0400000000004, 7166.060000000001, 1865.7300000000007, 4048.9799999999996, 1751.8900000000006, 1264.14, 2444.880000000001, 1232.9499999999996, 2309.0099999999984, 3472.9900000000002, 3449.7900000000013, 3442.7399999999993, 2481.060000000001, 1558.2199999999998, 2841.069999999999, 3514.1799999999994, 1241.23, 2280.9100000000017, 4960.179999999999, 1440.5800000000006, 1764.1200000000006, 1671.14, 2356.6600000000003, 3138.2400000000002, 7575.879999999998, 1511.6999999999998, 16652.720000000005, 2138.9100000000003, 1648.7000000000005, 4893.810000000001, 9384.850000000004, 1356.9499999999998, 1286.11, 2266.7600000000007, 1405.5000000000002, 6879.800000000001, 2040.9199999999998, 1713.6899999999996, 4037.77, 2806.4800000000005, 7111.649999999999, 3489.299999999997, 2740.91, 2287.3199999999993, 1988.8400000000006, 1434.9500000000005, 2878.959999999999, 1747.1800000000007, 5996.829999999983, 3949.3700000000017, 2694.7499999999995, 4881.099999999999, 2032.1800000000007, 1950.4000000000005, 1654.7200000000005, 2581.6000000000004, 984.6200000000003, 2271.35, 1755.240000000001, 3819.9199999999973, 1676.9500000000007, 1863.7700000000002, 1406.3700000000003, 2721.48, 1651.7199999999998, 3765.2000000000007, 1523.9700000000007, 2242.19, 50291.38, 1698.5600000000004, 1029.1000000000006, 2083.1600000000017, 1593.3400000000004, 13683.000000000002, 11359.480000000016, 2149.6500000000015, 4689.43, 2646.0200000000004, 1048.1300000000003, 2100.0900000000006, 2417.779999999999, 2502.819999999999, 8870.880000000001, 2354.2699999999995, 2729.840000000002, 6627.639999999999, 14256.680000000013, 5994.9399999999905, 7814.829999999991, 1914.8000000000006, 3240.139999999999, 2485.4600000000005, 1229.9500000000003, 2270.86, 10327.199999999999, 3292.839999999998, 1805.7800000000009, 3033.8799999999987, 1488.5900000000004, 4287.580000000003, 5557.6200000000035, 2229.719999999999, 2771.1800000000017, 2108.370000000001, 1055.0500000000006, 30867.770000000153, 3722.12, 1662.45, 47111.18000000004, 7320.879999999989, 3721.4499999999994, 1468.8000000000002, 3199.9199999999996, 1217.6000000000001, 2240.4699999999993, 3666.9499999999985, 3983.6499999999996, 3138.04, 5267.329999999997, 4814.559999999987, 2146.380000000001, 1624.8400000000008, 1586.540000000001, 3946.14, 7587.199999999996, 8333.72, 3078.4, 1646.6400000000003, 1572.9900000000002, 1580.3000000000004, 1778.7900000000006, 8308.189999999997, 1523.3499999999997, 2330.9400000000005, 3264.229999999994, 9796.230000000001, 1390.23, 1119.3600000000024, 1239.2700000000025, 2300.78, 1300.9799999999998, 1494.8700000000015, 2909.6799999999957, 1192.9399999999998, 2278.770000000001, 1751.750000000001, 1890.0, 7207.889999999999, 4212.410999999999, 3391.519999999999, 2699.4799999999996, 1958.6000000000006, 11364.079999999996, 3196.1099999999983, 2303.3300000000004, 2297.6600000000008, 4274.94, 1552.8800000000003, 4585.059999999999, 2528.9000000000005, 4101.679999999997, 913.9000000000001, 2244.7000000000003, 23616.422000000006, 6055.4699999999975, 2225.0399999999995, 1766.22, 4526.059999999996, 2047.14, 1273.1600000000005, 3881.889999999999, 5655.199999999996, 2076.32, 4191.799999999997, 2312.7, 2715.0000000000005, 2422.96, 2215.7800000000007, 2026.2800000000009, 2564.979999999999, 3350.7399999999993, 1642.3899999999992, 2766.729999999999, 3285.050000000001, 2298.9300000000007, 1850.8200000000004, 1822.2800000000009, 3959.4899999999934, 3208.849999999999, 1629.3500000000024, 4792.959999999997, 2448.2, 1661.5400000000013, 3038.849999999999, 831.7600000000004, 1079.2900000000004, 2448.3200000000015, 4834.4, 1801.6800000000007, 4354.119999999996, 3481.4100000000008, 1021.3800000000011, 2143.530000000001, 5854.839999999997, 1805.3199999999997, 5578.5, 1526.88, 3486.4099999999994, 1928.1299999999997, 1637.3300000000002, 1764.0200000000002, 1451.66, 3600.669999999999, 1347.5400000000002, 3386.3300000000017, 3321.6799999999994, 1352.35, 1858.0400000000006, 1711.6600000000003, 6638.650000000002, 7700.549999999983, 11880.839999999998, 2011.8200000000002, 131443.1900000002, 1323.4699999999996, 2559.449999999999, 1540.2000000000003, 7348.299999999996, 1741.4000000000008, 3260.0000000000005, 1839.0300000000016, 6695.689999999998, 6879.2300000000005, 2022.6700000000012, 1954.92, 3502.4799999999996, 1400.1999999999994, 3094.3700000000003, 1977.3900000000012, 38683.01999999998, 2114.710000000001, 21659.690000000002, 3448.379999999999, 993.4399999999999, 2445.789999999999, 1615.8199999999997, 1931.3500000000001, 1955.0000000000005, 1001.0099999999999, 4913.219999999996, 2941.14, 3027.5800000000017, 28019.579999999987, 3885.540000000001, 1037.43, 1405.9200000000005, 1574.3300000000006, 1043.5700000000002, 859.21, 2809.1400000000003, 34095.26, 1654.08, 1774.6800000000005, 2651.45, 4019.849999999998, 6116.920000000001, 6009.34, 1314.6599999999999, 9572.450000000004, 4709.229999999996, 1909.310000000001, 2795.1599999999958, 2510.0600000000018, 2960.7299999999996, 3309.3499999999995, 2508.32, 5600.449999999998, 2487.01, 1675.81, 7062.2, 1084.6800000000003, 4057.900000000001, 1366.7299999999996, 1509.4999999999998, 8963.489999999994, 2431.2799999999997, 9653.28, 2946.4199999999996, 7444.679999999992, 2135.0000000000005, 15120.800000000007, 22710.199999999997, 1925.9000000000015, 640.34, 13544.989999999998, 3152.5399999999995, 2646.74, 3985.14, 4722.5999999999985, 2174.07, 7304.7999999999965, 2919.44, 5252.1900000000005, 1190.3700000000006, 1377.86, 11123.349999999997, 1570.8100000000002, 5259.299999999998, 1376.05, 5115.079999999995, 196549.74000000037, 3230.4499999999985, 8421.470000000001, 570.1800000000001, 4456.579999999998, 1660.2300000000012, 1570.7300000000012, 1550.630000000001, 7321.069999999999, 874.2200000000004, 1947.500000000002, 2919.8399999999992, 3955.679999999996, 2161.19, 3084.689999999998, 831.9800000000001, 2031.0700000000002, 3017.75, 1882.320000000001, 5400.461000000001, 2854.7299999999996, 19381.36000000002, 1183.39, 13009.61, 3851.0100000000007, 2201.91, 4020.849999999997, 4354.32, 2196.71, 39667.19000000003, 1341.5600000000002, 2075.3100000000004, 1428.28, 1478.7000000000003, 1583.2799999999997, 4912.3799999999965, 1766.2700000000002, 2285.04, 1079.6600000000005, 1294.1700000000003, 578.1400000000001, 3488.159999999998, 1731.1600000000012, 4630.699999999998, 1591.7400000000023, 2108.2100000000005, 2744.419999999999, 1531.6300000000012, 6124.519999999985, 6007.879999999995, 7246.269999999995, 2143.8400000000006, 6781.799999999999, 2898.800000000001, 3777.2000000000003, 1555.4000000000012, 2614.78, 977.3000000000005, 3537.820999999999, 4573.8499999999985, 2887.4100000000008, 2374.5000000000014, 1606.9800000000005, 2093.4600000000005, 1276.6599999999996, 1648.18, 2283.9100000000003, 1273.4700000000005, 1921.91, 2704.6199999999994, 2129.42, 1943.5100000000014, 1293.3500000000006, 6019.649999999991, 1848.8600000000015, 554.8699999999998, 979.8500000000001, 3389.8400000000042, 1647.1699999999996, 1066.0300000000009, 3810.639999999999, 3226.7600000000016, 2912.93, 1790.3600000000006, 3118.3899999999976, 2756.980000000002, 10988.139999999996, 2610.9100000000026, 1888.4900000000002, 959.3300000000002, 1991.4899999999998, 3876.259999999998, 1631.3800000000008, 2605.6200000000003, 2722.339999999999, 925.3000000000006, 673.3299999999996, 986.2199999999996, 2993.3699999999994, 3048.380000000001, 1318.3899999999999, 921.56, 7553.629999999997, 1130.28, 3598.2499999999973, 2619.6499999999996, 2124.4600000000005, 1994.4700000000012, 1541.9799999999996, 248396.50000000055, 4466.649999999999, 2248.6000000000013, 1371.7700000000007, 1666.4099999999994, 1946.2800000000004, 1957.5400000000004, 5808.549999999999, 1289.44, 28615.270000000015, 1462.81, 4536.64, 852.5300000000009, 2056.3000000000015, 1123.59, 1961.0200000000025, 3965.2899999999995, 1300.310000000002, 927.89, 586.2399999999999, 2814.580000000001, 6174.470000000001, 2712.8499999999985, 4962.269999999995, 1914.8000000000002, 1380.9100000000003, 5097.129999999999, 2761.22, 1170.0000000000005, 1781.5600000000002, 2849.519999999998, 2895.1999999999985, 7699.699999999999, 995.2899999999998, 1810.8200000000002, 3867.240000000001, 3512.62, 7832.909999999986, 1445.2100000000014, 3295.7399999999984, 1563.03, 5874.650000000001, 2478.7309999999998, 1254.9400000000003, 2241.780000000001, 1230.4200000000005, 2056.689999999999, 2600.410000000001, 2956.9500000000007, 13980.830000000013, 1774.1599999999996, 2195.140000000001, 1331.3799999999999, 1355.24, 2845.6999999999957, 1503.7700000000002, 4345.66, 2873.7700000000004, 1612.5600000000002, 4273.789999999997, 2322.4300000000003, 3884.4199999999996, 9529.859999999995, 685.6499999999995, 9365.469999999987, 1651.2300000000018, 881.2400000000005, 3327.2900000000004, 1704.1100000000001, 946.720000000001, 1027.0300000000007, 1610.820000000001, 2354.9699999999993, 2129.45, 2449.7499999999986, 3957.0399999999977, 8389.419999999996, 2533.3700000000003, 2349.5, 2543.55, 1285.0400000000006, 2153.480000000003, 1597.7600000000004, 1254.4100000000008, 2118.1200000000013, 1744.6099999999994, 9729.090000000002, 1771.0400000000004, 1163.3900000000008, 2853.4900000000007, 2456.8600000000006, 5496.39, 3412.779999999998, 2121.1799999999994, 5579.869999999997, 3686.6099999999965, 2085.61, 3475.720000000001, 1203.5300000000007, 1468.8200000000022, 1494.6000000000001, 5284.970000000002, 2376.102, 1853.7000000000003, 2572.38, 1687.4900000000011, 5711.939999999999, 2965.9099999999985, 2193.5600000000004, 2753.4099999999994, 2095.0, 1893.9299999999996, 2577.54, 9839.550000000003, 2815.169999999999, 7377.460000000001, 1253.1800000000005, 1839.5200000000011, 6145.369999999995, 1309.010000000001, 1290.03, 6211.419999999989, 2553.0600000000004, 9178.26, 6650.169999999993, 2310.3800000000006, 2005.3400000000008, 3961.4199999999983, 1439.7200000000005, 1909.1300000000008, 1246.95, 2242.8099999999995, 1786.57, 3203.7400000000002, 6251.259999999999, 4009.6600000000003, 1002.93, 7777.839999999988, 1385.38, 1216.66, 1376.0899999999995, 3103.2599999999993, 1203.7700000000007, 6798.72, 2854.9799999999973, 1522.2700000000002, 1941.1199999999994, 1525.5800000000004, 1900.6400000000003, 1256.63, 1656.9299999999992, 1225.9299999999994, 837.53, 2209.9799999999996, 5373.499999999998, 3537.6000000000004, 592.5600000000002, 3186.01, 2168.270000000002, 2422.019999999999, 7395.189999999991, 1058.2499999999995, 2368.3399999999992, 2268.4399999999987, 4098.039999999999, 16847.18, 3126.36, 2174.120000000003, 855.7100000000008, 4615.719999999998, 5146.449999999991, 1635.42, 1243.7500000000005, 1133.7999999999997, 1459.0199999999986, 2207.7400000000016, 3241.919999999997, 1431.7800000000004, 774.8400000000004, 923.0300000000004, 1375.39, 1496.6000000000001, 8183.559999999981, 2310.83, 1405.83, 3147.3599999999988, 10974.22999999999, 4143.049999999998, 2136.020000000001, 1702.1399999999999, 2240.900000000001, 4335.959999999997, 2265.2, 11411.919999999998, 3458.349999999997, 1068.2, 1399.3700000000006, 1764.8600000000015, 3478.0899999999997, 4501.629999999995, 1473.2399999999996, 2400.0499999999993, 5165.899999999984, 3022.79, 4212.650000000001, 1387.9500000000003, 1767.1200000000003, 8560.55, 1553.1700000000005, 1380.4400000000005, 1557.9600000000007, 2579.0399999999995, 3628.869999999994, 2225.939999999999, 14687.06, 32451.6, 3640.9599999999996, 3582.619999999998, 1610.709999999999, 1995.6499999999999, 1369.8600000000001, 2463.0200000000004, 4660.749999999996, 1607.0599999999995, 3400.3299999999995, 2766.399999999999, 2029.34, 3882.1700000000005, 1957.9800000000023, 1108.8199999999997, 1539.24, 771.8700000000001, 2609.159999999998, 1222.2799999999993, 2033.6400000000033, 1346.2899999999995, 6878.880000000003, 1137.7999999999997, 1572.47, 3813.080000000001, 1432.29, 1700.2400000000016, 2945.380000000001, 5376.2, 4242.0999999999985, 2568.32, 1769.3300000000015, 1266.7700000000011, 2180.640000000001, 4144.820000000001, 5954.289999999999, 1205.64, 5193.919999999987, 2878.4600000000005, 2146.390000000001, 1786.780000000001, 1359.2500000000002, 4860.350000000003, 1302.4600000000003, 1563.300000000001, 20009.839999999997, 1333.7, 13542.920000000004, 41184.30000000001, 1965.72, 1797.9199999999992, 1067.85, 2094.23, 777.3400000000004, 2122.890000000001, 1591.730000000001, 1709.8300000000006, 3269.11, 3595.7699999999977, 1359.5200000000004, 2617.33, 2435.67, 1938.4599999999998, 4762.0700000000015, 2476.2500000000014, 2049.2300000000005, 1393.4200000000003, 892.92, 4376.25, 1658.370000000001, 1523.4900000000007, 8356.829999999998, 1920.83, 1396.0500000000006, 6450.880000000003, 8403.219999999992, 1527.2500000000007, 3005.9499999999975, 2023.9099999999999, 2342.5699999999997, 3309.259999999999, 3096.1399999999994, 4983.949999999998, 2052.6900000000005, 1915.3599999999994, 5995.690000000001, 5019.169999999998, 2508.4700000000003, 10497.300000000007, 2016.7100000000014, 4539.229999999997, 2136.7199999999993, 1062.4800000000002, 2052.8100000000004, 2776.190000000002, 1355.29, 1087.0499999999997, 1762.9900000000016, 1857.2600000000002, 1074.47, 1722.0900000000001, 1186.4000000000003, 3824.789999999999, 1056.6299999999994, 3588.34, 967.4400000000003, 6739.0099999999975, 1488.17, 1993.1800000000003, 4195.5, 2779.5100000000025, 1957.7000000000014, 1367.320000000001, 2567.6399999999994, 1491.4000000000005, 2806.0, 4590.529999999999, 3003.259999999998, 1682.030000000001, 1664.9200000000005, 2753.520000000001, 3517.6900000000005, 961.9300000000003, 1878.920000000001, 2595.510000000004, 1137.4199999999998, 3176.129999999997, 723.6599999999997, 934.5800000000006, 1256.6700000000012, 2252.9300000000026, 1052.2600000000011, 2036.3500000000033, 2755.9200000000005, 2750.83, 3629.7599999999966, 1906.4800000000005, 2971.209999999999, 2535.690000000001, 4630.159999999998, 2208.1500000000005, 1402.9100000000012, 2171.1299999999987, 1664.0800000000008, 1825.5600000000002, 1923.540000000001, 3729.589999999998, 2212.8900000000003, 1191.2300000000018, 2182.4099999999994, 1777.5000000000002, 842.1600000000002, 1554.9200000000014, 1140.1100000000004, 2497.86, 1531.5500000000002, 2343.2, 4819.319999999997, 8746.899999999985, 10864.189999999997, 2004.6199999999997, 4698.789999999997, 2206.9700000000003, 3334.819999999999, 3695.9099999999994, 2827.0499999999993, 2220.089999999999, 1361.2800000000007, 3694.229999999999, 1397.5900000000006, 1339.8899999999996, 2359.16, 1286.6200000000003, 1655.6399999999999, 2057.77, 1712.1200000000001, 1579.9700000000003, 1892.5200000000004, 1596.7100000000003, 3802.0399999999986, 1397.69, 10776.419999999995, 2633.7400000000025, 8207.370000000004, 3934.249999999998, 80489.2099999999, 1921.1900000000012, 4518.4299999999985, 29480.060999999972, 6026.139999999996, 605.7900000000002, 1052.1400000000012, 1121.4499999999994, 3783.8899999999976, 3969.9999999999986, 2956.5600000000004, 2334.97, 1999.02, 11366.64000000001, 2121.43, 4157.88, 65500.07000000001, 1389.2500000000005, 2481.2000000000003, 1220.4799999999998, 1152.6300000000006, 1706.9900000000011, 3698.0499999999984, 1069.5600000000004, 784.73, 1017.53, 1334.5400000000006, 2251.8500000000004, 856.1999999999999, 1802.0200000000034, 1912.6500000000005, 1884.71, 1357.5600000000004, 2136.2400000000007, 9374.859999999997, 1130.2000000000003, 1408.9600000000005, 7493.769999999996, 2139.0000000000005, 2101.610000000001, 1202.77, 1306.9600000000014, 678.55, 1923.5699999999997, 1904.9300000000005, 536.0399999999996, 2137.720000000001, 6088.049999999992, 1169.61, 1199.0800000000006, 2536.0700000000015, 1152.1099999999994, 4283.680000000003, 3377.780000000001, 4202.659999999998, 1222.0400000000004, 3996.799999999999, 1483.8300000000002, 5891.009999999987, 5459.039999999996, 3015.5500000000015, 904.5999999999998, 3862.19, 2651.2299999999996, 2393.5, 2984.3199999999993, 858.47, 11013.819999999994, 4287.499999999997, 1462.95, 2177.3899999999994, 3084.579999999999, 1364.6800000000003, 1402.5100000000002, 660.4799999999999, 2728.180000000001, 2644.01, 2253.2200000000003, 6285.269999999995, 3737.3799999999997, 2675.8, 5255.239999999999, 2305.590000000001, 1923.9899999999998, 1026.98, 9730.090000000002, 798.0300000000001, 1099.81, 4036.7699999999995, 8915.989999999996, 727.580000000001, 3120.909999999998, 5102.859999999999, 1357.95, 4832.9, 6691.129999999988, 1635.640000000001, 867.1099999999999, 1452.8000000000027, 2118.700000000001, 1281.8300000000006, 2004.0100000000011, 3940.130000000001, 1269.7600000000004, 5750.080000000002, 3940.0799999999936, 1354.82, 3982.66, 2736.640000000001, 871.1400000000001, 1140.5799999999992, 1050.8000000000009, 1110.7800000000004, 974.9500000000004, 1896.5700000000002, 3999.8900000000003, 2181.71, 2376.5099999999998, 3318.349999999998, 1008.0500000000003, 922.5900000000003, 5395.790000000002, 1066.2999999999997, 1066.9400000000003, 2509.8399999999992, 1285.6900000000003, 1740.9000000000021, 7510.239999999993, 3417.1299999999987, 1077.2399999999998, 879.4200000000012, 3010.129999999998, 25381.649999999994, 2525.440000000001, 15874.299999999997, 7021.659999999999, 3159.459999999999, 10405.030000000008, 1615.3900000000003, 3040.51, 1363.2300000000005, 2371.739999999999, 14523.669999999982, 2348.940000000002, 4247.11, 1605.840000000001, 2542.7899999999995, 3180.279999999999, 6493.139999999998, 4191.919999999999, 2542.830000000001, 963.4900000000004, 944.8199999999999, 767.5400000000004, 2239.4800000000014, 2154.8800000000006, 1024.5500000000002, 7712.709999999994, 4067.119999999999, 948.0300000000003, 1699.35, 11433.769999999997, 4168.46, 1439.7199999999993, 2300.0100000000007, 782.12, 1511.940000000001, 4376.4099999999935, 3346.4100000000026, 3071.3600000000006, 1838.7199999999996, 3958.5000000000023, 2547.2800000000007, 3132.959999999999, 1758.5200000000004, 3372.919999999998, 1895.1900000000007, 2735.6299999999997, 2600.4599999999996, 2578.9100000000017, 2751.639999999999, 2557.3500000000004, 2234.86, 5393.879999999998, 4145.329999999997, 1319.6700000000003, 1198.0900000000001, 10300.97999999999, 1362.7500000000002, 2475.3199999999993, 2166.4200000000005, 2304.5099999999998, 4939.239999999995, 1743.37, 2786.569999999999, 728.7499999999998, 1555.83, 1210.8300000000004, 3095.9499999999985, 2060.0999999999985, 815.11, 1191.4400000000007, 3207.7599999999984, 3761.3800000000015, 5925.480000000001, 1757.98, 1609.3700000000003, 2907.6499999999996, 2162.9300000000003, 3867.5000000000023, 2657.909999999999, 51208.86999999966, 1552.3500000000008, 1596.2900000000002, 2990.4099999999976, 923.9900000000007, 15785.870000000026, 4621.320000000001, 1091.4400000000005, 1580.3800000000006, 1142.4700000000012, 3020.640000000002, 1574.1300000000015, 2534.74, 2993.879999999999, 26286.75, 60117.600000000006, 788.4599999999999, 1697.850000000003, 590.4400000000002, 2126.090000000001, 1035.1, 1223.3100000000002, 999.51, 766.8700000000006, 1595.1400000000021, 17642.89, 1896.8400000000006, 894.5300000000008, 1177.7200000000005, 1142.3700000000003, 548.2199999999997, 1417.0099999999993, 10877.18, 1188.460000000001, 3667.83, 3473.799999999997, 2455.6799999999994, 3171.54, 10705.8, 3374.2199999999993, 808.8100000000001, 1965.52, 1019.1600000000007, 731.3800000000008, 2169.25, 2748.190000000001, 2538.759999999999, 1897.6900000000005, 9905.560000000001, 4512.929999999997, 821.4899999999997, 1933.1500000000005, 7516.309999999996, 6650.830000000001, 1480.8600000000006, 4782.400000000002, 3757.9199999999973, 21964.14, 2262.519999999999, 7318.90999999999, 1320.6600000000003, 619.3699999999995, 2345.709999999999], \"xaxis\": \"x\", \"y\": [42, 15, 23, 10, 60, 14, 48, 44, 56, 16, 100, 14, 99, 6, 34, 20, 55, 37, 10, 45, 29, 8, 31, 30, 98, 30, 80, 161, 157, 9, 13, 31, 34, 34, 211, 13, 118, 13, 35, 70, 94, 63, 9, 23, 50, 321, 85, 13, 6, 16, 20, 57, 8, 9, 56, 13, 16, 6, 11, 9, 23, 48, 51, 144, 20, 91, 17, 27, 13, 20, 65, 44, 17, 60, 8, 13, 43, 10, 115, 164, 18, 23, 20, 18, 6, 22, 77, 24, 20, 94, 34, 94, 21, 6, 9, 77, 16, 70, 32, 62, 24, 8, 17, 16, 62, 196, 71, 60, 14, 13, 32, 10, 29, 36, 14, 186, 35, 46, 13, 15, 174, 15, 10, 98, 14, 17, 21, 176, 6, 15, 71, 13, 20, 21, 29, 63, 59, 39, 21, 6, 67, 73, 48, 14, 9, 20, 42, 27, 34, 233, 127, 8, 71, 55, 48, 8, 6, 59, 49, 8, 23, 48, 72, 14, 11, 53, 10, 21, 72, 20, 24, 52, 34, 20, 44, 15, 32, 29, 170, 22, 29, 21, 35, 16, 18, 52, 56, 28, 32, 28, 48, 32, 14, 49, 27, 20, 7, 114, 27, 20, 63, 171, 176, 52, 129, 13, 140, 50, 31, 14, 25, 14, 7, 213, 6, 7, 41, 143, 17, 41, 83, 65, 8, 9, 16, 14, 42, 29, 104, 9, 11, 7, 114, 10, 6, 53, 14, 31, 11, 63, 15, 13, 50, 32, 36, 69, 63, 17, 8, 17, 10, 22, 22, 9, 34, 15, 48, 29, 9, 77, 17, 35, 9, 15, 9, 18, 51, 20, 15, 21, 18, 106, 73, 9, 8, 8, 64, 41, 7, 28, 55, 22, 143, 11, 60, 15, 52, 204, 168, 35, 7, 79, 9, 41, 28, 15, 14, 32, 14, 28, 16, 22, 22, 10, 38, 11, 39, 17, 9, 13, 9, 267, 14, 66, 51, 27, 231, 7, 11, 15, 14, 58, 28, 28, 9, 14, 14, 9, 8, 28, 31, 9, 99, 41, 32, 21, 53, 8, 7, 22, 16, 9, 73, 65, 8, 41, 9, 10, 23, 43, 83, 70, 86, 10, 15, 10, 17, 35, 18, 22, 16, 6, 14, 245, 10, 53, 16, 7, 62, 27, 57, 29, 20, 6, 46, 84, 25, 69, 49, 66, 45, 15, 30, 14, 46, 39, 48, 15, 45, 73, 10, 14, 8, 48, 13, 17, 10, 60, 55, 56, 60, 25, 7, 7, 7, 6, 29, 59, 11, 14, 9, 38, 14, 78, 9, 49, 7, 24, 11, 286, 17, 63, 7, 24, 51, 17, 42, 14, 41, 65, 25, 8, 36, 9, 39, 13, 11, 10, 71, 22, 44, 63, 31, 46, 32, 30, 14, 15, 11, 119, 46, 16, 14, 25, 69, 52, 7, 18, 17, 59, 32, 14, 9, 102, 15, 9, 30, 72, 43, 44, 9, 51, 17, 29, 148, 23, 268, 29, 16, 6, 63, 211, 49, 8, 15, 77, 14, 14, 6, 8, 27, 23, 44, 16, 17, 31, 25, 102, 22, 9, 30, 14, 23, 7, 77, 9, 65, 8, 52, 59, 25, 109, 77, 15, 30, 15, 23, 11, 25, 18, 44, 6, 30, 9, 23, 10, 39, 105, 13, 25, 197, 24, 31, 53, 14, 14, 22, 44, 15, 17, 108, 122, 136, 30, 29, 21, 14, 60, 56, 14, 11, 11, 58, 45, 48, 35, 7, 55, 7, 57, 56, 114, 20, 45, 14, 91, 58, 30, 24, 42, 15, 27, 20, 9, 25, 28, 24, 107, 63, 9, 37, 46, 65, 49, 31, 7, 16, 239, 35, 85, 15, 13, 28, 8, 55, 135, 18, 72, 30, 9, 56, 38, 44, 53, 127, 85, 6, 9, 16, 31, 9, 30, 22, 326, 20, 14, 35, 9, 109, 25, 38, 24, 15, 15, 100, 21, 20, 8, 24, 113, 17, 16, 14, 14, 35, 23, 29, 11, 147, 7, 11, 13, 29, 18, 149, 25, 21, 15, 7, 18, 11, 17, 7, 25, 18, 72, 25, 62, 28, 11, 85, 144, 13, 7, 31, 22, 7, 46, 86, 52, 30, 14, 16, 80, 22, 7, 70, 7, 10, 95, 7, 128, 14, 21, 111, 6, 14, 52, 66, 164, 65, 9, 20, 21, 70, 55, 66, 7, 7, 10, 11, 11, 11, 91, 8, 48, 22, 39, 18, 13, 35, 258, 9, 10, 7, 14, 91, 45, 67, 125, 36, 129, 28, 16, 109, 10, 18, 17, 11, 36, 6, 52, 16, 7, 91, 59, 14, 51, 10, 48, 154, 14, 197, 63, 15, 10, 8, 69, 24, 53, 73, 69, 32, 287, 57, 53, 14, 15, 42, 10, 11, 58, 23, 35, 7, 55, 17, 30, 56, 71, 113, 7, 29, 10, 104, 17, 52, 31, 22, 29, 8, 9, 37, 16, 14, 55, 10, 16, 7, 55, 13, 22, 21, 92, 20, 53, 99, 65, 27, 24, 15, 88, 59, 18, 62, 186, 55, 74, 72, 23, 9, 46, 14, 44, 37, 31, 35, 28, 30, 14, 15, 25, 25, 6, 8, 10, 225, 18, 31, 6, 67, 48, 9, 18, 30, 7, 32, 14, 50, 50, 112, 8, 7, 32, 31, 21, 10, 32, 35, 14, 30, 67, 21, 10, 11, 9, 34, 88, 38, 14, 18, 24, 116, 7, 73, 55, 39, 46, 55, 28, 14, 24, 58, 35, 14, 11, 6, 27, 38, 28, 140, 127, 91, 18, 23, 226, 7, 102, 53, 18, 7, 92, 58, 48, 11, 32, 39, 18, 15, 28, 13, 22, 8, 63, 57, 11, 52, 64, 72, 6, 6, 137, 15, 6, 56, 7, 57, 10, 6, 8, 24, 18, 16, 85, 28, 18, 14, 25, 39, 11, 80, 11, 22, 11, 13, 182, 10, 9, 10, 10, 42, 8, 16, 64, 30, 29, 44, 31, 11, 72, 18, 32, 209, 183, 16, 109, 6, 51, 24, 24, 53, 147, 70, 11, 115, 9, 16, 14, 57, 81, 38, 23, 9, 52, 198, 24, 7, 6, 20, 18, 24, 25, 11, 16, 29, 30, 27, 28, 10, 29, 11, 10, 11, 10, 8, 72, 63, 11, 21, 67, 10, 16, 9, 216, 44, 56, 7, 28, 16, 87, 20, 16, 132, 22, 14, 7, 60, 35, 15, 16, 87, 29, 25, 25, 32, 7, 7, 7, 102, 80, 31, 20, 44, 53, 107, 37, 175, 56, 14, 18, 44, 81, 14, 29, 133, 52, 70, 97, 52, 10, 7, 58, 31, 17, 16, 18, 17, 31, 39, 17, 7, 30, 9, 63, 9, 10, 62, 22, 18, 32, 13, 30, 24, 7, 6, 9, 10, 6, 55, 44, 52, 7, 57, 42, 20, 20, 10, 8, 9, 8, 8, 35, 14, 28, 32, 80, 6, 13, 7, 8, 137, 16, 35, 27, 11, 23, 50, 177, 20, 14, 20, 9, 22, 199, 28, 81, 23, 18, 9, 14, 81, 77, 20, 111, 11, 8, 17, 7, 9, 22, 37, 35, 72, 22, 13, 13, 41, 14, 80, 81, 9, 27, 17, 17], \"yaxis\": \"y\"}],\n",
       "                        {\"legend\": {\"tracegroupgap\": 0}, \"margin\": {\"t\": 60}, \"template\": {\"data\": {\"bar\": [{\"error_x\": {\"color\": \"#2a3f5f\"}, \"error_y\": {\"color\": \"#2a3f5f\"}, \"marker\": {\"line\": {\"color\": \"#E5ECF6\", \"width\": 0.5}}, \"type\": \"bar\"}], \"barpolar\": [{\"marker\": {\"line\": {\"color\": \"#E5ECF6\", \"width\": 0.5}}, \"type\": \"barpolar\"}], \"carpet\": [{\"aaxis\": {\"endlinecolor\": \"#2a3f5f\", \"gridcolor\": \"white\", \"linecolor\": \"white\", \"minorgridcolor\": \"white\", \"startlinecolor\": \"#2a3f5f\"}, \"baxis\": {\"endlinecolor\": \"#2a3f5f\", \"gridcolor\": \"white\", \"linecolor\": \"white\", \"minorgridcolor\": \"white\", \"startlinecolor\": \"#2a3f5f\"}, \"type\": \"carpet\"}], \"choropleth\": [{\"colorbar\": {\"outlinewidth\": 0, \"ticks\": \"\"}, \"type\": \"choropleth\"}], \"contour\": [{\"colorbar\": {\"outlinewidth\": 0, \"ticks\": \"\"}, \"colorscale\": [[0.0, \"#0d0887\"], [0.1111111111111111, \"#46039f\"], [0.2222222222222222, \"#7201a8\"], [0.3333333333333333, \"#9c179e\"], [0.4444444444444444, \"#bd3786\"], [0.5555555555555556, \"#d8576b\"], [0.6666666666666666, \"#ed7953\"], [0.7777777777777778, \"#fb9f3a\"], [0.8888888888888888, \"#fdca26\"], [1.0, \"#f0f921\"]], \"type\": \"contour\"}], \"contourcarpet\": [{\"colorbar\": {\"outlinewidth\": 0, \"ticks\": \"\"}, \"type\": \"contourcarpet\"}], \"heatmap\": [{\"colorbar\": {\"outlinewidth\": 0, \"ticks\": \"\"}, \"colorscale\": [[0.0, \"#0d0887\"], [0.1111111111111111, \"#46039f\"], [0.2222222222222222, \"#7201a8\"], [0.3333333333333333, \"#9c179e\"], [0.4444444444444444, \"#bd3786\"], [0.5555555555555556, \"#d8576b\"], [0.6666666666666666, \"#ed7953\"], [0.7777777777777778, \"#fb9f3a\"], [0.8888888888888888, \"#fdca26\"], [1.0, \"#f0f921\"]], \"type\": \"heatmap\"}], \"heatmapgl\": [{\"colorbar\": {\"outlinewidth\": 0, \"ticks\": \"\"}, \"colorscale\": [[0.0, \"#0d0887\"], [0.1111111111111111, \"#46039f\"], [0.2222222222222222, \"#7201a8\"], [0.3333333333333333, \"#9c179e\"], [0.4444444444444444, \"#bd3786\"], [0.5555555555555556, \"#d8576b\"], [0.6666666666666666, \"#ed7953\"], [0.7777777777777778, \"#fb9f3a\"], [0.8888888888888888, \"#fdca26\"], [1.0, \"#f0f921\"]], \"type\": \"heatmapgl\"}], \"histogram\": [{\"marker\": {\"colorbar\": {\"outlinewidth\": 0, \"ticks\": \"\"}}, \"type\": \"histogram\"}], \"histogram2d\": [{\"colorbar\": {\"outlinewidth\": 0, \"ticks\": \"\"}, \"colorscale\": [[0.0, \"#0d0887\"], [0.1111111111111111, \"#46039f\"], [0.2222222222222222, \"#7201a8\"], [0.3333333333333333, \"#9c179e\"], [0.4444444444444444, \"#bd3786\"], [0.5555555555555556, \"#d8576b\"], [0.6666666666666666, \"#ed7953\"], [0.7777777777777778, \"#fb9f3a\"], [0.8888888888888888, \"#fdca26\"], [1.0, \"#f0f921\"]], \"type\": \"histogram2d\"}], \"histogram2dcontour\": [{\"colorbar\": {\"outlinewidth\": 0, \"ticks\": \"\"}, \"colorscale\": [[0.0, \"#0d0887\"], [0.1111111111111111, \"#46039f\"], [0.2222222222222222, \"#7201a8\"], [0.3333333333333333, \"#9c179e\"], [0.4444444444444444, \"#bd3786\"], [0.5555555555555556, \"#d8576b\"], [0.6666666666666666, \"#ed7953\"], [0.7777777777777778, \"#fb9f3a\"], [0.8888888888888888, \"#fdca26\"], [1.0, \"#f0f921\"]], \"type\": \"histogram2dcontour\"}], \"mesh3d\": [{\"colorbar\": {\"outlinewidth\": 0, \"ticks\": \"\"}, \"type\": \"mesh3d\"}], \"parcoords\": [{\"line\": {\"colorbar\": {\"outlinewidth\": 0, \"ticks\": \"\"}}, \"type\": \"parcoords\"}], \"pie\": [{\"automargin\": true, \"type\": \"pie\"}], \"scatter\": [{\"marker\": {\"colorbar\": {\"outlinewidth\": 0, \"ticks\": \"\"}}, \"type\": \"scatter\"}], \"scatter3d\": [{\"line\": {\"colorbar\": {\"outlinewidth\": 0, \"ticks\": \"\"}}, \"marker\": {\"colorbar\": {\"outlinewidth\": 0, \"ticks\": \"\"}}, \"type\": \"scatter3d\"}], \"scattercarpet\": [{\"marker\": {\"colorbar\": {\"outlinewidth\": 0, \"ticks\": \"\"}}, \"type\": \"scattercarpet\"}], \"scattergeo\": [{\"marker\": {\"colorbar\": {\"outlinewidth\": 0, \"ticks\": \"\"}}, \"type\": \"scattergeo\"}], \"scattergl\": [{\"marker\": {\"colorbar\": {\"outlinewidth\": 0, \"ticks\": \"\"}}, \"type\": \"scattergl\"}], \"scattermapbox\": [{\"marker\": {\"colorbar\": {\"outlinewidth\": 0, \"ticks\": \"\"}}, \"type\": \"scattermapbox\"}], \"scatterpolar\": [{\"marker\": {\"colorbar\": {\"outlinewidth\": 0, \"ticks\": \"\"}}, \"type\": \"scatterpolar\"}], \"scatterpolargl\": [{\"marker\": {\"colorbar\": {\"outlinewidth\": 0, \"ticks\": \"\"}}, \"type\": \"scatterpolargl\"}], \"scatterternary\": [{\"marker\": {\"colorbar\": {\"outlinewidth\": 0, \"ticks\": \"\"}}, \"type\": \"scatterternary\"}], \"surface\": [{\"colorbar\": {\"outlinewidth\": 0, \"ticks\": \"\"}, \"colorscale\": [[0.0, \"#0d0887\"], [0.1111111111111111, \"#46039f\"], [0.2222222222222222, \"#7201a8\"], [0.3333333333333333, \"#9c179e\"], [0.4444444444444444, \"#bd3786\"], [0.5555555555555556, \"#d8576b\"], [0.6666666666666666, \"#ed7953\"], [0.7777777777777778, \"#fb9f3a\"], [0.8888888888888888, \"#fdca26\"], [1.0, \"#f0f921\"]], \"type\": \"surface\"}], \"table\": [{\"cells\": {\"fill\": {\"color\": \"#EBF0F8\"}, \"line\": {\"color\": \"white\"}}, \"header\": {\"fill\": {\"color\": \"#C8D4E3\"}, \"line\": {\"color\": \"white\"}}, \"type\": \"table\"}]}, \"layout\": {\"annotationdefaults\": {\"arrowcolor\": \"#2a3f5f\", \"arrowhead\": 0, \"arrowwidth\": 1}, \"coloraxis\": {\"colorbar\": {\"outlinewidth\": 0, \"ticks\": \"\"}}, \"colorscale\": {\"diverging\": [[0, \"#8e0152\"], [0.1, \"#c51b7d\"], [0.2, \"#de77ae\"], [0.3, \"#f1b6da\"], [0.4, \"#fde0ef\"], [0.5, \"#f7f7f7\"], [0.6, \"#e6f5d0\"], [0.7, \"#b8e186\"], [0.8, \"#7fbc41\"], [0.9, \"#4d9221\"], [1, \"#276419\"]], \"sequential\": [[0.0, \"#0d0887\"], [0.1111111111111111, \"#46039f\"], [0.2222222222222222, \"#7201a8\"], [0.3333333333333333, \"#9c179e\"], [0.4444444444444444, \"#bd3786\"], [0.5555555555555556, \"#d8576b\"], [0.6666666666666666, \"#ed7953\"], [0.7777777777777778, \"#fb9f3a\"], [0.8888888888888888, \"#fdca26\"], [1.0, \"#f0f921\"]], \"sequentialminus\": [[0.0, \"#0d0887\"], [0.1111111111111111, \"#46039f\"], [0.2222222222222222, \"#7201a8\"], [0.3333333333333333, \"#9c179e\"], [0.4444444444444444, \"#bd3786\"], [0.5555555555555556, \"#d8576b\"], [0.6666666666666666, \"#ed7953\"], [0.7777777777777778, \"#fb9f3a\"], [0.8888888888888888, \"#fdca26\"], [1.0, \"#f0f921\"]]}, \"colorway\": [\"#636efa\", \"#EF553B\", \"#00cc96\", \"#ab63fa\", \"#FFA15A\", \"#19d3f3\", \"#FF6692\", \"#B6E880\", \"#FF97FF\", \"#FECB52\"], \"font\": {\"color\": \"#2a3f5f\"}, \"geo\": {\"bgcolor\": \"white\", \"lakecolor\": \"white\", \"landcolor\": \"#E5ECF6\", \"showlakes\": true, \"showland\": true, \"subunitcolor\": \"white\"}, \"hoverlabel\": {\"align\": \"left\"}, \"hovermode\": \"closest\", \"mapbox\": {\"style\": \"light\"}, \"paper_bgcolor\": \"white\", \"plot_bgcolor\": \"#E5ECF6\", \"polar\": {\"angularaxis\": {\"gridcolor\": \"white\", \"linecolor\": \"white\", \"ticks\": \"\"}, \"bgcolor\": \"#E5ECF6\", \"radialaxis\": {\"gridcolor\": \"white\", \"linecolor\": \"white\", \"ticks\": \"\"}}, \"scene\": {\"xaxis\": {\"backgroundcolor\": \"#E5ECF6\", \"gridcolor\": \"white\", \"gridwidth\": 2, \"linecolor\": \"white\", \"showbackground\": true, \"ticks\": \"\", \"zerolinecolor\": \"white\"}, \"yaxis\": {\"backgroundcolor\": \"#E5ECF6\", \"gridcolor\": \"white\", \"gridwidth\": 2, \"linecolor\": \"white\", \"showbackground\": true, \"ticks\": \"\", \"zerolinecolor\": \"white\"}, \"zaxis\": {\"backgroundcolor\": \"#E5ECF6\", \"gridcolor\": \"white\", \"gridwidth\": 2, \"linecolor\": \"white\", \"showbackground\": true, \"ticks\": \"\", \"zerolinecolor\": \"white\"}}, \"shapedefaults\": {\"line\": {\"color\": \"#2a3f5f\"}}, \"ternary\": {\"aaxis\": {\"gridcolor\": \"white\", \"linecolor\": \"white\", \"ticks\": \"\"}, \"baxis\": {\"gridcolor\": \"white\", \"linecolor\": \"white\", \"ticks\": \"\"}, \"bgcolor\": \"#E5ECF6\", \"caxis\": {\"gridcolor\": \"white\", \"linecolor\": \"white\", \"ticks\": \"\"}}, \"title\": {\"x\": 0.05}, \"xaxis\": {\"automargin\": true, \"gridcolor\": \"white\", \"linecolor\": \"white\", \"ticks\": \"\", \"title\": {\"standoff\": 15}, \"zerolinecolor\": \"white\", \"zerolinewidth\": 2}, \"yaxis\": {\"automargin\": true, \"gridcolor\": \"white\", \"linecolor\": \"white\", \"ticks\": \"\", \"title\": {\"standoff\": 15}, \"zerolinecolor\": \"white\", \"zerolinewidth\": 2}}}, \"xaxis\": {\"anchor\": \"y\", \"domain\": [0.0, 1.0], \"title\": {\"text\": \"Monetary\"}}, \"yaxis\": {\"anchor\": \"x\", \"domain\": [0.0, 1.0], \"title\": {\"text\": \"Recency\"}}},\n",
       "                        {\"responsive\": true}\n",
       "                    ).then(function(){\n",
       "                            \n",
       "var gd = document.getElementById('13a9b212-6a38-488d-8c30-81faad180614');\n",
       "var x = new MutationObserver(function (mutations, observer) {{\n",
       "        var display = window.getComputedStyle(gd).display;\n",
       "        if (!display || display === 'none') {{\n",
       "            console.log([gd, 'removed!']);\n",
       "            Plotly.purge(gd);\n",
       "            observer.disconnect();\n",
       "        }}\n",
       "}});\n",
       "\n",
       "// Listen for the removal of the full notebook cells\n",
       "var notebookContainer = gd.closest('#notebook-container');\n",
       "if (notebookContainer) {{\n",
       "    x.observe(notebookContainer, {childList: true});\n",
       "}}\n",
       "\n",
       "// Listen for the clearing of the current output cell\n",
       "var outputEl = gd.closest('.output');\n",
       "if (outputEl) {{\n",
       "    x.observe(outputEl, {childList: true});\n",
       "}}\n",
       "\n",
       "                        })\n",
       "                };\n",
       "                \n",
       "            </script>\n",
       "        </div>\n",
       "</body>\n",
       "</html>"
      ]
     },
     "metadata": {
      "tags": []
     },
     "output_type": "display_data"
    }
   ],
   "source": [
    "# Recency V/s Frequency\n",
    "fig = px.scatter(RFM_data,x = 'Recency',y = 'Frequency', color = 'Cluster')\n",
    "fig.show()\n",
    "\n",
    "# Frequency V/s Monetary\n",
    "fig = px.scatter(RFM_data,x = 'Monetary',y = 'Frequency', color = 'Cluster')\n",
    "fig.show()\n",
    "\n",
    "# Recency V/s Monetary\n",
    "fig = px.scatter(RFM_data,x = 'Monetary',y = 'Recency', color = 'Cluster')\n",
    "fig.show()"
   ]
  },
  {
   "cell_type": "markdown",
   "metadata": {
    "id": "1N5dj0c887-B"
   },
   "source": [
    "# Now Apply Silhouette Method"
   ]
  },
  {
   "cell_type": "code",
   "execution_count": 81,
   "metadata": {
    "colab": {
     "base_uri": "https://localhost:8080/"
    },
    "id": "DfKWSi4R5OCx",
    "outputId": "dfdd034c-bc2e-4a7f-8a84-361018afedbb"
   },
   "outputs": [
    {
     "name": "stdout",
     "output_type": "stream",
     "text": [
      "For n_clusters = 2 The average silhouette_score is : 0.37778017808929615\n",
      "For n_clusters = 3 The average silhouette_score is : 0.32749582666781835\n",
      "For n_clusters = 4 The average silhouette_score is : 0.27637792185424725\n",
      "For n_clusters = 5 The average silhouette_score is : 0.29176719086897607\n",
      "For n_clusters = 6 The average silhouette_score is : 0.2847025984878624\n",
      "For n_clusters = 7 The average silhouette_score is : 0.2839403998111732\n",
      "For n_clusters = 8 The average silhouette_score is : 0.2824868180441887\n",
      "For n_clusters = 9 The average silhouette_score is : 0.2751859397435279\n"
     ]
    }
   ],
   "source": [
    "for n_clusters in range(2,10):\n",
    "    kmeans = KMeans(init='k-means++', n_clusters = n_clusters, n_init=100)\n",
    "    kmeans.fit(log_data)\n",
    "    clusters = kmeans.predict(log_data)\n",
    "    silhouette_avg = silhouette_score(log_data, clusters)\n",
    "    print(\"For n_clusters =\", n_clusters, \"The average silhouette_score is :\", silhouette_avg)"
   ]
  },
  {
   "cell_type": "markdown",
   "metadata": {
    "id": "yVrIMAJOFSFG"
   },
   "source": [
    "The best silhouette score obtained is when the number of clusters is 2."
   ]
  },
  {
   "cell_type": "code",
   "execution_count": 82,
   "metadata": {
    "colab": {
     "base_uri": "https://localhost:8080/"
    },
    "id": "7kvs88G35Szy",
    "outputId": "cbead327-2b93-4879-973d-ba11f7f31b15"
   },
   "outputs": [
    {
     "name": "stdout",
     "output_type": "stream",
     "text": [
      "score of silhouette: 0.378\n"
     ]
    }
   ],
   "source": [
    "n_clusters = 2\n",
    "kmeans = KMeans(init='k-means++', n_clusters = n_clusters, n_init=30)\n",
    "kmeans.fit(log_data)\n",
    "clusters_customers = kmeans.predict(log_data)\n",
    "silhouette_avg = silhouette_score(log_data, clusters_customers)\n",
    "print('score of silhouette: {:<.3f}'.format(silhouette_avg))"
   ]
  },
  {
   "cell_type": "markdown",
   "metadata": {
    "id": "8nbbFL3d1I3K"
   },
   "source": [
    "Visualize Clusters"
   ]
  },
  {
   "cell_type": "code",
   "execution_count": 86,
   "metadata": {
    "colab": {
     "base_uri": "https://localhost:8080/",
     "height": 483
    },
    "id": "zJfssrh-FYZL",
    "outputId": "ab58cd55-0224-4b4a-e6f3-b7672881e38f"
   },
   "outputs": [
    {
     "data": {
      "image/png": "[encoded data removed]",
      "text/plain": [
       "<Figure size 1080x576 with 4 Axes>"
      ]
     },
     "metadata": {
      "tags": []
     },
     "output_type": "display_data"
    }
   ],
   "source": [
    "##### Here is the code to create a Silhouette plot for K-Means clusters with n_cluster as 2, 3, 4, 5.\n",
    "from yellowbrick.cluster import SilhouetteVisualizer\n",
    "fig, ax = plt.subplots(2, 2, figsize=(15,8))\n",
    "for i in [2, 3, 4, 5]:\n",
    "### Create KMeans instance for different number of clusters.......\n",
    "    km = KMeans(n_clusters=i, init='k-means++', n_init=10, max_iter=100, random_state=42)\n",
    "    q, mod = divmod(i, 2)\n",
    "###### Create SilhouetteVisualizer instance with KMeans instance Fit the visualizer\n",
    "    visualizer = SilhouetteVisualizer(km, colors='yellowbrick', ax=ax[q-1][mod])\n",
    "    visualizer.fit(log_data)"
   ]
  },
  {
   "cell_type": "code",
   "execution_count": null,
   "metadata": {
    "id": "DHz5eNEb1PUb"
   },
   "outputs": [],
   "source": []
  }
 ],
 "metadata": {
  "colab": {
   "name": "RFM Analysis.ipynb",
   "provenance": []
  },
  "kernelspec": {
   "display_name": "Python 3",
   "language": "python",
   "name": "python3"
  },
  "language_info": {
   "codemirror_mode": {
    "name": "ipython",
    "version": 3
   },
   "file_extension": ".py",
   "mimetype": "text/x-python",
   "name": "python",
   "nbconvert_exporter": "python",
   "pygments_lexer": "ipython3",
   "version": "3.7.4"
  }
 },
 "nbformat": 4,
 "nbformat_minor": 1
}
